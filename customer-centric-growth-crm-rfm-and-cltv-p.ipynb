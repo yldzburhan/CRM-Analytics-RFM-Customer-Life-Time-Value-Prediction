{
 "cells": [
  {
   "cell_type": "markdown",
   "id": "dbbdc5db",
   "metadata": {
    "_cell_guid": "b1076dfc-b9ad-4769-8c92-a6c4dae69d19",
    "_uuid": "8f2839f25d086af736a60e9eeb907d3b93b6e0e5",
    "papermill": {
     "duration": 0.060757,
     "end_time": "2023-10-25T07:49:23.224239",
     "exception": false,
     "start_time": "2023-10-25T07:49:23.163482",
     "status": "completed"
    },
    "tags": []
   },
   "source": [
    "<h1 style=\"background-color:#8B0000; font-family:'Garamond', serif; font-size:4em; font-weight:bold; text-align:center; border-radius:20px; color:white; padding: 20px; border: 2px solid #960018;\"> CRM Analytics - RFM - CLTV - BG/NBD - GAMMA GAMMA </h1>"
   ]
  },
  {
   "cell_type": "markdown",
   "id": "4b121f8a",
   "metadata": {
    "papermill": {
     "duration": 0.056776,
     "end_time": "2023-10-25T07:49:23.337471",
     "exception": false,
     "start_time": "2023-10-25T07:49:23.280695",
     "status": "completed"
    },
    "tags": []
   },
   "source": [
    "# Content:\n",
    "\n",
    "1. [CRM Analytics (Customer Relationship Management)](#1)\n",
    "    * [Introduction to CRM Analytics](#2)\n",
    "    * [KPIs (Key Performance Indicators)](#3)\n",
    "    * [Analysis of Cohort](#4)\n",
    "1. [RFM Analysis](#5)\n",
    "1. [Customer Segmentation with RFM](#6)\n",
    "    * [Business Problem](#7)\n",
    "    * [Data Understanding](#8)\n",
    "    * [Data Preparation](#9)\n",
    "    * [Calculating RFM Metrics](#10)\n",
    "    * [Calculating RFM Scores](#11)\n",
    "    * [Creating & Analysing RFM Segments](#12)\n",
    "1. [Customer Life Time Value](#13)\n",
    "1. [Customer Life Time Value Project](#14)\n",
    "    * [Business Problem](#15)\n",
    "    * [Data Preparation](#16)\n",
    "    * [Average Order Value](#17)\n",
    "    * [Purchase Frequency](#18)\n",
    "    * [Repeat Rate & Churn Rate](#19)\n",
    "    * [Profit Margin](#20)\n",
    "    * [Customer Value](#21)\n",
    "    * [Calculating CLTV](#22)\n",
    "    * [Creating Segments](#23)\n",
    "1. [Customer Life Time Value Prediction](#24)\n",
    "    * [Expected Number of Transaction with BG/NBD](#25)\n",
    "    * [Gamma Gamma Submodel](#26)\n",
    "1. [CLTV Prediction with BG-NBD & Gamma Gamma](#27)\n",
    "    * [Business Problem](#28)\n",
    "    * [Data Preparationa](#29)\n",
    "    * [Data Preprocessing](#30)\n",
    "    * [Preparation of Lifetime Data Structure](#31)\n",
    "    * [Establishment of BG-NBD Model](#32)\n",
    "    * [Establishing the Gamma-Gamma Model](#33)\n",
    "    * [Calculation of CLTV with BG-NBD and GG Model](#34)\n",
    "    * [Creating Segments Based on CLTV](#35)"
   ]
  },
  {
   "cell_type": "markdown",
   "id": "2d3334f4",
   "metadata": {
    "papermill": {
     "duration": 0.055594,
     "end_time": "2023-10-25T07:49:23.541596",
     "exception": false,
     "start_time": "2023-10-25T07:49:23.486002",
     "status": "completed"
    },
    "tags": []
   },
   "source": [
    "<a id = \"1\"></a><br>\n",
    "<h1 style=\"background-color:#8B0000; font-family:courier; font-size:325%; font-style: oblique; font-weight: bold; font-variant: small-caps; text-align:center; color:#D2B48C; border-radius: 15px 50px;\"> CRM Analytics (Customer Relationship Management) </h1>"
   ]
  },
  {
   "cell_type": "markdown",
   "id": "439c7db0",
   "metadata": {
    "papermill": {
     "duration": 0.056414,
     "end_time": "2023-10-25T07:49:23.653502",
     "exception": false,
     "start_time": "2023-10-25T07:49:23.597088",
     "status": "completed"
    },
    "tags": []
   },
   "source": [
    "<a id = \"2\"></a><br>\n",
    "### <p style=\"font-family:JetBrains Mono; font-weight:bold; letter-spacing: 2px; color:#045F5F; font-size:140%; text-align:left;padding: 0px; border-bottom: 3px solid\">Introduction to CRM Analytics</p>\n",
    "\n",
    "* CRM, which stands for \"Customer Relationship Management,\" is a strategy, process, and technology suite used by businesses to improve customer relationships, manage customer data, increase sales, ensure customer satisfaction, and enhance overall business processes.\n",
    "\n",
    "* CRM encompasses a range of processes, including:\n",
    "\n",
    "    1. **Customer Lifecycle Optimizations**: This refers to monitoring and managing customer interactions with a company from start to finish. For example, an online retailer tracks the steps a customer goes through, starting from visiting a website, selecting a product, and making a purchase. It also includes post-sale services and gathering customer feedback. This process is visualized with visual techniques and tracked using various Key Performance Indicators (KPIs).\n",
    "\n",
    "    2. **Communication**: The communication with customers should have a language and strategy. This includes the brand's language, colors, visuals, and campaigns. It's a part of corporate marketing concepts. For instance, if a company wants to emphasize \"eco-friendly products,\" the communication strategy may involve using nature-inspired colors and focusing on the concept of sustainability in advertisements.\n",
    "\n",
    "    3. **Customer Acquisition Efforts**: Companies engage in efforts to acquire new customers. However, as per marketing rules, efforts to retain existing customers are more important than acquiring new ones. For example, an online retailer might attempt to retain loyal customers by offering them special discounts.\n",
    "\n",
    "    4. **Cross-Selling**: This strategy aims to suggest complementary or supplementary products to a customer when they purchase a product. For example, if a customer buys a laptop, you can suggest additional products like a portable hard drive or a printer.\n",
    "\n",
    "    5. **Up-Selling**: This strategy involves attempting to sell a higher quality or larger-sized product to a customer who has already made a purchase. For example, if a customer has purchased a basic laptop, you can recommend a premium laptop with better features.\n",
    "\n",
    "    6. **Customer Segmentation Efforts**: Customer segmentation involves dividing customers into specific groups. For instance, a hotel can treat customers traveling for business in a separate segment and offer them special benefits tailored to business trips.\n",
    "\n",
    "    7. **CRM Analytics**: CRM analytics aims to make the entire customer relationship process more data-driven. This involves data analysis and the development of strategies for better customer relationship management. For example, an e-commerce company can analyze customer data to determine the most preferred products and adjust marketing strategies to highlight these products."
   ]
  },
  {
   "cell_type": "markdown",
   "id": "f2415721",
   "metadata": {
    "papermill": {
     "duration": 0.05723,
     "end_time": "2023-10-25T07:49:23.766078",
     "exception": false,
     "start_time": "2023-10-25T07:49:23.708848",
     "status": "completed"
    },
    "tags": []
   },
   "source": [
    "<a id = \"3\"></a><br>\n",
    "### <p style=\"font-family:JetBrains Mono; font-weight:bold; letter-spacing: 2px; color:#045F5F; font-size:140%; text-align:left;padding: 0px; border-bottom: 3px solid\">KPIs (Key Performance Indicators)</p>\n",
    "\n",
    "**What is KPI?**\n",
    "\n",
    "Key Performance Indicators (KPIs) are mathematical metrics used to assess the performance of a company, department, or employees. KPIs can be reported on a monthly basis, and when combined with visualizations and analyses, they can be tracked more effectively. KPIs are important tools for measuring an organization's success and improving business strategies.\n",
    "\n",
    "**KPI Examples:**\n",
    "\n",
    "1. **Customer Acquisition Rate:** This KPI represents the percentage of customers acquired by a company within a specific time frame through activities such as advertising campaigns and marketing efforts. It helps gauge the effectiveness of customer acquisition efforts.\n",
    "\n",
    "   *Example:* A company running a marketing campaign to acquire new customers measures the success of the campaign by monitoring how many new customers it gained during a particular month.\n",
    "\n",
    "2. **Customer Retention Rate:** This metric tracks how long users continue to use a product or service, such as a mobile app. It indicates the rate at which users maintain their engagement with the product over time.\n",
    "\n",
    "   *Example:* A mobile app developer monitors the percentage of users who continue to use their app after the first month, second month, and so on, to assess user loyalty.\n",
    "\n",
    "3. **Customer Churn Rate:** Customer churn rate indicates the rate at which customers leave a company. It involves both new and existing customers and quantifies the customer attrition process.\n",
    "\n",
    "   *Example:* A subscription-based service tracks how many subscribers cancel their memberships in a given month. This information is vital for understanding customer retention.\n",
    "\n",
    "4. **Conversion Rate:** The conversion rate measures the success of a specific action, like clicking on an advertisement or taking a desired action on a website after viewing a page or an ad. It is typically expressed as a percentage.\n",
    "\n",
    "   *Example:* An e-commerce website monitors the number of visitors who make a purchase after clicking on a promotional banner. The conversion rate helps evaluate the banner's effectiveness.\n",
    "\n",
    "5. **Growth Rate:** The growth rate indicates how well a company is progressing towards its predetermined goals over specific time periods. It is used to monitor long-term objectives and strategic growth.\n",
    "\n",
    "   *Example:* A start-up aims to double its user base within a year. The growth rate would be calculated by comparing the number of users at the beginning and end of the year.\n",
    "\n",
    "KPIs provide valuable insights that enable businesses to measure their performance, make informed decisions, and continually improve their strategies and operations."
   ]
  },
  {
   "cell_type": "markdown",
   "id": "c5d87524",
   "metadata": {
    "papermill": {
     "duration": 0.056082,
     "end_time": "2023-10-25T07:49:23.878282",
     "exception": false,
     "start_time": "2023-10-25T07:49:23.822200",
     "status": "completed"
    },
    "tags": []
   },
   "source": [
    "<a id = \"4\"></a><br>\n",
    "### <p style=\"font-family:JetBrains Mono; font-weight:bold; letter-spacing: 2px; color:#045F5F; font-size:140%; text-align:left;padding: 0px; border-bottom: 3px solid\">Analysis of Cohort</p>\n",
    "\n",
    "**What is a Cohort?**  \n",
    "A cohort refers to a group of people who share a specific attribute or common characteristic. For example, customers who purchase a product during the same period can form the same cohort. Cohorts are typically defined based on a specific historical or demographic context, bringing together individuals with similar experiences or characteristics.\n",
    "\n",
    "**What is Cohort Analysis?**  \n",
    "Cohort analysis signifies a detailed examination of the behavior of a group of people who share a specific attribute. The purpose of this analysis is to study the behaviors of a particular cohort during a specific time period. Businesses or researchers often use cohort analysis to understand how a particular cohort changes over time.\n",
    "\n",
    "**Example Application: Churn Rate Analysis**  \n",
    "For instance, the \"churn rate\" represents the behavior of a cohort that shares the common attribute of leaving a brand. Cohort analysis involves studying how these churn rates change over time. Specifically, it is used to track whether customers who abandoned a brand during a certain period continue to do so in subsequent periods. This analysis helps businesses understand customer loyalty and determine how long customers retain their loyalty to a brand.\n",
    "\n",
    "Cohort analysis is an important tool to better understand the behaviors of specific groups and how individuals with certain characteristics interact. Such analyses provide valuable insights to businesses and researchers for adjusting business strategies, product development, and increasing customer loyalty."
   ]
  },
  {
   "cell_type": "markdown",
   "id": "3d65ed64",
   "metadata": {
    "papermill": {
     "duration": 0.056621,
     "end_time": "2023-10-25T07:49:23.992198",
     "exception": false,
     "start_time": "2023-10-25T07:49:23.935577",
     "status": "completed"
    },
    "tags": []
   },
   "source": [
    "---"
   ]
  },
  {
   "cell_type": "markdown",
   "id": "797c89c2",
   "metadata": {
    "papermill": {
     "duration": 0.056441,
     "end_time": "2023-10-25T07:49:24.106920",
     "exception": false,
     "start_time": "2023-10-25T07:49:24.050479",
     "status": "completed"
    },
    "tags": []
   },
   "source": [
    "<a id = \"5\"></a><br>\n",
    "<h1 style=\"background-color:#8B0000; font-family:courier; font-size:325%; font-style: oblique; font-weight: bold; font-variant: small-caps; text-align:center; color:#D2B48C; border-radius: 15px 50px;\"> RFM Analysis </h1>\n",
    "\n",
    "**RFM Analysis Overview**:\n",
    "- RFM stands for Recency, Frequency, and Monetary.\n",
    "- RFM Analysis is a technique used for customer segmentation.\n",
    "- It involves grouping customers based on their purchasing habits and allows for the development of tailored strategies for each group.\n",
    "- RFM provides various data-driven actions for CRM efforts.\n",
    "\n",
    "**RFM Metrics**:\n",
    "1. **Recency (R)**: Indicates how recently a customer made a purchase. For example, if we have two customers with Recency values of 1 and 10, the one with a Recency value of 1 is more valuable as they made a purchase just one day ago (on a daily basis).\n",
    "\n",
    "2. **Frequency (F)**: Represents the total number of purchases/transactions a customer has made.\n",
    "\n",
    "3. **Monetary (M)**: Reflects the monetary value that customers have contributed to the business.\n",
    "\n",
    "**RFM Scoring**:\n",
    "- To standardize the RFM metrics, they are transformed into scores ranging from 1 to 5, from the smallest (least recent, least frequent, or least monetary) to the largest. However, for Recency, the score is assigned inversely; the smallest Recency gets the highest score.\n",
    "\n",
    "- An RFM score is represented by writing the R, F, and M scores together. For example, if a customer has an R score of 5, F score of 4, and M score of 2, their RFM score would be written as - 542.\n",
    "\n",
    "- When segmenting customers, it is often more important for the customer to interact with the site and make a purchase rather than their monetary value. The frequency and recency of their interactions are often of greater significance. Hence, segmenting based on two dimensions (R-F) can be a valuable approach.\n",
    "\n",
    "- Once customer segmentation is complete, departments can begin their campaign operations tailored to these segments."
   ]
  },
  {
   "cell_type": "markdown",
   "id": "55f0bf1a",
   "metadata": {
    "papermill": {
     "duration": 0.055969,
     "end_time": "2023-10-25T07:49:24.219951",
     "exception": false,
     "start_time": "2023-10-25T07:49:24.163982",
     "status": "completed"
    },
    "tags": []
   },
   "source": [
    "----"
   ]
  },
  {
   "cell_type": "markdown",
   "id": "db4e4c44",
   "metadata": {
    "papermill": {
     "duration": 0.055251,
     "end_time": "2023-10-25T07:49:24.332270",
     "exception": false,
     "start_time": "2023-10-25T07:49:24.277019",
     "status": "completed"
    },
    "tags": []
   },
   "source": [
    "<a id = \"6\"></a><br>\n",
    "<h1 style=\"background-color:#8B0000; font-family:courier; font-size:325%; font-style: oblique; font-weight: bold; font-variant: small-caps; text-align:center; color:#D2B48C; border-radius: 15px 50px;\"> Customer Segmentation with RFM </h1>"
   ]
  },
  {
   "cell_type": "markdown",
   "id": "bf70d14f",
   "metadata": {
    "papermill": {
     "duration": 0.055953,
     "end_time": "2023-10-25T07:49:24.444622",
     "exception": false,
     "start_time": "2023-10-25T07:49:24.388669",
     "status": "completed"
    },
    "tags": []
   },
   "source": [
    "<a id = \"7\"></a><br>\n",
    "### <p style=\"font-family:JetBrains Mono; font-weight:bold; letter-spacing: 2px; color:#045F5F; font-size:140%; text-align:left;padding: 0px; border-bottom: 3px solid\">Business Problem</p>"
   ]
  },
  {
   "cell_type": "markdown",
   "id": "c8ddf414",
   "metadata": {
    "papermill": {
     "duration": 0.056575,
     "end_time": "2023-10-25T07:49:24.556647",
     "exception": false,
     "start_time": "2023-10-25T07:49:24.500072",
     "status": "completed"
    },
    "tags": []
   },
   "source": [
    "An e-commerce company aims to segment its customers and formulate marketing strategies based on these segments.\n",
    "\n",
    "The dataset \"Online Retail II\" contains the sales of an online retail store based in the United Kingdom from 01/12/2009 to 09/12/2011.\n",
    "\n",
    "Source: https://archive.ics.uci.edu/ml/datasets/Online+Retail+II"
   ]
  },
  {
   "cell_type": "markdown",
   "id": "9e3504b5",
   "metadata": {
    "papermill": {
     "duration": 0.05561,
     "end_time": "2023-10-25T07:49:24.668855",
     "exception": false,
     "start_time": "2023-10-25T07:49:24.613245",
     "status": "completed"
    },
    "tags": []
   },
   "source": [
    "<a id = \"8\"></a><br>\n",
    "### <p style=\"font-family:JetBrains Mono; font-weight:bold; letter-spacing: 2px; color:#045F5F; font-size:140%; text-align:left;padding: 0px; border-bottom: 3px solid\">Data Understanding</p>"
   ]
  },
  {
   "cell_type": "code",
   "execution_count": 1,
   "id": "f7dd8847",
   "metadata": {
    "execution": {
     "iopub.execute_input": "2023-10-25T07:49:24.784173Z",
     "iopub.status.busy": "2023-10-25T07:49:24.783692Z",
     "iopub.status.idle": "2023-10-25T07:49:25.276794Z",
     "shell.execute_reply": "2023-10-25T07:49:25.275418Z"
    },
    "papermill": {
     "duration": 0.555447,
     "end_time": "2023-10-25T07:49:25.279923",
     "exception": false,
     "start_time": "2023-10-25T07:49:24.724476",
     "status": "completed"
    },
    "tags": []
   },
   "outputs": [],
   "source": [
    "import numpy as np\n",
    "import pandas as pd\n",
    "import datetime as dt\n",
    "\n",
    "import warnings\n",
    "warnings.filterwarnings(\"ignore\")\n",
    "\n",
    "pd.set_option('display.max_columns', None)\n",
    "pd.set_option('display.max_rows', None)\n",
    "pd.set_option('display.float_format', lambda x: '%.5f' % x)"
   ]
  },
  {
   "cell_type": "code",
   "execution_count": 2,
   "id": "80b05c35",
   "metadata": {
    "execution": {
     "iopub.execute_input": "2023-10-25T07:49:25.396160Z",
     "iopub.status.busy": "2023-10-25T07:49:25.395481Z",
     "iopub.status.idle": "2023-10-25T07:49:26.938269Z",
     "shell.execute_reply": "2023-10-25T07:49:26.936833Z"
    },
    "papermill": {
     "duration": 1.604287,
     "end_time": "2023-10-25T07:49:26.941716",
     "exception": false,
     "start_time": "2023-10-25T07:49:25.337429",
     "status": "completed"
    },
    "tags": []
   },
   "outputs": [],
   "source": [
    "df_ = pd.read_csv(\"/kaggle/input/online-retail-ii-data-set-from-ml-repository/Year 2009-2010.csv\", encoding='iso-8859-9')"
   ]
  },
  {
   "cell_type": "code",
   "execution_count": 3,
   "id": "4fe10992",
   "metadata": {
    "execution": {
     "iopub.execute_input": "2023-10-25T07:49:27.063113Z",
     "iopub.status.busy": "2023-10-25T07:49:27.062694Z",
     "iopub.status.idle": "2023-10-25T07:49:27.104762Z",
     "shell.execute_reply": "2023-10-25T07:49:27.103569Z"
    },
    "papermill": {
     "duration": 0.105141,
     "end_time": "2023-10-25T07:49:27.107907",
     "exception": false,
     "start_time": "2023-10-25T07:49:27.002766",
     "status": "completed"
    },
    "tags": []
   },
   "outputs": [],
   "source": [
    "df = df_.copy()"
   ]
  },
  {
   "cell_type": "markdown",
   "id": "9460bf4b",
   "metadata": {
    "papermill": {
     "duration": 0.058237,
     "end_time": "2023-10-25T07:49:27.224049",
     "exception": false,
     "start_time": "2023-10-25T07:49:27.165812",
     "status": "completed"
    },
    "tags": []
   },
   "source": [
    "<div style=\"border-radius: 10px; border: #6B8E23 solid; padding: 15px; background-color: #F5F5DC; font-size: 100%; text-align: left\">\n",
    "\n",
    "<h3 align=\"left\"><font color='#556B2F'>👀 Features : </font></h3>\n",
    "\n",
    "1. **InvoiceNo**: Invoice number, a unique number assigned to each transaction or invoice. If it starts with 'C,' it indicates a canceled transaction.\n",
    "1. **StockCode**: Product code, a unique number for each product.\n",
    "1. **Description**: Product name.\n",
    "1. **Quantity**: Quantity of products, indicating how many of the products on the invoices were sold.\n",
    "1. **InvoiceDate**: Invoice date and time.\n",
    "1. **UnitPrice**: Product price (in pounds).\n",
    "1. **CustomerID**: Unique customer number.\n",
    "1. **Country**: Name of the country where the customer resides."
   ]
  },
  {
   "cell_type": "code",
   "execution_count": 4,
   "id": "c9c2bb7f",
   "metadata": {
    "execution": {
     "iopub.execute_input": "2023-10-25T07:49:27.344039Z",
     "iopub.status.busy": "2023-10-25T07:49:27.343616Z",
     "iopub.status.idle": "2023-10-25T07:49:27.369947Z",
     "shell.execute_reply": "2023-10-25T07:49:27.368671Z"
    },
    "papermill": {
     "duration": 0.090358,
     "end_time": "2023-10-25T07:49:27.373181",
     "exception": false,
     "start_time": "2023-10-25T07:49:27.282823",
     "status": "completed"
    },
    "tags": []
   },
   "outputs": [
    {
     "data": {
      "text/html": [
       "<div>\n",
       "<style scoped>\n",
       "    .dataframe tbody tr th:only-of-type {\n",
       "        vertical-align: middle;\n",
       "    }\n",
       "\n",
       "    .dataframe tbody tr th {\n",
       "        vertical-align: top;\n",
       "    }\n",
       "\n",
       "    .dataframe thead th {\n",
       "        text-align: right;\n",
       "    }\n",
       "</style>\n",
       "<table border=\"1\" class=\"dataframe\">\n",
       "  <thead>\n",
       "    <tr style=\"text-align: right;\">\n",
       "      <th></th>\n",
       "      <th>Invoice</th>\n",
       "      <th>StockCode</th>\n",
       "      <th>Description</th>\n",
       "      <th>Quantity</th>\n",
       "      <th>InvoiceDate</th>\n",
       "      <th>Price</th>\n",
       "      <th>Customer ID</th>\n",
       "      <th>Country</th>\n",
       "    </tr>\n",
       "  </thead>\n",
       "  <tbody>\n",
       "    <tr>\n",
       "      <th>0</th>\n",
       "      <td>489434</td>\n",
       "      <td>85048</td>\n",
       "      <td>15CM CHRISTMAS GLASS BALL 20 LIGHTS</td>\n",
       "      <td>12</td>\n",
       "      <td>12/1/2009 7:45</td>\n",
       "      <td>6.95000</td>\n",
       "      <td>13085.00000</td>\n",
       "      <td>United Kingdom</td>\n",
       "    </tr>\n",
       "    <tr>\n",
       "      <th>1</th>\n",
       "      <td>489434</td>\n",
       "      <td>79323P</td>\n",
       "      <td>PINK CHERRY LIGHTS</td>\n",
       "      <td>12</td>\n",
       "      <td>12/1/2009 7:45</td>\n",
       "      <td>6.75000</td>\n",
       "      <td>13085.00000</td>\n",
       "      <td>United Kingdom</td>\n",
       "    </tr>\n",
       "    <tr>\n",
       "      <th>2</th>\n",
       "      <td>489434</td>\n",
       "      <td>79323W</td>\n",
       "      <td>WHITE CHERRY LIGHTS</td>\n",
       "      <td>12</td>\n",
       "      <td>12/1/2009 7:45</td>\n",
       "      <td>6.75000</td>\n",
       "      <td>13085.00000</td>\n",
       "      <td>United Kingdom</td>\n",
       "    </tr>\n",
       "    <tr>\n",
       "      <th>3</th>\n",
       "      <td>489434</td>\n",
       "      <td>22041</td>\n",
       "      <td>RECORD FRAME 7\" SINGLE SIZE</td>\n",
       "      <td>48</td>\n",
       "      <td>12/1/2009 7:45</td>\n",
       "      <td>2.10000</td>\n",
       "      <td>13085.00000</td>\n",
       "      <td>United Kingdom</td>\n",
       "    </tr>\n",
       "    <tr>\n",
       "      <th>4</th>\n",
       "      <td>489434</td>\n",
       "      <td>21232</td>\n",
       "      <td>STRAWBERRY CERAMIC TRINKET BOX</td>\n",
       "      <td>24</td>\n",
       "      <td>12/1/2009 7:45</td>\n",
       "      <td>1.25000</td>\n",
       "      <td>13085.00000</td>\n",
       "      <td>United Kingdom</td>\n",
       "    </tr>\n",
       "  </tbody>\n",
       "</table>\n",
       "</div>"
      ],
      "text/plain": [
       "  Invoice StockCode                          Description  Quantity  \\\n",
       "0  489434     85048  15CM CHRISTMAS GLASS BALL 20 LIGHTS        12   \n",
       "1  489434    79323P                   PINK CHERRY LIGHTS        12   \n",
       "2  489434    79323W                  WHITE CHERRY LIGHTS        12   \n",
       "3  489434     22041         RECORD FRAME 7\" SINGLE SIZE         48   \n",
       "4  489434     21232       STRAWBERRY CERAMIC TRINKET BOX        24   \n",
       "\n",
       "      InvoiceDate   Price  Customer ID         Country  \n",
       "0  12/1/2009 7:45 6.95000  13085.00000  United Kingdom  \n",
       "1  12/1/2009 7:45 6.75000  13085.00000  United Kingdom  \n",
       "2  12/1/2009 7:45 6.75000  13085.00000  United Kingdom  \n",
       "3  12/1/2009 7:45 2.10000  13085.00000  United Kingdom  \n",
       "4  12/1/2009 7:45 1.25000  13085.00000  United Kingdom  "
      ]
     },
     "execution_count": 4,
     "metadata": {},
     "output_type": "execute_result"
    }
   ],
   "source": [
    "df.head()"
   ]
  },
  {
   "cell_type": "markdown",
   "id": "a246ffa6",
   "metadata": {
    "papermill": {
     "duration": 0.057917,
     "end_time": "2023-10-25T07:49:27.492024",
     "exception": false,
     "start_time": "2023-10-25T07:49:27.434107",
     "status": "completed"
    },
    "tags": []
   },
   "source": [
    "<div style=\"border-radius:10px; border:#6B8BA0 solid; padding: 15px; background-color: #F2EADF; font-size:100%; text-align:left\">\n",
    "\n",
    "<h3 align=\"left\"><font color='#6B8BA0'>🗨️ Comment: </font></h3>\n",
    "    \n",
    "* **Invoice**: There can be multiple identical values for invoices because it represents the invoice number. Multiple similar lines are normal because a single order can contain multiple products.\n",
    "* **Quantity**: It indicates the quantity of items sold.\n",
    "* **Price**: It provides the selling price of a product.\n",
    "* Therefore, when calculating the total revenue from an invoice, you need to perform the **\"Quantity * Price\"** operation for all the lines associated with that invoice and sum them up."
   ]
  },
  {
   "cell_type": "code",
   "execution_count": 5,
   "id": "3870af5d",
   "metadata": {
    "execution": {
     "iopub.execute_input": "2023-10-25T07:49:27.609094Z",
     "iopub.status.busy": "2023-10-25T07:49:27.608614Z",
     "iopub.status.idle": "2023-10-25T07:49:27.616805Z",
     "shell.execute_reply": "2023-10-25T07:49:27.615575Z"
    },
    "papermill": {
     "duration": 0.069065,
     "end_time": "2023-10-25T07:49:27.619327",
     "exception": false,
     "start_time": "2023-10-25T07:49:27.550262",
     "status": "completed"
    },
    "tags": []
   },
   "outputs": [
    {
     "data": {
      "text/plain": [
       "(525461, 8)"
      ]
     },
     "execution_count": 5,
     "metadata": {},
     "output_type": "execute_result"
    }
   ],
   "source": [
    "df.shape # 525461 row, 8 column"
   ]
  },
  {
   "cell_type": "code",
   "execution_count": 6,
   "id": "384d2936",
   "metadata": {
    "execution": {
     "iopub.execute_input": "2023-10-25T07:49:27.746778Z",
     "iopub.status.busy": "2023-10-25T07:49:27.746026Z",
     "iopub.status.idle": "2023-10-25T07:49:28.072951Z",
     "shell.execute_reply": "2023-10-25T07:49:28.071611Z"
    },
    "papermill": {
     "duration": 0.400472,
     "end_time": "2023-10-25T07:49:28.076671",
     "exception": false,
     "start_time": "2023-10-25T07:49:27.676199",
     "status": "completed"
    },
    "tags": []
   },
   "outputs": [
    {
     "data": {
      "text/plain": [
       "Invoice             0\n",
       "StockCode           0\n",
       "Description      2928\n",
       "Quantity            0\n",
       "InvoiceDate         0\n",
       "Price               0\n",
       "Customer ID    107927\n",
       "Country             0\n",
       "dtype: int64"
      ]
     },
     "execution_count": 6,
     "metadata": {},
     "output_type": "execute_result"
    }
   ],
   "source": [
    "df.isnull().sum() # Is there any missing data in the dataset, and if so, how many are missing in each variable?"
   ]
  },
  {
   "cell_type": "code",
   "execution_count": 7,
   "id": "a57518e5",
   "metadata": {
    "execution": {
     "iopub.execute_input": "2023-10-25T07:49:28.200056Z",
     "iopub.status.busy": "2023-10-25T07:49:28.199532Z",
     "iopub.status.idle": "2023-10-25T07:49:28.287054Z",
     "shell.execute_reply": "2023-10-25T07:49:28.285818Z"
    },
    "papermill": {
     "duration": 0.149524,
     "end_time": "2023-10-25T07:49:28.289646",
     "exception": false,
     "start_time": "2023-10-25T07:49:28.140122",
     "status": "completed"
    },
    "tags": []
   },
   "outputs": [
    {
     "data": {
      "text/plain": [
       "4681"
      ]
     },
     "execution_count": 7,
     "metadata": {},
     "output_type": "execute_result"
    }
   ],
   "source": [
    "df[\"Description\"].nunique() # How many unique products does it contain?"
   ]
  },
  {
   "cell_type": "code",
   "execution_count": 8,
   "id": "dccb9463",
   "metadata": {
    "execution": {
     "iopub.execute_input": "2023-10-25T07:49:28.409234Z",
     "iopub.status.busy": "2023-10-25T07:49:28.408768Z",
     "iopub.status.idle": "2023-10-25T07:49:28.527293Z",
     "shell.execute_reply": "2023-10-25T07:49:28.526349Z"
    },
    "papermill": {
     "duration": 0.182762,
     "end_time": "2023-10-25T07:49:28.530152",
     "exception": false,
     "start_time": "2023-10-25T07:49:28.347390",
     "status": "completed"
    },
    "tags": []
   },
   "outputs": [
    {
     "data": {
      "text/plain": [
       "Description\n",
       "WHITE HANGING HEART T-LIGHT HOLDER    3549\n",
       "REGENCY CAKESTAND 3 TIER              2212\n",
       "STRAWBERRY CERAMIC TRINKET BOX        1843\n",
       "PACK OF 72 RETRO SPOT CAKE CASES      1466\n",
       "ASSORTED COLOUR BIRD ORNAMENT         1457\n",
       "Name: count, dtype: int64"
      ]
     },
     "execution_count": 8,
     "metadata": {},
     "output_type": "execute_result"
    }
   ],
   "source": [
    "df[\"Description\"].value_counts().head() # How many times these unique products appear on the invoices?"
   ]
  },
  {
   "cell_type": "code",
   "execution_count": 9,
   "id": "96754bb3",
   "metadata": {
    "execution": {
     "iopub.execute_input": "2023-10-25T07:49:28.649078Z",
     "iopub.status.busy": "2023-10-25T07:49:28.648257Z",
     "iopub.status.idle": "2023-10-25T07:49:28.806248Z",
     "shell.execute_reply": "2023-10-25T07:49:28.805003Z"
    },
    "papermill": {
     "duration": 0.220481,
     "end_time": "2023-10-25T07:49:28.808966",
     "exception": false,
     "start_time": "2023-10-25T07:49:28.588485",
     "status": "completed"
    },
    "tags": []
   },
   "outputs": [
    {
     "data": {
      "text/html": [
       "<div>\n",
       "<style scoped>\n",
       "    .dataframe tbody tr th:only-of-type {\n",
       "        vertical-align: middle;\n",
       "    }\n",
       "\n",
       "    .dataframe tbody tr th {\n",
       "        vertical-align: top;\n",
       "    }\n",
       "\n",
       "    .dataframe thead th {\n",
       "        text-align: right;\n",
       "    }\n",
       "</style>\n",
       "<table border=\"1\" class=\"dataframe\">\n",
       "  <thead>\n",
       "    <tr style=\"text-align: right;\">\n",
       "      <th></th>\n",
       "      <th>Quantity</th>\n",
       "    </tr>\n",
       "    <tr>\n",
       "      <th>Description</th>\n",
       "      <th></th>\n",
       "    </tr>\n",
       "  </thead>\n",
       "  <tbody>\n",
       "    <tr>\n",
       "      <th>DOORMAT UNION JACK GUNS AND ROSES</th>\n",
       "      <td>179</td>\n",
       "    </tr>\n",
       "    <tr>\n",
       "      <th>3 STRIPEY MICE FELTCRAFT</th>\n",
       "      <td>690</td>\n",
       "    </tr>\n",
       "    <tr>\n",
       "      <th>4 PURPLE FLOCK DINNER CANDLES</th>\n",
       "      <td>207</td>\n",
       "    </tr>\n",
       "    <tr>\n",
       "      <th>ANIMAL STICKERS</th>\n",
       "      <td>385</td>\n",
       "    </tr>\n",
       "    <tr>\n",
       "      <th>BLACK PIRATE TREASURE CHEST</th>\n",
       "      <td>57</td>\n",
       "    </tr>\n",
       "  </tbody>\n",
       "</table>\n",
       "</div>"
      ],
      "text/plain": [
       "                                     Quantity\n",
       "Description                                  \n",
       "  DOORMAT UNION JACK GUNS AND ROSES       179\n",
       " 3 STRIPEY MICE FELTCRAFT                 690\n",
       " 4 PURPLE FLOCK DINNER CANDLES            207\n",
       " ANIMAL STICKERS                          385\n",
       " BLACK PIRATE TREASURE CHEST               57"
      ]
     },
     "execution_count": 9,
     "metadata": {},
     "output_type": "execute_result"
    }
   ],
   "source": [
    "# However, we do not know the total quantity of an individual unique product sold!\n",
    "\n",
    "df.groupby(\"Description\").agg({\"Quantity\": \"sum\"}).head()"
   ]
  },
  {
   "cell_type": "code",
   "execution_count": 10,
   "id": "ba5f646d",
   "metadata": {
    "execution": {
     "iopub.execute_input": "2023-10-25T07:49:28.927465Z",
     "iopub.status.busy": "2023-10-25T07:49:28.926894Z",
     "iopub.status.idle": "2023-10-25T07:49:29.081604Z",
     "shell.execute_reply": "2023-10-25T07:49:29.080106Z"
    },
    "papermill": {
     "duration": 0.217864,
     "end_time": "2023-10-25T07:49:29.084364",
     "exception": false,
     "start_time": "2023-10-25T07:49:28.866500",
     "status": "completed"
    },
    "tags": []
   },
   "outputs": [
    {
     "data": {
      "text/html": [
       "<div>\n",
       "<style scoped>\n",
       "    .dataframe tbody tr th:only-of-type {\n",
       "        vertical-align: middle;\n",
       "    }\n",
       "\n",
       "    .dataframe tbody tr th {\n",
       "        vertical-align: top;\n",
       "    }\n",
       "\n",
       "    .dataframe thead th {\n",
       "        text-align: right;\n",
       "    }\n",
       "</style>\n",
       "<table border=\"1\" class=\"dataframe\">\n",
       "  <thead>\n",
       "    <tr style=\"text-align: right;\">\n",
       "      <th></th>\n",
       "      <th>Quantity</th>\n",
       "    </tr>\n",
       "    <tr>\n",
       "      <th>Description</th>\n",
       "      <th></th>\n",
       "    </tr>\n",
       "  </thead>\n",
       "  <tbody>\n",
       "    <tr>\n",
       "      <th>WHITE HANGING HEART T-LIGHT HOLDER</th>\n",
       "      <td>57733</td>\n",
       "    </tr>\n",
       "    <tr>\n",
       "      <th>WORLD WAR 2 GLIDERS ASSTD DESIGNS</th>\n",
       "      <td>54698</td>\n",
       "    </tr>\n",
       "    <tr>\n",
       "      <th>BROCADE RING PURSE</th>\n",
       "      <td>47647</td>\n",
       "    </tr>\n",
       "    <tr>\n",
       "      <th>PACK OF 72 RETRO SPOT CAKE CASES</th>\n",
       "      <td>46106</td>\n",
       "    </tr>\n",
       "    <tr>\n",
       "      <th>ASSORTED COLOUR BIRD ORNAMENT</th>\n",
       "      <td>44925</td>\n",
       "    </tr>\n",
       "  </tbody>\n",
       "</table>\n",
       "</div>"
      ],
      "text/plain": [
       "                                    Quantity\n",
       "Description                                 \n",
       "WHITE HANGING HEART T-LIGHT HOLDER     57733\n",
       "WORLD WAR 2 GLIDERS ASSTD DESIGNS      54698\n",
       "BROCADE RING PURSE                     47647\n",
       "PACK OF 72 RETRO SPOT CAKE CASES       46106\n",
       "ASSORTED COLOUR BIRD ORNAMENT          44925"
      ]
     },
     "execution_count": 10,
     "metadata": {},
     "output_type": "execute_result"
    }
   ],
   "source": [
    "df.groupby(\"Description\").agg({\"Quantity\": \"sum\"}).sort_values(\"Quantity\", ascending=False).head()\n",
    "\n",
    "# We can obtain information about how many orders were placed for each unique product in this way."
   ]
  },
  {
   "cell_type": "code",
   "execution_count": 11,
   "id": "b43c03fe",
   "metadata": {
    "execution": {
     "iopub.execute_input": "2023-10-25T07:49:29.204845Z",
     "iopub.status.busy": "2023-10-25T07:49:29.204368Z",
     "iopub.status.idle": "2023-10-25T07:49:29.269534Z",
     "shell.execute_reply": "2023-10-25T07:49:29.267926Z"
    },
    "papermill": {
     "duration": 0.128092,
     "end_time": "2023-10-25T07:49:29.272429",
     "exception": false,
     "start_time": "2023-10-25T07:49:29.144337",
     "status": "completed"
    },
    "tags": []
   },
   "outputs": [
    {
     "data": {
      "text/plain": [
       "28816"
      ]
     },
     "execution_count": 11,
     "metadata": {},
     "output_type": "execute_result"
    }
   ],
   "source": [
    "df[\"Invoice\"].nunique() # Unique invoice count."
   ]
  },
  {
   "cell_type": "code",
   "execution_count": 12,
   "id": "4b7e624d",
   "metadata": {
    "execution": {
     "iopub.execute_input": "2023-10-25T07:49:29.392623Z",
     "iopub.status.busy": "2023-10-25T07:49:29.392140Z",
     "iopub.status.idle": "2023-10-25T07:49:29.402162Z",
     "shell.execute_reply": "2023-10-25T07:49:29.401178Z"
    },
    "papermill": {
     "duration": 0.073659,
     "end_time": "2023-10-25T07:49:29.404812",
     "exception": false,
     "start_time": "2023-10-25T07:49:29.331153",
     "status": "completed"
    },
    "tags": []
   },
   "outputs": [],
   "source": [
    "df[\"TotalPrice\"] = df[\"Quantity\"] * df[\"Price\"]"
   ]
  },
  {
   "cell_type": "code",
   "execution_count": 13,
   "id": "a37e7a5c",
   "metadata": {
    "execution": {
     "iopub.execute_input": "2023-10-25T07:49:29.522446Z",
     "iopub.status.busy": "2023-10-25T07:49:29.521649Z",
     "iopub.status.idle": "2023-10-25T07:49:29.636836Z",
     "shell.execute_reply": "2023-10-25T07:49:29.635469Z"
    },
    "papermill": {
     "duration": 0.177526,
     "end_time": "2023-10-25T07:49:29.640025",
     "exception": false,
     "start_time": "2023-10-25T07:49:29.462499",
     "status": "completed"
    },
    "tags": []
   },
   "outputs": [
    {
     "data": {
      "text/html": [
       "<div>\n",
       "<style scoped>\n",
       "    .dataframe tbody tr th:only-of-type {\n",
       "        vertical-align: middle;\n",
       "    }\n",
       "\n",
       "    .dataframe tbody tr th {\n",
       "        vertical-align: top;\n",
       "    }\n",
       "\n",
       "    .dataframe thead th {\n",
       "        text-align: right;\n",
       "    }\n",
       "</style>\n",
       "<table border=\"1\" class=\"dataframe\">\n",
       "  <thead>\n",
       "    <tr style=\"text-align: right;\">\n",
       "      <th></th>\n",
       "      <th>TotalPrice</th>\n",
       "    </tr>\n",
       "    <tr>\n",
       "      <th>Invoice</th>\n",
       "      <th></th>\n",
       "    </tr>\n",
       "  </thead>\n",
       "  <tbody>\n",
       "    <tr>\n",
       "      <th>489434</th>\n",
       "      <td>505.30000</td>\n",
       "    </tr>\n",
       "    <tr>\n",
       "      <th>489435</th>\n",
       "      <td>145.80000</td>\n",
       "    </tr>\n",
       "    <tr>\n",
       "      <th>489436</th>\n",
       "      <td>630.33000</td>\n",
       "    </tr>\n",
       "    <tr>\n",
       "      <th>489437</th>\n",
       "      <td>310.75000</td>\n",
       "    </tr>\n",
       "    <tr>\n",
       "      <th>489438</th>\n",
       "      <td>2286.24000</td>\n",
       "    </tr>\n",
       "  </tbody>\n",
       "</table>\n",
       "</div>"
      ],
      "text/plain": [
       "         TotalPrice\n",
       "Invoice            \n",
       "489434    505.30000\n",
       "489435    145.80000\n",
       "489436    630.33000\n",
       "489437    310.75000\n",
       "489438   2286.24000"
      ]
     },
     "execution_count": 13,
     "metadata": {},
     "output_type": "execute_result"
    }
   ],
   "source": [
    "df.groupby(\"Invoice\").agg({\"TotalPrice\": \"sum\"}).head()"
   ]
  },
  {
   "cell_type": "markdown",
   "id": "0f97e244",
   "metadata": {
    "papermill": {
     "duration": 0.061042,
     "end_time": "2023-10-25T07:49:29.762219",
     "exception": false,
     "start_time": "2023-10-25T07:49:29.701177",
     "status": "completed"
    },
    "tags": []
   },
   "source": [
    "<a id = \"9\"></a><br>\n",
    "### <p style=\"font-family:JetBrains Mono; font-weight:bold; letter-spacing: 2px; color:#045F5F; font-size:140%; text-align:left;padding: 0px; border-bottom: 3px solid\">Data Preparation</p>"
   ]
  },
  {
   "cell_type": "code",
   "execution_count": 14,
   "id": "05537943",
   "metadata": {
    "execution": {
     "iopub.execute_input": "2023-10-25T07:49:29.885278Z",
     "iopub.status.busy": "2023-10-25T07:49:29.884848Z",
     "iopub.status.idle": "2023-10-25T07:49:30.163293Z",
     "shell.execute_reply": "2023-10-25T07:49:30.162014Z"
    },
    "papermill": {
     "duration": 0.344138,
     "end_time": "2023-10-25T07:49:30.166232",
     "exception": false,
     "start_time": "2023-10-25T07:49:29.822094",
     "status": "completed"
    },
    "tags": []
   },
   "outputs": [
    {
     "data": {
      "text/plain": [
       "Invoice             0\n",
       "StockCode           0\n",
       "Description      2928\n",
       "Quantity            0\n",
       "InvoiceDate         0\n",
       "Price               0\n",
       "Customer ID    107927\n",
       "Country             0\n",
       "TotalPrice          0\n",
       "dtype: int64"
      ]
     },
     "execution_count": 14,
     "metadata": {},
     "output_type": "execute_result"
    }
   ],
   "source": [
    "df.isnull().sum()"
   ]
  },
  {
   "cell_type": "code",
   "execution_count": 15,
   "id": "35de7007",
   "metadata": {
    "execution": {
     "iopub.execute_input": "2023-10-25T07:49:30.287646Z",
     "iopub.status.busy": "2023-10-25T07:49:30.287017Z",
     "iopub.status.idle": "2023-10-25T07:49:30.423750Z",
     "shell.execute_reply": "2023-10-25T07:49:30.422354Z"
    },
    "papermill": {
     "duration": 0.201326,
     "end_time": "2023-10-25T07:49:30.426994",
     "exception": false,
     "start_time": "2023-10-25T07:49:30.225668",
     "status": "completed"
    },
    "tags": []
   },
   "outputs": [
    {
     "data": {
      "text/html": [
       "<div>\n",
       "<style scoped>\n",
       "    .dataframe tbody tr th:only-of-type {\n",
       "        vertical-align: middle;\n",
       "    }\n",
       "\n",
       "    .dataframe tbody tr th {\n",
       "        vertical-align: top;\n",
       "    }\n",
       "\n",
       "    .dataframe thead th {\n",
       "        text-align: right;\n",
       "    }\n",
       "</style>\n",
       "<table border=\"1\" class=\"dataframe\">\n",
       "  <thead>\n",
       "    <tr style=\"text-align: right;\">\n",
       "      <th></th>\n",
       "      <th>count</th>\n",
       "      <th>mean</th>\n",
       "      <th>std</th>\n",
       "      <th>min</th>\n",
       "      <th>25%</th>\n",
       "      <th>50%</th>\n",
       "      <th>75%</th>\n",
       "      <th>max</th>\n",
       "    </tr>\n",
       "  </thead>\n",
       "  <tbody>\n",
       "    <tr>\n",
       "      <th>Quantity</th>\n",
       "      <td>525461.00000</td>\n",
       "      <td>10.33767</td>\n",
       "      <td>107.42411</td>\n",
       "      <td>-9600.00000</td>\n",
       "      <td>1.00000</td>\n",
       "      <td>3.00000</td>\n",
       "      <td>10.00000</td>\n",
       "      <td>19152.00000</td>\n",
       "    </tr>\n",
       "    <tr>\n",
       "      <th>Price</th>\n",
       "      <td>525461.00000</td>\n",
       "      <td>4.68883</td>\n",
       "      <td>146.12691</td>\n",
       "      <td>-53594.36000</td>\n",
       "      <td>1.25000</td>\n",
       "      <td>2.10000</td>\n",
       "      <td>4.21000</td>\n",
       "      <td>25111.09000</td>\n",
       "    </tr>\n",
       "    <tr>\n",
       "      <th>Customer ID</th>\n",
       "      <td>417534.00000</td>\n",
       "      <td>15360.64548</td>\n",
       "      <td>1680.81132</td>\n",
       "      <td>12346.00000</td>\n",
       "      <td>13983.00000</td>\n",
       "      <td>15311.00000</td>\n",
       "      <td>16799.00000</td>\n",
       "      <td>18287.00000</td>\n",
       "    </tr>\n",
       "    <tr>\n",
       "      <th>TotalPrice</th>\n",
       "      <td>525461.00000</td>\n",
       "      <td>18.15451</td>\n",
       "      <td>160.33308</td>\n",
       "      <td>-53594.36000</td>\n",
       "      <td>3.75000</td>\n",
       "      <td>9.95000</td>\n",
       "      <td>17.70000</td>\n",
       "      <td>25111.09000</td>\n",
       "    </tr>\n",
       "  </tbody>\n",
       "</table>\n",
       "</div>"
      ],
      "text/plain": [
       "                   count        mean        std          min         25%  \\\n",
       "Quantity    525461.00000    10.33767  107.42411  -9600.00000     1.00000   \n",
       "Price       525461.00000     4.68883  146.12691 -53594.36000     1.25000   \n",
       "Customer ID 417534.00000 15360.64548 1680.81132  12346.00000 13983.00000   \n",
       "TotalPrice  525461.00000    18.15451  160.33308 -53594.36000     3.75000   \n",
       "\n",
       "                    50%         75%         max  \n",
       "Quantity        3.00000    10.00000 19152.00000  \n",
       "Price           2.10000     4.21000 25111.09000  \n",
       "Customer ID 15311.00000 16799.00000 18287.00000  \n",
       "TotalPrice      9.95000    17.70000 25111.09000  "
      ]
     },
     "execution_count": 15,
     "metadata": {},
     "output_type": "execute_result"
    }
   ],
   "source": [
    "df.describe().T"
   ]
  },
  {
   "cell_type": "markdown",
   "id": "ee1d6011",
   "metadata": {
    "papermill": {
     "duration": 0.059101,
     "end_time": "2023-10-25T07:49:30.545892",
     "exception": false,
     "start_time": "2023-10-25T07:49:30.486791",
     "status": "completed"
    },
    "tags": []
   },
   "source": [
    "<div style=\"border-radius:10px; border:#6B8BA0 solid; padding: 15px; background-color: #F2EADF; font-size:100%; text-align:left\">\n",
    "\n",
    "<h3 align=\"left\"><font color='#6B8BA0'>🗨️ Comment: </font></h3>\n",
    "    \n",
    "* If we look at the \"min\" column here, we can see negative values. However, prices cannot have negative values. This implies the presence of returns, and these need to be cleaned."
   ]
  },
  {
   "cell_type": "code",
   "execution_count": 16,
   "id": "0ac95185",
   "metadata": {
    "execution": {
     "iopub.execute_input": "2023-10-25T07:49:30.665279Z",
     "iopub.status.busy": "2023-10-25T07:49:30.664841Z",
     "iopub.status.idle": "2023-10-25T07:49:30.717330Z",
     "shell.execute_reply": "2023-10-25T07:49:30.716011Z"
    },
    "papermill": {
     "duration": 0.115495,
     "end_time": "2023-10-25T07:49:30.720435",
     "exception": false,
     "start_time": "2023-10-25T07:49:30.604940",
     "status": "completed"
    },
    "tags": []
   },
   "outputs": [],
   "source": [
    "df = df[(df['Quantity'] > 0)]"
   ]
  },
  {
   "cell_type": "code",
   "execution_count": 17,
   "id": "ddb791a1",
   "metadata": {
    "execution": {
     "iopub.execute_input": "2023-10-25T07:49:30.840712Z",
     "iopub.status.busy": "2023-10-25T07:49:30.840071Z",
     "iopub.status.idle": "2023-10-25T07:49:31.170239Z",
     "shell.execute_reply": "2023-10-25T07:49:31.168998Z"
    },
    "papermill": {
     "duration": 0.39298,
     "end_time": "2023-10-25T07:49:31.173221",
     "exception": false,
     "start_time": "2023-10-25T07:49:30.780241",
     "status": "completed"
    },
    "tags": []
   },
   "outputs": [],
   "source": [
    "df.dropna(inplace=True)"
   ]
  },
  {
   "cell_type": "code",
   "execution_count": 18,
   "id": "090f921c",
   "metadata": {
    "execution": {
     "iopub.execute_input": "2023-10-25T07:49:31.293744Z",
     "iopub.status.busy": "2023-10-25T07:49:31.293097Z",
     "iopub.status.idle": "2023-10-25T07:49:31.377208Z",
     "shell.execute_reply": "2023-10-25T07:49:31.376094Z"
    },
    "papermill": {
     "duration": 0.148737,
     "end_time": "2023-10-25T07:49:31.380196",
     "exception": false,
     "start_time": "2023-10-25T07:49:31.231459",
     "status": "completed"
    },
    "tags": []
   },
   "outputs": [
    {
     "data": {
      "text/html": [
       "<div>\n",
       "<style scoped>\n",
       "    .dataframe tbody tr th:only-of-type {\n",
       "        vertical-align: middle;\n",
       "    }\n",
       "\n",
       "    .dataframe tbody tr th {\n",
       "        vertical-align: top;\n",
       "    }\n",
       "\n",
       "    .dataframe thead th {\n",
       "        text-align: right;\n",
       "    }\n",
       "</style>\n",
       "<table border=\"1\" class=\"dataframe\">\n",
       "  <thead>\n",
       "    <tr style=\"text-align: right;\">\n",
       "      <th></th>\n",
       "      <th>count</th>\n",
       "      <th>mean</th>\n",
       "      <th>std</th>\n",
       "      <th>min</th>\n",
       "      <th>25%</th>\n",
       "      <th>50%</th>\n",
       "      <th>75%</th>\n",
       "      <th>max</th>\n",
       "    </tr>\n",
       "  </thead>\n",
       "  <tbody>\n",
       "    <tr>\n",
       "      <th>Quantity</th>\n",
       "      <td>407695.00000</td>\n",
       "      <td>13.58669</td>\n",
       "      <td>96.84223</td>\n",
       "      <td>1.00000</td>\n",
       "      <td>2.00000</td>\n",
       "      <td>5.00000</td>\n",
       "      <td>12.00000</td>\n",
       "      <td>19152.00000</td>\n",
       "    </tr>\n",
       "    <tr>\n",
       "      <th>Price</th>\n",
       "      <td>407695.00000</td>\n",
       "      <td>3.29419</td>\n",
       "      <td>34.75666</td>\n",
       "      <td>0.00000</td>\n",
       "      <td>1.25000</td>\n",
       "      <td>1.95000</td>\n",
       "      <td>3.75000</td>\n",
       "      <td>10953.50000</td>\n",
       "    </tr>\n",
       "    <tr>\n",
       "      <th>Customer ID</th>\n",
       "      <td>407695.00000</td>\n",
       "      <td>15368.50411</td>\n",
       "      <td>1679.79570</td>\n",
       "      <td>12346.00000</td>\n",
       "      <td>13997.00000</td>\n",
       "      <td>15321.00000</td>\n",
       "      <td>16812.00000</td>\n",
       "      <td>18287.00000</td>\n",
       "    </tr>\n",
       "    <tr>\n",
       "      <th>TotalPrice</th>\n",
       "      <td>407695.00000</td>\n",
       "      <td>21.66326</td>\n",
       "      <td>77.14736</td>\n",
       "      <td>0.00000</td>\n",
       "      <td>4.95000</td>\n",
       "      <td>11.90000</td>\n",
       "      <td>19.50000</td>\n",
       "      <td>15818.40000</td>\n",
       "    </tr>\n",
       "  </tbody>\n",
       "</table>\n",
       "</div>"
      ],
      "text/plain": [
       "                   count        mean        std         min         25%  \\\n",
       "Quantity    407695.00000    13.58669   96.84223     1.00000     2.00000   \n",
       "Price       407695.00000     3.29419   34.75666     0.00000     1.25000   \n",
       "Customer ID 407695.00000 15368.50411 1679.79570 12346.00000 13997.00000   \n",
       "TotalPrice  407695.00000    21.66326   77.14736     0.00000     4.95000   \n",
       "\n",
       "                    50%         75%         max  \n",
       "Quantity        5.00000    12.00000 19152.00000  \n",
       "Price           1.95000     3.75000 10953.50000  \n",
       "Customer ID 15321.00000 16812.00000 18287.00000  \n",
       "TotalPrice     11.90000    19.50000 15818.40000  "
      ]
     },
     "execution_count": 18,
     "metadata": {},
     "output_type": "execute_result"
    }
   ],
   "source": [
    "df.describe().T # problem solved."
   ]
  },
  {
   "cell_type": "markdown",
   "id": "d11629bb",
   "metadata": {
    "papermill": {
     "duration": 0.060158,
     "end_time": "2023-10-25T07:49:31.500143",
     "exception": false,
     "start_time": "2023-10-25T07:49:31.439985",
     "status": "completed"
    },
    "tags": []
   },
   "source": [
    "<a id = \"10\"></a><br>\n",
    "### <p style=\"font-family:JetBrains Mono; font-weight:bold; letter-spacing: 2px; color:#045F5F; font-size:140%; text-align:left;padding: 0px; border-bottom: 3px solid\">Calculating RFM Metrics</p>"
   ]
  },
  {
   "cell_type": "markdown",
   "id": "868371e0",
   "metadata": {
    "papermill": {
     "duration": 0.060215,
     "end_time": "2023-10-25T07:49:31.621403",
     "exception": false,
     "start_time": "2023-10-25T07:49:31.561188",
     "status": "completed"
    },
    "tags": []
   },
   "source": [
    "<div style=\"border-radius: 10px; border: #6B8E23 solid; padding: 15px; background-color: #F5F5DC; font-size: 100%; text-align: left\">\n",
    "\n",
    "<h3 align=\"left\"><font color='#556B2F'>👀 Features : </font></h3>\n",
    "    \n",
    "* **Recency**: Represents the recency of the customer. (Analysis Date - Date of the customer's last purchase)\n",
    "* **Frequency**: Total purchase value made by the customer.\n",
    "* **Monetary**: The total amount left by the customer as a result of total purchases."
   ]
  },
  {
   "cell_type": "code",
   "execution_count": 19,
   "id": "9c61cbd1",
   "metadata": {
    "execution": {
     "iopub.execute_input": "2023-10-25T07:49:31.743733Z",
     "iopub.status.busy": "2023-10-25T07:49:31.743277Z",
     "iopub.status.idle": "2023-10-25T07:49:31.759394Z",
     "shell.execute_reply": "2023-10-25T07:49:31.758496Z"
    },
    "papermill": {
     "duration": 0.080412,
     "end_time": "2023-10-25T07:49:31.761873",
     "exception": false,
     "start_time": "2023-10-25T07:49:31.681461",
     "status": "completed"
    },
    "tags": []
   },
   "outputs": [
    {
     "data": {
      "text/html": [
       "<div>\n",
       "<style scoped>\n",
       "    .dataframe tbody tr th:only-of-type {\n",
       "        vertical-align: middle;\n",
       "    }\n",
       "\n",
       "    .dataframe tbody tr th {\n",
       "        vertical-align: top;\n",
       "    }\n",
       "\n",
       "    .dataframe thead th {\n",
       "        text-align: right;\n",
       "    }\n",
       "</style>\n",
       "<table border=\"1\" class=\"dataframe\">\n",
       "  <thead>\n",
       "    <tr style=\"text-align: right;\">\n",
       "      <th></th>\n",
       "      <th>Invoice</th>\n",
       "      <th>StockCode</th>\n",
       "      <th>Description</th>\n",
       "      <th>Quantity</th>\n",
       "      <th>InvoiceDate</th>\n",
       "      <th>Price</th>\n",
       "      <th>Customer ID</th>\n",
       "      <th>Country</th>\n",
       "      <th>TotalPrice</th>\n",
       "    </tr>\n",
       "  </thead>\n",
       "  <tbody>\n",
       "    <tr>\n",
       "      <th>0</th>\n",
       "      <td>489434</td>\n",
       "      <td>85048</td>\n",
       "      <td>15CM CHRISTMAS GLASS BALL 20 LIGHTS</td>\n",
       "      <td>12</td>\n",
       "      <td>12/1/2009 7:45</td>\n",
       "      <td>6.95000</td>\n",
       "      <td>13085.00000</td>\n",
       "      <td>United Kingdom</td>\n",
       "      <td>83.40000</td>\n",
       "    </tr>\n",
       "    <tr>\n",
       "      <th>1</th>\n",
       "      <td>489434</td>\n",
       "      <td>79323P</td>\n",
       "      <td>PINK CHERRY LIGHTS</td>\n",
       "      <td>12</td>\n",
       "      <td>12/1/2009 7:45</td>\n",
       "      <td>6.75000</td>\n",
       "      <td>13085.00000</td>\n",
       "      <td>United Kingdom</td>\n",
       "      <td>81.00000</td>\n",
       "    </tr>\n",
       "    <tr>\n",
       "      <th>2</th>\n",
       "      <td>489434</td>\n",
       "      <td>79323W</td>\n",
       "      <td>WHITE CHERRY LIGHTS</td>\n",
       "      <td>12</td>\n",
       "      <td>12/1/2009 7:45</td>\n",
       "      <td>6.75000</td>\n",
       "      <td>13085.00000</td>\n",
       "      <td>United Kingdom</td>\n",
       "      <td>81.00000</td>\n",
       "    </tr>\n",
       "    <tr>\n",
       "      <th>3</th>\n",
       "      <td>489434</td>\n",
       "      <td>22041</td>\n",
       "      <td>RECORD FRAME 7\" SINGLE SIZE</td>\n",
       "      <td>48</td>\n",
       "      <td>12/1/2009 7:45</td>\n",
       "      <td>2.10000</td>\n",
       "      <td>13085.00000</td>\n",
       "      <td>United Kingdom</td>\n",
       "      <td>100.80000</td>\n",
       "    </tr>\n",
       "    <tr>\n",
       "      <th>4</th>\n",
       "      <td>489434</td>\n",
       "      <td>21232</td>\n",
       "      <td>STRAWBERRY CERAMIC TRINKET BOX</td>\n",
       "      <td>24</td>\n",
       "      <td>12/1/2009 7:45</td>\n",
       "      <td>1.25000</td>\n",
       "      <td>13085.00000</td>\n",
       "      <td>United Kingdom</td>\n",
       "      <td>30.00000</td>\n",
       "    </tr>\n",
       "  </tbody>\n",
       "</table>\n",
       "</div>"
      ],
      "text/plain": [
       "  Invoice StockCode                          Description  Quantity  \\\n",
       "0  489434     85048  15CM CHRISTMAS GLASS BALL 20 LIGHTS        12   \n",
       "1  489434    79323P                   PINK CHERRY LIGHTS        12   \n",
       "2  489434    79323W                  WHITE CHERRY LIGHTS        12   \n",
       "3  489434     22041         RECORD FRAME 7\" SINGLE SIZE         48   \n",
       "4  489434     21232       STRAWBERRY CERAMIC TRINKET BOX        24   \n",
       "\n",
       "      InvoiceDate   Price  Customer ID         Country  TotalPrice  \n",
       "0  12/1/2009 7:45 6.95000  13085.00000  United Kingdom    83.40000  \n",
       "1  12/1/2009 7:45 6.75000  13085.00000  United Kingdom    81.00000  \n",
       "2  12/1/2009 7:45 6.75000  13085.00000  United Kingdom    81.00000  \n",
       "3  12/1/2009 7:45 2.10000  13085.00000  United Kingdom   100.80000  \n",
       "4  12/1/2009 7:45 1.25000  13085.00000  United Kingdom    30.00000  "
      ]
     },
     "execution_count": 19,
     "metadata": {},
     "output_type": "execute_result"
    }
   ],
   "source": [
    "df.head()"
   ]
  },
  {
   "cell_type": "code",
   "execution_count": 20,
   "id": "549ba7fc",
   "metadata": {
    "execution": {
     "iopub.execute_input": "2023-10-25T07:49:31.887723Z",
     "iopub.status.busy": "2023-10-25T07:49:31.886151Z",
     "iopub.status.idle": "2023-10-25T07:49:32.114597Z",
     "shell.execute_reply": "2023-10-25T07:49:32.113346Z"
    },
    "papermill": {
     "duration": 0.294303,
     "end_time": "2023-10-25T07:49:32.117803",
     "exception": false,
     "start_time": "2023-10-25T07:49:31.823500",
     "status": "completed"
    },
    "tags": []
   },
   "outputs": [
    {
     "name": "stdout",
     "output_type": "stream",
     "text": [
      "<class 'pandas.core.frame.DataFrame'>\n",
      "Index: 407695 entries, 0 to 525460\n",
      "Data columns (total 9 columns):\n",
      " #   Column       Non-Null Count   Dtype  \n",
      "---  ------       --------------   -----  \n",
      " 0   Invoice      407695 non-null  object \n",
      " 1   StockCode    407695 non-null  object \n",
      " 2   Description  407695 non-null  object \n",
      " 3   Quantity     407695 non-null  int64  \n",
      " 4   InvoiceDate  407695 non-null  object \n",
      " 5   Price        407695 non-null  float64\n",
      " 6   Customer ID  407695 non-null  float64\n",
      " 7   Country      407695 non-null  object \n",
      " 8   TotalPrice   407695 non-null  float64\n",
      "dtypes: float64(3), int64(1), object(5)\n",
      "memory usage: 31.1+ MB\n"
     ]
    }
   ],
   "source": [
    "df.info()"
   ]
  },
  {
   "cell_type": "code",
   "execution_count": 21,
   "id": "e2a19127",
   "metadata": {
    "execution": {
     "iopub.execute_input": "2023-10-25T07:49:32.243205Z",
     "iopub.status.busy": "2023-10-25T07:49:32.242411Z",
     "iopub.status.idle": "2023-10-25T07:49:32.326680Z",
     "shell.execute_reply": "2023-10-25T07:49:32.325727Z"
    },
    "papermill": {
     "duration": 0.150489,
     "end_time": "2023-10-25T07:49:32.329337",
     "exception": false,
     "start_time": "2023-10-25T07:49:32.178848",
     "status": "completed"
    },
    "tags": []
   },
   "outputs": [
    {
     "data": {
      "text/plain": [
       "'9/9/2010 20:03'"
      ]
     },
     "execution_count": 21,
     "metadata": {},
     "output_type": "execute_result"
    }
   ],
   "source": [
    "df[\"InvoiceDate\"].max()"
   ]
  },
  {
   "cell_type": "code",
   "execution_count": 22,
   "id": "3945ff67",
   "metadata": {
    "execution": {
     "iopub.execute_input": "2023-10-25T07:49:32.454641Z",
     "iopub.status.busy": "2023-10-25T07:49:32.453891Z",
     "iopub.status.idle": "2023-10-25T07:49:32.654498Z",
     "shell.execute_reply": "2023-10-25T07:49:32.652906Z"
    },
    "papermill": {
     "duration": 0.267095,
     "end_time": "2023-10-25T07:49:32.657879",
     "exception": false,
     "start_time": "2023-10-25T07:49:32.390784",
     "status": "completed"
    },
    "tags": []
   },
   "outputs": [],
   "source": [
    "df[\"InvoiceDate\"] = pd.to_datetime(df[\"InvoiceDate\"])"
   ]
  },
  {
   "cell_type": "code",
   "execution_count": 23,
   "id": "f4eeaafc",
   "metadata": {
    "execution": {
     "iopub.execute_input": "2023-10-25T07:49:32.781690Z",
     "iopub.status.busy": "2023-10-25T07:49:32.780895Z",
     "iopub.status.idle": "2023-10-25T07:49:32.790370Z",
     "shell.execute_reply": "2023-10-25T07:49:32.788833Z"
    },
    "papermill": {
     "duration": 0.075439,
     "end_time": "2023-10-25T07:49:32.793154",
     "exception": false,
     "start_time": "2023-10-25T07:49:32.717715",
     "status": "completed"
    },
    "tags": []
   },
   "outputs": [],
   "source": [
    "today_date = df[\"InvoiceDate\"].max() + pd.Timedelta(days = 2)"
   ]
  },
  {
   "cell_type": "markdown",
   "id": "458c78fc",
   "metadata": {
    "papermill": {
     "duration": 0.059215,
     "end_time": "2023-10-25T07:49:32.911997",
     "exception": false,
     "start_time": "2023-10-25T07:49:32.852782",
     "status": "completed"
    },
    "tags": []
   },
   "source": [
    "<div style=\"border-radius:10px; border:#6B8BA0 solid; padding: 15px; background-color: #F2EADF; font-size:100%; text-align:left\">\n",
    "\n",
    "<h3 align=\"left\"><font color='#6B8BA0'>🗨️ Comment: </font></h3>\n",
    "    \n",
    "* A data based on historical records, so we cannot look at it in terms of the current date. We can add a few days to the maximum date on which the data was generated and use it as a reference. This way, we can use it to create metrics."
   ]
  },
  {
   "cell_type": "code",
   "execution_count": 24,
   "id": "4409dcae",
   "metadata": {
    "execution": {
     "iopub.execute_input": "2023-10-25T07:49:33.035106Z",
     "iopub.status.busy": "2023-10-25T07:49:33.034637Z",
     "iopub.status.idle": "2023-10-25T07:49:33.042127Z",
     "shell.execute_reply": "2023-10-25T07:49:33.040929Z"
    },
    "papermill": {
     "duration": 0.072782,
     "end_time": "2023-10-25T07:49:33.044997",
     "exception": false,
     "start_time": "2023-10-25T07:49:32.972215",
     "status": "completed"
    },
    "tags": []
   },
   "outputs": [
    {
     "data": {
      "text/plain": [
       "pandas._libs.tslibs.timestamps.Timestamp"
      ]
     },
     "execution_count": 24,
     "metadata": {},
     "output_type": "execute_result"
    }
   ],
   "source": [
    "type(today_date)"
   ]
  },
  {
   "cell_type": "code",
   "execution_count": 25,
   "id": "8a605df2",
   "metadata": {
    "execution": {
     "iopub.execute_input": "2023-10-25T07:49:33.170187Z",
     "iopub.status.busy": "2023-10-25T07:49:33.169284Z",
     "iopub.status.idle": "2023-10-25T07:49:34.673255Z",
     "shell.execute_reply": "2023-10-25T07:49:34.672000Z"
    },
    "papermill": {
     "duration": 1.569544,
     "end_time": "2023-10-25T07:49:34.676398",
     "exception": false,
     "start_time": "2023-10-25T07:49:33.106854",
     "status": "completed"
    },
    "tags": []
   },
   "outputs": [],
   "source": [
    "rfm = df.groupby('Customer ID').agg({'InvoiceDate': lambda x: (today_date - x.max()).days,\n",
    "                                     'Invoice': lambda x: x.nunique(),\n",
    "                                     'TotalPrice': lambda x: x.sum()})"
   ]
  },
  {
   "cell_type": "markdown",
   "id": "264c3f19",
   "metadata": {
    "papermill": {
     "duration": 0.059803,
     "end_time": "2023-10-25T07:49:34.795287",
     "exception": false,
     "start_time": "2023-10-25T07:49:34.735484",
     "status": "completed"
    },
    "tags": []
   },
   "source": [
    "<div style=\"border-radius:10px; border:#D0C2F0 solid; padding: 15px; background-color: #FFF0F4; font-size:100%; text-align:left\">\n",
    "\n",
    "<h3 align=\"left\"><font color='#5E5273'>📄 Notes:</font></h3>\n",
    "\n",
    "1. `df.groupby('Customer ID')`: First, you group your DataFrame, 'df,' by the 'Customer ID' column. This allows you to separate transactions for each customer into distinct groups.\n",
    "\n",
    "2. `agg()`: After the grouping, you use the `agg()` function to perform custom calculations on each customer group. This function is used to process the grouped data.\n",
    "\n",
    "3. `{'InvoiceDate': lambda x: (today_date - x.max()).days, ...}`: This section defines how each calculation should be performed. Here, a dictionary is used. Each key represents the name of the calculation to be applied to the grouped data. For example, 'InvoiceDate' is a key, and its corresponding value is a lambda function.\n",
    "\n",
    "4. `lambda x: (today_date - x.max()).days`: This expression explains the operation assigned to the 'InvoiceDate' key. The `lambda` expression creates an anonymous function. 'x' represents the data in the 'InvoiceDate' column for each customer. This lambda function calculates the number of days elapsed since the customer's last transaction date. 'today_date' should represent the current date.\n",
    "\n",
    "As a result, the code calculates the following metrics for each customer:\n",
    "- **InvoiceDate**: The number of days since the customer's last transaction date.\n",
    "- **Invoice**: The total count of unique transactions made by the customer.\n",
    "- **TotalPrice**: The total monetary value of the customer's transactions.\n",
    "\n",
    "In the end, these metrics are calculated for each customer and returned as a grouped DataFrame. This structure provides valuable data that can be used to segment customers for RFM analysis (Recency, Frequency, Monetary) or to examine customer behavior."
   ]
  },
  {
   "cell_type": "code",
   "execution_count": 26,
   "id": "0b5af0d8",
   "metadata": {
    "execution": {
     "iopub.execute_input": "2023-10-25T07:49:34.917217Z",
     "iopub.status.busy": "2023-10-25T07:49:34.916837Z",
     "iopub.status.idle": "2023-10-25T07:49:34.928233Z",
     "shell.execute_reply": "2023-10-25T07:49:34.926977Z"
    },
    "papermill": {
     "duration": 0.074901,
     "end_time": "2023-10-25T07:49:34.930483",
     "exception": false,
     "start_time": "2023-10-25T07:49:34.855582",
     "status": "completed"
    },
    "tags": []
   },
   "outputs": [
    {
     "data": {
      "text/html": [
       "<div>\n",
       "<style scoped>\n",
       "    .dataframe tbody tr th:only-of-type {\n",
       "        vertical-align: middle;\n",
       "    }\n",
       "\n",
       "    .dataframe tbody tr th {\n",
       "        vertical-align: top;\n",
       "    }\n",
       "\n",
       "    .dataframe thead th {\n",
       "        text-align: right;\n",
       "    }\n",
       "</style>\n",
       "<table border=\"1\" class=\"dataframe\">\n",
       "  <thead>\n",
       "    <tr style=\"text-align: right;\">\n",
       "      <th></th>\n",
       "      <th>InvoiceDate</th>\n",
       "      <th>Invoice</th>\n",
       "      <th>TotalPrice</th>\n",
       "    </tr>\n",
       "    <tr>\n",
       "      <th>Customer ID</th>\n",
       "      <th></th>\n",
       "      <th></th>\n",
       "      <th></th>\n",
       "    </tr>\n",
       "  </thead>\n",
       "  <tbody>\n",
       "    <tr>\n",
       "      <th>12346.00000</th>\n",
       "      <td>166</td>\n",
       "      <td>11</td>\n",
       "      <td>372.86000</td>\n",
       "    </tr>\n",
       "    <tr>\n",
       "      <th>12347.00000</th>\n",
       "      <td>4</td>\n",
       "      <td>2</td>\n",
       "      <td>1323.32000</td>\n",
       "    </tr>\n",
       "    <tr>\n",
       "      <th>12348.00000</th>\n",
       "      <td>75</td>\n",
       "      <td>1</td>\n",
       "      <td>222.16000</td>\n",
       "    </tr>\n",
       "    <tr>\n",
       "      <th>12349.00000</th>\n",
       "      <td>44</td>\n",
       "      <td>3</td>\n",
       "      <td>2671.14000</td>\n",
       "    </tr>\n",
       "    <tr>\n",
       "      <th>12351.00000</th>\n",
       "      <td>12</td>\n",
       "      <td>1</td>\n",
       "      <td>300.93000</td>\n",
       "    </tr>\n",
       "  </tbody>\n",
       "</table>\n",
       "</div>"
      ],
      "text/plain": [
       "             InvoiceDate  Invoice  TotalPrice\n",
       "Customer ID                                  \n",
       "12346.00000          166       11   372.86000\n",
       "12347.00000            4        2  1323.32000\n",
       "12348.00000           75        1   222.16000\n",
       "12349.00000           44        3  2671.14000\n",
       "12351.00000           12        1   300.93000"
      ]
     },
     "execution_count": 26,
     "metadata": {},
     "output_type": "execute_result"
    }
   ],
   "source": [
    "rfm.head()"
   ]
  },
  {
   "cell_type": "code",
   "execution_count": 27,
   "id": "ae630343",
   "metadata": {
    "execution": {
     "iopub.execute_input": "2023-10-25T07:49:35.054284Z",
     "iopub.status.busy": "2023-10-25T07:49:35.052988Z",
     "iopub.status.idle": "2023-10-25T07:49:35.059698Z",
     "shell.execute_reply": "2023-10-25T07:49:35.058507Z"
    },
    "papermill": {
     "duration": 0.071792,
     "end_time": "2023-10-25T07:49:35.062294",
     "exception": false,
     "start_time": "2023-10-25T07:49:34.990502",
     "status": "completed"
    },
    "tags": []
   },
   "outputs": [],
   "source": [
    "rfm.columns = ['recency', 'frequency', 'monetary'] # since these columns we've created are RFM metrics, let's set their names."
   ]
  },
  {
   "cell_type": "code",
   "execution_count": 28,
   "id": "431dcc64",
   "metadata": {
    "execution": {
     "iopub.execute_input": "2023-10-25T07:49:35.183902Z",
     "iopub.status.busy": "2023-10-25T07:49:35.183489Z",
     "iopub.status.idle": "2023-10-25T07:49:35.194973Z",
     "shell.execute_reply": "2023-10-25T07:49:35.193744Z"
    },
    "papermill": {
     "duration": 0.075976,
     "end_time": "2023-10-25T07:49:35.197739",
     "exception": false,
     "start_time": "2023-10-25T07:49:35.121763",
     "status": "completed"
    },
    "tags": []
   },
   "outputs": [
    {
     "data": {
      "text/html": [
       "<div>\n",
       "<style scoped>\n",
       "    .dataframe tbody tr th:only-of-type {\n",
       "        vertical-align: middle;\n",
       "    }\n",
       "\n",
       "    .dataframe tbody tr th {\n",
       "        vertical-align: top;\n",
       "    }\n",
       "\n",
       "    .dataframe thead th {\n",
       "        text-align: right;\n",
       "    }\n",
       "</style>\n",
       "<table border=\"1\" class=\"dataframe\">\n",
       "  <thead>\n",
       "    <tr style=\"text-align: right;\">\n",
       "      <th></th>\n",
       "      <th>recency</th>\n",
       "      <th>frequency</th>\n",
       "      <th>monetary</th>\n",
       "    </tr>\n",
       "    <tr>\n",
       "      <th>Customer ID</th>\n",
       "      <th></th>\n",
       "      <th></th>\n",
       "      <th></th>\n",
       "    </tr>\n",
       "  </thead>\n",
       "  <tbody>\n",
       "    <tr>\n",
       "      <th>12346.00000</th>\n",
       "      <td>166</td>\n",
       "      <td>11</td>\n",
       "      <td>372.86000</td>\n",
       "    </tr>\n",
       "    <tr>\n",
       "      <th>12347.00000</th>\n",
       "      <td>4</td>\n",
       "      <td>2</td>\n",
       "      <td>1323.32000</td>\n",
       "    </tr>\n",
       "    <tr>\n",
       "      <th>12348.00000</th>\n",
       "      <td>75</td>\n",
       "      <td>1</td>\n",
       "      <td>222.16000</td>\n",
       "    </tr>\n",
       "    <tr>\n",
       "      <th>12349.00000</th>\n",
       "      <td>44</td>\n",
       "      <td>3</td>\n",
       "      <td>2671.14000</td>\n",
       "    </tr>\n",
       "    <tr>\n",
       "      <th>12351.00000</th>\n",
       "      <td>12</td>\n",
       "      <td>1</td>\n",
       "      <td>300.93000</td>\n",
       "    </tr>\n",
       "  </tbody>\n",
       "</table>\n",
       "</div>"
      ],
      "text/plain": [
       "             recency  frequency   monetary\n",
       "Customer ID                               \n",
       "12346.00000      166         11  372.86000\n",
       "12347.00000        4          2 1323.32000\n",
       "12348.00000       75          1  222.16000\n",
       "12349.00000       44          3 2671.14000\n",
       "12351.00000       12          1  300.93000"
      ]
     },
     "execution_count": 28,
     "metadata": {},
     "output_type": "execute_result"
    }
   ],
   "source": [
    "rfm.head()"
   ]
  },
  {
   "cell_type": "code",
   "execution_count": 29,
   "id": "655bfff9",
   "metadata": {
    "execution": {
     "iopub.execute_input": "2023-10-25T07:49:35.323485Z",
     "iopub.status.busy": "2023-10-25T07:49:35.323096Z",
     "iopub.status.idle": "2023-10-25T07:49:35.344986Z",
     "shell.execute_reply": "2023-10-25T07:49:35.344099Z"
    },
    "papermill": {
     "duration": 0.088557,
     "end_time": "2023-10-25T07:49:35.347361",
     "exception": false,
     "start_time": "2023-10-25T07:49:35.258804",
     "status": "completed"
    },
    "tags": []
   },
   "outputs": [
    {
     "data": {
      "text/html": [
       "<div>\n",
       "<style scoped>\n",
       "    .dataframe tbody tr th:only-of-type {\n",
       "        vertical-align: middle;\n",
       "    }\n",
       "\n",
       "    .dataframe tbody tr th {\n",
       "        vertical-align: top;\n",
       "    }\n",
       "\n",
       "    .dataframe thead th {\n",
       "        text-align: right;\n",
       "    }\n",
       "</style>\n",
       "<table border=\"1\" class=\"dataframe\">\n",
       "  <thead>\n",
       "    <tr style=\"text-align: right;\">\n",
       "      <th></th>\n",
       "      <th>count</th>\n",
       "      <th>mean</th>\n",
       "      <th>std</th>\n",
       "      <th>min</th>\n",
       "      <th>25%</th>\n",
       "      <th>50%</th>\n",
       "      <th>75%</th>\n",
       "      <th>max</th>\n",
       "    </tr>\n",
       "  </thead>\n",
       "  <tbody>\n",
       "    <tr>\n",
       "      <th>recency</th>\n",
       "      <td>4314.00000</td>\n",
       "      <td>92.26912</td>\n",
       "      <td>96.94348</td>\n",
       "      <td>2.00000</td>\n",
       "      <td>19.00000</td>\n",
       "      <td>54.00000</td>\n",
       "      <td>137.00000</td>\n",
       "      <td>375.00000</td>\n",
       "    </tr>\n",
       "    <tr>\n",
       "      <th>frequency</th>\n",
       "      <td>4314.00000</td>\n",
       "      <td>4.45410</td>\n",
       "      <td>8.16866</td>\n",
       "      <td>1.00000</td>\n",
       "      <td>1.00000</td>\n",
       "      <td>2.00000</td>\n",
       "      <td>5.00000</td>\n",
       "      <td>205.00000</td>\n",
       "    </tr>\n",
       "    <tr>\n",
       "      <th>monetary</th>\n",
       "      <td>4314.00000</td>\n",
       "      <td>2047.28866</td>\n",
       "      <td>8912.52324</td>\n",
       "      <td>0.00000</td>\n",
       "      <td>307.95000</td>\n",
       "      <td>705.55000</td>\n",
       "      <td>1722.80250</td>\n",
       "      <td>349164.35000</td>\n",
       "    </tr>\n",
       "  </tbody>\n",
       "</table>\n",
       "</div>"
      ],
      "text/plain": [
       "               count       mean        std     min       25%       50%  \\\n",
       "recency   4314.00000   92.26912   96.94348 2.00000  19.00000  54.00000   \n",
       "frequency 4314.00000    4.45410    8.16866 1.00000   1.00000   2.00000   \n",
       "monetary  4314.00000 2047.28866 8912.52324 0.00000 307.95000 705.55000   \n",
       "\n",
       "                 75%          max  \n",
       "recency    137.00000    375.00000  \n",
       "frequency    5.00000    205.00000  \n",
       "monetary  1722.80250 349164.35000  "
      ]
     },
     "execution_count": 29,
     "metadata": {},
     "output_type": "execute_result"
    }
   ],
   "source": [
    "rfm.describe().T"
   ]
  },
  {
   "cell_type": "code",
   "execution_count": 30,
   "id": "7b3cc022",
   "metadata": {
    "execution": {
     "iopub.execute_input": "2023-10-25T07:49:35.472962Z",
     "iopub.status.busy": "2023-10-25T07:49:35.472493Z",
     "iopub.status.idle": "2023-10-25T07:49:35.479697Z",
     "shell.execute_reply": "2023-10-25T07:49:35.478565Z"
    },
    "papermill": {
     "duration": 0.072746,
     "end_time": "2023-10-25T07:49:35.482000",
     "exception": false,
     "start_time": "2023-10-25T07:49:35.409254",
     "status": "completed"
    },
    "tags": []
   },
   "outputs": [],
   "source": [
    "rfm = rfm[rfm[\"monetary\"] > 0] # the minimum value of monetary is 0, and this is not desired."
   ]
  },
  {
   "cell_type": "code",
   "execution_count": 31,
   "id": "5e2a511a",
   "metadata": {
    "execution": {
     "iopub.execute_input": "2023-10-25T07:49:35.608450Z",
     "iopub.status.busy": "2023-10-25T07:49:35.608067Z",
     "iopub.status.idle": "2023-10-25T07:49:35.616172Z",
     "shell.execute_reply": "2023-10-25T07:49:35.614700Z"
    },
    "papermill": {
     "duration": 0.074779,
     "end_time": "2023-10-25T07:49:35.619024",
     "exception": false,
     "start_time": "2023-10-25T07:49:35.544245",
     "status": "completed"
    },
    "tags": []
   },
   "outputs": [
    {
     "data": {
      "text/plain": [
       "(4312, 3)"
      ]
     },
     "execution_count": 31,
     "metadata": {},
     "output_type": "execute_result"
    }
   ],
   "source": [
    "rfm.shape # 4312 row , 3  column"
   ]
  },
  {
   "cell_type": "markdown",
   "id": "79a4f0ee",
   "metadata": {
    "papermill": {
     "duration": 0.061666,
     "end_time": "2023-10-25T07:49:35.742445",
     "exception": false,
     "start_time": "2023-10-25T07:49:35.680779",
     "status": "completed"
    },
    "tags": []
   },
   "source": [
    "<a id = \"11\"></a><br>\n",
    "### <p style=\"font-family:JetBrains Mono; font-weight:bold; letter-spacing: 2px; color:#045F5F; font-size:140%; text-align:left;padding: 0px; border-bottom: 3px solid\">Calculating RFM Scores</p>"
   ]
  },
  {
   "cell_type": "code",
   "execution_count": 32,
   "id": "ce2c68c3",
   "metadata": {
    "execution": {
     "iopub.execute_input": "2023-10-25T07:49:35.868328Z",
     "iopub.status.busy": "2023-10-25T07:49:35.867492Z",
     "iopub.status.idle": "2023-10-25T07:49:35.878590Z",
     "shell.execute_reply": "2023-10-25T07:49:35.877394Z"
    },
    "papermill": {
     "duration": 0.076425,
     "end_time": "2023-10-25T07:49:35.881297",
     "exception": false,
     "start_time": "2023-10-25T07:49:35.804872",
     "status": "completed"
    },
    "tags": []
   },
   "outputs": [],
   "source": [
    "rfm[\"recency_score\"] = pd.qcut(rfm['recency'], 5, labels=[5, 4, 3, 2, 1])"
   ]
  },
  {
   "cell_type": "markdown",
   "id": "a13ffedc",
   "metadata": {
    "papermill": {
     "duration": 0.062718,
     "end_time": "2023-10-25T07:49:36.004374",
     "exception": false,
     "start_time": "2023-10-25T07:49:35.941656",
     "status": "completed"
    },
    "tags": []
   },
   "source": [
    "<div style=\"border-radius:10px; border:#D0C2F0 solid; padding: 15px; background-color: #FFF0F4; font-size:100%; text-align:left\">\n",
    "\n",
    "<h3 align=\"left\"><font color='#5E5273'>📄 Notes:</font></h3>\n",
    "    \n",
    "- `pd.qcut(rfm['recency'], 5, labels=[5, 4, 3, 2, 1])`: This line of code is used to create a new column called \"recency_score\" in the DataFrame \"rfm.\" It's designed to assign scores to the \"recency\" metric using a process called quantile-based binning.\n",
    "\n",
    "    - `pd.qcut()` is a function that divides a dataset into quantiles or quartiles, ensuring that each bin has roughly the same number of data points.\n",
    "\n",
    "    - `rfm['recency']` refers to the \"recency\" metric that you've calculated previously.\n",
    "\n",
    "    - `5` indicates that you want to split the data into five equal parts or quantiles.\n",
    "\n",
    "    - `labels=[5, 4, 3, 2, 1]` is a list of labels assigned to each quantile. In this specific case, the highest recency values will be labeled as '5,' and as the recency values decrease, the labels will decrease from '5' to '1.'\n",
    "\n",
    "The reason for doing this is to standardize and make the recency values more interpretable. For example, when one value is 165 and another is 2, it's challenging to establish a meaningful relationship between them. By applying this quantile-based ranking, you are essentially categorizing the recency values into five buckets based on their distribution. Additionally, for the \"recency\" metric, the labels are arranged in reverse order because in this context, smaller values are considered more valuable."
   ]
  },
  {
   "cell_type": "code",
   "execution_count": 33,
   "id": "d910b4c5",
   "metadata": {
    "execution": {
     "iopub.execute_input": "2023-10-25T07:49:36.129831Z",
     "iopub.status.busy": "2023-10-25T07:49:36.129020Z",
     "iopub.status.idle": "2023-10-25T07:49:36.143418Z",
     "shell.execute_reply": "2023-10-25T07:49:36.141927Z"
    },
    "papermill": {
     "duration": 0.080192,
     "end_time": "2023-10-25T07:49:36.146675",
     "exception": false,
     "start_time": "2023-10-25T07:49:36.066483",
     "status": "completed"
    },
    "tags": []
   },
   "outputs": [],
   "source": [
    "# 0-100, 0-20, 20-40, 40-60, 60-80, 80-100 percentiles\n",
    "\n",
    "rfm[\"frequency_score\"] = pd.qcut(rfm['frequency'].rank(method=\"first\"), 5, labels=[1, 2, 3, 4, 5])"
   ]
  },
  {
   "cell_type": "markdown",
   "id": "2e1a5b1c",
   "metadata": {
    "papermill": {
     "duration": 0.06064,
     "end_time": "2023-10-25T07:49:36.268891",
     "exception": false,
     "start_time": "2023-10-25T07:49:36.208251",
     "status": "completed"
    },
    "tags": []
   },
   "source": [
    "<div style=\"border-radius:10px; border:#D0C2F0 solid; padding: 15px; background-color: #FFF0F4; font-size:100%; text-align:left\">\n",
    "\n",
    "<h3 align=\"left\"><font color='#5E5273'>📄 Notes:</font></h3>\n",
    "\n",
    "- `rfm['frequency']:` This part refers to a column (or metric) called \"frequency\" in a DataFrame named \"rfm.\" It represents how frequently customers have engaged in transactions.\n",
    "\n",
    "- `.rank(method='first'):` This segment performs the ranking process. The \"rank()\" function orders each value in a data series. The \"method='first'\" parameter specifies which of two items with the same value should come first when ranking them. This is used to deal with repeated values in the data.\n",
    "\n",
    "For example, if two customers have the same \"frequency\" value, using \"method='first'\" ensures that the first occurring customer receives a higher ranking.\n",
    "\n",
    "As a result, this expression creates ranked values for the \"frequency\" metric and, based on these ranked values, generates a new column called \"frequency_score\" by performing quantile-based binning. This categorizes customers into five different categories based on their transaction frequency."
   ]
  },
  {
   "cell_type": "code",
   "execution_count": 34,
   "id": "81bc750f",
   "metadata": {
    "execution": {
     "iopub.execute_input": "2023-10-25T07:49:36.392316Z",
     "iopub.status.busy": "2023-10-25T07:49:36.391819Z",
     "iopub.status.idle": "2023-10-25T07:49:36.402195Z",
     "shell.execute_reply": "2023-10-25T07:49:36.401119Z"
    },
    "papermill": {
     "duration": 0.0761,
     "end_time": "2023-10-25T07:49:36.405101",
     "exception": false,
     "start_time": "2023-10-25T07:49:36.329001",
     "status": "completed"
    },
    "tags": []
   },
   "outputs": [],
   "source": [
    "rfm[\"monetary_score\"] = pd.qcut(rfm['monetary'], 5, labels=[1, 2, 3, 4, 5])"
   ]
  },
  {
   "cell_type": "code",
   "execution_count": 35,
   "id": "9be2b211",
   "metadata": {
    "execution": {
     "iopub.execute_input": "2023-10-25T07:49:36.535534Z",
     "iopub.status.busy": "2023-10-25T07:49:36.535120Z",
     "iopub.status.idle": "2023-10-25T07:49:36.544856Z",
     "shell.execute_reply": "2023-10-25T07:49:36.543588Z"
    },
    "papermill": {
     "duration": 0.076761,
     "end_time": "2023-10-25T07:49:36.547921",
     "exception": false,
     "start_time": "2023-10-25T07:49:36.471160",
     "status": "completed"
    },
    "tags": []
   },
   "outputs": [],
   "source": [
    "rfm[\"RFM_SCORE\"] = (rfm['recency_score'].astype(str) +\n",
    "                    rfm['frequency_score'].astype(str))"
   ]
  },
  {
   "cell_type": "code",
   "execution_count": 36,
   "id": "a27aa93c",
   "metadata": {
    "execution": {
     "iopub.execute_input": "2023-10-25T07:49:36.680739Z",
     "iopub.status.busy": "2023-10-25T07:49:36.680331Z",
     "iopub.status.idle": "2023-10-25T07:49:36.698672Z",
     "shell.execute_reply": "2023-10-25T07:49:36.697296Z"
    },
    "papermill": {
     "duration": 0.088136,
     "end_time": "2023-10-25T07:49:36.701637",
     "exception": false,
     "start_time": "2023-10-25T07:49:36.613501",
     "status": "completed"
    },
    "tags": []
   },
   "outputs": [
    {
     "data": {
      "text/html": [
       "<div>\n",
       "<style scoped>\n",
       "    .dataframe tbody tr th:only-of-type {\n",
       "        vertical-align: middle;\n",
       "    }\n",
       "\n",
       "    .dataframe tbody tr th {\n",
       "        vertical-align: top;\n",
       "    }\n",
       "\n",
       "    .dataframe thead th {\n",
       "        text-align: right;\n",
       "    }\n",
       "</style>\n",
       "<table border=\"1\" class=\"dataframe\">\n",
       "  <thead>\n",
       "    <tr style=\"text-align: right;\">\n",
       "      <th></th>\n",
       "      <th>recency</th>\n",
       "      <th>frequency</th>\n",
       "      <th>monetary</th>\n",
       "      <th>recency_score</th>\n",
       "      <th>frequency_score</th>\n",
       "      <th>monetary_score</th>\n",
       "      <th>RFM_SCORE</th>\n",
       "    </tr>\n",
       "    <tr>\n",
       "      <th>Customer ID</th>\n",
       "      <th></th>\n",
       "      <th></th>\n",
       "      <th></th>\n",
       "      <th></th>\n",
       "      <th></th>\n",
       "      <th></th>\n",
       "      <th></th>\n",
       "    </tr>\n",
       "  </thead>\n",
       "  <tbody>\n",
       "    <tr>\n",
       "      <th>12415.00000</th>\n",
       "      <td>12</td>\n",
       "      <td>7</td>\n",
       "      <td>19543.84000</td>\n",
       "      <td>5</td>\n",
       "      <td>5</td>\n",
       "      <td>5</td>\n",
       "      <td>55</td>\n",
       "    </tr>\n",
       "    <tr>\n",
       "      <th>12431.00000</th>\n",
       "      <td>10</td>\n",
       "      <td>13</td>\n",
       "      <td>4370.52000</td>\n",
       "      <td>5</td>\n",
       "      <td>5</td>\n",
       "      <td>5</td>\n",
       "      <td>55</td>\n",
       "    </tr>\n",
       "    <tr>\n",
       "      <th>12471.00000</th>\n",
       "      <td>11</td>\n",
       "      <td>49</td>\n",
       "      <td>20139.74000</td>\n",
       "      <td>5</td>\n",
       "      <td>5</td>\n",
       "      <td>5</td>\n",
       "      <td>55</td>\n",
       "    </tr>\n",
       "    <tr>\n",
       "      <th>12472.00000</th>\n",
       "      <td>6</td>\n",
       "      <td>13</td>\n",
       "      <td>11308.48000</td>\n",
       "      <td>5</td>\n",
       "      <td>5</td>\n",
       "      <td>5</td>\n",
       "      <td>55</td>\n",
       "    </tr>\n",
       "    <tr>\n",
       "      <th>12474.00000</th>\n",
       "      <td>15</td>\n",
       "      <td>13</td>\n",
       "      <td>5048.66000</td>\n",
       "      <td>5</td>\n",
       "      <td>5</td>\n",
       "      <td>5</td>\n",
       "      <td>55</td>\n",
       "    </tr>\n",
       "  </tbody>\n",
       "</table>\n",
       "</div>"
      ],
      "text/plain": [
       "             recency  frequency    monetary recency_score frequency_score  \\\n",
       "Customer ID                                                                 \n",
       "12415.00000       12          7 19543.84000             5               5   \n",
       "12431.00000       10         13  4370.52000             5               5   \n",
       "12471.00000       11         49 20139.74000             5               5   \n",
       "12472.00000        6         13 11308.48000             5               5   \n",
       "12474.00000       15         13  5048.66000             5               5   \n",
       "\n",
       "            monetary_score RFM_SCORE  \n",
       "Customer ID                           \n",
       "12415.00000              5        55  \n",
       "12431.00000              5        55  \n",
       "12471.00000              5        55  \n",
       "12472.00000              5        55  \n",
       "12474.00000              5        55  "
      ]
     },
     "execution_count": 36,
     "metadata": {},
     "output_type": "execute_result"
    }
   ],
   "source": [
    "rfm[rfm[\"RFM_SCORE\"] == \"55\"].head() # champion müşteriler, bizim için en değerli olanlar"
   ]
  },
  {
   "cell_type": "code",
   "execution_count": 37,
   "id": "6c0c809d",
   "metadata": {
    "execution": {
     "iopub.execute_input": "2023-10-25T07:49:36.829129Z",
     "iopub.status.busy": "2023-10-25T07:49:36.828699Z",
     "iopub.status.idle": "2023-10-25T07:49:36.849785Z",
     "shell.execute_reply": "2023-10-25T07:49:36.848395Z"
    },
    "papermill": {
     "duration": 0.088192,
     "end_time": "2023-10-25T07:49:36.852939",
     "exception": false,
     "start_time": "2023-10-25T07:49:36.764747",
     "status": "completed"
    },
    "tags": []
   },
   "outputs": [
    {
     "data": {
      "text/html": [
       "<div>\n",
       "<style scoped>\n",
       "    .dataframe tbody tr th:only-of-type {\n",
       "        vertical-align: middle;\n",
       "    }\n",
       "\n",
       "    .dataframe tbody tr th {\n",
       "        vertical-align: top;\n",
       "    }\n",
       "\n",
       "    .dataframe thead th {\n",
       "        text-align: right;\n",
       "    }\n",
       "</style>\n",
       "<table border=\"1\" class=\"dataframe\">\n",
       "  <thead>\n",
       "    <tr style=\"text-align: right;\">\n",
       "      <th></th>\n",
       "      <th>recency</th>\n",
       "      <th>frequency</th>\n",
       "      <th>monetary</th>\n",
       "      <th>recency_score</th>\n",
       "      <th>frequency_score</th>\n",
       "      <th>monetary_score</th>\n",
       "      <th>RFM_SCORE</th>\n",
       "    </tr>\n",
       "    <tr>\n",
       "      <th>Customer ID</th>\n",
       "      <th></th>\n",
       "      <th></th>\n",
       "      <th></th>\n",
       "      <th></th>\n",
       "      <th></th>\n",
       "      <th></th>\n",
       "      <th></th>\n",
       "    </tr>\n",
       "  </thead>\n",
       "  <tbody>\n",
       "    <tr>\n",
       "      <th>12355.00000</th>\n",
       "      <td>204</td>\n",
       "      <td>1</td>\n",
       "      <td>488.21000</td>\n",
       "      <td>1</td>\n",
       "      <td>1</td>\n",
       "      <td>2</td>\n",
       "      <td>11</td>\n",
       "    </tr>\n",
       "    <tr>\n",
       "      <th>12362.00000</th>\n",
       "      <td>375</td>\n",
       "      <td>1</td>\n",
       "      <td>130.00000</td>\n",
       "      <td>1</td>\n",
       "      <td>1</td>\n",
       "      <td>1</td>\n",
       "      <td>11</td>\n",
       "    </tr>\n",
       "    <tr>\n",
       "      <th>12366.00000</th>\n",
       "      <td>270</td>\n",
       "      <td>1</td>\n",
       "      <td>500.24000</td>\n",
       "      <td>1</td>\n",
       "      <td>1</td>\n",
       "      <td>2</td>\n",
       "      <td>11</td>\n",
       "    </tr>\n",
       "    <tr>\n",
       "      <th>12368.00000</th>\n",
       "      <td>265</td>\n",
       "      <td>1</td>\n",
       "      <td>917.70000</td>\n",
       "      <td>1</td>\n",
       "      <td>1</td>\n",
       "      <td>3</td>\n",
       "      <td>11</td>\n",
       "    </tr>\n",
       "    <tr>\n",
       "      <th>12378.00000</th>\n",
       "      <td>199</td>\n",
       "      <td>1</td>\n",
       "      <td>1407.70000</td>\n",
       "      <td>1</td>\n",
       "      <td>1</td>\n",
       "      <td>4</td>\n",
       "      <td>11</td>\n",
       "    </tr>\n",
       "  </tbody>\n",
       "</table>\n",
       "</div>"
      ],
      "text/plain": [
       "             recency  frequency   monetary recency_score frequency_score  \\\n",
       "Customer ID                                                                \n",
       "12355.00000      204          1  488.21000             1               1   \n",
       "12362.00000      375          1  130.00000             1               1   \n",
       "12366.00000      270          1  500.24000             1               1   \n",
       "12368.00000      265          1  917.70000             1               1   \n",
       "12378.00000      199          1 1407.70000             1               1   \n",
       "\n",
       "            monetary_score RFM_SCORE  \n",
       "Customer ID                           \n",
       "12355.00000              2        11  \n",
       "12362.00000              1        11  \n",
       "12366.00000              2        11  \n",
       "12368.00000              3        11  \n",
       "12378.00000              4        11  "
      ]
     },
     "execution_count": 37,
     "metadata": {},
     "output_type": "execute_result"
    }
   ],
   "source": [
    "rfm[rfm[\"RFM_SCORE\"] == \"11\"].head() # önemi düşük olan müşteriler"
   ]
  },
  {
   "cell_type": "markdown",
   "id": "30a9414f",
   "metadata": {
    "papermill": {
     "duration": 0.062525,
     "end_time": "2023-10-25T07:49:36.979172",
     "exception": false,
     "start_time": "2023-10-25T07:49:36.916647",
     "status": "completed"
    },
    "tags": []
   },
   "source": [
    "<div style=\"border-radius:10px; border:#6B8BA0 solid; padding: 15px; background-color: #F2EADF; font-size:100%; text-align:left\">\n",
    "\n",
    "<h3 align=\"left\"><font color='#6B8BA0'>🗨️ Comment: </font></h3>\n",
    "\n",
    "1. **Data Access**: Accessing customer spending data might be difficult or impossible.\n",
    "\n",
    "2. **Project Goals**: Project objectives vary. In some cases, the focus might be on encouraging repeat purchases, making \"Recency\" and \"Frequency\" more relevant.\n",
    "\n",
    "3. **Data Variability**: \"Monetary\" values can vary widely among customers and may carry less meaning compared to other metrics.\n",
    "\n",
    "4. **Segmentation Goals**: Goals for segmenting customers can differ between projects, and sometimes successful segmentation can be achieved without using the \"Monetary\" metric.\n",
    "\n",
    "In conclusion, the choice of which RFM metrics to use depends on the project's objectives and customer data. The decision to exclude the \"Monetary\" metric is made based on the project's specific needs and circumstances."
   ]
  },
  {
   "cell_type": "markdown",
   "id": "a91bdf68",
   "metadata": {
    "papermill": {
     "duration": 0.060632,
     "end_time": "2023-10-25T07:49:37.102511",
     "exception": false,
     "start_time": "2023-10-25T07:49:37.041879",
     "status": "completed"
    },
    "tags": []
   },
   "source": [
    "<a id = \"12\"></a><br>\n",
    "### <p style=\"font-family:JetBrains Mono; font-weight:bold; letter-spacing: 2px; color:#005b96; font-size:160%; text-align:left;padding: 0px; border-bottom: 3px solid\">Creating & Analysing RFM Segments</p>"
   ]
  },
  {
   "cell_type": "markdown",
   "id": "22cf1488",
   "metadata": {
    "papermill": {
     "duration": 0.060873,
     "end_time": "2023-10-25T07:49:37.224654",
     "exception": false,
     "start_time": "2023-10-25T07:49:37.163781",
     "status": "completed"
    },
    "tags": []
   },
   "source": [
    "<div style=\"border-radius: 10px; border: #6B8E23 solid; padding: 15px; background-color: #F5F5DC; font-size: 100%; text-align: left\">\n",
    "\n",
    "<h3 align=\"left\"><font color='#556B2F'>👀 Explanations of Segments: </font></h3>\n",
    "\n",
    "1. **Champions**: This segment represents loyal and high-value customers. Champions have made recent purchases (low Recency), shop frequently (high Frequency), and typically make high-value transactions (high Monetary). For marketers, this segment can be a focal point for increasing sales and retaining loyal customers.\n",
    "2. **At Risk**: The At Risk segment includes customers who were previously active but have taken some time to make their most recent purchase. Their Recency is high, Frequency is moderate, and Monetary value is average. Re-engagement strategies can be applied to potentially retain these customers as they are at risk of being lost.\n",
    "3. **Hibernating**: Hibernating represents customers who have remained inactive for an extended period, and their most recent purchases were made a long time ago. They have a very high Recency, low Frequency, and low Monetary value. Re-engagement strategies should be implemented for these customers as they have the potential to become active again.\n",
    "4. **Loyal Customers**: This segment includes customers who shop frequently and tend to make high-value purchases. Recency is low, Frequency is high, and Monetary value is also high. These customers are loyal and valuable, making it important to maintain their satisfaction and loyalty.\n",
    "5. **Cant Lose**: This segment consists of rare but high-value customers. Their Recency is low, Frequency is low, but their Monetary value is very high. While they may make fewer purchases, these contribute significantly. Efforts should be made to prevent losing these customers.\n",
    "6. **Need Attention**: The Need Attention segment covers customers who were previously active but took some time to make their most recent purchases. Their Recency is moderate, Frequency is low, and Monetary value is at a moderate level. It's important to pay attention to and reactivate these customers.\n",
    "7. **New Customers**: New Customers represent newly acquired customers. Their Recency is low, Frequency is low, and Monetary value is also low. Efforts should focus on acquiring and converting them into repeat customers.\n",
    "8. **Potential Loyalists**: This segment includes customers who make infrequent purchases but have recently made a transaction. Recency is low, Frequency is moderate, and Monetary value is at a moderate level. These customers have the potential to become loyal.\n",
    "9. **Promising**: Promising segment represents customers who made recent purchases but shop infrequently. Recency is low, Frequency is low, and Monetary value is low. Encouragement and strategies to increase their shopping activity are important.\n",
    "10. **About to Sleep**: The About to Sleep segment comprises customers who made recent purchases but shop infrequently. Their Recency is low, Frequency is low, and Monetary value is low. Re-activating and encouraging them to shop more is essential as they are potentially at risk of being lost."
   ]
  },
  {
   "cell_type": "code",
   "execution_count": 38,
   "id": "3f3e2ee4",
   "metadata": {
    "execution": {
     "iopub.execute_input": "2023-10-25T07:49:37.352126Z",
     "iopub.status.busy": "2023-10-25T07:49:37.350867Z",
     "iopub.status.idle": "2023-10-25T07:49:37.357474Z",
     "shell.execute_reply": "2023-10-25T07:49:37.356120Z"
    },
    "papermill": {
     "duration": 0.073186,
     "end_time": "2023-10-25T07:49:37.360065",
     "exception": false,
     "start_time": "2023-10-25T07:49:37.286879",
     "status": "completed"
    },
    "tags": []
   },
   "outputs": [],
   "source": [
    "# RFM's segment names;\n",
    "\n",
    "seg_map = {\n",
    "    r'[1-2][1-2]': 'hibernating',\n",
    "    r'[1-2][3-4]': 'at_Risk',\n",
    "    r'[1-2]5': 'cant_loose',\n",
    "    r'3[1-2]': 'about_to_sleep',\n",
    "    r'33': 'need_attention',\n",
    "    r'[3-4][4-5]': 'loyal_customers',\n",
    "    r'41': 'promising',\n",
    "    r'51': 'new_customers',\n",
    "    r'[4-5][2-3]': 'potential_loyalists',\n",
    "    r'5[4-5]': 'champions'\n",
    "}"
   ]
  },
  {
   "cell_type": "code",
   "execution_count": 39,
   "id": "3859f4c0",
   "metadata": {
    "execution": {
     "iopub.execute_input": "2023-10-25T07:49:37.485451Z",
     "iopub.status.busy": "2023-10-25T07:49:37.484968Z",
     "iopub.status.idle": "2023-10-25T07:49:37.588037Z",
     "shell.execute_reply": "2023-10-25T07:49:37.586481Z"
    },
    "papermill": {
     "duration": 0.169155,
     "end_time": "2023-10-25T07:49:37.591341",
     "exception": false,
     "start_time": "2023-10-25T07:49:37.422186",
     "status": "completed"
    },
    "tags": []
   },
   "outputs": [],
   "source": [
    "rfm['segment'] = rfm['RFM_SCORE'].replace(seg_map, regex=True)"
   ]
  },
  {
   "cell_type": "markdown",
   "id": "2d573c8d",
   "metadata": {
    "papermill": {
     "duration": 0.066717,
     "end_time": "2023-10-25T07:49:37.721966",
     "exception": false,
     "start_time": "2023-10-25T07:49:37.655249",
     "status": "completed"
    },
    "tags": []
   },
   "source": [
    "<div style=\"border-radius:10px; border:#D0C2F0 solid; padding: 15px; background-color: #FFF0F4; font-size:100%; text-align:left\">\n",
    "\n",
    "<h3 align=\"left\"><font color='#5E5273'>📄 Notes:</font></h3>\n",
    "\n",
    "1. Expressions like `r'[1-2][1-2]'`, `r'[1-2][3-4]'`, `r'[1-2]5`: These are regular expressions. Regular expressions are powerful tools used to define and find text matches. These expressions are designed to correspond to different combinations of RFM scores. For instance, `r'[1-2][1-2]'` represents customers with a \"Recency\" score of 1 or 2 and a \"Frequency\" score of 1 or 2.\n",
    "\n",
    "2. Values like `'hibernating'`, `'at_Risk'`, `'cant_loose'`: These values represent the segment names assigned to each combination of RFM scores. In other words, customers with a specific combination of RFM scores determine which segment they belong to based on these values.\n",
    "\n",
    "3. `rfm['segment'] = rfm['RFM_SCORE'].replace(seg_map, regex=True)`: In this line, it transforms RFM scores in the \"RFM_SCORE\" column into the segment names specified in the \"seg_map\" using regular expression-based mapping. The `regex=True` parameter ensures that this transformation occurs using regular expressions. This means that RFM score combinations matching regular expressions are identified, and these combinations are converted to the specified segment names.\n",
    "\n",
    "In conclusion, this code snippet uses regular expressions and a segmentation map to categorize the results of RFM analysis into segments. Each combination of RFM scores is assigned to a specific customer segment, enabling customers to be grouped into different categories, which can be used for marketing or strategic decision-making."
   ]
  },
  {
   "cell_type": "code",
   "execution_count": 40,
   "id": "68c2867b",
   "metadata": {
    "execution": {
     "iopub.execute_input": "2023-10-25T07:49:37.851153Z",
     "iopub.status.busy": "2023-10-25T07:49:37.850726Z",
     "iopub.status.idle": "2023-10-25T07:49:37.867824Z",
     "shell.execute_reply": "2023-10-25T07:49:37.866536Z"
    },
    "papermill": {
     "duration": 0.083586,
     "end_time": "2023-10-25T07:49:37.870457",
     "exception": false,
     "start_time": "2023-10-25T07:49:37.786871",
     "status": "completed"
    },
    "tags": []
   },
   "outputs": [
    {
     "data": {
      "text/html": [
       "<div>\n",
       "<style scoped>\n",
       "    .dataframe tbody tr th:only-of-type {\n",
       "        vertical-align: middle;\n",
       "    }\n",
       "\n",
       "    .dataframe tbody tr th {\n",
       "        vertical-align: top;\n",
       "    }\n",
       "\n",
       "    .dataframe thead th {\n",
       "        text-align: right;\n",
       "    }\n",
       "</style>\n",
       "<table border=\"1\" class=\"dataframe\">\n",
       "  <thead>\n",
       "    <tr style=\"text-align: right;\">\n",
       "      <th></th>\n",
       "      <th>recency</th>\n",
       "      <th>frequency</th>\n",
       "      <th>monetary</th>\n",
       "      <th>recency_score</th>\n",
       "      <th>frequency_score</th>\n",
       "      <th>monetary_score</th>\n",
       "      <th>RFM_SCORE</th>\n",
       "      <th>segment</th>\n",
       "    </tr>\n",
       "    <tr>\n",
       "      <th>Customer ID</th>\n",
       "      <th></th>\n",
       "      <th></th>\n",
       "      <th></th>\n",
       "      <th></th>\n",
       "      <th></th>\n",
       "      <th></th>\n",
       "      <th></th>\n",
       "      <th></th>\n",
       "    </tr>\n",
       "  </thead>\n",
       "  <tbody>\n",
       "    <tr>\n",
       "      <th>12346.00000</th>\n",
       "      <td>166</td>\n",
       "      <td>11</td>\n",
       "      <td>372.86000</td>\n",
       "      <td>2</td>\n",
       "      <td>5</td>\n",
       "      <td>2</td>\n",
       "      <td>25</td>\n",
       "      <td>cant_loose</td>\n",
       "    </tr>\n",
       "    <tr>\n",
       "      <th>12347.00000</th>\n",
       "      <td>4</td>\n",
       "      <td>2</td>\n",
       "      <td>1323.32000</td>\n",
       "      <td>5</td>\n",
       "      <td>2</td>\n",
       "      <td>4</td>\n",
       "      <td>52</td>\n",
       "      <td>potential_loyalists</td>\n",
       "    </tr>\n",
       "    <tr>\n",
       "      <th>12348.00000</th>\n",
       "      <td>75</td>\n",
       "      <td>1</td>\n",
       "      <td>222.16000</td>\n",
       "      <td>2</td>\n",
       "      <td>1</td>\n",
       "      <td>1</td>\n",
       "      <td>21</td>\n",
       "      <td>hibernating</td>\n",
       "    </tr>\n",
       "    <tr>\n",
       "      <th>12349.00000</th>\n",
       "      <td>44</td>\n",
       "      <td>3</td>\n",
       "      <td>2671.14000</td>\n",
       "      <td>3</td>\n",
       "      <td>3</td>\n",
       "      <td>5</td>\n",
       "      <td>33</td>\n",
       "      <td>need_attention</td>\n",
       "    </tr>\n",
       "    <tr>\n",
       "      <th>12351.00000</th>\n",
       "      <td>12</td>\n",
       "      <td>1</td>\n",
       "      <td>300.93000</td>\n",
       "      <td>5</td>\n",
       "      <td>1</td>\n",
       "      <td>2</td>\n",
       "      <td>51</td>\n",
       "      <td>new_customers</td>\n",
       "    </tr>\n",
       "  </tbody>\n",
       "</table>\n",
       "</div>"
      ],
      "text/plain": [
       "             recency  frequency   monetary recency_score frequency_score  \\\n",
       "Customer ID                                                                \n",
       "12346.00000      166         11  372.86000             2               5   \n",
       "12347.00000        4          2 1323.32000             5               2   \n",
       "12348.00000       75          1  222.16000             2               1   \n",
       "12349.00000       44          3 2671.14000             3               3   \n",
       "12351.00000       12          1  300.93000             5               1   \n",
       "\n",
       "            monetary_score RFM_SCORE              segment  \n",
       "Customer ID                                                \n",
       "12346.00000              2        25           cant_loose  \n",
       "12347.00000              4        52  potential_loyalists  \n",
       "12348.00000              1        21          hibernating  \n",
       "12349.00000              5        33       need_attention  \n",
       "12351.00000              2        51        new_customers  "
      ]
     },
     "execution_count": 40,
     "metadata": {},
     "output_type": "execute_result"
    }
   ],
   "source": [
    "rfm.head()"
   ]
  },
  {
   "cell_type": "code",
   "execution_count": 41,
   "id": "b74395df",
   "metadata": {
    "execution": {
     "iopub.execute_input": "2023-10-25T07:49:38.022164Z",
     "iopub.status.busy": "2023-10-25T07:49:38.020782Z",
     "iopub.status.idle": "2023-10-25T07:49:38.049416Z",
     "shell.execute_reply": "2023-10-25T07:49:38.048002Z"
    },
    "papermill": {
     "duration": 0.107071,
     "end_time": "2023-10-25T07:49:38.052181",
     "exception": false,
     "start_time": "2023-10-25T07:49:37.945110",
     "status": "completed"
    },
    "tags": []
   },
   "outputs": [
    {
     "data": {
      "text/html": [
       "<div>\n",
       "<style scoped>\n",
       "    .dataframe tbody tr th:only-of-type {\n",
       "        vertical-align: middle;\n",
       "    }\n",
       "\n",
       "    .dataframe tbody tr th {\n",
       "        vertical-align: top;\n",
       "    }\n",
       "\n",
       "    .dataframe thead tr th {\n",
       "        text-align: left;\n",
       "    }\n",
       "\n",
       "    .dataframe thead tr:last-of-type th {\n",
       "        text-align: right;\n",
       "    }\n",
       "</style>\n",
       "<table border=\"1\" class=\"dataframe\">\n",
       "  <thead>\n",
       "    <tr>\n",
       "      <th></th>\n",
       "      <th colspan=\"2\" halign=\"left\">recency</th>\n",
       "      <th colspan=\"2\" halign=\"left\">frequency</th>\n",
       "      <th colspan=\"2\" halign=\"left\">monetary</th>\n",
       "    </tr>\n",
       "    <tr>\n",
       "      <th></th>\n",
       "      <th>mean</th>\n",
       "      <th>count</th>\n",
       "      <th>mean</th>\n",
       "      <th>count</th>\n",
       "      <th>mean</th>\n",
       "      <th>count</th>\n",
       "    </tr>\n",
       "    <tr>\n",
       "      <th>segment</th>\n",
       "      <th></th>\n",
       "      <th></th>\n",
       "      <th></th>\n",
       "      <th></th>\n",
       "      <th></th>\n",
       "      <th></th>\n",
       "    </tr>\n",
       "  </thead>\n",
       "  <tbody>\n",
       "    <tr>\n",
       "      <th>about_to_sleep</th>\n",
       "      <td>54.81924</td>\n",
       "      <td>343</td>\n",
       "      <td>1.20117</td>\n",
       "      <td>343</td>\n",
       "      <td>441.32000</td>\n",
       "      <td>343</td>\n",
       "    </tr>\n",
       "    <tr>\n",
       "      <th>at_Risk</th>\n",
       "      <td>153.15548</td>\n",
       "      <td>611</td>\n",
       "      <td>3.07365</td>\n",
       "      <td>611</td>\n",
       "      <td>1188.87832</td>\n",
       "      <td>611</td>\n",
       "    </tr>\n",
       "    <tr>\n",
       "      <th>cant_loose</th>\n",
       "      <td>125.11688</td>\n",
       "      <td>77</td>\n",
       "      <td>9.11688</td>\n",
       "      <td>77</td>\n",
       "      <td>4099.45000</td>\n",
       "      <td>77</td>\n",
       "    </tr>\n",
       "    <tr>\n",
       "      <th>champions</th>\n",
       "      <td>8.11916</td>\n",
       "      <td>663</td>\n",
       "      <td>12.55354</td>\n",
       "      <td>663</td>\n",
       "      <td>6852.26417</td>\n",
       "      <td>663</td>\n",
       "    </tr>\n",
       "    <tr>\n",
       "      <th>hibernating</th>\n",
       "      <td>214.88473</td>\n",
       "      <td>1015</td>\n",
       "      <td>1.12611</td>\n",
       "      <td>1015</td>\n",
       "      <td>403.97784</td>\n",
       "      <td>1015</td>\n",
       "    </tr>\n",
       "    <tr>\n",
       "      <th>loyal_customers</th>\n",
       "      <td>37.28706</td>\n",
       "      <td>742</td>\n",
       "      <td>6.83019</td>\n",
       "      <td>742</td>\n",
       "      <td>2746.06735</td>\n",
       "      <td>742</td>\n",
       "    </tr>\n",
       "    <tr>\n",
       "      <th>need_attention</th>\n",
       "      <td>54.26570</td>\n",
       "      <td>207</td>\n",
       "      <td>2.44928</td>\n",
       "      <td>207</td>\n",
       "      <td>1060.35700</td>\n",
       "      <td>207</td>\n",
       "    </tr>\n",
       "    <tr>\n",
       "      <th>new_customers</th>\n",
       "      <td>9.58000</td>\n",
       "      <td>50</td>\n",
       "      <td>1.00000</td>\n",
       "      <td>50</td>\n",
       "      <td>386.19920</td>\n",
       "      <td>50</td>\n",
       "    </tr>\n",
       "    <tr>\n",
       "      <th>potential_loyalists</th>\n",
       "      <td>19.79304</td>\n",
       "      <td>517</td>\n",
       "      <td>2.01741</td>\n",
       "      <td>517</td>\n",
       "      <td>729.51099</td>\n",
       "      <td>517</td>\n",
       "    </tr>\n",
       "    <tr>\n",
       "      <th>promising</th>\n",
       "      <td>26.74713</td>\n",
       "      <td>87</td>\n",
       "      <td>1.00000</td>\n",
       "      <td>87</td>\n",
       "      <td>367.08678</td>\n",
       "      <td>87</td>\n",
       "    </tr>\n",
       "  </tbody>\n",
       "</table>\n",
       "</div>"
      ],
      "text/plain": [
       "                      recency       frequency         monetary      \n",
       "                         mean count      mean count       mean count\n",
       "segment                                                             \n",
       "about_to_sleep       54.81924   343   1.20117   343  441.32000   343\n",
       "at_Risk             153.15548   611   3.07365   611 1188.87832   611\n",
       "cant_loose          125.11688    77   9.11688    77 4099.45000    77\n",
       "champions             8.11916   663  12.55354   663 6852.26417   663\n",
       "hibernating         214.88473  1015   1.12611  1015  403.97784  1015\n",
       "loyal_customers      37.28706   742   6.83019   742 2746.06735   742\n",
       "need_attention       54.26570   207   2.44928   207 1060.35700   207\n",
       "new_customers         9.58000    50   1.00000    50  386.19920    50\n",
       "potential_loyalists  19.79304   517   2.01741   517  729.51099   517\n",
       "promising            26.74713    87   1.00000    87  367.08678    87"
      ]
     },
     "execution_count": 41,
     "metadata": {},
     "output_type": "execute_result"
    }
   ],
   "source": [
    "rfm[[\"segment\", \"recency\", \"frequency\", \"monetary\"]].groupby(\"segment\").agg([\"mean\", \"count\"])"
   ]
  },
  {
   "cell_type": "markdown",
   "id": "8be14475",
   "metadata": {
    "papermill": {
     "duration": 0.062898,
     "end_time": "2023-10-25T07:49:38.179088",
     "exception": false,
     "start_time": "2023-10-25T07:49:38.116190",
     "status": "completed"
    },
    "tags": []
   },
   "source": [
    "<div style=\"border-radius:10px; border:#6B8BA0 solid; padding: 15px; background-color: #F2EADF; font-size:100%; text-align:left\">\n",
    "\n",
    "<h3 align=\"left\"><font color='#6B8BA0'>🗨️ Comment: </font></h3>\n",
    "\n",
    "1. **Champions**: The Champions segment represents customers with a low average \"Recency\" value (8.12), a high \"Frequency\" value (12.55), and a significantly high \"Monetary\" value (6852.26) on average. Customers in this segment make frequent purchases and typically spend substantial amounts. This customer group consists of loyal and high-value customers. Marketing strategies can focus on retaining and increasing sales within this segment.\n",
    "\n",
    "2. **At Risk**: The At Risk segment includes customers with a relatively high average \"Recency\" value (153.16), a moderate \"Frequency\" value (3.07), and an average \"Monetary\" value (1188.88). Customers in this segment may have the potential for repeat purchases, but their last purchase might have occurred some time ago. Customer retention and reactivation strategies can be applied to this group.\n",
    "\n",
    "3. **Hibernating**: The Hibernating segment comprises customers with a very high average \"Recency\" value (214.88), low \"Frequency\" (1.13), and low \"Monetary\" value (403.98). These customers might not have shopped for an extended period, and their purchases may have lower values. Reactivation or re-engagement strategies can be considered for this segment."
   ]
  },
  {
   "cell_type": "code",
   "execution_count": 42,
   "id": "cd9082ec",
   "metadata": {
    "execution": {
     "iopub.execute_input": "2023-10-25T07:49:38.307206Z",
     "iopub.status.busy": "2023-10-25T07:49:38.306783Z",
     "iopub.status.idle": "2023-10-25T07:49:38.325272Z",
     "shell.execute_reply": "2023-10-25T07:49:38.324417Z"
    },
    "papermill": {
     "duration": 0.085478,
     "end_time": "2023-10-25T07:49:38.327630",
     "exception": false,
     "start_time": "2023-10-25T07:49:38.242152",
     "status": "completed"
    },
    "tags": []
   },
   "outputs": [
    {
     "data": {
      "text/html": [
       "<div>\n",
       "<style scoped>\n",
       "    .dataframe tbody tr th:only-of-type {\n",
       "        vertical-align: middle;\n",
       "    }\n",
       "\n",
       "    .dataframe tbody tr th {\n",
       "        vertical-align: top;\n",
       "    }\n",
       "\n",
       "    .dataframe thead th {\n",
       "        text-align: right;\n",
       "    }\n",
       "</style>\n",
       "<table border=\"1\" class=\"dataframe\">\n",
       "  <thead>\n",
       "    <tr style=\"text-align: right;\">\n",
       "      <th></th>\n",
       "      <th>recency</th>\n",
       "      <th>frequency</th>\n",
       "      <th>monetary</th>\n",
       "      <th>recency_score</th>\n",
       "      <th>frequency_score</th>\n",
       "      <th>monetary_score</th>\n",
       "      <th>RFM_SCORE</th>\n",
       "      <th>segment</th>\n",
       "    </tr>\n",
       "    <tr>\n",
       "      <th>Customer ID</th>\n",
       "      <th></th>\n",
       "      <th></th>\n",
       "      <th></th>\n",
       "      <th></th>\n",
       "      <th></th>\n",
       "      <th></th>\n",
       "      <th></th>\n",
       "      <th></th>\n",
       "    </tr>\n",
       "  </thead>\n",
       "  <tbody>\n",
       "    <tr>\n",
       "      <th>12346.00000</th>\n",
       "      <td>166</td>\n",
       "      <td>11</td>\n",
       "      <td>372.86000</td>\n",
       "      <td>2</td>\n",
       "      <td>5</td>\n",
       "      <td>2</td>\n",
       "      <td>25</td>\n",
       "      <td>cant_loose</td>\n",
       "    </tr>\n",
       "    <tr>\n",
       "      <th>12380.00000</th>\n",
       "      <td>102</td>\n",
       "      <td>7</td>\n",
       "      <td>6951.49000</td>\n",
       "      <td>2</td>\n",
       "      <td>5</td>\n",
       "      <td>5</td>\n",
       "      <td>25</td>\n",
       "      <td>cant_loose</td>\n",
       "    </tr>\n",
       "    <tr>\n",
       "      <th>12482.00000</th>\n",
       "      <td>213</td>\n",
       "      <td>29</td>\n",
       "      <td>23691.40000</td>\n",
       "      <td>1</td>\n",
       "      <td>5</td>\n",
       "      <td>5</td>\n",
       "      <td>15</td>\n",
       "      <td>cant_loose</td>\n",
       "    </tr>\n",
       "    <tr>\n",
       "      <th>12510.00000</th>\n",
       "      <td>96</td>\n",
       "      <td>7</td>\n",
       "      <td>4195.45000</td>\n",
       "      <td>2</td>\n",
       "      <td>5</td>\n",
       "      <td>5</td>\n",
       "      <td>25</td>\n",
       "      <td>cant_loose</td>\n",
       "    </tr>\n",
       "    <tr>\n",
       "      <th>12891.00000</th>\n",
       "      <td>95</td>\n",
       "      <td>8</td>\n",
       "      <td>509.50000</td>\n",
       "      <td>2</td>\n",
       "      <td>5</td>\n",
       "      <td>3</td>\n",
       "      <td>25</td>\n",
       "      <td>cant_loose</td>\n",
       "    </tr>\n",
       "  </tbody>\n",
       "</table>\n",
       "</div>"
      ],
      "text/plain": [
       "             recency  frequency    monetary recency_score frequency_score  \\\n",
       "Customer ID                                                                 \n",
       "12346.00000      166         11   372.86000             2               5   \n",
       "12380.00000      102          7  6951.49000             2               5   \n",
       "12482.00000      213         29 23691.40000             1               5   \n",
       "12510.00000       96          7  4195.45000             2               5   \n",
       "12891.00000       95          8   509.50000             2               5   \n",
       "\n",
       "            monetary_score RFM_SCORE     segment  \n",
       "Customer ID                                       \n",
       "12346.00000              2        25  cant_loose  \n",
       "12380.00000              5        25  cant_loose  \n",
       "12482.00000              5        15  cant_loose  \n",
       "12510.00000              5        25  cant_loose  \n",
       "12891.00000              3        25  cant_loose  "
      ]
     },
     "execution_count": 42,
     "metadata": {},
     "output_type": "execute_result"
    }
   ],
   "source": [
    "rfm[rfm[\"segment\"] == \"cant_loose\"].head()"
   ]
  },
  {
   "cell_type": "code",
   "execution_count": 43,
   "id": "86c8b6c1",
   "metadata": {
    "execution": {
     "iopub.execute_input": "2023-10-25T07:49:38.454331Z",
     "iopub.status.busy": "2023-10-25T07:49:38.453398Z",
     "iopub.status.idle": "2023-10-25T07:49:38.463931Z",
     "shell.execute_reply": "2023-10-25T07:49:38.463108Z"
    },
    "papermill": {
     "duration": 0.076389,
     "end_time": "2023-10-25T07:49:38.466260",
     "exception": false,
     "start_time": "2023-10-25T07:49:38.389871",
     "status": "completed"
    },
    "tags": []
   },
   "outputs": [
    {
     "data": {
      "text/plain": [
       "Index([12346.0, 12380.0, 12482.0, 12510.0, 12891.0, 12932.0, 13044.0, 13313.0,\n",
       "       13680.0, 13782.0, 13799.0, 13856.0, 14025.0, 14063.0, 14160.0, 14221.0,\n",
       "       14548.0, 14607.0, 14685.0, 14745.0, 15003.0, 15013.0, 15015.0, 15125.0,\n",
       "       15141.0, 15222.0, 15306.0, 15321.0, 15359.0, 15369.0, 15372.0, 15443.0,\n",
       "       15538.0, 15607.0, 15633.0, 15722.0, 15751.0, 15754.0, 15768.0, 15911.0,\n",
       "       15912.0, 16027.0, 16032.0, 16158.0, 16177.0, 16197.0, 16335.0, 16467.0,\n",
       "       16631.0, 16742.0, 16743.0, 16875.0, 16986.0, 17021.0, 17032.0, 17092.0,\n",
       "       17113.0, 17157.0, 17188.0, 17230.0, 17268.0, 17426.0, 17448.0, 17454.0,\n",
       "       17512.0, 17578.0, 17602.0, 17651.0, 17940.0, 17969.0, 17988.0, 18009.0,\n",
       "       18051.0, 18064.0, 18094.0, 18251.0, 18258.0],\n",
       "      dtype='float64', name='Customer ID')"
      ]
     },
     "execution_count": 43,
     "metadata": {},
     "output_type": "execute_result"
    }
   ],
   "source": [
    "rfm[rfm[\"segment\"] == \"cant_loose\"].index"
   ]
  },
  {
   "cell_type": "markdown",
   "id": "9ada87e2",
   "metadata": {
    "papermill": {
     "duration": 0.061982,
     "end_time": "2023-10-25T07:49:38.592331",
     "exception": false,
     "start_time": "2023-10-25T07:49:38.530349",
     "status": "completed"
    },
    "tags": []
   },
   "source": [
    "<div style=\"border-radius:10px; border:#6B8BA0 solid; padding: 15px; background-color: #F2EADF; font-size:100%; text-align:left\">\n",
    "\n",
    "<h3 align=\"left\"><font color='#6B8BA0'>🗨️ Comment: </font></h3>\n",
    "    \n",
    "* Let's proceed with the following steps to send the information of the 'new customers' to the relevant department in CSV format."
   ]
  },
  {
   "cell_type": "code",
   "execution_count": 44,
   "id": "e9de43d5",
   "metadata": {
    "execution": {
     "iopub.execute_input": "2023-10-25T07:49:38.721495Z",
     "iopub.status.busy": "2023-10-25T07:49:38.721022Z",
     "iopub.status.idle": "2023-10-25T07:49:38.727029Z",
     "shell.execute_reply": "2023-10-25T07:49:38.726147Z"
    },
    "papermill": {
     "duration": 0.075355,
     "end_time": "2023-10-25T07:49:38.729449",
     "exception": false,
     "start_time": "2023-10-25T07:49:38.654094",
     "status": "completed"
    },
    "tags": []
   },
   "outputs": [],
   "source": [
    "new_df = pd.DataFrame()"
   ]
  },
  {
   "cell_type": "code",
   "execution_count": 45,
   "id": "5c0d8969",
   "metadata": {
    "execution": {
     "iopub.execute_input": "2023-10-25T07:49:38.858195Z",
     "iopub.status.busy": "2023-10-25T07:49:38.857715Z",
     "iopub.status.idle": "2023-10-25T07:49:38.866953Z",
     "shell.execute_reply": "2023-10-25T07:49:38.865740Z"
    },
    "papermill": {
     "duration": 0.076946,
     "end_time": "2023-10-25T07:49:38.869841",
     "exception": false,
     "start_time": "2023-10-25T07:49:38.792895",
     "status": "completed"
    },
    "tags": []
   },
   "outputs": [],
   "source": [
    "new_df[\"new_customer_id\"] = rfm[rfm[\"segment\"] == \"new_customers\"].index"
   ]
  },
  {
   "cell_type": "code",
   "execution_count": 46,
   "id": "d2379818",
   "metadata": {
    "execution": {
     "iopub.execute_input": "2023-10-25T07:49:39.003128Z",
     "iopub.status.busy": "2023-10-25T07:49:39.002676Z",
     "iopub.status.idle": "2023-10-25T07:49:39.010938Z",
     "shell.execute_reply": "2023-10-25T07:49:39.008942Z"
    },
    "papermill": {
     "duration": 0.079384,
     "end_time": "2023-10-25T07:49:39.014604",
     "exception": false,
     "start_time": "2023-10-25T07:49:38.935220",
     "status": "completed"
    },
    "tags": []
   },
   "outputs": [],
   "source": [
    "new_df[\"new_customer_id\"] = new_df[\"new_customer_id\"].astype(int)"
   ]
  },
  {
   "cell_type": "code",
   "execution_count": 47,
   "id": "76db87b1",
   "metadata": {
    "execution": {
     "iopub.execute_input": "2023-10-25T07:49:39.146629Z",
     "iopub.status.busy": "2023-10-25T07:49:39.146182Z",
     "iopub.status.idle": "2023-10-25T07:49:39.154279Z",
     "shell.execute_reply": "2023-10-25T07:49:39.153042Z"
    },
    "papermill": {
     "duration": 0.078087,
     "end_time": "2023-10-25T07:49:39.157111",
     "exception": false,
     "start_time": "2023-10-25T07:49:39.079024",
     "status": "completed"
    },
    "tags": []
   },
   "outputs": [],
   "source": [
    "new_df.to_csv(\"new_customers.csv\")"
   ]
  },
  {
   "cell_type": "code",
   "execution_count": 48,
   "id": "f79652e7",
   "metadata": {
    "execution": {
     "iopub.execute_input": "2023-10-25T07:49:39.289168Z",
     "iopub.status.busy": "2023-10-25T07:49:39.288789Z",
     "iopub.status.idle": "2023-10-25T07:49:39.329460Z",
     "shell.execute_reply": "2023-10-25T07:49:39.328292Z"
    },
    "papermill": {
     "duration": 0.110749,
     "end_time": "2023-10-25T07:49:39.332570",
     "exception": false,
     "start_time": "2023-10-25T07:49:39.221821",
     "status": "completed"
    },
    "tags": []
   },
   "outputs": [],
   "source": [
    "rfm.to_csv(\"rfm.csv\")"
   ]
  },
  {
   "cell_type": "markdown",
   "id": "95d425ff",
   "metadata": {
    "papermill": {
     "duration": 0.062232,
     "end_time": "2023-10-25T07:49:39.459856",
     "exception": false,
     "start_time": "2023-10-25T07:49:39.397624",
     "status": "completed"
    },
    "tags": []
   },
   "source": [
    "----"
   ]
  },
  {
   "cell_type": "markdown",
   "id": "84325455",
   "metadata": {
    "papermill": {
     "duration": 0.062863,
     "end_time": "2023-10-25T07:49:39.585757",
     "exception": false,
     "start_time": "2023-10-25T07:49:39.522894",
     "status": "completed"
    },
    "tags": []
   },
   "source": [
    "<a id = \"13\"></a><br>\n",
    "<h1 style=\"background-color:#8B0000; font-family:courier; font-size:325%; font-style: oblique; font-weight: bold; font-variant: small-caps; text-align:center; color:#D2B48C; border-radius: 15px 50px;\"> Customer Life Time Value </h1>"
   ]
  },
  {
   "cell_type": "markdown",
   "id": "20617c74",
   "metadata": {
    "papermill": {
     "duration": 0.061397,
     "end_time": "2023-10-25T07:49:39.709131",
     "exception": false,
     "start_time": "2023-10-25T07:49:39.647734",
     "status": "completed"
    },
    "tags": []
   },
   "source": [
    "**What is Customer Lifetime Value (CLTV)?**\n",
    "\n",
    "Customer Lifetime Value represents the monetary value a customer will bring to a company throughout their relationship and communication. CLTV helps in predicting the value that customers will bring to a company in the future and guides businesses in developing customer-focused strategies and budget allocation for marketing efforts.\n",
    "\n",
    "**Why is it important?**\n",
    "\n",
    "- Predicting future customer behavior helps companies adjust their relationships and adopt more customer-centric, value-oriented approaches.\n",
    "- It plays a role in determining marketing budgets.\n",
    "- By calculating the value of existing customers (CLTV), it can be compared with the cost of acquiring new customers.\n",
    "\n",
    "**How to Calculate CLTV?**\n",
    "\n",
    "The following formulas are used to calculate CLTV:\n",
    "\n",
    "1. **Customer Value:**\n",
    "\n",
    "   - Customer Value = Average Order Value x Purchase Frequency\n",
    "   \n",
    "   - Average Order Value = Total Price / Total Transaction\n",
    "   \n",
    "   - Purchase Frequency = Total Transaction / Total Number of Customers\n",
    "\n",
    "2. **Churn Rate:**\n",
    "\n",
    "   - Churn Rate = 1 - Repeat Rate\n",
    "\n",
    "   - Repeat Rate = (Number of customers making multiple purchases) / (Total customers)\n",
    "\n",
    "3. **Profit Margin:**\n",
    "\n",
    "   - Profit Margin = Total Price x 0.10 (Assumed Profit Margin)\n",
    "\n",
    "4. **CLTV Calculation:**\n",
    "\n",
    "   - CLTV = (Customer Value / Churn Rate) x Profit Margin"
   ]
  },
  {
   "cell_type": "markdown",
   "id": "89ebea2b",
   "metadata": {
    "papermill": {
     "duration": 0.062944,
     "end_time": "2023-10-25T07:49:39.834199",
     "exception": false,
     "start_time": "2023-10-25T07:49:39.771255",
     "status": "completed"
    },
    "tags": []
   },
   "source": [
    "<div style=\"border-radius: 10px; border: #6B8E23 solid; padding: 15px; background-color: #F5F5DC; font-size: 100%; text-align: left\">\n",
    "\n",
    "<h3 align=\"left\"><font color='#556B2F'>👀 Parameters : </font></h3>\n",
    "\n",
    "1. **Customer Value:** A metric that represents the customer's lifelong contribution to the business. It is typically calculated by multiplying the average order value by the purchase frequency.\n",
    "2. **Churn Rate:** The rate at which customers leave the business within a specific period. It is usually expressed as a percentage.\n",
    "3. **Profit Margin:** Indicates the percentage of profit from the sale of a product or service. Profit Margin reflects the difference between total revenue and total costs.\n",
    "4. **Average Order Value:** It represents the average amount of money a customer spends during an average transaction. It is calculated by dividing the total revenue by the total number of transactions.\n",
    "5. **Purchase Frequency:** Calculated by dividing the total number of transactions in a specific period by the total number of customers. It indicates how often an average customer makes a purchase.\n",
    "6. **Total Price:** Represents the total revenue generated during a specific period.\n",
    "7. **Total Transaction:** The total number of transactions that occurred during a specific period.\n",
    "8. **Total Number of Customers:** The total number of customers who interacted with the business during a specific period.\n",
    "9. **Repeat Rate:** The percentage of customers who revisit the business or make repeat purchases during a specific period."
   ]
  },
  {
   "cell_type": "markdown",
   "id": "87e6ba19",
   "metadata": {
    "papermill": {
     "duration": 0.062736,
     "end_time": "2023-10-25T07:49:39.959797",
     "exception": false,
     "start_time": "2023-10-25T07:49:39.897061",
     "status": "completed"
    },
    "tags": []
   },
   "source": [
    "<div style=\"border-radius:10px; border:#DEB887 solid; padding: 15px; background-color: #FFFAF0; font-size:100%; text-align:left\">\n",
    "\n",
    "<h3 align=\"left\"><font color='#DEB887'>💡 Example: </font></h3>\n",
    "\n",
    "Certainly, here's the translated explanation of the CLTV calculation example:\n",
    "\n",
    "**Data:**\n",
    "- Total Number of Customers: 100\n",
    "- Churn Rate: 0.8 (The rate at which customers churn within a certain time period)\n",
    "- Profit Margin: 0.10 (Profit margin of 10%)\n",
    "\n",
    "**Sample Customer Data:**\n",
    "    \n",
    "- Generated 300 in the 1st transaction.\n",
    "- Generated 400 in the 2nd transaction.\n",
    "- Generated 500 in the 3rd transaction.\n",
    "- Total Number of Transactions: 3\n",
    "- Total Revenue (Total Price): 1200 (can also be referred to as units)\n",
    "\n",
    "**Calculations:**\n",
    "    \n",
    "1. Calculate the Average Order Value:\n",
    "    \n",
    "   - Average Order Value = Total Revenue / Total Number of Transactions\n",
    "    \n",
    "   - Average Order Value = 1200 / 3 = 400\n",
    "\n",
    "2. Calculate the Purchase Frequency:\n",
    "    \n",
    "   - Purchase Frequency = Total Number of Transactions / Total Number of Customers\n",
    "    \n",
    "   - Purchase Frequency = 3 / 100 = 0.03 (or 3%)\n",
    "\n",
    "3. Calculate the Profit Margin:\n",
    "    \n",
    "   - Profit Margin = Total Revenue x 0.10\n",
    "    \n",
    "   - Profit Margin = 1200 x 0.10 = 120\n",
    "\n",
    "4. Calculate the Customer Value:\n",
    "    \n",
    "   - Customer Value = Average Order Value x Purchase Frequency\n",
    "    \n",
    "   - Customer Value = 400 x 0.03 = 12\n",
    "\n",
    "5. Calculate the Customer's Lifetime Value (CLTV):\n",
    "    \n",
    "   - CLTV = Customer Value / Churn Rate x Profit Margin\n",
    "    \n",
    "   - CLTV = 12 / 0.8 x 120 = 1800 (in units)\n",
    "\n",
    "In this example, the estimated Customer Lifetime Value (CLTV) for a specific customer is calculated to be $1800 (in units). This value represents the monetary value that the customer is expected to bring to the company over their lifetime."
   ]
  },
  {
   "cell_type": "markdown",
   "id": "37880a2e",
   "metadata": {
    "papermill": {
     "duration": 0.061972,
     "end_time": "2023-10-25T07:49:40.086341",
     "exception": false,
     "start_time": "2023-10-25T07:49:40.024369",
     "status": "completed"
    },
    "tags": []
   },
   "source": [
    "---"
   ]
  },
  {
   "cell_type": "markdown",
   "id": "b156af67",
   "metadata": {
    "papermill": {
     "duration": 0.061474,
     "end_time": "2023-10-25T07:49:40.210995",
     "exception": false,
     "start_time": "2023-10-25T07:49:40.149521",
     "status": "completed"
    },
    "tags": []
   },
   "source": [
    "<a id = \"14\"></a><br>\n",
    "<h1 style=\"background-color:#8B0000; font-family:courier; font-size:325%; font-style: oblique; font-weight: bold; font-variant: small-caps; text-align:center; color:#D2B48C; border-radius: 15px 50px;\"> Customer Life Time Value Project </h1>"
   ]
  },
  {
   "cell_type": "markdown",
   "id": "9e6fc618",
   "metadata": {
    "papermill": {
     "duration": 0.06188,
     "end_time": "2023-10-25T07:49:40.335272",
     "exception": false,
     "start_time": "2023-10-25T07:49:40.273392",
     "status": "completed"
    },
    "tags": []
   },
   "source": [
    "<a id = \"15\"></a><br>\n",
    "### <p style=\"font-family:JetBrains Mono; font-weight:bold; letter-spacing: 2px; color:#045F5F; font-size:140%; text-align:left;padding: 0px; border-bottom: 3px solid\">Business Problem</p>"
   ]
  },
  {
   "cell_type": "markdown",
   "id": "39f81118",
   "metadata": {
    "papermill": {
     "duration": 0.063568,
     "end_time": "2023-10-25T07:49:40.462258",
     "exception": false,
     "start_time": "2023-10-25T07:49:40.398690",
     "status": "completed"
    },
    "tags": []
   },
   "source": [
    "An e-commerce company aims to segment its customers and formulate marketing strategies based on these segments.\n",
    "\n",
    "The dataset \"Online Retail II\" contains the sales of an online retail store based in the United Kingdom from 01/12/2009 to 09/12/2011.\n",
    "\n",
    "Source: https://archive.ics.uci.edu/ml/datasets/Online+Retail+II"
   ]
  },
  {
   "cell_type": "markdown",
   "id": "e419e613",
   "metadata": {
    "papermill": {
     "duration": 0.063668,
     "end_time": "2023-10-25T07:49:40.588367",
     "exception": false,
     "start_time": "2023-10-25T07:49:40.524699",
     "status": "completed"
    },
    "tags": []
   },
   "source": [
    "<a id = \"16\"></a><br>\n",
    "### <p style=\"font-family:JetBrains Mono; font-weight:bold; letter-spacing: 2px; color:#045F5F; font-size:140%; text-align:left;padding: 0px; border-bottom: 3px solid\">Data Preparation</p>"
   ]
  },
  {
   "cell_type": "code",
   "execution_count": 49,
   "id": "c8023d11",
   "metadata": {
    "execution": {
     "iopub.execute_input": "2023-10-25T07:49:40.716962Z",
     "iopub.status.busy": "2023-10-25T07:49:40.716488Z",
     "iopub.status.idle": "2023-10-25T07:49:42.185897Z",
     "shell.execute_reply": "2023-10-25T07:49:42.184406Z"
    },
    "papermill": {
     "duration": 1.537175,
     "end_time": "2023-10-25T07:49:42.189413",
     "exception": false,
     "start_time": "2023-10-25T07:49:40.652238",
     "status": "completed"
    },
    "tags": []
   },
   "outputs": [],
   "source": [
    "import numpy as np\n",
    "import pandas as pd\n",
    "\n",
    "from sklearn.preprocessing import MinMaxScaler\n",
    "\n",
    "import warnings\n",
    "warnings.filterwarnings(\"ignore\")\n",
    "\n",
    "pd.set_option('display.max_columns', None)\n",
    "pd.set_option('display.max_rows', None)\n",
    "pd.set_option('display.float_format', lambda x: '%.5f' % x)"
   ]
  },
  {
   "cell_type": "code",
   "execution_count": 50,
   "id": "155de2c0",
   "metadata": {
    "execution": {
     "iopub.execute_input": "2023-10-25T07:49:42.316223Z",
     "iopub.status.busy": "2023-10-25T07:49:42.315724Z",
     "iopub.status.idle": "2023-10-25T07:49:43.422149Z",
     "shell.execute_reply": "2023-10-25T07:49:43.420506Z"
    },
    "papermill": {
     "duration": 1.173609,
     "end_time": "2023-10-25T07:49:43.425194",
     "exception": false,
     "start_time": "2023-10-25T07:49:42.251585",
     "status": "completed"
    },
    "tags": []
   },
   "outputs": [],
   "source": [
    "df_ = pd.read_csv(\"/kaggle/input/online-retail-ii-data-set-from-ml-repository/Year 2009-2010.csv\", encoding='iso-8859-9')"
   ]
  },
  {
   "cell_type": "code",
   "execution_count": 51,
   "id": "93dfc723",
   "metadata": {
    "execution": {
     "iopub.execute_input": "2023-10-25T07:49:43.554629Z",
     "iopub.status.busy": "2023-10-25T07:49:43.554095Z",
     "iopub.status.idle": "2023-10-25T07:49:43.579329Z",
     "shell.execute_reply": "2023-10-25T07:49:43.577946Z"
    },
    "papermill": {
     "duration": 0.092337,
     "end_time": "2023-10-25T07:49:43.582316",
     "exception": false,
     "start_time": "2023-10-25T07:49:43.489979",
     "status": "completed"
    },
    "tags": []
   },
   "outputs": [],
   "source": [
    "df = df_.copy()"
   ]
  },
  {
   "cell_type": "code",
   "execution_count": 52,
   "id": "2f9f1ba2",
   "metadata": {
    "execution": {
     "iopub.execute_input": "2023-10-25T07:49:43.711623Z",
     "iopub.status.busy": "2023-10-25T07:49:43.711069Z",
     "iopub.status.idle": "2023-10-25T07:49:43.728062Z",
     "shell.execute_reply": "2023-10-25T07:49:43.726808Z"
    },
    "papermill": {
     "duration": 0.08485,
     "end_time": "2023-10-25T07:49:43.730711",
     "exception": false,
     "start_time": "2023-10-25T07:49:43.645861",
     "status": "completed"
    },
    "tags": []
   },
   "outputs": [
    {
     "data": {
      "text/html": [
       "<div>\n",
       "<style scoped>\n",
       "    .dataframe tbody tr th:only-of-type {\n",
       "        vertical-align: middle;\n",
       "    }\n",
       "\n",
       "    .dataframe tbody tr th {\n",
       "        vertical-align: top;\n",
       "    }\n",
       "\n",
       "    .dataframe thead th {\n",
       "        text-align: right;\n",
       "    }\n",
       "</style>\n",
       "<table border=\"1\" class=\"dataframe\">\n",
       "  <thead>\n",
       "    <tr style=\"text-align: right;\">\n",
       "      <th></th>\n",
       "      <th>Invoice</th>\n",
       "      <th>StockCode</th>\n",
       "      <th>Description</th>\n",
       "      <th>Quantity</th>\n",
       "      <th>InvoiceDate</th>\n",
       "      <th>Price</th>\n",
       "      <th>Customer ID</th>\n",
       "      <th>Country</th>\n",
       "    </tr>\n",
       "  </thead>\n",
       "  <tbody>\n",
       "    <tr>\n",
       "      <th>0</th>\n",
       "      <td>489434</td>\n",
       "      <td>85048</td>\n",
       "      <td>15CM CHRISTMAS GLASS BALL 20 LIGHTS</td>\n",
       "      <td>12</td>\n",
       "      <td>12/1/2009 7:45</td>\n",
       "      <td>6.95000</td>\n",
       "      <td>13085.00000</td>\n",
       "      <td>United Kingdom</td>\n",
       "    </tr>\n",
       "    <tr>\n",
       "      <th>1</th>\n",
       "      <td>489434</td>\n",
       "      <td>79323P</td>\n",
       "      <td>PINK CHERRY LIGHTS</td>\n",
       "      <td>12</td>\n",
       "      <td>12/1/2009 7:45</td>\n",
       "      <td>6.75000</td>\n",
       "      <td>13085.00000</td>\n",
       "      <td>United Kingdom</td>\n",
       "    </tr>\n",
       "    <tr>\n",
       "      <th>2</th>\n",
       "      <td>489434</td>\n",
       "      <td>79323W</td>\n",
       "      <td>WHITE CHERRY LIGHTS</td>\n",
       "      <td>12</td>\n",
       "      <td>12/1/2009 7:45</td>\n",
       "      <td>6.75000</td>\n",
       "      <td>13085.00000</td>\n",
       "      <td>United Kingdom</td>\n",
       "    </tr>\n",
       "    <tr>\n",
       "      <th>3</th>\n",
       "      <td>489434</td>\n",
       "      <td>22041</td>\n",
       "      <td>RECORD FRAME 7\" SINGLE SIZE</td>\n",
       "      <td>48</td>\n",
       "      <td>12/1/2009 7:45</td>\n",
       "      <td>2.10000</td>\n",
       "      <td>13085.00000</td>\n",
       "      <td>United Kingdom</td>\n",
       "    </tr>\n",
       "    <tr>\n",
       "      <th>4</th>\n",
       "      <td>489434</td>\n",
       "      <td>21232</td>\n",
       "      <td>STRAWBERRY CERAMIC TRINKET BOX</td>\n",
       "      <td>24</td>\n",
       "      <td>12/1/2009 7:45</td>\n",
       "      <td>1.25000</td>\n",
       "      <td>13085.00000</td>\n",
       "      <td>United Kingdom</td>\n",
       "    </tr>\n",
       "  </tbody>\n",
       "</table>\n",
       "</div>"
      ],
      "text/plain": [
       "  Invoice StockCode                          Description  Quantity  \\\n",
       "0  489434     85048  15CM CHRISTMAS GLASS BALL 20 LIGHTS        12   \n",
       "1  489434    79323P                   PINK CHERRY LIGHTS        12   \n",
       "2  489434    79323W                  WHITE CHERRY LIGHTS        12   \n",
       "3  489434     22041         RECORD FRAME 7\" SINGLE SIZE         48   \n",
       "4  489434     21232       STRAWBERRY CERAMIC TRINKET BOX        24   \n",
       "\n",
       "      InvoiceDate   Price  Customer ID         Country  \n",
       "0  12/1/2009 7:45 6.95000  13085.00000  United Kingdom  \n",
       "1  12/1/2009 7:45 6.75000  13085.00000  United Kingdom  \n",
       "2  12/1/2009 7:45 6.75000  13085.00000  United Kingdom  \n",
       "3  12/1/2009 7:45 2.10000  13085.00000  United Kingdom  \n",
       "4  12/1/2009 7:45 1.25000  13085.00000  United Kingdom  "
      ]
     },
     "execution_count": 52,
     "metadata": {},
     "output_type": "execute_result"
    }
   ],
   "source": [
    "df.head()"
   ]
  },
  {
   "cell_type": "markdown",
   "id": "564b4cee",
   "metadata": {
    "papermill": {
     "duration": 0.06566,
     "end_time": "2023-10-25T07:49:43.860231",
     "exception": false,
     "start_time": "2023-10-25T07:49:43.794571",
     "status": "completed"
    },
    "tags": []
   },
   "source": [
    "<div style=\"border-radius: 10px; border: #6B8E23 solid; padding: 15px; background-color: #F5F5DC; font-size: 100%; text-align: left\">\n",
    "\n",
    "<h3 align=\"left\"><font color='#556B2F'>👀 Features : </font></h3>\n",
    "\n",
    "1. **InvoiceNo**: Invoice number, a unique number assigned to each transaction or invoice. If it starts with 'C,' it indicates a canceled transaction.\n",
    "1. **StockCode**: Product code, a unique number for each product.\n",
    "1. **Description**: Product name.\n",
    "1. **Quantity**: Quantity of products, indicating how many of the products on the invoices were sold.\n",
    "1. **InvoiceDate**: Invoice date and time.\n",
    "1. **UnitPrice**: Product price (in pounds).\n",
    "1. **CustomerID**: Unique customer number.\n",
    "1. **Country**: Name of the country where the customer resides."
   ]
  },
  {
   "cell_type": "code",
   "execution_count": 53,
   "id": "9619a829",
   "metadata": {
    "execution": {
     "iopub.execute_input": "2023-10-25T07:49:43.998329Z",
     "iopub.status.busy": "2023-10-25T07:49:43.997408Z",
     "iopub.status.idle": "2023-10-25T07:49:44.283952Z",
     "shell.execute_reply": "2023-10-25T07:49:44.282449Z"
    },
    "papermill": {
     "duration": 0.35928,
     "end_time": "2023-10-25T07:49:44.286956",
     "exception": false,
     "start_time": "2023-10-25T07:49:43.927676",
     "status": "completed"
    },
    "tags": []
   },
   "outputs": [
    {
     "data": {
      "text/plain": [
       "Invoice             0\n",
       "StockCode           0\n",
       "Description      2928\n",
       "Quantity            0\n",
       "InvoiceDate         0\n",
       "Price               0\n",
       "Customer ID    107927\n",
       "Country             0\n",
       "dtype: int64"
      ]
     },
     "execution_count": 53,
     "metadata": {},
     "output_type": "execute_result"
    }
   ],
   "source": [
    "df.isnull().sum()"
   ]
  },
  {
   "cell_type": "code",
   "execution_count": 54,
   "id": "a7bb3b6f",
   "metadata": {
    "execution": {
     "iopub.execute_input": "2023-10-25T07:49:44.421161Z",
     "iopub.status.busy": "2023-10-25T07:49:44.420712Z",
     "iopub.status.idle": "2023-10-25T07:49:44.806504Z",
     "shell.execute_reply": "2023-10-25T07:49:44.805288Z"
    },
    "papermill": {
     "duration": 0.456561,
     "end_time": "2023-10-25T07:49:44.809826",
     "exception": false,
     "start_time": "2023-10-25T07:49:44.353265",
     "status": "completed"
    },
    "tags": []
   },
   "outputs": [],
   "source": [
    "df = df[~df[\"Invoice\"].str.contains(\"C\", na=False)]"
   ]
  },
  {
   "cell_type": "code",
   "execution_count": 55,
   "id": "ddcce907",
   "metadata": {
    "execution": {
     "iopub.execute_input": "2023-10-25T07:49:44.950078Z",
     "iopub.status.busy": "2023-10-25T07:49:44.949690Z",
     "iopub.status.idle": "2023-10-25T07:49:45.030558Z",
     "shell.execute_reply": "2023-10-25T07:49:45.029230Z"
    },
    "papermill": {
     "duration": 0.151044,
     "end_time": "2023-10-25T07:49:45.033906",
     "exception": false,
     "start_time": "2023-10-25T07:49:44.882862",
     "status": "completed"
    },
    "tags": []
   },
   "outputs": [
    {
     "data": {
      "text/html": [
       "<div>\n",
       "<style scoped>\n",
       "    .dataframe tbody tr th:only-of-type {\n",
       "        vertical-align: middle;\n",
       "    }\n",
       "\n",
       "    .dataframe tbody tr th {\n",
       "        vertical-align: top;\n",
       "    }\n",
       "\n",
       "    .dataframe thead th {\n",
       "        text-align: right;\n",
       "    }\n",
       "</style>\n",
       "<table border=\"1\" class=\"dataframe\">\n",
       "  <thead>\n",
       "    <tr style=\"text-align: right;\">\n",
       "      <th></th>\n",
       "      <th>count</th>\n",
       "      <th>mean</th>\n",
       "      <th>std</th>\n",
       "      <th>min</th>\n",
       "      <th>25%</th>\n",
       "      <th>50%</th>\n",
       "      <th>75%</th>\n",
       "      <th>max</th>\n",
       "    </tr>\n",
       "  </thead>\n",
       "  <tbody>\n",
       "    <tr>\n",
       "      <th>Quantity</th>\n",
       "      <td>515255.00000</td>\n",
       "      <td>10.95663</td>\n",
       "      <td>104.35401</td>\n",
       "      <td>-9600.00000</td>\n",
       "      <td>1.00000</td>\n",
       "      <td>3.00000</td>\n",
       "      <td>10.00000</td>\n",
       "      <td>19152.00000</td>\n",
       "    </tr>\n",
       "    <tr>\n",
       "      <th>Price</th>\n",
       "      <td>515255.00000</td>\n",
       "      <td>3.95637</td>\n",
       "      <td>127.68856</td>\n",
       "      <td>-53594.36000</td>\n",
       "      <td>1.25000</td>\n",
       "      <td>2.10000</td>\n",
       "      <td>4.21000</td>\n",
       "      <td>25111.09000</td>\n",
       "    </tr>\n",
       "    <tr>\n",
       "      <th>Customer ID</th>\n",
       "      <td>407695.00000</td>\n",
       "      <td>15368.50411</td>\n",
       "      <td>1679.79570</td>\n",
       "      <td>12346.00000</td>\n",
       "      <td>13997.00000</td>\n",
       "      <td>15321.00000</td>\n",
       "      <td>16812.00000</td>\n",
       "      <td>18287.00000</td>\n",
       "    </tr>\n",
       "  </tbody>\n",
       "</table>\n",
       "</div>"
      ],
      "text/plain": [
       "                   count        mean        std          min         25%  \\\n",
       "Quantity    515255.00000    10.95663  104.35401  -9600.00000     1.00000   \n",
       "Price       515255.00000     3.95637  127.68856 -53594.36000     1.25000   \n",
       "Customer ID 407695.00000 15368.50411 1679.79570  12346.00000 13997.00000   \n",
       "\n",
       "                    50%         75%         max  \n",
       "Quantity        3.00000    10.00000 19152.00000  \n",
       "Price           2.10000     4.21000 25111.09000  \n",
       "Customer ID 15321.00000 16812.00000 18287.00000  "
      ]
     },
     "execution_count": 55,
     "metadata": {},
     "output_type": "execute_result"
    }
   ],
   "source": [
    "df.describe().T"
   ]
  },
  {
   "cell_type": "code",
   "execution_count": 56,
   "id": "2c85365a",
   "metadata": {
    "execution": {
     "iopub.execute_input": "2023-10-25T07:49:45.167703Z",
     "iopub.status.busy": "2023-10-25T07:49:45.167206Z",
     "iopub.status.idle": "2023-10-25T07:49:45.555730Z",
     "shell.execute_reply": "2023-10-25T07:49:45.554187Z"
    },
    "papermill": {
     "duration": 0.458502,
     "end_time": "2023-10-25T07:49:45.559160",
     "exception": false,
     "start_time": "2023-10-25T07:49:45.100658",
     "status": "completed"
    },
    "tags": []
   },
   "outputs": [],
   "source": [
    "df = df[(df['Quantity'] > 0)]\n",
    "df.dropna(inplace=True)\n",
    "df[\"TotalPrice\"] = df[\"Quantity\"] * df[\"Price\"]"
   ]
  },
  {
   "cell_type": "code",
   "execution_count": 57,
   "id": "8623c3a1",
   "metadata": {
    "execution": {
     "iopub.execute_input": "2023-10-25T07:49:45.691505Z",
     "iopub.status.busy": "2023-10-25T07:49:45.690970Z",
     "iopub.status.idle": "2023-10-25T07:49:47.063755Z",
     "shell.execute_reply": "2023-10-25T07:49:47.062406Z"
    },
    "papermill": {
     "duration": 1.442086,
     "end_time": "2023-10-25T07:49:47.066922",
     "exception": false,
     "start_time": "2023-10-25T07:49:45.624836",
     "status": "completed"
    },
    "tags": []
   },
   "outputs": [],
   "source": [
    "cltv_df = df.groupby('Customer ID').agg({'Invoice': lambda x: x.nunique(),\n",
    "                                        'Quantity': lambda x: x.sum(),\n",
    "                                        'TotalPrice': lambda x: x.sum()})"
   ]
  },
  {
   "cell_type": "markdown",
   "id": "68f89a50",
   "metadata": {
    "papermill": {
     "duration": 0.065849,
     "end_time": "2023-10-25T07:49:47.196381",
     "exception": false,
     "start_time": "2023-10-25T07:49:47.130532",
     "status": "completed"
    },
    "tags": []
   },
   "source": [
    "<div style=\"border-radius:10px; border:#D0C2F0 solid; padding: 15px; background-color: #FFF0F4; font-size:100%; text-align:left\">\n",
    "\n",
    "<h3 align=\"left\"><font color='#5E5273'>📄 Notes:</font></h3>\n",
    "\n",
    "1. `groupby('Customer ID')`: The first step initiates grouping by customer IDs. In other words, it groups all transactions of each customer under a single customer ID.\n",
    "\n",
    "2. `agg(...)`: After the grouping by customer ID, different operations are performed for each group. This allows us to make calculations on a per-customer basis.\n",
    "\n",
    "3. `'Invoice': lambda x: x.nunique()`: First, it calculates the number of unique invoices for each customer. In other words, it finds out how many different invoices each customer has.\n",
    "\n",
    "4. `'Quantity': lambda x: x.sum()`: Next, it calculates the total quantity of products for each customer. This gives us the total amount of products purchased by the customer across all orders.\n",
    "\n",
    "5. `'TotalPrice': lambda x: x.sum()`: Finally, it calculates the total expenditure of each customer. This means how much the customer has spent in total across all orders."
   ]
  },
  {
   "cell_type": "code",
   "execution_count": 58,
   "id": "3e925fd1",
   "metadata": {
    "execution": {
     "iopub.execute_input": "2023-10-25T07:49:47.324814Z",
     "iopub.status.busy": "2023-10-25T07:49:47.324289Z",
     "iopub.status.idle": "2023-10-25T07:49:47.339265Z",
     "shell.execute_reply": "2023-10-25T07:49:47.337905Z"
    },
    "papermill": {
     "duration": 0.082128,
     "end_time": "2023-10-25T07:49:47.341873",
     "exception": false,
     "start_time": "2023-10-25T07:49:47.259745",
     "status": "completed"
    },
    "tags": []
   },
   "outputs": [
    {
     "data": {
      "text/html": [
       "<div>\n",
       "<style scoped>\n",
       "    .dataframe tbody tr th:only-of-type {\n",
       "        vertical-align: middle;\n",
       "    }\n",
       "\n",
       "    .dataframe tbody tr th {\n",
       "        vertical-align: top;\n",
       "    }\n",
       "\n",
       "    .dataframe thead th {\n",
       "        text-align: right;\n",
       "    }\n",
       "</style>\n",
       "<table border=\"1\" class=\"dataframe\">\n",
       "  <thead>\n",
       "    <tr style=\"text-align: right;\">\n",
       "      <th></th>\n",
       "      <th>Invoice</th>\n",
       "      <th>Quantity</th>\n",
       "      <th>TotalPrice</th>\n",
       "    </tr>\n",
       "    <tr>\n",
       "      <th>Customer ID</th>\n",
       "      <th></th>\n",
       "      <th></th>\n",
       "      <th></th>\n",
       "    </tr>\n",
       "  </thead>\n",
       "  <tbody>\n",
       "    <tr>\n",
       "      <th>12346.00000</th>\n",
       "      <td>11</td>\n",
       "      <td>70</td>\n",
       "      <td>372.86000</td>\n",
       "    </tr>\n",
       "    <tr>\n",
       "      <th>12347.00000</th>\n",
       "      <td>2</td>\n",
       "      <td>828</td>\n",
       "      <td>1323.32000</td>\n",
       "    </tr>\n",
       "    <tr>\n",
       "      <th>12348.00000</th>\n",
       "      <td>1</td>\n",
       "      <td>373</td>\n",
       "      <td>222.16000</td>\n",
       "    </tr>\n",
       "    <tr>\n",
       "      <th>12349.00000</th>\n",
       "      <td>3</td>\n",
       "      <td>993</td>\n",
       "      <td>2671.14000</td>\n",
       "    </tr>\n",
       "    <tr>\n",
       "      <th>12351.00000</th>\n",
       "      <td>1</td>\n",
       "      <td>261</td>\n",
       "      <td>300.93000</td>\n",
       "    </tr>\n",
       "  </tbody>\n",
       "</table>\n",
       "</div>"
      ],
      "text/plain": [
       "             Invoice  Quantity  TotalPrice\n",
       "Customer ID                               \n",
       "12346.00000       11        70   372.86000\n",
       "12347.00000        2       828  1323.32000\n",
       "12348.00000        1       373   222.16000\n",
       "12349.00000        3       993  2671.14000\n",
       "12351.00000        1       261   300.93000"
      ]
     },
     "execution_count": 58,
     "metadata": {},
     "output_type": "execute_result"
    }
   ],
   "source": [
    "cltv_df.head()"
   ]
  },
  {
   "cell_type": "code",
   "execution_count": 59,
   "id": "abbc3628",
   "metadata": {
    "execution": {
     "iopub.execute_input": "2023-10-25T07:49:47.471595Z",
     "iopub.status.busy": "2023-10-25T07:49:47.471109Z",
     "iopub.status.idle": "2023-10-25T07:49:47.477361Z",
     "shell.execute_reply": "2023-10-25T07:49:47.476060Z"
    },
    "papermill": {
     "duration": 0.07395,
     "end_time": "2023-10-25T07:49:47.480195",
     "exception": false,
     "start_time": "2023-10-25T07:49:47.406245",
     "status": "completed"
    },
    "tags": []
   },
   "outputs": [],
   "source": [
    "cltv_df.columns = ['total_transaction', 'total_unit', 'total_price']"
   ]
  },
  {
   "cell_type": "code",
   "execution_count": 60,
   "id": "36b7ae6e",
   "metadata": {
    "execution": {
     "iopub.execute_input": "2023-10-25T07:49:47.610108Z",
     "iopub.status.busy": "2023-10-25T07:49:47.609652Z",
     "iopub.status.idle": "2023-10-25T07:49:47.621910Z",
     "shell.execute_reply": "2023-10-25T07:49:47.620868Z"
    },
    "papermill": {
     "duration": 0.08074,
     "end_time": "2023-10-25T07:49:47.624390",
     "exception": false,
     "start_time": "2023-10-25T07:49:47.543650",
     "status": "completed"
    },
    "tags": []
   },
   "outputs": [
    {
     "data": {
      "text/html": [
       "<div>\n",
       "<style scoped>\n",
       "    .dataframe tbody tr th:only-of-type {\n",
       "        vertical-align: middle;\n",
       "    }\n",
       "\n",
       "    .dataframe tbody tr th {\n",
       "        vertical-align: top;\n",
       "    }\n",
       "\n",
       "    .dataframe thead th {\n",
       "        text-align: right;\n",
       "    }\n",
       "</style>\n",
       "<table border=\"1\" class=\"dataframe\">\n",
       "  <thead>\n",
       "    <tr style=\"text-align: right;\">\n",
       "      <th></th>\n",
       "      <th>total_transaction</th>\n",
       "      <th>total_unit</th>\n",
       "      <th>total_price</th>\n",
       "    </tr>\n",
       "    <tr>\n",
       "      <th>Customer ID</th>\n",
       "      <th></th>\n",
       "      <th></th>\n",
       "      <th></th>\n",
       "    </tr>\n",
       "  </thead>\n",
       "  <tbody>\n",
       "    <tr>\n",
       "      <th>12346.00000</th>\n",
       "      <td>11</td>\n",
       "      <td>70</td>\n",
       "      <td>372.86000</td>\n",
       "    </tr>\n",
       "    <tr>\n",
       "      <th>12347.00000</th>\n",
       "      <td>2</td>\n",
       "      <td>828</td>\n",
       "      <td>1323.32000</td>\n",
       "    </tr>\n",
       "    <tr>\n",
       "      <th>12348.00000</th>\n",
       "      <td>1</td>\n",
       "      <td>373</td>\n",
       "      <td>222.16000</td>\n",
       "    </tr>\n",
       "    <tr>\n",
       "      <th>12349.00000</th>\n",
       "      <td>3</td>\n",
       "      <td>993</td>\n",
       "      <td>2671.14000</td>\n",
       "    </tr>\n",
       "    <tr>\n",
       "      <th>12351.00000</th>\n",
       "      <td>1</td>\n",
       "      <td>261</td>\n",
       "      <td>300.93000</td>\n",
       "    </tr>\n",
       "  </tbody>\n",
       "</table>\n",
       "</div>"
      ],
      "text/plain": [
       "             total_transaction  total_unit  total_price\n",
       "Customer ID                                            \n",
       "12346.00000                 11          70    372.86000\n",
       "12347.00000                  2         828   1323.32000\n",
       "12348.00000                  1         373    222.16000\n",
       "12349.00000                  3         993   2671.14000\n",
       "12351.00000                  1         261    300.93000"
      ]
     },
     "execution_count": 60,
     "metadata": {},
     "output_type": "execute_result"
    }
   ],
   "source": [
    "cltv_df.head()"
   ]
  },
  {
   "cell_type": "markdown",
   "id": "c8280ab1",
   "metadata": {
    "papermill": {
     "duration": 0.067826,
     "end_time": "2023-10-25T07:49:47.756056",
     "exception": false,
     "start_time": "2023-10-25T07:49:47.688230",
     "status": "completed"
    },
    "tags": []
   },
   "source": [
    "<a id = \"17\"></a><br>\n",
    "### <p style=\"font-family:JetBrains Mono; font-weight:bold; letter-spacing: 2px; color:#045F5F; font-size:140%; text-align:left;padding: 0px; border-bottom: 3px solid\">Average Order Value</p>\n",
    "\n",
    "**Average Order Value = Total Price / Total Transaction**"
   ]
  },
  {
   "cell_type": "code",
   "execution_count": 61,
   "id": "fd3a2afe",
   "metadata": {
    "execution": {
     "iopub.execute_input": "2023-10-25T07:49:47.892793Z",
     "iopub.status.busy": "2023-10-25T07:49:47.892132Z",
     "iopub.status.idle": "2023-10-25T07:49:47.902502Z",
     "shell.execute_reply": "2023-10-25T07:49:47.900353Z"
    },
    "papermill": {
     "duration": 0.086118,
     "end_time": "2023-10-25T07:49:47.906574",
     "exception": false,
     "start_time": "2023-10-25T07:49:47.820456",
     "status": "completed"
    },
    "tags": []
   },
   "outputs": [],
   "source": [
    "cltv_df[\"average_order_value\"] = cltv_df[\"total_price\"] / cltv_df[\"total_transaction\"]"
   ]
  },
  {
   "cell_type": "code",
   "execution_count": 62,
   "id": "f7e5090a",
   "metadata": {
    "execution": {
     "iopub.execute_input": "2023-10-25T07:49:48.062326Z",
     "iopub.status.busy": "2023-10-25T07:49:48.061849Z",
     "iopub.status.idle": "2023-10-25T07:49:48.074420Z",
     "shell.execute_reply": "2023-10-25T07:49:48.073572Z"
    },
    "papermill": {
     "duration": 0.083103,
     "end_time": "2023-10-25T07:49:48.076814",
     "exception": false,
     "start_time": "2023-10-25T07:49:47.993711",
     "status": "completed"
    },
    "tags": []
   },
   "outputs": [
    {
     "data": {
      "text/html": [
       "<div>\n",
       "<style scoped>\n",
       "    .dataframe tbody tr th:only-of-type {\n",
       "        vertical-align: middle;\n",
       "    }\n",
       "\n",
       "    .dataframe tbody tr th {\n",
       "        vertical-align: top;\n",
       "    }\n",
       "\n",
       "    .dataframe thead th {\n",
       "        text-align: right;\n",
       "    }\n",
       "</style>\n",
       "<table border=\"1\" class=\"dataframe\">\n",
       "  <thead>\n",
       "    <tr style=\"text-align: right;\">\n",
       "      <th></th>\n",
       "      <th>total_transaction</th>\n",
       "      <th>total_unit</th>\n",
       "      <th>total_price</th>\n",
       "      <th>average_order_value</th>\n",
       "    </tr>\n",
       "    <tr>\n",
       "      <th>Customer ID</th>\n",
       "      <th></th>\n",
       "      <th></th>\n",
       "      <th></th>\n",
       "      <th></th>\n",
       "    </tr>\n",
       "  </thead>\n",
       "  <tbody>\n",
       "    <tr>\n",
       "      <th>12346.00000</th>\n",
       "      <td>11</td>\n",
       "      <td>70</td>\n",
       "      <td>372.86000</td>\n",
       "      <td>33.89636</td>\n",
       "    </tr>\n",
       "    <tr>\n",
       "      <th>12347.00000</th>\n",
       "      <td>2</td>\n",
       "      <td>828</td>\n",
       "      <td>1323.32000</td>\n",
       "      <td>661.66000</td>\n",
       "    </tr>\n",
       "    <tr>\n",
       "      <th>12348.00000</th>\n",
       "      <td>1</td>\n",
       "      <td>373</td>\n",
       "      <td>222.16000</td>\n",
       "      <td>222.16000</td>\n",
       "    </tr>\n",
       "    <tr>\n",
       "      <th>12349.00000</th>\n",
       "      <td>3</td>\n",
       "      <td>993</td>\n",
       "      <td>2671.14000</td>\n",
       "      <td>890.38000</td>\n",
       "    </tr>\n",
       "    <tr>\n",
       "      <th>12351.00000</th>\n",
       "      <td>1</td>\n",
       "      <td>261</td>\n",
       "      <td>300.93000</td>\n",
       "      <td>300.93000</td>\n",
       "    </tr>\n",
       "  </tbody>\n",
       "</table>\n",
       "</div>"
      ],
      "text/plain": [
       "             total_transaction  total_unit  total_price  average_order_value\n",
       "Customer ID                                                                 \n",
       "12346.00000                 11          70    372.86000             33.89636\n",
       "12347.00000                  2         828   1323.32000            661.66000\n",
       "12348.00000                  1         373    222.16000            222.16000\n",
       "12349.00000                  3         993   2671.14000            890.38000\n",
       "12351.00000                  1         261    300.93000            300.93000"
      ]
     },
     "execution_count": 62,
     "metadata": {},
     "output_type": "execute_result"
    }
   ],
   "source": [
    "cltv_df.head()"
   ]
  },
  {
   "cell_type": "markdown",
   "id": "f7b256ae",
   "metadata": {
    "papermill": {
     "duration": 0.066688,
     "end_time": "2023-10-25T07:49:48.210746",
     "exception": false,
     "start_time": "2023-10-25T07:49:48.144058",
     "status": "completed"
    },
    "tags": []
   },
   "source": [
    "<a id = \"18\"></a><br>\n",
    "### <p style=\"font-family:JetBrains Mono; font-weight:bold; letter-spacing: 2px; color:#045F5F; font-size:140%; text-align:left;padding: 0px; border-bottom: 3px solid\">Purchase Frequency</p>\n",
    "\n",
    "**Purchase Frequency = Total Transaction / Total Number of Customers**"
   ]
  },
  {
   "cell_type": "code",
   "execution_count": 63,
   "id": "56d84db8",
   "metadata": {
    "execution": {
     "iopub.execute_input": "2023-10-25T07:49:48.346289Z",
     "iopub.status.busy": "2023-10-25T07:49:48.345091Z",
     "iopub.status.idle": "2023-10-25T07:49:48.352261Z",
     "shell.execute_reply": "2023-10-25T07:49:48.351409Z"
    },
    "papermill": {
     "duration": 0.076894,
     "end_time": "2023-10-25T07:49:48.354579",
     "exception": false,
     "start_time": "2023-10-25T07:49:48.277685",
     "status": "completed"
    },
    "tags": []
   },
   "outputs": [
    {
     "data": {
      "text/plain": [
       "4314"
      ]
     },
     "execution_count": 63,
     "metadata": {},
     "output_type": "execute_result"
    }
   ],
   "source": [
    "cltv_df.shape[0]"
   ]
  },
  {
   "cell_type": "code",
   "execution_count": 64,
   "id": "025834b4",
   "metadata": {
    "execution": {
     "iopub.execute_input": "2023-10-25T07:49:48.489781Z",
     "iopub.status.busy": "2023-10-25T07:49:48.489067Z",
     "iopub.status.idle": "2023-10-25T07:49:48.494748Z",
     "shell.execute_reply": "2023-10-25T07:49:48.493762Z"
    },
    "papermill": {
     "duration": 0.0768,
     "end_time": "2023-10-25T07:49:48.497772",
     "exception": false,
     "start_time": "2023-10-25T07:49:48.420972",
     "status": "completed"
    },
    "tags": []
   },
   "outputs": [],
   "source": [
    "cltv_df[\"purchase_frequency\"] = cltv_df[\"total_transaction\"] / cltv_df.shape[0]"
   ]
  },
  {
   "cell_type": "code",
   "execution_count": 65,
   "id": "52ff57c8",
   "metadata": {
    "execution": {
     "iopub.execute_input": "2023-10-25T07:49:48.731304Z",
     "iopub.status.busy": "2023-10-25T07:49:48.730640Z",
     "iopub.status.idle": "2023-10-25T07:49:48.741680Z",
     "shell.execute_reply": "2023-10-25T07:49:48.740838Z"
    },
    "papermill": {
     "duration": 0.081073,
     "end_time": "2023-10-25T07:49:48.743961",
     "exception": false,
     "start_time": "2023-10-25T07:49:48.662888",
     "status": "completed"
    },
    "tags": []
   },
   "outputs": [
    {
     "data": {
      "text/html": [
       "<div>\n",
       "<style scoped>\n",
       "    .dataframe tbody tr th:only-of-type {\n",
       "        vertical-align: middle;\n",
       "    }\n",
       "\n",
       "    .dataframe tbody tr th {\n",
       "        vertical-align: top;\n",
       "    }\n",
       "\n",
       "    .dataframe thead th {\n",
       "        text-align: right;\n",
       "    }\n",
       "</style>\n",
       "<table border=\"1\" class=\"dataframe\">\n",
       "  <thead>\n",
       "    <tr style=\"text-align: right;\">\n",
       "      <th></th>\n",
       "      <th>total_transaction</th>\n",
       "      <th>total_unit</th>\n",
       "      <th>total_price</th>\n",
       "      <th>average_order_value</th>\n",
       "      <th>purchase_frequency</th>\n",
       "    </tr>\n",
       "    <tr>\n",
       "      <th>Customer ID</th>\n",
       "      <th></th>\n",
       "      <th></th>\n",
       "      <th></th>\n",
       "      <th></th>\n",
       "      <th></th>\n",
       "    </tr>\n",
       "  </thead>\n",
       "  <tbody>\n",
       "    <tr>\n",
       "      <th>12346.00000</th>\n",
       "      <td>11</td>\n",
       "      <td>70</td>\n",
       "      <td>372.86000</td>\n",
       "      <td>33.89636</td>\n",
       "      <td>0.00255</td>\n",
       "    </tr>\n",
       "    <tr>\n",
       "      <th>12347.00000</th>\n",
       "      <td>2</td>\n",
       "      <td>828</td>\n",
       "      <td>1323.32000</td>\n",
       "      <td>661.66000</td>\n",
       "      <td>0.00046</td>\n",
       "    </tr>\n",
       "    <tr>\n",
       "      <th>12348.00000</th>\n",
       "      <td>1</td>\n",
       "      <td>373</td>\n",
       "      <td>222.16000</td>\n",
       "      <td>222.16000</td>\n",
       "      <td>0.00023</td>\n",
       "    </tr>\n",
       "    <tr>\n",
       "      <th>12349.00000</th>\n",
       "      <td>3</td>\n",
       "      <td>993</td>\n",
       "      <td>2671.14000</td>\n",
       "      <td>890.38000</td>\n",
       "      <td>0.00070</td>\n",
       "    </tr>\n",
       "    <tr>\n",
       "      <th>12351.00000</th>\n",
       "      <td>1</td>\n",
       "      <td>261</td>\n",
       "      <td>300.93000</td>\n",
       "      <td>300.93000</td>\n",
       "      <td>0.00023</td>\n",
       "    </tr>\n",
       "  </tbody>\n",
       "</table>\n",
       "</div>"
      ],
      "text/plain": [
       "             total_transaction  total_unit  total_price  average_order_value  \\\n",
       "Customer ID                                                                    \n",
       "12346.00000                 11          70    372.86000             33.89636   \n",
       "12347.00000                  2         828   1323.32000            661.66000   \n",
       "12348.00000                  1         373    222.16000            222.16000   \n",
       "12349.00000                  3         993   2671.14000            890.38000   \n",
       "12351.00000                  1         261    300.93000            300.93000   \n",
       "\n",
       "             purchase_frequency  \n",
       "Customer ID                      \n",
       "12346.00000             0.00255  \n",
       "12347.00000             0.00046  \n",
       "12348.00000             0.00023  \n",
       "12349.00000             0.00070  \n",
       "12351.00000             0.00023  "
      ]
     },
     "execution_count": 65,
     "metadata": {},
     "output_type": "execute_result"
    }
   ],
   "source": [
    "cltv_df.head()"
   ]
  },
  {
   "cell_type": "markdown",
   "id": "63f22d6c",
   "metadata": {
    "papermill": {
     "duration": 0.067839,
     "end_time": "2023-10-25T07:49:48.878109",
     "exception": false,
     "start_time": "2023-10-25T07:49:48.810270",
     "status": "completed"
    },
    "tags": []
   },
   "source": [
    "<a id = \"19\"></a><br>\n",
    "### <p style=\"font-family:JetBrains Mono; font-weight:bold; letter-spacing: 2px; color:#045F5F; font-size:140%; text-align:left;padding: 0px; border-bottom: 3px solid\">Repeat Rate & Churn Rate</p>\n",
    "\n",
    "* **Churn Rate = 1 - Repeat Rate**\n",
    "* **Repeat Rate = (Number of customers making multiple purchases) / (Total number of customers)**"
   ]
  },
  {
   "cell_type": "code",
   "execution_count": 66,
   "id": "0b710d79",
   "metadata": {
    "execution": {
     "iopub.execute_input": "2023-10-25T07:49:49.021600Z",
     "iopub.status.busy": "2023-10-25T07:49:49.019906Z",
     "iopub.status.idle": "2023-10-25T07:49:49.030273Z",
     "shell.execute_reply": "2023-10-25T07:49:49.029127Z"
    },
    "papermill": {
     "duration": 0.087154,
     "end_time": "2023-10-25T07:49:49.032989",
     "exception": false,
     "start_time": "2023-10-25T07:49:48.945835",
     "status": "completed"
    },
    "tags": []
   },
   "outputs": [
    {
     "name": "stdout",
     "output_type": "stream",
     "text": [
      "0.6706073249884098\n"
     ]
    }
   ],
   "source": [
    "repeat_rate = cltv_df[cltv_df[\"total_transaction\"] > 1].shape[0] / cltv_df.shape[0]\n",
    "\n",
    "print(repeat_rate)"
   ]
  },
  {
   "cell_type": "code",
   "execution_count": 67,
   "id": "bce918d5",
   "metadata": {
    "execution": {
     "iopub.execute_input": "2023-10-25T07:49:49.179585Z",
     "iopub.status.busy": "2023-10-25T07:49:49.178723Z",
     "iopub.status.idle": "2023-10-25T07:49:49.184223Z",
     "shell.execute_reply": "2023-10-25T07:49:49.183261Z"
    },
    "papermill": {
     "duration": 0.078736,
     "end_time": "2023-10-25T07:49:49.187514",
     "exception": false,
     "start_time": "2023-10-25T07:49:49.108778",
     "status": "completed"
    },
    "tags": []
   },
   "outputs": [
    {
     "name": "stdout",
     "output_type": "stream",
     "text": [
      "0.3293926750115902\n"
     ]
    }
   ],
   "source": [
    "churn_rate = 1 - repeat_rate\n",
    "\n",
    "print(churn_rate)"
   ]
  },
  {
   "cell_type": "markdown",
   "id": "28ead2a4",
   "metadata": {
    "papermill": {
     "duration": 0.071488,
     "end_time": "2023-10-25T07:49:49.340674",
     "exception": false,
     "start_time": "2023-10-25T07:49:49.269186",
     "status": "completed"
    },
    "tags": []
   },
   "source": [
    "<a id = \"20\"></a><br>\n",
    "### <p style=\"font-family:JetBrains Mono; font-weight:bold; letter-spacing: 2px; color:#045F5F; font-size:140%; text-align:left;padding: 0px; border-bottom: 3px solid\">Profit Margin</p>\n",
    "\n",
    "**Profit Margin = Total Price * 0.10**"
   ]
  },
  {
   "cell_type": "code",
   "execution_count": 68,
   "id": "89deb153",
   "metadata": {
    "execution": {
     "iopub.execute_input": "2023-10-25T07:49:49.488351Z",
     "iopub.status.busy": "2023-10-25T07:49:49.487569Z",
     "iopub.status.idle": "2023-10-25T07:49:49.494447Z",
     "shell.execute_reply": "2023-10-25T07:49:49.493364Z"
    },
    "papermill": {
     "duration": 0.088664,
     "end_time": "2023-10-25T07:49:49.496900",
     "exception": false,
     "start_time": "2023-10-25T07:49:49.408236",
     "status": "completed"
    },
    "tags": []
   },
   "outputs": [],
   "source": [
    "cltv_df['profit_margin'] = cltv_df['total_price'] * 0.10"
   ]
  },
  {
   "cell_type": "code",
   "execution_count": 69,
   "id": "2cd8c47e",
   "metadata": {
    "execution": {
     "iopub.execute_input": "2023-10-25T07:49:49.632869Z",
     "iopub.status.busy": "2023-10-25T07:49:49.631825Z",
     "iopub.status.idle": "2023-10-25T07:49:49.648764Z",
     "shell.execute_reply": "2023-10-25T07:49:49.647505Z"
    },
    "papermill": {
     "duration": 0.088226,
     "end_time": "2023-10-25T07:49:49.651614",
     "exception": false,
     "start_time": "2023-10-25T07:49:49.563388",
     "status": "completed"
    },
    "tags": []
   },
   "outputs": [
    {
     "data": {
      "text/html": [
       "<div>\n",
       "<style scoped>\n",
       "    .dataframe tbody tr th:only-of-type {\n",
       "        vertical-align: middle;\n",
       "    }\n",
       "\n",
       "    .dataframe tbody tr th {\n",
       "        vertical-align: top;\n",
       "    }\n",
       "\n",
       "    .dataframe thead th {\n",
       "        text-align: right;\n",
       "    }\n",
       "</style>\n",
       "<table border=\"1\" class=\"dataframe\">\n",
       "  <thead>\n",
       "    <tr style=\"text-align: right;\">\n",
       "      <th></th>\n",
       "      <th>total_transaction</th>\n",
       "      <th>total_unit</th>\n",
       "      <th>total_price</th>\n",
       "      <th>average_order_value</th>\n",
       "      <th>purchase_frequency</th>\n",
       "      <th>profit_margin</th>\n",
       "    </tr>\n",
       "    <tr>\n",
       "      <th>Customer ID</th>\n",
       "      <th></th>\n",
       "      <th></th>\n",
       "      <th></th>\n",
       "      <th></th>\n",
       "      <th></th>\n",
       "      <th></th>\n",
       "    </tr>\n",
       "  </thead>\n",
       "  <tbody>\n",
       "    <tr>\n",
       "      <th>12346.00000</th>\n",
       "      <td>11</td>\n",
       "      <td>70</td>\n",
       "      <td>372.86000</td>\n",
       "      <td>33.89636</td>\n",
       "      <td>0.00255</td>\n",
       "      <td>37.28600</td>\n",
       "    </tr>\n",
       "    <tr>\n",
       "      <th>12347.00000</th>\n",
       "      <td>2</td>\n",
       "      <td>828</td>\n",
       "      <td>1323.32000</td>\n",
       "      <td>661.66000</td>\n",
       "      <td>0.00046</td>\n",
       "      <td>132.33200</td>\n",
       "    </tr>\n",
       "    <tr>\n",
       "      <th>12348.00000</th>\n",
       "      <td>1</td>\n",
       "      <td>373</td>\n",
       "      <td>222.16000</td>\n",
       "      <td>222.16000</td>\n",
       "      <td>0.00023</td>\n",
       "      <td>22.21600</td>\n",
       "    </tr>\n",
       "    <tr>\n",
       "      <th>12349.00000</th>\n",
       "      <td>3</td>\n",
       "      <td>993</td>\n",
       "      <td>2671.14000</td>\n",
       "      <td>890.38000</td>\n",
       "      <td>0.00070</td>\n",
       "      <td>267.11400</td>\n",
       "    </tr>\n",
       "    <tr>\n",
       "      <th>12351.00000</th>\n",
       "      <td>1</td>\n",
       "      <td>261</td>\n",
       "      <td>300.93000</td>\n",
       "      <td>300.93000</td>\n",
       "      <td>0.00023</td>\n",
       "      <td>30.09300</td>\n",
       "    </tr>\n",
       "  </tbody>\n",
       "</table>\n",
       "</div>"
      ],
      "text/plain": [
       "             total_transaction  total_unit  total_price  average_order_value  \\\n",
       "Customer ID                                                                    \n",
       "12346.00000                 11          70    372.86000             33.89636   \n",
       "12347.00000                  2         828   1323.32000            661.66000   \n",
       "12348.00000                  1         373    222.16000            222.16000   \n",
       "12349.00000                  3         993   2671.14000            890.38000   \n",
       "12351.00000                  1         261    300.93000            300.93000   \n",
       "\n",
       "             purchase_frequency  profit_margin  \n",
       "Customer ID                                     \n",
       "12346.00000             0.00255       37.28600  \n",
       "12347.00000             0.00046      132.33200  \n",
       "12348.00000             0.00023       22.21600  \n",
       "12349.00000             0.00070      267.11400  \n",
       "12351.00000             0.00023       30.09300  "
      ]
     },
     "execution_count": 69,
     "metadata": {},
     "output_type": "execute_result"
    }
   ],
   "source": [
    "cltv_df.head()"
   ]
  },
  {
   "cell_type": "markdown",
   "id": "51cf8b38",
   "metadata": {
    "papermill": {
     "duration": 0.066212,
     "end_time": "2023-10-25T07:49:49.786605",
     "exception": false,
     "start_time": "2023-10-25T07:49:49.720393",
     "status": "completed"
    },
    "tags": []
   },
   "source": [
    "<a id = \"21\"></a><br>\n",
    "### <p style=\"font-family:JetBrains Mono; font-weight:bold; letter-spacing: 2px; color:#045F5F; font-size:140%; text-align:left;padding: 0px; border-bottom: 3px solid\">Customer Value</p>\n",
    "\n",
    "**Customer Value = Average Order Value * Purchase Frequency**"
   ]
  },
  {
   "cell_type": "code",
   "execution_count": 70,
   "id": "82c507d8",
   "metadata": {
    "execution": {
     "iopub.execute_input": "2023-10-25T07:49:49.926189Z",
     "iopub.status.busy": "2023-10-25T07:49:49.925143Z",
     "iopub.status.idle": "2023-10-25T07:49:49.932334Z",
     "shell.execute_reply": "2023-10-25T07:49:49.931278Z"
    },
    "papermill": {
     "duration": 0.080343,
     "end_time": "2023-10-25T07:49:49.935723",
     "exception": false,
     "start_time": "2023-10-25T07:49:49.855380",
     "status": "completed"
    },
    "tags": []
   },
   "outputs": [],
   "source": [
    "cltv_df['customer_value'] = cltv_df['average_order_value'] * cltv_df[\"purchase_frequency\"]"
   ]
  },
  {
   "cell_type": "code",
   "execution_count": 71,
   "id": "db9079f6",
   "metadata": {
    "execution": {
     "iopub.execute_input": "2023-10-25T07:49:50.079419Z",
     "iopub.status.busy": "2023-10-25T07:49:50.078896Z",
     "iopub.status.idle": "2023-10-25T07:49:50.095913Z",
     "shell.execute_reply": "2023-10-25T07:49:50.094515Z"
    },
    "papermill": {
     "duration": 0.091267,
     "end_time": "2023-10-25T07:49:50.098664",
     "exception": false,
     "start_time": "2023-10-25T07:49:50.007397",
     "status": "completed"
    },
    "tags": []
   },
   "outputs": [
    {
     "data": {
      "text/html": [
       "<div>\n",
       "<style scoped>\n",
       "    .dataframe tbody tr th:only-of-type {\n",
       "        vertical-align: middle;\n",
       "    }\n",
       "\n",
       "    .dataframe tbody tr th {\n",
       "        vertical-align: top;\n",
       "    }\n",
       "\n",
       "    .dataframe thead th {\n",
       "        text-align: right;\n",
       "    }\n",
       "</style>\n",
       "<table border=\"1\" class=\"dataframe\">\n",
       "  <thead>\n",
       "    <tr style=\"text-align: right;\">\n",
       "      <th></th>\n",
       "      <th>total_transaction</th>\n",
       "      <th>total_unit</th>\n",
       "      <th>total_price</th>\n",
       "      <th>average_order_value</th>\n",
       "      <th>purchase_frequency</th>\n",
       "      <th>profit_margin</th>\n",
       "      <th>customer_value</th>\n",
       "    </tr>\n",
       "    <tr>\n",
       "      <th>Customer ID</th>\n",
       "      <th></th>\n",
       "      <th></th>\n",
       "      <th></th>\n",
       "      <th></th>\n",
       "      <th></th>\n",
       "      <th></th>\n",
       "      <th></th>\n",
       "    </tr>\n",
       "  </thead>\n",
       "  <tbody>\n",
       "    <tr>\n",
       "      <th>12346.00000</th>\n",
       "      <td>11</td>\n",
       "      <td>70</td>\n",
       "      <td>372.86000</td>\n",
       "      <td>33.89636</td>\n",
       "      <td>0.00255</td>\n",
       "      <td>37.28600</td>\n",
       "      <td>0.08643</td>\n",
       "    </tr>\n",
       "    <tr>\n",
       "      <th>12347.00000</th>\n",
       "      <td>2</td>\n",
       "      <td>828</td>\n",
       "      <td>1323.32000</td>\n",
       "      <td>661.66000</td>\n",
       "      <td>0.00046</td>\n",
       "      <td>132.33200</td>\n",
       "      <td>0.30675</td>\n",
       "    </tr>\n",
       "    <tr>\n",
       "      <th>12348.00000</th>\n",
       "      <td>1</td>\n",
       "      <td>373</td>\n",
       "      <td>222.16000</td>\n",
       "      <td>222.16000</td>\n",
       "      <td>0.00023</td>\n",
       "      <td>22.21600</td>\n",
       "      <td>0.05150</td>\n",
       "    </tr>\n",
       "    <tr>\n",
       "      <th>12349.00000</th>\n",
       "      <td>3</td>\n",
       "      <td>993</td>\n",
       "      <td>2671.14000</td>\n",
       "      <td>890.38000</td>\n",
       "      <td>0.00070</td>\n",
       "      <td>267.11400</td>\n",
       "      <td>0.61918</td>\n",
       "    </tr>\n",
       "    <tr>\n",
       "      <th>12351.00000</th>\n",
       "      <td>1</td>\n",
       "      <td>261</td>\n",
       "      <td>300.93000</td>\n",
       "      <td>300.93000</td>\n",
       "      <td>0.00023</td>\n",
       "      <td>30.09300</td>\n",
       "      <td>0.06976</td>\n",
       "    </tr>\n",
       "  </tbody>\n",
       "</table>\n",
       "</div>"
      ],
      "text/plain": [
       "             total_transaction  total_unit  total_price  average_order_value  \\\n",
       "Customer ID                                                                    \n",
       "12346.00000                 11          70    372.86000             33.89636   \n",
       "12347.00000                  2         828   1323.32000            661.66000   \n",
       "12348.00000                  1         373    222.16000            222.16000   \n",
       "12349.00000                  3         993   2671.14000            890.38000   \n",
       "12351.00000                  1         261    300.93000            300.93000   \n",
       "\n",
       "             purchase_frequency  profit_margin  customer_value  \n",
       "Customer ID                                                     \n",
       "12346.00000             0.00255       37.28600         0.08643  \n",
       "12347.00000             0.00046      132.33200         0.30675  \n",
       "12348.00000             0.00023       22.21600         0.05150  \n",
       "12349.00000             0.00070      267.11400         0.61918  \n",
       "12351.00000             0.00023       30.09300         0.06976  "
      ]
     },
     "execution_count": 71,
     "metadata": {},
     "output_type": "execute_result"
    }
   ],
   "source": [
    "cltv_df.head()"
   ]
  },
  {
   "cell_type": "markdown",
   "id": "d79fc41f",
   "metadata": {
    "papermill": {
     "duration": 0.069323,
     "end_time": "2023-10-25T07:49:50.238435",
     "exception": false,
     "start_time": "2023-10-25T07:49:50.169112",
     "status": "completed"
    },
    "tags": []
   },
   "source": [
    "<a id = \"22\"></a><br>\n",
    "### <p style=\"font-family:JetBrains Mono; font-weight:bold; letter-spacing: 2px; color:#045F5F; font-size:140%; text-align:left;padding: 0px; border-bottom: 3px solid\">Calculating CLTV</p>\n",
    "\n",
    "**CLTV = (Customer Value / Churn Rate) * Profit Margin**"
   ]
  },
  {
   "cell_type": "code",
   "execution_count": 72,
   "id": "2aeebb4b",
   "metadata": {
    "execution": {
     "iopub.execute_input": "2023-10-25T07:49:50.378868Z",
     "iopub.status.busy": "2023-10-25T07:49:50.378154Z",
     "iopub.status.idle": "2023-10-25T07:49:50.384095Z",
     "shell.execute_reply": "2023-10-25T07:49:50.383055Z"
    },
    "papermill": {
     "duration": 0.078622,
     "end_time": "2023-10-25T07:49:50.387082",
     "exception": false,
     "start_time": "2023-10-25T07:49:50.308460",
     "status": "completed"
    },
    "tags": []
   },
   "outputs": [],
   "source": [
    "cltv_df[\"cltv\"] = (cltv_df[\"customer_value\"] / churn_rate) * cltv_df[\"profit_margin\"]"
   ]
  },
  {
   "cell_type": "code",
   "execution_count": 73,
   "id": "fb7640d4",
   "metadata": {
    "execution": {
     "iopub.execute_input": "2023-10-25T07:49:50.523799Z",
     "iopub.status.busy": "2023-10-25T07:49:50.523363Z",
     "iopub.status.idle": "2023-10-25T07:49:50.541579Z",
     "shell.execute_reply": "2023-10-25T07:49:50.540426Z"
    },
    "papermill": {
     "duration": 0.08954,
     "end_time": "2023-10-25T07:49:50.544301",
     "exception": false,
     "start_time": "2023-10-25T07:49:50.454761",
     "status": "completed"
    },
    "tags": []
   },
   "outputs": [
    {
     "data": {
      "text/html": [
       "<div>\n",
       "<style scoped>\n",
       "    .dataframe tbody tr th:only-of-type {\n",
       "        vertical-align: middle;\n",
       "    }\n",
       "\n",
       "    .dataframe tbody tr th {\n",
       "        vertical-align: top;\n",
       "    }\n",
       "\n",
       "    .dataframe thead th {\n",
       "        text-align: right;\n",
       "    }\n",
       "</style>\n",
       "<table border=\"1\" class=\"dataframe\">\n",
       "  <thead>\n",
       "    <tr style=\"text-align: right;\">\n",
       "      <th></th>\n",
       "      <th>total_transaction</th>\n",
       "      <th>total_unit</th>\n",
       "      <th>total_price</th>\n",
       "      <th>average_order_value</th>\n",
       "      <th>purchase_frequency</th>\n",
       "      <th>profit_margin</th>\n",
       "      <th>customer_value</th>\n",
       "      <th>cltv</th>\n",
       "    </tr>\n",
       "    <tr>\n",
       "      <th>Customer ID</th>\n",
       "      <th></th>\n",
       "      <th></th>\n",
       "      <th></th>\n",
       "      <th></th>\n",
       "      <th></th>\n",
       "      <th></th>\n",
       "      <th></th>\n",
       "      <th></th>\n",
       "    </tr>\n",
       "  </thead>\n",
       "  <tbody>\n",
       "    <tr>\n",
       "      <th>18102.00000</th>\n",
       "      <td>89</td>\n",
       "      <td>124216</td>\n",
       "      <td>349164.35000</td>\n",
       "      <td>3923.19494</td>\n",
       "      <td>0.02063</td>\n",
       "      <td>34916.43500</td>\n",
       "      <td>80.93749</td>\n",
       "      <td>8579573.77276</td>\n",
       "    </tr>\n",
       "    <tr>\n",
       "      <th>14646.00000</th>\n",
       "      <td>78</td>\n",
       "      <td>170342</td>\n",
       "      <td>248396.50000</td>\n",
       "      <td>3184.57051</td>\n",
       "      <td>0.01808</td>\n",
       "      <td>24839.65000</td>\n",
       "      <td>57.57916</td>\n",
       "      <td>4342070.45829</td>\n",
       "    </tr>\n",
       "    <tr>\n",
       "      <th>14156.00000</th>\n",
       "      <td>102</td>\n",
       "      <td>108107</td>\n",
       "      <td>196566.74000</td>\n",
       "      <td>1927.12490</td>\n",
       "      <td>0.02364</td>\n",
       "      <td>19656.67400</td>\n",
       "      <td>45.56484</td>\n",
       "      <td>2719105.08615</td>\n",
       "    </tr>\n",
       "    <tr>\n",
       "      <th>14911.00000</th>\n",
       "      <td>205</td>\n",
       "      <td>69722</td>\n",
       "      <td>152147.57000</td>\n",
       "      <td>742.18327</td>\n",
       "      <td>0.04752</td>\n",
       "      <td>15214.75700</td>\n",
       "      <td>35.26833</td>\n",
       "      <td>1629055.80978</td>\n",
       "    </tr>\n",
       "    <tr>\n",
       "      <th>13694.00000</th>\n",
       "      <td>94</td>\n",
       "      <td>125893</td>\n",
       "      <td>131443.19000</td>\n",
       "      <td>1398.33181</td>\n",
       "      <td>0.02179</td>\n",
       "      <td>13144.31900</td>\n",
       "      <td>30.46898</td>\n",
       "      <td>1215855.89003</td>\n",
       "    </tr>\n",
       "  </tbody>\n",
       "</table>\n",
       "</div>"
      ],
      "text/plain": [
       "             total_transaction  total_unit  total_price  average_order_value  \\\n",
       "Customer ID                                                                    \n",
       "18102.00000                 89      124216 349164.35000           3923.19494   \n",
       "14646.00000                 78      170342 248396.50000           3184.57051   \n",
       "14156.00000                102      108107 196566.74000           1927.12490   \n",
       "14911.00000                205       69722 152147.57000            742.18327   \n",
       "13694.00000                 94      125893 131443.19000           1398.33181   \n",
       "\n",
       "             purchase_frequency  profit_margin  customer_value          cltv  \n",
       "Customer ID                                                                   \n",
       "18102.00000             0.02063    34916.43500        80.93749 8579573.77276  \n",
       "14646.00000             0.01808    24839.65000        57.57916 4342070.45829  \n",
       "14156.00000             0.02364    19656.67400        45.56484 2719105.08615  \n",
       "14911.00000             0.04752    15214.75700        35.26833 1629055.80978  \n",
       "13694.00000             0.02179    13144.31900        30.46898 1215855.89003  "
      ]
     },
     "execution_count": 73,
     "metadata": {},
     "output_type": "execute_result"
    }
   ],
   "source": [
    "cltv_df.sort_values(by=\"cltv\", ascending=False).head() # büyükten küçüğe"
   ]
  },
  {
   "cell_type": "markdown",
   "id": "7132abb9",
   "metadata": {
    "papermill": {
     "duration": 0.068554,
     "end_time": "2023-10-25T07:49:50.683526",
     "exception": false,
     "start_time": "2023-10-25T07:49:50.614972",
     "status": "completed"
    },
    "tags": []
   },
   "source": [
    "<div style=\"border-radius:10px; border:#D0C2F0 solid; padding: 15px; background-color: #FFF0F4; font-size:100%; text-align:left\">\n",
    "\n",
    "<h3 align=\"left\"><font color='#5E5273'>📄 Notes:</font></h3>\n",
    "    \n",
    "- `cltv_df.sort_values()`: This method is used to sort the data within a DataFrame. It sorts the data in the DataFrame using the `sort_values` function.\n",
    "- `by=\"cltv\"`: The `by` parameter specifies which column to use for sorting. In this case, sorting is performed based on the \"cltv\" column.\n",
    "- `ascending=False`: This parameter ensures that the sorting is done in descending order, with the highest \"cltv\" values appearing at the top."
   ]
  },
  {
   "cell_type": "markdown",
   "id": "6c724eab",
   "metadata": {
    "papermill": {
     "duration": 0.065498,
     "end_time": "2023-10-25T07:49:50.815727",
     "exception": false,
     "start_time": "2023-10-25T07:49:50.750229",
     "status": "completed"
    },
    "tags": []
   },
   "source": [
    "<a id = \"23\"></a><br>\n",
    "### <p style=\"font-family:JetBrains Mono; font-weight:bold; letter-spacing: 2px; color:#045F5F; font-size:140%; text-align:left;padding: 0px; border-bottom: 3px solid\">Creating Segments</p>"
   ]
  },
  {
   "cell_type": "code",
   "execution_count": 74,
   "id": "359a440a",
   "metadata": {
    "execution": {
     "iopub.execute_input": "2023-10-25T07:49:50.957130Z",
     "iopub.status.busy": "2023-10-25T07:49:50.956175Z",
     "iopub.status.idle": "2023-10-25T07:49:50.965345Z",
     "shell.execute_reply": "2023-10-25T07:49:50.964256Z"
    },
    "papermill": {
     "duration": 0.080174,
     "end_time": "2023-10-25T07:49:50.968070",
     "exception": false,
     "start_time": "2023-10-25T07:49:50.887896",
     "status": "completed"
    },
    "tags": []
   },
   "outputs": [],
   "source": [
    "cltv_df[\"segment\"] = pd.qcut(cltv_df[\"cltv\"], 4, labels=[\"D\", \"C\", \"B\", \"A\"])"
   ]
  },
  {
   "cell_type": "code",
   "execution_count": 75,
   "id": "af5c0ff7",
   "metadata": {
    "execution": {
     "iopub.execute_input": "2023-10-25T07:49:51.106330Z",
     "iopub.status.busy": "2023-10-25T07:49:51.105685Z",
     "iopub.status.idle": "2023-10-25T07:49:51.123219Z",
     "shell.execute_reply": "2023-10-25T07:49:51.121614Z"
    },
    "papermill": {
     "duration": 0.089582,
     "end_time": "2023-10-25T07:49:51.126296",
     "exception": false,
     "start_time": "2023-10-25T07:49:51.036714",
     "status": "completed"
    },
    "tags": []
   },
   "outputs": [
    {
     "data": {
      "text/html": [
       "<div>\n",
       "<style scoped>\n",
       "    .dataframe tbody tr th:only-of-type {\n",
       "        vertical-align: middle;\n",
       "    }\n",
       "\n",
       "    .dataframe tbody tr th {\n",
       "        vertical-align: top;\n",
       "    }\n",
       "\n",
       "    .dataframe thead th {\n",
       "        text-align: right;\n",
       "    }\n",
       "</style>\n",
       "<table border=\"1\" class=\"dataframe\">\n",
       "  <thead>\n",
       "    <tr style=\"text-align: right;\">\n",
       "      <th></th>\n",
       "      <th>total_transaction</th>\n",
       "      <th>total_unit</th>\n",
       "      <th>total_price</th>\n",
       "      <th>average_order_value</th>\n",
       "      <th>purchase_frequency</th>\n",
       "      <th>profit_margin</th>\n",
       "      <th>customer_value</th>\n",
       "      <th>cltv</th>\n",
       "      <th>segment</th>\n",
       "    </tr>\n",
       "    <tr>\n",
       "      <th>Customer ID</th>\n",
       "      <th></th>\n",
       "      <th></th>\n",
       "      <th></th>\n",
       "      <th></th>\n",
       "      <th></th>\n",
       "      <th></th>\n",
       "      <th></th>\n",
       "      <th></th>\n",
       "      <th></th>\n",
       "    </tr>\n",
       "  </thead>\n",
       "  <tbody>\n",
       "    <tr>\n",
       "      <th>18102.00000</th>\n",
       "      <td>89</td>\n",
       "      <td>124216</td>\n",
       "      <td>349164.35000</td>\n",
       "      <td>3923.19494</td>\n",
       "      <td>0.02063</td>\n",
       "      <td>34916.43500</td>\n",
       "      <td>80.93749</td>\n",
       "      <td>8579573.77276</td>\n",
       "      <td>A</td>\n",
       "    </tr>\n",
       "    <tr>\n",
       "      <th>14646.00000</th>\n",
       "      <td>78</td>\n",
       "      <td>170342</td>\n",
       "      <td>248396.50000</td>\n",
       "      <td>3184.57051</td>\n",
       "      <td>0.01808</td>\n",
       "      <td>24839.65000</td>\n",
       "      <td>57.57916</td>\n",
       "      <td>4342070.45829</td>\n",
       "      <td>A</td>\n",
       "    </tr>\n",
       "    <tr>\n",
       "      <th>14156.00000</th>\n",
       "      <td>102</td>\n",
       "      <td>108107</td>\n",
       "      <td>196566.74000</td>\n",
       "      <td>1927.12490</td>\n",
       "      <td>0.02364</td>\n",
       "      <td>19656.67400</td>\n",
       "      <td>45.56484</td>\n",
       "      <td>2719105.08615</td>\n",
       "      <td>A</td>\n",
       "    </tr>\n",
       "    <tr>\n",
       "      <th>14911.00000</th>\n",
       "      <td>205</td>\n",
       "      <td>69722</td>\n",
       "      <td>152147.57000</td>\n",
       "      <td>742.18327</td>\n",
       "      <td>0.04752</td>\n",
       "      <td>15214.75700</td>\n",
       "      <td>35.26833</td>\n",
       "      <td>1629055.80978</td>\n",
       "      <td>A</td>\n",
       "    </tr>\n",
       "    <tr>\n",
       "      <th>13694.00000</th>\n",
       "      <td>94</td>\n",
       "      <td>125893</td>\n",
       "      <td>131443.19000</td>\n",
       "      <td>1398.33181</td>\n",
       "      <td>0.02179</td>\n",
       "      <td>13144.31900</td>\n",
       "      <td>30.46898</td>\n",
       "      <td>1215855.89003</td>\n",
       "      <td>A</td>\n",
       "    </tr>\n",
       "  </tbody>\n",
       "</table>\n",
       "</div>"
      ],
      "text/plain": [
       "             total_transaction  total_unit  total_price  average_order_value  \\\n",
       "Customer ID                                                                    \n",
       "18102.00000                 89      124216 349164.35000           3923.19494   \n",
       "14646.00000                 78      170342 248396.50000           3184.57051   \n",
       "14156.00000                102      108107 196566.74000           1927.12490   \n",
       "14911.00000                205       69722 152147.57000            742.18327   \n",
       "13694.00000                 94      125893 131443.19000           1398.33181   \n",
       "\n",
       "             purchase_frequency  profit_margin  customer_value          cltv  \\\n",
       "Customer ID                                                                    \n",
       "18102.00000             0.02063    34916.43500        80.93749 8579573.77276   \n",
       "14646.00000             0.01808    24839.65000        57.57916 4342070.45829   \n",
       "14156.00000             0.02364    19656.67400        45.56484 2719105.08615   \n",
       "14911.00000             0.04752    15214.75700        35.26833 1629055.80978   \n",
       "13694.00000             0.02179    13144.31900        30.46898 1215855.89003   \n",
       "\n",
       "            segment  \n",
       "Customer ID          \n",
       "18102.00000       A  \n",
       "14646.00000       A  \n",
       "14156.00000       A  \n",
       "14911.00000       A  \n",
       "13694.00000       A  "
      ]
     },
     "execution_count": 75,
     "metadata": {},
     "output_type": "execute_result"
    }
   ],
   "source": [
    "cltv_df.sort_values(by=\"cltv\", ascending=False).head()"
   ]
  },
  {
   "cell_type": "code",
   "execution_count": 76,
   "id": "293f0770",
   "metadata": {
    "execution": {
     "iopub.execute_input": "2023-10-25T07:49:51.271374Z",
     "iopub.status.busy": "2023-10-25T07:49:51.270848Z",
     "iopub.status.idle": "2023-10-25T07:49:51.290195Z",
     "shell.execute_reply": "2023-10-25T07:49:51.288796Z"
    },
    "papermill": {
     "duration": 0.093285,
     "end_time": "2023-10-25T07:49:51.292649",
     "exception": false,
     "start_time": "2023-10-25T07:49:51.199364",
     "status": "completed"
    },
    "tags": []
   },
   "outputs": [
    {
     "data": {
      "text/html": [
       "<div>\n",
       "<style scoped>\n",
       "    .dataframe tbody tr th:only-of-type {\n",
       "        vertical-align: middle;\n",
       "    }\n",
       "\n",
       "    .dataframe tbody tr th {\n",
       "        vertical-align: top;\n",
       "    }\n",
       "\n",
       "    .dataframe thead tr th {\n",
       "        text-align: left;\n",
       "    }\n",
       "\n",
       "    .dataframe thead tr:last-of-type th {\n",
       "        text-align: right;\n",
       "    }\n",
       "</style>\n",
       "<table border=\"1\" class=\"dataframe\">\n",
       "  <thead>\n",
       "    <tr>\n",
       "      <th></th>\n",
       "      <th colspan=\"2\" halign=\"left\">cltv</th>\n",
       "    </tr>\n",
       "    <tr>\n",
       "      <th></th>\n",
       "      <th>mean</th>\n",
       "      <th>sum</th>\n",
       "    </tr>\n",
       "    <tr>\n",
       "      <th>segment</th>\n",
       "      <th></th>\n",
       "      <th></th>\n",
       "    </tr>\n",
       "  </thead>\n",
       "  <tbody>\n",
       "    <tr>\n",
       "      <th>D</th>\n",
       "      <td>2.64071</td>\n",
       "      <td>2849.32790</td>\n",
       "    </tr>\n",
       "    <tr>\n",
       "      <th>C</th>\n",
       "      <td>16.86852</td>\n",
       "      <td>18184.26342</td>\n",
       "    </tr>\n",
       "    <tr>\n",
       "      <th>B</th>\n",
       "      <td>96.05739</td>\n",
       "      <td>103549.86329</td>\n",
       "    </tr>\n",
       "    <tr>\n",
       "      <th>A</th>\n",
       "      <td>23408.05843</td>\n",
       "      <td>25257295.04118</td>\n",
       "    </tr>\n",
       "  </tbody>\n",
       "</table>\n",
       "</div>"
      ],
      "text/plain": [
       "               cltv               \n",
       "               mean            sum\n",
       "segment                           \n",
       "D           2.64071     2849.32790\n",
       "C          16.86852    18184.26342\n",
       "B          96.05739   103549.86329\n",
       "A       23408.05843 25257295.04118"
      ]
     },
     "execution_count": 76,
     "metadata": {},
     "output_type": "execute_result"
    }
   ],
   "source": [
    "cltv_df.groupby(\"segment\").agg({\"cltv\": [\"mean\", \"sum\"]})"
   ]
  },
  {
   "cell_type": "code",
   "execution_count": 77,
   "id": "2cfb63dd",
   "metadata": {
    "execution": {
     "iopub.execute_input": "2023-10-25T07:49:51.437334Z",
     "iopub.status.busy": "2023-10-25T07:49:51.436480Z",
     "iopub.status.idle": "2023-10-25T07:49:51.517480Z",
     "shell.execute_reply": "2023-10-25T07:49:51.515941Z"
    },
    "papermill": {
     "duration": 0.156272,
     "end_time": "2023-10-25T07:49:51.520528",
     "exception": false,
     "start_time": "2023-10-25T07:49:51.364256",
     "status": "completed"
    },
    "tags": []
   },
   "outputs": [],
   "source": [
    "cltv_df.to_csv(\"cltc_c.csv\")"
   ]
  },
  {
   "cell_type": "markdown",
   "id": "9358e00b",
   "metadata": {
    "papermill": {
     "duration": 0.067602,
     "end_time": "2023-10-25T07:49:51.653611",
     "exception": false,
     "start_time": "2023-10-25T07:49:51.586009",
     "status": "completed"
    },
    "tags": []
   },
   "source": [
    "---"
   ]
  },
  {
   "cell_type": "markdown",
   "id": "1b783ebb",
   "metadata": {
    "papermill": {
     "duration": 0.067702,
     "end_time": "2023-10-25T07:49:51.790181",
     "exception": false,
     "start_time": "2023-10-25T07:49:51.722479",
     "status": "completed"
    },
    "tags": []
   },
   "source": [
    "<a id = \"24\"></a><br>\n",
    "<h1 style=\"background-color:#8B0000; font-family:courier; font-size:325%; font-style: oblique; font-weight: bold; font-variant: small-caps; text-align:center; color:#D2B48C; border-radius: 15px 50px;\"> Customer Life Time Value Prediction </h1>"
   ]
  },
  {
   "cell_type": "markdown",
   "id": "58d8c296",
   "metadata": {
    "papermill": {
     "duration": 0.0702,
     "end_time": "2023-10-25T07:49:51.936302",
     "exception": false,
     "start_time": "2023-10-25T07:49:51.866102",
     "status": "completed"
    },
    "tags": []
   },
   "source": [
    "* **Time-Projected Probabilistic Lifetime Value Estimation**\n",
    "\n",
    "    * CLTV = (Customer Value / Churn Rate) * Profit Margin\n",
    "    * Customer Value = Purchase Frequency * Average Order Value (The order is deliberately changed for a probabilistic interpretation.)\n",
    "    \n",
    "* In probabilistic terms:\n",
    "    * **CLTV = Conditional Expected Number of Transactions * Conditional Expected Average Profit**\n",
    "    \n",
    "        * The Customer Value formula is equivalent to the Probabilistic CLTV:\n",
    "            * Purchase Frequency = Conditional Expected Number of Transactions\n",
    "            * Average Order Value = Conditional Expected Average Profit\n",
    "    \n",
    "* Conditional Expected Number of Transactions: We will model the purchasing behavior of the entire population with a probability distribution and then use this modeled behavior with conditional information, shaping the expected transaction numbers for each individual.\n",
    "* Conditional Expected Average Profit: We will model the average profit value for the entire population as a probability distribution. Subsequently, using this model, we can conditionally, based on individual characteristics, calculate the expected average profits for each person. These expected profits will be derived in a way that is conditioned on the distribution of the main population.\n",
    "\n",
    "* We will employ two models to perform these tasks:\n",
    "\n",
    "    * **CLTV = BG/NBD Model * Gamma Gamma Submodel**\n",
    "\n",
    "This approach allows us to make probabilistic forecasts for Customer Lifetime Value, incorporating statistical models to estimate expected transaction numbers and expected average profits on an individual basis."
   ]
  },
  {
   "cell_type": "markdown",
   "id": "32a0b727",
   "metadata": {
    "papermill": {
     "duration": 0.071379,
     "end_time": "2023-10-25T07:49:52.075675",
     "exception": false,
     "start_time": "2023-10-25T07:49:52.004296",
     "status": "completed"
    },
    "tags": []
   },
   "source": [
    "<a id = \"25\"></a><br>\n",
    "### <p style=\"font-family:JetBrains Mono; font-weight:bold; letter-spacing: 2px; color:#045F5F; font-size:140%; text-align:left;padding: 0px; border-bottom: 3px solid\">Expected Number of Transaction with BG/NBD</p>"
   ]
  },
  {
   "cell_type": "markdown",
   "id": "d7920834",
   "metadata": {
    "papermill": {
     "duration": 0.065594,
     "end_time": "2023-10-25T07:49:52.207486",
     "exception": false,
     "start_time": "2023-10-25T07:49:52.141892",
     "status": "completed"
    },
    "tags": []
   },
   "source": [
    "* The term \"Expected\" is used to express the expected value of a random variable.\n",
    "* The expected value of a random variable is its average value.\n",
    "* A random variable is a variable that takes its values from the outcomes of an experiment.\n",
    "* In other words, when we assume that a variable follows a specific probability distribution, the expected value of that variable is, in fact, its average.\n",
    "* The term \"Conditional Expected\" here usually refers to the idea that we will learn a distribution structure from a population. This distribution structure will represent the probability distribution of individuals' purchase or transaction behaviors, and by conditioning this expected value of the probability distribution, in other words, its average, we will shape it individually for each person. So, by conditioning the expected value of the probability distribution, we will be estimating the expected number of transactions for each individual.\n",
    "* Instead of \"Expected Number of Transaction,\" the term \"Expected Sales for Casting\" could have been used."
   ]
  },
  {
   "cell_type": "markdown",
   "id": "7e556418",
   "metadata": {
    "papermill": {
     "duration": 0.065846,
     "end_time": "2023-10-25T07:49:52.342214",
     "exception": false,
     "start_time": "2023-10-25T07:49:52.276368",
     "status": "completed"
    },
    "tags": []
   },
   "source": [
    "* BG/NBD stands for Beta Geometric/Negative Binomial Distribution.\n",
    "* The BG/NBD model is used as a standalone sales forecasting model. It's often referred to as \"Buy Till You Die\" in the literature.\n",
    "* The BG/NBD Model probabilistically models two processes for the Expected Number of Transactions:\n",
    "    1. Transaction Process (Buy)\n",
    "    2. Dropout Process (Till You Die) (Churn)\n",
    "        * Transaction Process (Buy):\n",
    "            * As long as a customer is \"alive,\" the number of transactions they will make in a specific time period follows a Poisson distribution with a transaction rate parameter.\n",
    "            * A customer will continue to make random purchases around their transaction rate as long as they are alive.\n",
    "            * Transaction rates vary for each customer and follow a gamma distribution across the entire population (r, a).\n",
    "            * This allows us to make inferences about a known population distribution using the variable.\n",
    "        * Dropout Process (Till You Die):\n",
    "            * Each customer has a dropout rate (dropout probability) with a probability of p.\n",
    "            * After making a purchase, a customer may drop out with a certain probability.\n",
    "            * Dropout rates vary for each customer and follow a beta distribution across the entire population (a, b).\n",
    "* Two important takeaways are that the Transaction Rate follows a gamma distribution, while the Dropout Rate follows a beta distribution."
   ]
  },
  {
   "cell_type": "markdown",
   "id": "7a859b54",
   "metadata": {
    "papermill": {
     "duration": 0.067036,
     "end_time": "2023-10-25T07:49:52.474790",
     "exception": false,
     "start_time": "2023-10-25T07:49:52.407754",
     "status": "completed"
    },
    "tags": []
   },
   "source": [
    "<div style=\"border-radius:10px; border:#D0C2F0 solid; padding: 15px; background-color: #FFF0F4; font-size:100%; text-align:left\">\n",
    "\n",
    "<h3 align=\"left\"><font color='#5E5273'>📄 Notes:</font></h3>\n",
    "\n",
    "1. **Random Variable**: A random variable represents the outcome of an experiment, and these outcomes can occur randomly or according to a certain pattern. For example, in a dice rolling game, the outcome of which number the dice will land on is a random variable. It is a variable that can produce unpredictable results.\n",
    "2. **Poisson Distribution**: The Poisson distribution is used to model the number of rare events. For example, it can be used to estimate how often a traffic light will malfunction within a certain time frame. The Poisson distribution is suitable for cases where events are independent and occur at a constant average rate.\n",
    "3. **Gamma Distribution**: The gamma distribution is a continuous probability distribution and is especially used to model the number of random events occurring within a specific time period. It is commonly used to model the durations of events generated from a Poisson distribution.\n",
    "4. **p Probability**: \"p\" represents the probability of a specific outcome of an event. For example, the probability that a customer will churn after making a purchase can be expressed as \"p.\" This probability provides information about whether a customer will take a certain action or not.\n",
    "5. **Beta Distribution**: The beta distribution is used to model a parameter of a probability distribution. It is commonly used to model probabilities such as the churn rate of customers. The beta distribution is used to express the distribution of probabilities.\n",
    "\n",
    "These terms are used in modeling customer behavior and predicting customer lifetime value. For instance, they can be used to model and predict factors like how often a customer will make a purchase or the probability of them churning. These concepts form the basis of statistical and probability models commonly used in marketing and customer relationship management."
   ]
  },
  {
   "cell_type": "markdown",
   "id": "865ee2c7",
   "metadata": {
    "papermill": {
     "duration": 0.065512,
     "end_time": "2023-10-25T07:49:52.608199",
     "exception": false,
     "start_time": "2023-10-25T07:49:52.542687",
     "status": "completed"
    },
    "tags": []
   },
   "source": [
    "1. **E(Y(t) | X = x, tx, T, r, a, a, b)**:\n",
    "\n",
    "   - **x**: The number of repeated purchases by a customer. It indicates that the customer has made at least a second purchase.\n",
    "   - **tx**: Recency value, which represents the time elapsed between a customer's first purchase and their last purchase. This is calculated on a weekly basis and is unique for each customer.\n",
    "   - **T**: Time, indicating the difference between the date of the first purchase by customers and the date when the analysis is conducted. It reflects the customer's \"age\" in weeks.\n",
    "   - These first three values are specific to individual customers.\n",
    "   - **X**: A random variable, meaning \"X takes on the values after the equal sign.\"\n",
    "   - **r, a**: Parameters of the gamma distribution.\n",
    "   - **a, b**: Parameters of the beta distribution.\n",
    "   - The Maximum Likelihood Estimation method is used to estimate the parameters of these two probability distributions, and it will be found using the functions we will use.\n",
    "   - **Y(t)**: This represents the expected number of transactions in a specific time period \"t.\"\n",
    "   - **E**: Expected value.\n",
    "\n",
    "2. The resulting parameters, obtained through the prediction process, will shape the probabilistic nature of purchasing behavior in our dataset. In other words, these parameters will customize the gamma and beta distributions to best fit our audience.\n",
    "\n",
    "These concepts and parameters play a crucial role in the development of probabilistic models that predict customer behavior and future transactions accurately."
   ]
  },
  {
   "cell_type": "markdown",
   "id": "054fbdf7",
   "metadata": {
    "papermill": {
     "duration": 0.066192,
     "end_time": "2023-10-25T07:49:52.741098",
     "exception": false,
     "start_time": "2023-10-25T07:49:52.674906",
     "status": "completed"
    },
    "tags": []
   },
   "source": [
    "<a id = \"26\"></a><br>\n",
    "### <p style=\"font-family:JetBrains Mono; font-weight:bold; letter-spacing: 2px; color:#045F5F; font-size:140%; text-align:left;padding: 0px; border-bottom: 3px solid\">Gamma Gamma Submodel</p>"
   ]
  },
  {
   "cell_type": "markdown",
   "id": "4e32cc93",
   "metadata": {
    "papermill": {
     "duration": 0.068901,
     "end_time": "2023-10-25T07:49:52.876510",
     "exception": false,
     "start_time": "2023-10-25T07:49:52.807609",
     "status": "completed"
    },
    "tags": []
   },
   "source": [
    "1. **Transaction Profit Estimation**:\n",
    "   - Used to estimate how much profit a customer can generate per transaction. This can be thought of as a prediction of the expected profit from the customer for each transaction or purchase.\n",
    "\n",
    "2. **Probabilistic Version of Average Order Value**:\n",
    "   - Average Order Value typically represents how much a customer spends on average per transaction. This is equivalent to the average transaction value.\n",
    "\n",
    "3. **Probabilistic Nature of Customer Transaction Value**:\n",
    "   - This implies that the transaction value (i.e., the monetary value of any purchase) for a customer is randomly distributed around an average value. For example, if a customer had 3 transactions and spent a total of 1200 USD, this definition suggests that this customer will continue to spend an average of 400 USD per transaction in the future, randomly.\n",
    "\n",
    "4. **Average Transaction Value**:\n",
    "   - It refers to the average amount spent per transaction. This indicates the expected amount that a customer will spend, on average, per transaction. This value follows a probability distribution known as a gamma distribution, which characterizes the distribution of this value across all customers."
   ]
  },
  {
   "cell_type": "markdown",
   "id": "8db075b0",
   "metadata": {
    "papermill": {
     "duration": 0.070645,
     "end_time": "2023-10-25T07:49:53.015602",
     "exception": false,
     "start_time": "2023-10-25T07:49:52.944957",
     "status": "completed"
    },
    "tags": []
   },
   "source": [
    "* **E (M | p,q,y,mx,x)**:\n",
    "    - This represents the conditional expected value of monetary spending (M) based on certain conditions.\n",
    "    - x: This represents the frequency value, indicating the number of repeated transactions, specifically customers who have made at least their second purchase.\n",
    "    - mx: This symbolizes the observed transaction values.\n",
    "    - When you input values for p, q, y, mx, and x on the right-hand side of the '|' symbol, it will provide the expected monetary value (E) under those specific conditions.\n",
    "\n",
    "This concept is used to predict the expected monetary spending by a customer under certain circumstances, which are characterized by the given variables and conditions."
   ]
  },
  {
   "cell_type": "markdown",
   "id": "9ac5a31b",
   "metadata": {
    "papermill": {
     "duration": 0.068268,
     "end_time": "2023-10-25T07:49:53.153479",
     "exception": false,
     "start_time": "2023-10-25T07:49:53.085211",
     "status": "completed"
    },
    "tags": []
   },
   "source": [
    "---"
   ]
  },
  {
   "cell_type": "markdown",
   "id": "a3988e26",
   "metadata": {
    "papermill": {
     "duration": 0.067185,
     "end_time": "2023-10-25T07:49:53.290451",
     "exception": false,
     "start_time": "2023-10-25T07:49:53.223266",
     "status": "completed"
    },
    "tags": []
   },
   "source": [
    "<a id = \"27\"></a><br>\n",
    "<h1 style=\"background-color:#8B0000; font-family:courier; font-size:325%; font-style: oblique; font-weight: bold; font-variant: small-caps; text-align:center; color:#D2B48C; border-radius: 15px 50px;\"> CLTV Prediction with BG-NBD & Gamma Gamma </h1>"
   ]
  },
  {
   "cell_type": "markdown",
   "id": "6553822b",
   "metadata": {
    "papermill": {
     "duration": 0.066174,
     "end_time": "2023-10-25T07:49:53.423075",
     "exception": false,
     "start_time": "2023-10-25T07:49:53.356901",
     "status": "completed"
    },
    "tags": []
   },
   "source": [
    "<a id = \"28\"></a><br>\n",
    "### <p style=\"font-family:JetBrains Mono; font-weight:bold; letter-spacing: 2px; color:#045F5F; font-size:140%; text-align:left;padding: 0px; border-bottom: 3px solid\">Business Problem</p>"
   ]
  },
  {
   "cell_type": "markdown",
   "id": "828f57e9",
   "metadata": {
    "papermill": {
     "duration": 0.067485,
     "end_time": "2023-10-25T07:49:53.556257",
     "exception": false,
     "start_time": "2023-10-25T07:49:53.488772",
     "status": "completed"
    },
    "tags": []
   },
   "source": [
    "An e-commerce company aims to segment its customers and formulate marketing strategies based on these segments.\n",
    "\n",
    "The dataset \"Online Retail II\" contains the sales of an online retail store based in the United Kingdom from 01/12/2009 to 09/12/2011.\n",
    "\n",
    "Source: https://archive.ics.uci.edu/ml/datasets/Online+Retail+II"
   ]
  },
  {
   "cell_type": "markdown",
   "id": "879b1544",
   "metadata": {
    "papermill": {
     "duration": 0.067266,
     "end_time": "2023-10-25T07:49:53.691044",
     "exception": false,
     "start_time": "2023-10-25T07:49:53.623778",
     "status": "completed"
    },
    "tags": []
   },
   "source": [
    "<a id = \"29\"></a><br>\n",
    "### <p style=\"font-family:JetBrains Mono; font-weight:bold; letter-spacing: 2px; color:#045F5F; font-size:140%; text-align:left;padding: 0px; border-bottom: 3px solid\">Data Preparing</p>"
   ]
  },
  {
   "cell_type": "code",
   "execution_count": 78,
   "id": "fd127aba",
   "metadata": {
    "execution": {
     "iopub.execute_input": "2023-10-25T07:49:53.828034Z",
     "iopub.status.busy": "2023-10-25T07:49:53.827247Z",
     "iopub.status.idle": "2023-10-25T07:50:11.486904Z",
     "shell.execute_reply": "2023-10-25T07:50:11.484262Z"
    },
    "papermill": {
     "duration": 17.732206,
     "end_time": "2023-10-25T07:50:11.490154",
     "exception": false,
     "start_time": "2023-10-25T07:49:53.757948",
     "status": "completed"
    },
    "tags": []
   },
   "outputs": [
    {
     "name": "stdout",
     "output_type": "stream",
     "text": [
      "Collecting lifetimes\r\n",
      "  Downloading Lifetimes-0.11.3-py3-none-any.whl (584 kB)\r\n",
      "\u001b[2K     \u001b[90m━━━━━━━━━━━━━━━━━━━━━━━━━━━━━━━━━━━━━━━\u001b[0m \u001b[32m584.2/584.2 kB\u001b[0m \u001b[31m9.9 MB/s\u001b[0m eta \u001b[36m0:00:00\u001b[0m\r\n",
      "\u001b[?25hRequirement already satisfied: numpy>=1.10.0 in /opt/conda/lib/python3.10/site-packages (from lifetimes) (1.23.5)\r\n",
      "Requirement already satisfied: scipy>=1.0.0 in /opt/conda/lib/python3.10/site-packages (from lifetimes) (1.11.2)\r\n",
      "Requirement already satisfied: pandas>=0.24.0 in /opt/conda/lib/python3.10/site-packages (from lifetimes) (2.0.3)\r\n",
      "Collecting autograd>=1.2.0 (from lifetimes)\r\n",
      "  Downloading autograd-1.6.2-py3-none-any.whl (49 kB)\r\n",
      "\u001b[2K     \u001b[90m━━━━━━━━━━━━━━━━━━━━━━━━━━━━━━━━━━━━━━━━\u001b[0m \u001b[32m49.3/49.3 kB\u001b[0m \u001b[31m2.9 MB/s\u001b[0m eta \u001b[36m0:00:00\u001b[0m\r\n",
      "\u001b[?25hRequirement already satisfied: dill>=0.2.6 in /opt/conda/lib/python3.10/site-packages (from lifetimes) (0.3.7)\r\n",
      "Requirement already satisfied: future>=0.15.2 in /opt/conda/lib/python3.10/site-packages (from autograd>=1.2.0->lifetimes) (0.18.3)\r\n",
      "Requirement already satisfied: python-dateutil>=2.8.2 in /opt/conda/lib/python3.10/site-packages (from pandas>=0.24.0->lifetimes) (2.8.2)\r\n",
      "Requirement already satisfied: pytz>=2020.1 in /opt/conda/lib/python3.10/site-packages (from pandas>=0.24.0->lifetimes) (2023.3)\r\n",
      "Requirement already satisfied: tzdata>=2022.1 in /opt/conda/lib/python3.10/site-packages (from pandas>=0.24.0->lifetimes) (2023.3)\r\n",
      "Requirement already satisfied: six>=1.5 in /opt/conda/lib/python3.10/site-packages (from python-dateutil>=2.8.2->pandas>=0.24.0->lifetimes) (1.16.0)\r\n",
      "Installing collected packages: autograd, lifetimes\r\n",
      "Successfully installed autograd-1.6.2 lifetimes-0.11.3\r\n"
     ]
    }
   ],
   "source": [
    "!pip install lifetimes"
   ]
  },
  {
   "cell_type": "code",
   "execution_count": 79,
   "id": "f3d46308",
   "metadata": {
    "execution": {
     "iopub.execute_input": "2023-10-25T07:50:11.641790Z",
     "iopub.status.busy": "2023-10-25T07:50:11.641248Z",
     "iopub.status.idle": "2023-10-25T07:50:11.737439Z",
     "shell.execute_reply": "2023-10-25T07:50:11.735658Z"
    },
    "papermill": {
     "duration": 0.175414,
     "end_time": "2023-10-25T07:50:11.740922",
     "exception": false,
     "start_time": "2023-10-25T07:50:11.565508",
     "status": "completed"
    },
    "tags": []
   },
   "outputs": [],
   "source": [
    "import datetime as dt\n",
    "import pandas as pd\n",
    "import matplotlib.pyplot as plt\n",
    "from lifetimes import BetaGeoFitter\n",
    "from lifetimes import GammaGammaFitter\n",
    "from lifetimes.plotting import plot_period_transactions\n",
    "\n",
    "from sklearn.preprocessing import MinMaxScaler\n",
    "\n",
    "import warnings\n",
    "\n",
    "warnings.filterwarnings(\"ignore\")\n",
    "\n",
    "pd.set_option('display.max_columns', None)\n",
    "pd.set_option('display.max_rows', None)\n",
    "pd.set_option('display.float_format', lambda x: '%.5f' % x)"
   ]
  },
  {
   "cell_type": "markdown",
   "id": "9f2924ad",
   "metadata": {
    "papermill": {
     "duration": 0.071246,
     "end_time": "2023-10-25T07:50:11.887064",
     "exception": false,
     "start_time": "2023-10-25T07:50:11.815818",
     "status": "completed"
    },
    "tags": []
   },
   "source": [
    "<div style=\"border-radius: 10px; border: #6B8E23 solid; padding: 15px; background-color: #F5F5DC; font-size: 100%; text-align: left\">\n",
    "\n",
    "<h3 align=\"left\"><font color='#556B2F'>👀 Features : </font></h3>\n",
    "\n",
    "1. **InvoiceNo**: Invoice number, a unique number assigned to each transaction or invoice. If it starts with 'C,' it indicates a canceled transaction.\n",
    "1. **StockCode**: Product code, a unique number for each product.\n",
    "1. **Description**: Product name.\n",
    "1. **Quantity**: Quantity of products, indicating how many of the products on the invoices were sold.\n",
    "1. **InvoiceDate**: Invoice date and time.\n",
    "1. **UnitPrice**: Product price (in pounds).\n",
    "1. **CustomerID**: Unique customer number.\n",
    "1. **Country**: Name of the country where the customer resides."
   ]
  },
  {
   "cell_type": "code",
   "execution_count": 80,
   "id": "8eb7c837",
   "metadata": {
    "execution": {
     "iopub.execute_input": "2023-10-25T07:50:12.037158Z",
     "iopub.status.busy": "2023-10-25T07:50:12.036165Z",
     "iopub.status.idle": "2023-10-25T07:50:12.044291Z",
     "shell.execute_reply": "2023-10-25T07:50:12.042590Z"
    },
    "papermill": {
     "duration": 0.086589,
     "end_time": "2023-10-25T07:50:12.047483",
     "exception": false,
     "start_time": "2023-10-25T07:50:11.960894",
     "status": "completed"
    },
    "tags": []
   },
   "outputs": [],
   "source": [
    "def outlier_thresholds(dataframe, variable):\n",
    "    \n",
    "    quartile1 = dataframe[variable].quantile(0.01)\n",
    "    quartile3 = dataframe[variable].quantile(0.99)\n",
    "    interquantile_range = quartile3 - quartile1\n",
    "    up_limit = quartile3 + 1.5 * interquantile_range\n",
    "    low_limit = quartile1 - 1.5 * interquantile_range\n",
    "    \n",
    "    return low_limit, up_limit"
   ]
  },
  {
   "cell_type": "code",
   "execution_count": 81,
   "id": "c768f671",
   "metadata": {
    "execution": {
     "iopub.execute_input": "2023-10-25T07:50:12.196781Z",
     "iopub.status.busy": "2023-10-25T07:50:12.196293Z",
     "iopub.status.idle": "2023-10-25T07:50:12.202951Z",
     "shell.execute_reply": "2023-10-25T07:50:12.201330Z"
    },
    "papermill": {
     "duration": 0.084994,
     "end_time": "2023-10-25T07:50:12.206044",
     "exception": false,
     "start_time": "2023-10-25T07:50:12.121050",
     "status": "completed"
    },
    "tags": []
   },
   "outputs": [],
   "source": [
    "def replace_with_thresholds(dataframe, variable):\n",
    "    low_limit, up_limit = outlier_thresholds(dataframe, variable)\n",
    "    # dataframe.loc[(dataframe[variable] < low_limit), variable] = low_limit \n",
    "    # bu fonksiyonda eksi değerler olmadığı için bu proje özelinde çalışmayacaktır. Bu yüzden kapalı.\n",
    "    dataframe.loc[(dataframe[variable] > up_limit), variable] = up_limit"
   ]
  },
  {
   "cell_type": "code",
   "execution_count": 82,
   "id": "d3d6ef2b",
   "metadata": {
    "execution": {
     "iopub.execute_input": "2023-10-25T07:50:12.355937Z",
     "iopub.status.busy": "2023-10-25T07:50:12.355057Z",
     "iopub.status.idle": "2023-10-25T07:50:13.769577Z",
     "shell.execute_reply": "2023-10-25T07:50:13.768642Z"
    },
    "papermill": {
     "duration": 1.492835,
     "end_time": "2023-10-25T07:50:13.772533",
     "exception": false,
     "start_time": "2023-10-25T07:50:12.279698",
     "status": "completed"
    },
    "tags": []
   },
   "outputs": [],
   "source": [
    "df_ = pd.read_csv(\"/kaggle/input/online-retail-ii-data-set-from-ml-repository/Year 2010-2011.csv\", encoding='iso-8859-9')"
   ]
  },
  {
   "cell_type": "code",
   "execution_count": 83,
   "id": "f4cf86bd",
   "metadata": {
    "execution": {
     "iopub.execute_input": "2023-10-25T07:50:13.919169Z",
     "iopub.status.busy": "2023-10-25T07:50:13.917721Z",
     "iopub.status.idle": "2023-10-25T07:50:13.958292Z",
     "shell.execute_reply": "2023-10-25T07:50:13.957021Z"
    },
    "papermill": {
     "duration": 0.118176,
     "end_time": "2023-10-25T07:50:13.962363",
     "exception": false,
     "start_time": "2023-10-25T07:50:13.844187",
     "status": "completed"
    },
    "tags": []
   },
   "outputs": [],
   "source": [
    "df = df_.copy()"
   ]
  },
  {
   "cell_type": "code",
   "execution_count": 84,
   "id": "38d591ba",
   "metadata": {
    "execution": {
     "iopub.execute_input": "2023-10-25T07:50:14.125892Z",
     "iopub.status.busy": "2023-10-25T07:50:14.124513Z",
     "iopub.status.idle": "2023-10-25T07:50:14.225166Z",
     "shell.execute_reply": "2023-10-25T07:50:14.223565Z"
    },
    "papermill": {
     "duration": 0.189836,
     "end_time": "2023-10-25T07:50:14.228785",
     "exception": false,
     "start_time": "2023-10-25T07:50:14.038949",
     "status": "completed"
    },
    "tags": []
   },
   "outputs": [
    {
     "data": {
      "text/html": [
       "<div>\n",
       "<style scoped>\n",
       "    .dataframe tbody tr th:only-of-type {\n",
       "        vertical-align: middle;\n",
       "    }\n",
       "\n",
       "    .dataframe tbody tr th {\n",
       "        vertical-align: top;\n",
       "    }\n",
       "\n",
       "    .dataframe thead th {\n",
       "        text-align: right;\n",
       "    }\n",
       "</style>\n",
       "<table border=\"1\" class=\"dataframe\">\n",
       "  <thead>\n",
       "    <tr style=\"text-align: right;\">\n",
       "      <th></th>\n",
       "      <th>count</th>\n",
       "      <th>mean</th>\n",
       "      <th>std</th>\n",
       "      <th>min</th>\n",
       "      <th>25%</th>\n",
       "      <th>50%</th>\n",
       "      <th>75%</th>\n",
       "      <th>max</th>\n",
       "    </tr>\n",
       "  </thead>\n",
       "  <tbody>\n",
       "    <tr>\n",
       "      <th>Quantity</th>\n",
       "      <td>541910.00000</td>\n",
       "      <td>9.55223</td>\n",
       "      <td>218.08096</td>\n",
       "      <td>-80995.00000</td>\n",
       "      <td>1.00000</td>\n",
       "      <td>3.00000</td>\n",
       "      <td>10.00000</td>\n",
       "      <td>80995.00000</td>\n",
       "    </tr>\n",
       "    <tr>\n",
       "      <th>Price</th>\n",
       "      <td>541910.00000</td>\n",
       "      <td>4.61114</td>\n",
       "      <td>96.75977</td>\n",
       "      <td>-11062.06000</td>\n",
       "      <td>1.25000</td>\n",
       "      <td>2.08000</td>\n",
       "      <td>4.13000</td>\n",
       "      <td>38970.00000</td>\n",
       "    </tr>\n",
       "    <tr>\n",
       "      <th>Customer ID</th>\n",
       "      <td>406830.00000</td>\n",
       "      <td>15287.68416</td>\n",
       "      <td>1713.60307</td>\n",
       "      <td>12346.00000</td>\n",
       "      <td>13953.00000</td>\n",
       "      <td>15152.00000</td>\n",
       "      <td>16791.00000</td>\n",
       "      <td>18287.00000</td>\n",
       "    </tr>\n",
       "  </tbody>\n",
       "</table>\n",
       "</div>"
      ],
      "text/plain": [
       "                   count        mean        std          min         25%  \\\n",
       "Quantity    541910.00000     9.55223  218.08096 -80995.00000     1.00000   \n",
       "Price       541910.00000     4.61114   96.75977 -11062.06000     1.25000   \n",
       "Customer ID 406830.00000 15287.68416 1713.60307  12346.00000 13953.00000   \n",
       "\n",
       "                    50%         75%         max  \n",
       "Quantity        3.00000    10.00000 80995.00000  \n",
       "Price           2.08000     4.13000 38970.00000  \n",
       "Customer ID 15152.00000 16791.00000 18287.00000  "
      ]
     },
     "execution_count": 84,
     "metadata": {},
     "output_type": "execute_result"
    }
   ],
   "source": [
    "df.describe().T"
   ]
  },
  {
   "cell_type": "code",
   "execution_count": 85,
   "id": "0533c672",
   "metadata": {
    "execution": {
     "iopub.execute_input": "2023-10-25T07:50:14.381372Z",
     "iopub.status.busy": "2023-10-25T07:50:14.380849Z",
     "iopub.status.idle": "2023-10-25T07:50:14.398046Z",
     "shell.execute_reply": "2023-10-25T07:50:14.396715Z"
    },
    "papermill": {
     "duration": 0.093976,
     "end_time": "2023-10-25T07:50:14.401477",
     "exception": false,
     "start_time": "2023-10-25T07:50:14.307501",
     "status": "completed"
    },
    "tags": []
   },
   "outputs": [
    {
     "data": {
      "text/html": [
       "<div>\n",
       "<style scoped>\n",
       "    .dataframe tbody tr th:only-of-type {\n",
       "        vertical-align: middle;\n",
       "    }\n",
       "\n",
       "    .dataframe tbody tr th {\n",
       "        vertical-align: top;\n",
       "    }\n",
       "\n",
       "    .dataframe thead th {\n",
       "        text-align: right;\n",
       "    }\n",
       "</style>\n",
       "<table border=\"1\" class=\"dataframe\">\n",
       "  <thead>\n",
       "    <tr style=\"text-align: right;\">\n",
       "      <th></th>\n",
       "      <th>Invoice</th>\n",
       "      <th>StockCode</th>\n",
       "      <th>Description</th>\n",
       "      <th>Quantity</th>\n",
       "      <th>InvoiceDate</th>\n",
       "      <th>Price</th>\n",
       "      <th>Customer ID</th>\n",
       "      <th>Country</th>\n",
       "    </tr>\n",
       "  </thead>\n",
       "  <tbody>\n",
       "    <tr>\n",
       "      <th>0</th>\n",
       "      <td>536365</td>\n",
       "      <td>85123A</td>\n",
       "      <td>WHITE HANGING HEART T-LIGHT HOLDER</td>\n",
       "      <td>6</td>\n",
       "      <td>12/1/2010 8:26</td>\n",
       "      <td>2.55000</td>\n",
       "      <td>17850.00000</td>\n",
       "      <td>United Kingdom</td>\n",
       "    </tr>\n",
       "    <tr>\n",
       "      <th>1</th>\n",
       "      <td>536365</td>\n",
       "      <td>71053</td>\n",
       "      <td>WHITE METAL LANTERN</td>\n",
       "      <td>6</td>\n",
       "      <td>12/1/2010 8:26</td>\n",
       "      <td>3.39000</td>\n",
       "      <td>17850.00000</td>\n",
       "      <td>United Kingdom</td>\n",
       "    </tr>\n",
       "    <tr>\n",
       "      <th>2</th>\n",
       "      <td>536365</td>\n",
       "      <td>84406B</td>\n",
       "      <td>CREAM CUPID HEARTS COAT HANGER</td>\n",
       "      <td>8</td>\n",
       "      <td>12/1/2010 8:26</td>\n",
       "      <td>2.75000</td>\n",
       "      <td>17850.00000</td>\n",
       "      <td>United Kingdom</td>\n",
       "    </tr>\n",
       "    <tr>\n",
       "      <th>3</th>\n",
       "      <td>536365</td>\n",
       "      <td>84029G</td>\n",
       "      <td>KNITTED UNION FLAG HOT WATER BOTTLE</td>\n",
       "      <td>6</td>\n",
       "      <td>12/1/2010 8:26</td>\n",
       "      <td>3.39000</td>\n",
       "      <td>17850.00000</td>\n",
       "      <td>United Kingdom</td>\n",
       "    </tr>\n",
       "    <tr>\n",
       "      <th>4</th>\n",
       "      <td>536365</td>\n",
       "      <td>84029E</td>\n",
       "      <td>RED WOOLLY HOTTIE WHITE HEART.</td>\n",
       "      <td>6</td>\n",
       "      <td>12/1/2010 8:26</td>\n",
       "      <td>3.39000</td>\n",
       "      <td>17850.00000</td>\n",
       "      <td>United Kingdom</td>\n",
       "    </tr>\n",
       "  </tbody>\n",
       "</table>\n",
       "</div>"
      ],
      "text/plain": [
       "  Invoice StockCode                          Description  Quantity  \\\n",
       "0  536365    85123A   WHITE HANGING HEART T-LIGHT HOLDER         6   \n",
       "1  536365     71053                  WHITE METAL LANTERN         6   \n",
       "2  536365    84406B       CREAM CUPID HEARTS COAT HANGER         8   \n",
       "3  536365    84029G  KNITTED UNION FLAG HOT WATER BOTTLE         6   \n",
       "4  536365    84029E       RED WOOLLY HOTTIE WHITE HEART.         6   \n",
       "\n",
       "      InvoiceDate   Price  Customer ID         Country  \n",
       "0  12/1/2010 8:26 2.55000  17850.00000  United Kingdom  \n",
       "1  12/1/2010 8:26 3.39000  17850.00000  United Kingdom  \n",
       "2  12/1/2010 8:26 2.75000  17850.00000  United Kingdom  \n",
       "3  12/1/2010 8:26 3.39000  17850.00000  United Kingdom  \n",
       "4  12/1/2010 8:26 3.39000  17850.00000  United Kingdom  "
      ]
     },
     "execution_count": 85,
     "metadata": {},
     "output_type": "execute_result"
    }
   ],
   "source": [
    "df.head()"
   ]
  },
  {
   "cell_type": "code",
   "execution_count": 86,
   "id": "0f7e1450",
   "metadata": {
    "execution": {
     "iopub.execute_input": "2023-10-25T07:50:14.547405Z",
     "iopub.status.busy": "2023-10-25T07:50:14.547024Z",
     "iopub.status.idle": "2023-10-25T07:50:14.835468Z",
     "shell.execute_reply": "2023-10-25T07:50:14.834017Z"
    },
    "papermill": {
     "duration": 0.365737,
     "end_time": "2023-10-25T07:50:14.838528",
     "exception": false,
     "start_time": "2023-10-25T07:50:14.472791",
     "status": "completed"
    },
    "tags": []
   },
   "outputs": [
    {
     "data": {
      "text/plain": [
       "Invoice             0\n",
       "StockCode           0\n",
       "Description      1454\n",
       "Quantity            0\n",
       "InvoiceDate         0\n",
       "Price               0\n",
       "Customer ID    135080\n",
       "Country             0\n",
       "dtype: int64"
      ]
     },
     "execution_count": 86,
     "metadata": {},
     "output_type": "execute_result"
    }
   ],
   "source": [
    "df.isnull().sum() # any missing value?"
   ]
  },
  {
   "cell_type": "markdown",
   "id": "b8582336",
   "metadata": {
    "papermill": {
     "duration": 0.072669,
     "end_time": "2023-10-25T07:50:14.983332",
     "exception": false,
     "start_time": "2023-10-25T07:50:14.910663",
     "status": "completed"
    },
    "tags": []
   },
   "source": [
    "<a id = \"30\"></a><br>\n",
    "### <p style=\"font-family:JetBrains Mono; font-weight:bold; letter-spacing: 2px; color:#045F5F; font-size:140%; text-align:left;padding: 0px; border-bottom: 3px solid\">Data Preprocessing</p>"
   ]
  },
  {
   "cell_type": "code",
   "execution_count": 87,
   "id": "782b1f3a",
   "metadata": {
    "execution": {
     "iopub.execute_input": "2023-10-25T07:50:15.127929Z",
     "iopub.status.busy": "2023-10-25T07:50:15.127489Z",
     "iopub.status.idle": "2023-10-25T07:50:15.457190Z",
     "shell.execute_reply": "2023-10-25T07:50:15.455651Z"
    },
    "papermill": {
     "duration": 0.405493,
     "end_time": "2023-10-25T07:50:15.460076",
     "exception": false,
     "start_time": "2023-10-25T07:50:15.054583",
     "status": "completed"
    },
    "tags": []
   },
   "outputs": [],
   "source": [
    "df.dropna(inplace=True) # dropped missing values"
   ]
  },
  {
   "cell_type": "code",
   "execution_count": 88,
   "id": "c8c569f7",
   "metadata": {
    "execution": {
     "iopub.execute_input": "2023-10-25T07:50:15.603238Z",
     "iopub.status.busy": "2023-10-25T07:50:15.602851Z",
     "iopub.status.idle": "2023-10-25T07:50:15.670482Z",
     "shell.execute_reply": "2023-10-25T07:50:15.668637Z"
    },
    "papermill": {
     "duration": 0.142518,
     "end_time": "2023-10-25T07:50:15.674203",
     "exception": false,
     "start_time": "2023-10-25T07:50:15.531685",
     "status": "completed"
    },
    "tags": []
   },
   "outputs": [
    {
     "data": {
      "text/html": [
       "<div>\n",
       "<style scoped>\n",
       "    .dataframe tbody tr th:only-of-type {\n",
       "        vertical-align: middle;\n",
       "    }\n",
       "\n",
       "    .dataframe tbody tr th {\n",
       "        vertical-align: top;\n",
       "    }\n",
       "\n",
       "    .dataframe thead th {\n",
       "        text-align: right;\n",
       "    }\n",
       "</style>\n",
       "<table border=\"1\" class=\"dataframe\">\n",
       "  <thead>\n",
       "    <tr style=\"text-align: right;\">\n",
       "      <th></th>\n",
       "      <th>count</th>\n",
       "      <th>mean</th>\n",
       "      <th>std</th>\n",
       "      <th>min</th>\n",
       "      <th>25%</th>\n",
       "      <th>50%</th>\n",
       "      <th>75%</th>\n",
       "      <th>max</th>\n",
       "    </tr>\n",
       "  </thead>\n",
       "  <tbody>\n",
       "    <tr>\n",
       "      <th>Quantity</th>\n",
       "      <td>406830.00000</td>\n",
       "      <td>12.06128</td>\n",
       "      <td>248.69306</td>\n",
       "      <td>-80995.00000</td>\n",
       "      <td>2.00000</td>\n",
       "      <td>5.00000</td>\n",
       "      <td>12.00000</td>\n",
       "      <td>80995.00000</td>\n",
       "    </tr>\n",
       "    <tr>\n",
       "      <th>Price</th>\n",
       "      <td>406830.00000</td>\n",
       "      <td>3.46051</td>\n",
       "      <td>69.31508</td>\n",
       "      <td>0.00000</td>\n",
       "      <td>1.25000</td>\n",
       "      <td>1.95000</td>\n",
       "      <td>3.75000</td>\n",
       "      <td>38970.00000</td>\n",
       "    </tr>\n",
       "    <tr>\n",
       "      <th>Customer ID</th>\n",
       "      <td>406830.00000</td>\n",
       "      <td>15287.68416</td>\n",
       "      <td>1713.60307</td>\n",
       "      <td>12346.00000</td>\n",
       "      <td>13953.00000</td>\n",
       "      <td>15152.00000</td>\n",
       "      <td>16791.00000</td>\n",
       "      <td>18287.00000</td>\n",
       "    </tr>\n",
       "  </tbody>\n",
       "</table>\n",
       "</div>"
      ],
      "text/plain": [
       "                   count        mean        std          min         25%  \\\n",
       "Quantity    406830.00000    12.06128  248.69306 -80995.00000     2.00000   \n",
       "Price       406830.00000     3.46051   69.31508      0.00000     1.25000   \n",
       "Customer ID 406830.00000 15287.68416 1713.60307  12346.00000 13953.00000   \n",
       "\n",
       "                    50%         75%         max  \n",
       "Quantity        5.00000    12.00000 80995.00000  \n",
       "Price           1.95000     3.75000 38970.00000  \n",
       "Customer ID 15152.00000 16791.00000 18287.00000  "
      ]
     },
     "execution_count": 88,
     "metadata": {},
     "output_type": "execute_result"
    }
   ],
   "source": [
    "df.describe().T"
   ]
  },
  {
   "cell_type": "code",
   "execution_count": 89,
   "id": "02a9b194",
   "metadata": {
    "execution": {
     "iopub.execute_input": "2023-10-25T07:50:15.817920Z",
     "iopub.status.busy": "2023-10-25T07:50:15.817507Z",
     "iopub.status.idle": "2023-10-25T07:50:16.126415Z",
     "shell.execute_reply": "2023-10-25T07:50:16.124925Z"
    },
    "papermill": {
     "duration": 0.38473,
     "end_time": "2023-10-25T07:50:16.130052",
     "exception": false,
     "start_time": "2023-10-25T07:50:15.745322",
     "status": "completed"
    },
    "tags": []
   },
   "outputs": [],
   "source": [
    "df = df[~df[\"Invoice\"].str.contains(\"C\", na=False)] "
   ]
  },
  {
   "cell_type": "code",
   "execution_count": 90,
   "id": "c8f56e60",
   "metadata": {
    "execution": {
     "iopub.execute_input": "2023-10-25T07:50:16.281287Z",
     "iopub.status.busy": "2023-10-25T07:50:16.280879Z",
     "iopub.status.idle": "2023-10-25T07:50:16.347905Z",
     "shell.execute_reply": "2023-10-25T07:50:16.346326Z"
    },
    "papermill": {
     "duration": 0.143945,
     "end_time": "2023-10-25T07:50:16.351063",
     "exception": false,
     "start_time": "2023-10-25T07:50:16.207118",
     "status": "completed"
    },
    "tags": []
   },
   "outputs": [
    {
     "data": {
      "text/html": [
       "<div>\n",
       "<style scoped>\n",
       "    .dataframe tbody tr th:only-of-type {\n",
       "        vertical-align: middle;\n",
       "    }\n",
       "\n",
       "    .dataframe tbody tr th {\n",
       "        vertical-align: top;\n",
       "    }\n",
       "\n",
       "    .dataframe thead th {\n",
       "        text-align: right;\n",
       "    }\n",
       "</style>\n",
       "<table border=\"1\" class=\"dataframe\">\n",
       "  <thead>\n",
       "    <tr style=\"text-align: right;\">\n",
       "      <th></th>\n",
       "      <th>count</th>\n",
       "      <th>mean</th>\n",
       "      <th>std</th>\n",
       "      <th>min</th>\n",
       "      <th>25%</th>\n",
       "      <th>50%</th>\n",
       "      <th>75%</th>\n",
       "      <th>max</th>\n",
       "    </tr>\n",
       "  </thead>\n",
       "  <tbody>\n",
       "    <tr>\n",
       "      <th>Quantity</th>\n",
       "      <td>397925.00000</td>\n",
       "      <td>13.02179</td>\n",
       "      <td>180.41998</td>\n",
       "      <td>1.00000</td>\n",
       "      <td>2.00000</td>\n",
       "      <td>6.00000</td>\n",
       "      <td>12.00000</td>\n",
       "      <td>80995.00000</td>\n",
       "    </tr>\n",
       "    <tr>\n",
       "      <th>Price</th>\n",
       "      <td>397925.00000</td>\n",
       "      <td>3.11621</td>\n",
       "      <td>22.09677</td>\n",
       "      <td>0.00000</td>\n",
       "      <td>1.25000</td>\n",
       "      <td>1.95000</td>\n",
       "      <td>3.75000</td>\n",
       "      <td>8142.75000</td>\n",
       "    </tr>\n",
       "    <tr>\n",
       "      <th>Customer ID</th>\n",
       "      <td>397925.00000</td>\n",
       "      <td>15294.30860</td>\n",
       "      <td>1713.17274</td>\n",
       "      <td>12346.00000</td>\n",
       "      <td>13969.00000</td>\n",
       "      <td>15159.00000</td>\n",
       "      <td>16795.00000</td>\n",
       "      <td>18287.00000</td>\n",
       "    </tr>\n",
       "  </tbody>\n",
       "</table>\n",
       "</div>"
      ],
      "text/plain": [
       "                   count        mean        std         min         25%  \\\n",
       "Quantity    397925.00000    13.02179  180.41998     1.00000     2.00000   \n",
       "Price       397925.00000     3.11621   22.09677     0.00000     1.25000   \n",
       "Customer ID 397925.00000 15294.30860 1713.17274 12346.00000 13969.00000   \n",
       "\n",
       "                    50%         75%         max  \n",
       "Quantity        6.00000    12.00000 80995.00000  \n",
       "Price           1.95000     3.75000  8142.75000  \n",
       "Customer ID 15159.00000 16795.00000 18287.00000  "
      ]
     },
     "execution_count": 90,
     "metadata": {},
     "output_type": "execute_result"
    }
   ],
   "source": [
    "df.describe().T"
   ]
  },
  {
   "cell_type": "code",
   "execution_count": 91,
   "id": "c231fbfb",
   "metadata": {
    "execution": {
     "iopub.execute_input": "2023-10-25T07:50:16.510608Z",
     "iopub.status.busy": "2023-10-25T07:50:16.510109Z",
     "iopub.status.idle": "2023-10-25T07:50:16.540124Z",
     "shell.execute_reply": "2023-10-25T07:50:16.539089Z"
    },
    "papermill": {
     "duration": 0.115963,
     "end_time": "2023-10-25T07:50:16.543135",
     "exception": false,
     "start_time": "2023-10-25T07:50:16.427172",
     "status": "completed"
    },
    "tags": []
   },
   "outputs": [],
   "source": [
    "df = df[df[\"Quantity\"] > 0]"
   ]
  },
  {
   "cell_type": "code",
   "execution_count": 92,
   "id": "1022bd86",
   "metadata": {
    "execution": {
     "iopub.execute_input": "2023-10-25T07:50:16.693483Z",
     "iopub.status.busy": "2023-10-25T07:50:16.692890Z",
     "iopub.status.idle": "2023-10-25T07:50:16.742136Z",
     "shell.execute_reply": "2023-10-25T07:50:16.741050Z"
    },
    "papermill": {
     "duration": 0.126975,
     "end_time": "2023-10-25T07:50:16.744952",
     "exception": false,
     "start_time": "2023-10-25T07:50:16.617977",
     "status": "completed"
    },
    "tags": []
   },
   "outputs": [],
   "source": [
    "df = df[df[\"Price\"] > 0]"
   ]
  },
  {
   "cell_type": "code",
   "execution_count": 93,
   "id": "d331bef0",
   "metadata": {
    "execution": {
     "iopub.execute_input": "2023-10-25T07:50:16.906881Z",
     "iopub.status.busy": "2023-10-25T07:50:16.905933Z",
     "iopub.status.idle": "2023-10-25T07:50:16.946484Z",
     "shell.execute_reply": "2023-10-25T07:50:16.945385Z"
    },
    "papermill": {
     "duration": 0.133431,
     "end_time": "2023-10-25T07:50:16.949528",
     "exception": false,
     "start_time": "2023-10-25T07:50:16.816097",
     "status": "completed"
    },
    "tags": []
   },
   "outputs": [],
   "source": [
    "replace_with_thresholds(df, \"Quantity\") # aykırı değerleri eşik değerleriyle değiştiriyoruz.\n",
    "replace_with_thresholds(df, \"Price\")"
   ]
  },
  {
   "cell_type": "code",
   "execution_count": 94,
   "id": "38661cc5",
   "metadata": {
    "execution": {
     "iopub.execute_input": "2023-10-25T07:50:17.107787Z",
     "iopub.status.busy": "2023-10-25T07:50:17.107287Z",
     "iopub.status.idle": "2023-10-25T07:50:17.116502Z",
     "shell.execute_reply": "2023-10-25T07:50:17.115478Z"
    },
    "papermill": {
     "duration": 0.091524,
     "end_time": "2023-10-25T07:50:17.119592",
     "exception": false,
     "start_time": "2023-10-25T07:50:17.028068",
     "status": "completed"
    },
    "tags": []
   },
   "outputs": [],
   "source": [
    "df[\"TotalPrice\"] = df[\"Quantity\"] * df[\"Price\"]"
   ]
  },
  {
   "cell_type": "code",
   "execution_count": 95,
   "id": "e60fcada",
   "metadata": {
    "execution": {
     "iopub.execute_input": "2023-10-25T07:50:17.271843Z",
     "iopub.status.busy": "2023-10-25T07:50:17.271326Z",
     "iopub.status.idle": "2023-10-25T07:50:17.471573Z",
     "shell.execute_reply": "2023-10-25T07:50:17.469947Z"
    },
    "papermill": {
     "duration": 0.283344,
     "end_time": "2023-10-25T07:50:17.474854",
     "exception": false,
     "start_time": "2023-10-25T07:50:17.191510",
     "status": "completed"
    },
    "tags": []
   },
   "outputs": [],
   "source": [
    "df[\"InvoiceDate\"] = pd.to_datetime(df[\"InvoiceDate\"])\n",
    "today_date = df[\"InvoiceDate\"].max() + pd.Timedelta(days = 2)"
   ]
  },
  {
   "cell_type": "code",
   "execution_count": 96,
   "id": "52329538",
   "metadata": {
    "execution": {
     "iopub.execute_input": "2023-10-25T07:50:17.626942Z",
     "iopub.status.busy": "2023-10-25T07:50:17.625965Z",
     "iopub.status.idle": "2023-10-25T07:50:17.643246Z",
     "shell.execute_reply": "2023-10-25T07:50:17.642040Z"
    },
    "papermill": {
     "duration": 0.094849,
     "end_time": "2023-10-25T07:50:17.646209",
     "exception": false,
     "start_time": "2023-10-25T07:50:17.551360",
     "status": "completed"
    },
    "tags": []
   },
   "outputs": [
    {
     "data": {
      "text/html": [
       "<div>\n",
       "<style scoped>\n",
       "    .dataframe tbody tr th:only-of-type {\n",
       "        vertical-align: middle;\n",
       "    }\n",
       "\n",
       "    .dataframe tbody tr th {\n",
       "        vertical-align: top;\n",
       "    }\n",
       "\n",
       "    .dataframe thead th {\n",
       "        text-align: right;\n",
       "    }\n",
       "</style>\n",
       "<table border=\"1\" class=\"dataframe\">\n",
       "  <thead>\n",
       "    <tr style=\"text-align: right;\">\n",
       "      <th></th>\n",
       "      <th>Invoice</th>\n",
       "      <th>StockCode</th>\n",
       "      <th>Description</th>\n",
       "      <th>Quantity</th>\n",
       "      <th>InvoiceDate</th>\n",
       "      <th>Price</th>\n",
       "      <th>Customer ID</th>\n",
       "      <th>Country</th>\n",
       "      <th>TotalPrice</th>\n",
       "    </tr>\n",
       "  </thead>\n",
       "  <tbody>\n",
       "    <tr>\n",
       "      <th>0</th>\n",
       "      <td>536365</td>\n",
       "      <td>85123A</td>\n",
       "      <td>WHITE HANGING HEART T-LIGHT HOLDER</td>\n",
       "      <td>6.00000</td>\n",
       "      <td>2010-12-01 08:26:00</td>\n",
       "      <td>2.55000</td>\n",
       "      <td>17850.00000</td>\n",
       "      <td>United Kingdom</td>\n",
       "      <td>15.30000</td>\n",
       "    </tr>\n",
       "    <tr>\n",
       "      <th>1</th>\n",
       "      <td>536365</td>\n",
       "      <td>71053</td>\n",
       "      <td>WHITE METAL LANTERN</td>\n",
       "      <td>6.00000</td>\n",
       "      <td>2010-12-01 08:26:00</td>\n",
       "      <td>3.39000</td>\n",
       "      <td>17850.00000</td>\n",
       "      <td>United Kingdom</td>\n",
       "      <td>20.34000</td>\n",
       "    </tr>\n",
       "    <tr>\n",
       "      <th>2</th>\n",
       "      <td>536365</td>\n",
       "      <td>84406B</td>\n",
       "      <td>CREAM CUPID HEARTS COAT HANGER</td>\n",
       "      <td>8.00000</td>\n",
       "      <td>2010-12-01 08:26:00</td>\n",
       "      <td>2.75000</td>\n",
       "      <td>17850.00000</td>\n",
       "      <td>United Kingdom</td>\n",
       "      <td>22.00000</td>\n",
       "    </tr>\n",
       "    <tr>\n",
       "      <th>3</th>\n",
       "      <td>536365</td>\n",
       "      <td>84029G</td>\n",
       "      <td>KNITTED UNION FLAG HOT WATER BOTTLE</td>\n",
       "      <td>6.00000</td>\n",
       "      <td>2010-12-01 08:26:00</td>\n",
       "      <td>3.39000</td>\n",
       "      <td>17850.00000</td>\n",
       "      <td>United Kingdom</td>\n",
       "      <td>20.34000</td>\n",
       "    </tr>\n",
       "    <tr>\n",
       "      <th>4</th>\n",
       "      <td>536365</td>\n",
       "      <td>84029E</td>\n",
       "      <td>RED WOOLLY HOTTIE WHITE HEART.</td>\n",
       "      <td>6.00000</td>\n",
       "      <td>2010-12-01 08:26:00</td>\n",
       "      <td>3.39000</td>\n",
       "      <td>17850.00000</td>\n",
       "      <td>United Kingdom</td>\n",
       "      <td>20.34000</td>\n",
       "    </tr>\n",
       "  </tbody>\n",
       "</table>\n",
       "</div>"
      ],
      "text/plain": [
       "  Invoice StockCode                          Description  Quantity  \\\n",
       "0  536365    85123A   WHITE HANGING HEART T-LIGHT HOLDER   6.00000   \n",
       "1  536365     71053                  WHITE METAL LANTERN   6.00000   \n",
       "2  536365    84406B       CREAM CUPID HEARTS COAT HANGER   8.00000   \n",
       "3  536365    84029G  KNITTED UNION FLAG HOT WATER BOTTLE   6.00000   \n",
       "4  536365    84029E       RED WOOLLY HOTTIE WHITE HEART.   6.00000   \n",
       "\n",
       "          InvoiceDate   Price  Customer ID         Country  TotalPrice  \n",
       "0 2010-12-01 08:26:00 2.55000  17850.00000  United Kingdom    15.30000  \n",
       "1 2010-12-01 08:26:00 3.39000  17850.00000  United Kingdom    20.34000  \n",
       "2 2010-12-01 08:26:00 2.75000  17850.00000  United Kingdom    22.00000  \n",
       "3 2010-12-01 08:26:00 3.39000  17850.00000  United Kingdom    20.34000  \n",
       "4 2010-12-01 08:26:00 3.39000  17850.00000  United Kingdom    20.34000  "
      ]
     },
     "execution_count": 96,
     "metadata": {},
     "output_type": "execute_result"
    }
   ],
   "source": [
    "df.head()"
   ]
  },
  {
   "cell_type": "markdown",
   "id": "00104085",
   "metadata": {
    "papermill": {
     "duration": 0.071977,
     "end_time": "2023-10-25T07:50:17.795763",
     "exception": false,
     "start_time": "2023-10-25T07:50:17.723786",
     "status": "completed"
    },
    "tags": []
   },
   "source": [
    "<a id = \"31\"></a><br>\n",
    "### <p style=\"font-family:JetBrains Mono; font-weight:bold; letter-spacing: 2px; color:#045F5F; font-size:140%; text-align:left;padding: 0px; border-bottom: 3px solid\">Preparation of Lifetime Data Structure</p>"
   ]
  },
  {
   "cell_type": "markdown",
   "id": "26effc17",
   "metadata": {
    "papermill": {
     "duration": 0.167213,
     "end_time": "2023-10-25T07:50:18.035186",
     "exception": false,
     "start_time": "2023-10-25T07:50:17.867973",
     "status": "completed"
    },
    "tags": []
   },
   "source": [
    "<div style=\"border-radius:10px; border:#6B8BA0 solid; padding: 15px; background-color: #F2EADF; font-size:100%; text-align:left\">\n",
    "\n",
    "<h3 align=\"left\"><font color='#6B8BA0'>👀 CLTV Prediction Metrics: </font></h3>\n",
    "    \n",
    "1. **Recency (Recency):**.\n",
    "    - This duration is measured in weeks and is personalized for each customer. It indicates the time between a customer's last purchase and their first purchase.\n",
    "\n",
    "2. **T (Tenure - Customer's Age):**\n",
    "    - T signifies the time between a customer's first purchase and the date of analysis.\n",
    "    - This duration is also measured in weeks and is referred to as the customer's \"age.\"\n",
    "\n",
    "3. **Frequency (Frequency):**\n",
    "    - Frequency indicates the total number of repeated purchases by a customer.\n",
    "    - An important feature of this metric is that it represents customers who have made at least a second purchase, meaning the frequency is greater than 1.\n",
    "\n",
    "4. **Monetary (Monetary):**\n",
    "    - Monetary represents the average amount earned per transaction for a customer.\n",
    "    - It is especially used by calculating the average value for each purchase transaction."
   ]
  },
  {
   "cell_type": "code",
   "execution_count": 97,
   "id": "b406dc7e",
   "metadata": {
    "execution": {
     "iopub.execute_input": "2023-10-25T07:50:18.175475Z",
     "iopub.status.busy": "2023-10-25T07:50:18.174806Z",
     "iopub.status.idle": "2023-10-25T07:50:20.817387Z",
     "shell.execute_reply": "2023-10-25T07:50:20.816117Z"
    },
    "papermill": {
     "duration": 2.717328,
     "end_time": "2023-10-25T07:50:20.821389",
     "exception": false,
     "start_time": "2023-10-25T07:50:18.104061",
     "status": "completed"
    },
    "tags": []
   },
   "outputs": [],
   "source": [
    "cltv_df = df.groupby('Customer ID').agg(\n",
    "    {'InvoiceDate': [lambda InvoiceDate: (InvoiceDate.max() - InvoiceDate.min()).days,\n",
    "                     lambda InvoiceDate: (today_date - InvoiceDate.min()).days],\n",
    "     'Invoice': lambda Invoice: Invoice.nunique(),\n",
    "     'TotalPrice': lambda TotalPrice: TotalPrice.sum()})"
   ]
  },
  {
   "cell_type": "code",
   "execution_count": 98,
   "id": "1b515d47",
   "metadata": {
    "execution": {
     "iopub.execute_input": "2023-10-25T07:50:20.974136Z",
     "iopub.status.busy": "2023-10-25T07:50:20.972958Z",
     "iopub.status.idle": "2023-10-25T07:50:20.990180Z",
     "shell.execute_reply": "2023-10-25T07:50:20.988871Z"
    },
    "papermill": {
     "duration": 0.09567,
     "end_time": "2023-10-25T07:50:20.994497",
     "exception": false,
     "start_time": "2023-10-25T07:50:20.898827",
     "status": "completed"
    },
    "tags": []
   },
   "outputs": [
    {
     "data": {
      "text/html": [
       "<div>\n",
       "<style scoped>\n",
       "    .dataframe tbody tr th:only-of-type {\n",
       "        vertical-align: middle;\n",
       "    }\n",
       "\n",
       "    .dataframe tbody tr th {\n",
       "        vertical-align: top;\n",
       "    }\n",
       "\n",
       "    .dataframe thead tr th {\n",
       "        text-align: left;\n",
       "    }\n",
       "\n",
       "    .dataframe thead tr:last-of-type th {\n",
       "        text-align: right;\n",
       "    }\n",
       "</style>\n",
       "<table border=\"1\" class=\"dataframe\">\n",
       "  <thead>\n",
       "    <tr>\n",
       "      <th></th>\n",
       "      <th colspan=\"2\" halign=\"left\">InvoiceDate</th>\n",
       "      <th>Invoice</th>\n",
       "      <th>TotalPrice</th>\n",
       "    </tr>\n",
       "    <tr>\n",
       "      <th></th>\n",
       "      <th>&lt;lambda_0&gt;</th>\n",
       "      <th>&lt;lambda_1&gt;</th>\n",
       "      <th>&lt;lambda&gt;</th>\n",
       "      <th>&lt;lambda&gt;</th>\n",
       "    </tr>\n",
       "    <tr>\n",
       "      <th>Customer ID</th>\n",
       "      <th></th>\n",
       "      <th></th>\n",
       "      <th></th>\n",
       "      <th></th>\n",
       "    </tr>\n",
       "  </thead>\n",
       "  <tbody>\n",
       "    <tr>\n",
       "      <th>12346.00000</th>\n",
       "      <td>0</td>\n",
       "      <td>327</td>\n",
       "      <td>1</td>\n",
       "      <td>310.44000</td>\n",
       "    </tr>\n",
       "    <tr>\n",
       "      <th>12347.00000</th>\n",
       "      <td>365</td>\n",
       "      <td>368</td>\n",
       "      <td>7</td>\n",
       "      <td>4310.00000</td>\n",
       "    </tr>\n",
       "    <tr>\n",
       "      <th>12348.00000</th>\n",
       "      <td>282</td>\n",
       "      <td>359</td>\n",
       "      <td>4</td>\n",
       "      <td>1770.78000</td>\n",
       "    </tr>\n",
       "    <tr>\n",
       "      <th>12349.00000</th>\n",
       "      <td>0</td>\n",
       "      <td>20</td>\n",
       "      <td>1</td>\n",
       "      <td>1491.72000</td>\n",
       "    </tr>\n",
       "    <tr>\n",
       "      <th>12350.00000</th>\n",
       "      <td>0</td>\n",
       "      <td>311</td>\n",
       "      <td>1</td>\n",
       "      <td>331.46000</td>\n",
       "    </tr>\n",
       "  </tbody>\n",
       "</table>\n",
       "</div>"
      ],
      "text/plain": [
       "            InvoiceDate             Invoice TotalPrice\n",
       "             <lambda_0> <lambda_1> <lambda>   <lambda>\n",
       "Customer ID                                           \n",
       "12346.00000           0        327        1  310.44000\n",
       "12347.00000         365        368        7 4310.00000\n",
       "12348.00000         282        359        4 1770.78000\n",
       "12349.00000           0         20        1 1491.72000\n",
       "12350.00000           0        311        1  331.46000"
      ]
     },
     "execution_count": 98,
     "metadata": {},
     "output_type": "execute_result"
    }
   ],
   "source": [
    "cltv_df.head()"
   ]
  },
  {
   "cell_type": "code",
   "execution_count": 99,
   "id": "900d3d98",
   "metadata": {
    "execution": {
     "iopub.execute_input": "2023-10-25T07:50:21.150599Z",
     "iopub.status.busy": "2023-10-25T07:50:21.149852Z",
     "iopub.status.idle": "2023-10-25T07:50:21.155736Z",
     "shell.execute_reply": "2023-10-25T07:50:21.154695Z"
    },
    "papermill": {
     "duration": 0.08258,
     "end_time": "2023-10-25T07:50:21.158361",
     "exception": false,
     "start_time": "2023-10-25T07:50:21.075781",
     "status": "completed"
    },
    "tags": []
   },
   "outputs": [],
   "source": [
    "cltv_df.columns = cltv_df.columns.droplevel(0)"
   ]
  },
  {
   "cell_type": "code",
   "execution_count": 100,
   "id": "522fb9bd",
   "metadata": {
    "execution": {
     "iopub.execute_input": "2023-10-25T07:50:21.302165Z",
     "iopub.status.busy": "2023-10-25T07:50:21.301587Z",
     "iopub.status.idle": "2023-10-25T07:50:21.317454Z",
     "shell.execute_reply": "2023-10-25T07:50:21.316081Z"
    },
    "papermill": {
     "duration": 0.090364,
     "end_time": "2023-10-25T07:50:21.320210",
     "exception": false,
     "start_time": "2023-10-25T07:50:21.229846",
     "status": "completed"
    },
    "tags": []
   },
   "outputs": [
    {
     "data": {
      "text/html": [
       "<div>\n",
       "<style scoped>\n",
       "    .dataframe tbody tr th:only-of-type {\n",
       "        vertical-align: middle;\n",
       "    }\n",
       "\n",
       "    .dataframe tbody tr th {\n",
       "        vertical-align: top;\n",
       "    }\n",
       "\n",
       "    .dataframe thead th {\n",
       "        text-align: right;\n",
       "    }\n",
       "</style>\n",
       "<table border=\"1\" class=\"dataframe\">\n",
       "  <thead>\n",
       "    <tr style=\"text-align: right;\">\n",
       "      <th></th>\n",
       "      <th>&lt;lambda_0&gt;</th>\n",
       "      <th>&lt;lambda_1&gt;</th>\n",
       "      <th>&lt;lambda&gt;</th>\n",
       "      <th>&lt;lambda&gt;</th>\n",
       "    </tr>\n",
       "    <tr>\n",
       "      <th>Customer ID</th>\n",
       "      <th></th>\n",
       "      <th></th>\n",
       "      <th></th>\n",
       "      <th></th>\n",
       "    </tr>\n",
       "  </thead>\n",
       "  <tbody>\n",
       "    <tr>\n",
       "      <th>12346.00000</th>\n",
       "      <td>0</td>\n",
       "      <td>327</td>\n",
       "      <td>1</td>\n",
       "      <td>310.44000</td>\n",
       "    </tr>\n",
       "    <tr>\n",
       "      <th>12347.00000</th>\n",
       "      <td>365</td>\n",
       "      <td>368</td>\n",
       "      <td>7</td>\n",
       "      <td>4310.00000</td>\n",
       "    </tr>\n",
       "    <tr>\n",
       "      <th>12348.00000</th>\n",
       "      <td>282</td>\n",
       "      <td>359</td>\n",
       "      <td>4</td>\n",
       "      <td>1770.78000</td>\n",
       "    </tr>\n",
       "    <tr>\n",
       "      <th>12349.00000</th>\n",
       "      <td>0</td>\n",
       "      <td>20</td>\n",
       "      <td>1</td>\n",
       "      <td>1491.72000</td>\n",
       "    </tr>\n",
       "    <tr>\n",
       "      <th>12350.00000</th>\n",
       "      <td>0</td>\n",
       "      <td>311</td>\n",
       "      <td>1</td>\n",
       "      <td>331.46000</td>\n",
       "    </tr>\n",
       "  </tbody>\n",
       "</table>\n",
       "</div>"
      ],
      "text/plain": [
       "             <lambda_0>  <lambda_1>  <lambda>   <lambda>\n",
       "Customer ID                                             \n",
       "12346.00000           0         327         1  310.44000\n",
       "12347.00000         365         368         7 4310.00000\n",
       "12348.00000         282         359         4 1770.78000\n",
       "12349.00000           0          20         1 1491.72000\n",
       "12350.00000           0         311         1  331.46000"
      ]
     },
     "execution_count": 100,
     "metadata": {},
     "output_type": "execute_result"
    }
   ],
   "source": [
    "cltv_df.head()"
   ]
  },
  {
   "cell_type": "code",
   "execution_count": 101,
   "id": "a5194b66",
   "metadata": {
    "execution": {
     "iopub.execute_input": "2023-10-25T07:50:21.468436Z",
     "iopub.status.busy": "2023-10-25T07:50:21.467611Z",
     "iopub.status.idle": "2023-10-25T07:50:21.474132Z",
     "shell.execute_reply": "2023-10-25T07:50:21.472397Z"
    },
    "papermill": {
     "duration": 0.083564,
     "end_time": "2023-10-25T07:50:21.477047",
     "exception": false,
     "start_time": "2023-10-25T07:50:21.393483",
     "status": "completed"
    },
    "tags": []
   },
   "outputs": [],
   "source": [
    "cltv_df.columns = ['recency', 'T', 'frequency', 'monetary']"
   ]
  },
  {
   "cell_type": "code",
   "execution_count": 102,
   "id": "92094f39",
   "metadata": {
    "execution": {
     "iopub.execute_input": "2023-10-25T07:50:21.627197Z",
     "iopub.status.busy": "2023-10-25T07:50:21.626323Z",
     "iopub.status.idle": "2023-10-25T07:50:21.632573Z",
     "shell.execute_reply": "2023-10-25T07:50:21.631477Z"
    },
    "papermill": {
     "duration": 0.084161,
     "end_time": "2023-10-25T07:50:21.635555",
     "exception": false,
     "start_time": "2023-10-25T07:50:21.551394",
     "status": "completed"
    },
    "tags": []
   },
   "outputs": [],
   "source": [
    "cltv_df[\"monetary\"] = cltv_df[\"monetary\"] / cltv_df[\"frequency\"]"
   ]
  },
  {
   "cell_type": "code",
   "execution_count": 103,
   "id": "78e8223d",
   "metadata": {
    "execution": {
     "iopub.execute_input": "2023-10-25T07:50:21.779521Z",
     "iopub.status.busy": "2023-10-25T07:50:21.778753Z",
     "iopub.status.idle": "2023-10-25T07:50:21.806277Z",
     "shell.execute_reply": "2023-10-25T07:50:21.804916Z"
    },
    "papermill": {
     "duration": 0.103494,
     "end_time": "2023-10-25T07:50:21.809175",
     "exception": false,
     "start_time": "2023-10-25T07:50:21.705681",
     "status": "completed"
    },
    "tags": []
   },
   "outputs": [
    {
     "data": {
      "text/html": [
       "<div>\n",
       "<style scoped>\n",
       "    .dataframe tbody tr th:only-of-type {\n",
       "        vertical-align: middle;\n",
       "    }\n",
       "\n",
       "    .dataframe tbody tr th {\n",
       "        vertical-align: top;\n",
       "    }\n",
       "\n",
       "    .dataframe thead th {\n",
       "        text-align: right;\n",
       "    }\n",
       "</style>\n",
       "<table border=\"1\" class=\"dataframe\">\n",
       "  <thead>\n",
       "    <tr style=\"text-align: right;\">\n",
       "      <th></th>\n",
       "      <th>count</th>\n",
       "      <th>mean</th>\n",
       "      <th>std</th>\n",
       "      <th>min</th>\n",
       "      <th>25%</th>\n",
       "      <th>50%</th>\n",
       "      <th>75%</th>\n",
       "      <th>max</th>\n",
       "    </tr>\n",
       "  </thead>\n",
       "  <tbody>\n",
       "    <tr>\n",
       "      <th>recency</th>\n",
       "      <td>4338.00000</td>\n",
       "      <td>130.44859</td>\n",
       "      <td>132.03955</td>\n",
       "      <td>0.00000</td>\n",
       "      <td>0.00000</td>\n",
       "      <td>92.50000</td>\n",
       "      <td>251.75000</td>\n",
       "      <td>373.00000</td>\n",
       "    </tr>\n",
       "    <tr>\n",
       "      <th>T</th>\n",
       "      <td>4338.00000</td>\n",
       "      <td>224.30821</td>\n",
       "      <td>117.88647</td>\n",
       "      <td>2.00000</td>\n",
       "      <td>114.00000</td>\n",
       "      <td>250.00000</td>\n",
       "      <td>328.00000</td>\n",
       "      <td>375.00000</td>\n",
       "    </tr>\n",
       "    <tr>\n",
       "      <th>frequency</th>\n",
       "      <td>4338.00000</td>\n",
       "      <td>4.27201</td>\n",
       "      <td>7.69800</td>\n",
       "      <td>1.00000</td>\n",
       "      <td>1.00000</td>\n",
       "      <td>2.00000</td>\n",
       "      <td>5.00000</td>\n",
       "      <td>209.00000</td>\n",
       "    </tr>\n",
       "    <tr>\n",
       "      <th>monetary</th>\n",
       "      <td>4338.00000</td>\n",
       "      <td>364.11847</td>\n",
       "      <td>367.25822</td>\n",
       "      <td>3.45000</td>\n",
       "      <td>176.85125</td>\n",
       "      <td>288.22545</td>\n",
       "      <td>422.02937</td>\n",
       "      <td>6207.67000</td>\n",
       "    </tr>\n",
       "  </tbody>\n",
       "</table>\n",
       "</div>"
      ],
      "text/plain": [
       "               count      mean       std     min       25%       50%  \\\n",
       "recency   4338.00000 130.44859 132.03955 0.00000   0.00000  92.50000   \n",
       "T         4338.00000 224.30821 117.88647 2.00000 114.00000 250.00000   \n",
       "frequency 4338.00000   4.27201   7.69800 1.00000   1.00000   2.00000   \n",
       "monetary  4338.00000 364.11847 367.25822 3.45000 176.85125 288.22545   \n",
       "\n",
       "                75%        max  \n",
       "recency   251.75000  373.00000  \n",
       "T         328.00000  375.00000  \n",
       "frequency   5.00000  209.00000  \n",
       "monetary  422.02937 6207.67000  "
      ]
     },
     "execution_count": 103,
     "metadata": {},
     "output_type": "execute_result"
    }
   ],
   "source": [
    "cltv_df.describe().T"
   ]
  },
  {
   "cell_type": "code",
   "execution_count": 104,
   "id": "05eba2a5",
   "metadata": {
    "execution": {
     "iopub.execute_input": "2023-10-25T07:50:21.970110Z",
     "iopub.status.busy": "2023-10-25T07:50:21.969634Z",
     "iopub.status.idle": "2023-10-25T07:50:21.976466Z",
     "shell.execute_reply": "2023-10-25T07:50:21.975432Z"
    },
    "papermill": {
     "duration": 0.090311,
     "end_time": "2023-10-25T07:50:21.978791",
     "exception": false,
     "start_time": "2023-10-25T07:50:21.888480",
     "status": "completed"
    },
    "tags": []
   },
   "outputs": [],
   "source": [
    "cltv_df = cltv_df[(cltv_df['frequency'] > 1)]"
   ]
  },
  {
   "cell_type": "markdown",
   "id": "6876b09d",
   "metadata": {
    "papermill": {
     "duration": 0.07069,
     "end_time": "2023-10-25T07:50:22.122868",
     "exception": false,
     "start_time": "2023-10-25T07:50:22.052178",
     "status": "completed"
    },
    "tags": []
   },
   "source": [
    "<div style=\"border-radius:10px; border:#6B8BA0 solid; padding: 15px; background-color: #F2EADF; font-size:100%; text-align:left\">\n",
    "\n",
    "<h3 align=\"left\"><font color='#6B8BA0'>🗨️ Comment: </font></h3>\n",
    "    \n",
    "We consider the frequency value to be greater than 1 in CLTV (Customer Lifetime Value) prediction because it is used to focus on repeat customers who have made purchases more than once. Repeat customers, those with a frequency greater than 1, are more likely to make future purchases and are generally more valuable to a business. Customers who make a one-time purchase (frequency equals 1) often have lower potential for long-term profitability. Therefore, considering only repeat customers helps businesses create more effective marketing strategies and increase customer loyalty."
   ]
  },
  {
   "cell_type": "code",
   "execution_count": 105,
   "id": "eb1b2965",
   "metadata": {
    "execution": {
     "iopub.execute_input": "2023-10-25T07:50:22.268884Z",
     "iopub.status.busy": "2023-10-25T07:50:22.267296Z",
     "iopub.status.idle": "2023-10-25T07:50:22.274386Z",
     "shell.execute_reply": "2023-10-25T07:50:22.273375Z"
    },
    "papermill": {
     "duration": 0.082406,
     "end_time": "2023-10-25T07:50:22.277265",
     "exception": false,
     "start_time": "2023-10-25T07:50:22.194859",
     "status": "completed"
    },
    "tags": []
   },
   "outputs": [],
   "source": [
    "cltv_df[\"recency\"] = cltv_df[\"recency\"] // 7 # convert weekly period"
   ]
  },
  {
   "cell_type": "code",
   "execution_count": 106,
   "id": "c9c9c631",
   "metadata": {
    "execution": {
     "iopub.execute_input": "2023-10-25T07:50:22.422807Z",
     "iopub.status.busy": "2023-10-25T07:50:22.421090Z",
     "iopub.status.idle": "2023-10-25T07:50:22.428154Z",
     "shell.execute_reply": "2023-10-25T07:50:22.427072Z"
    },
    "papermill": {
     "duration": 0.083153,
     "end_time": "2023-10-25T07:50:22.431023",
     "exception": false,
     "start_time": "2023-10-25T07:50:22.347870",
     "status": "completed"
    },
    "tags": []
   },
   "outputs": [],
   "source": [
    "cltv_df[\"T\"] = cltv_df[\"T\"] // 7 # convert weekly period"
   ]
  },
  {
   "cell_type": "markdown",
   "id": "ff334c21",
   "metadata": {
    "papermill": {
     "duration": 0.072562,
     "end_time": "2023-10-25T07:50:22.580364",
     "exception": false,
     "start_time": "2023-10-25T07:50:22.507802",
     "status": "completed"
    },
    "tags": []
   },
   "source": [
    "<div style=\"border-radius:10px; border:#D0C2F0 solid; padding: 15px; background-color: #FFF0F4; font-size:100%; text-align:left\">\n",
    "\n",
    "<h3 align=\"left\"><font color='#5E5273'>📄 Notes:</font></h3>\n",
    "    \n",
    "Why are T and Recency values calculated on a weekly basis?\n",
    "\n",
    "T (tenure) and recency (the time since a customer's last purchase) values are often calculated on a weekly basis because it is a measure that allows for better analysis of transaction data and the prediction of customer behavior. Calculating them on a weekly basis helps capture seasonal fluctuations and other factors in transaction data more effectively.\n",
    "\n",
    "Additionally, measuring in weekly units helps in better understanding and decision-making when it comes to transaction data because many transactions, especially in the retail sector, occur on a weekly cycle. Therefore, using weekly-based T and recency values for examining customer shopping behaviors enables businesses to improve customer relationship management and enhance marketing strategies more effectively."
   ]
  },
  {
   "cell_type": "code",
   "execution_count": 107,
   "id": "630587d2",
   "metadata": {
    "execution": {
     "iopub.execute_input": "2023-10-25T07:50:22.728995Z",
     "iopub.status.busy": "2023-10-25T07:50:22.728480Z",
     "iopub.status.idle": "2023-10-25T07:50:22.742341Z",
     "shell.execute_reply": "2023-10-25T07:50:22.740564Z"
    },
    "papermill": {
     "duration": 0.091829,
     "end_time": "2023-10-25T07:50:22.745687",
     "exception": false,
     "start_time": "2023-10-25T07:50:22.653858",
     "status": "completed"
    },
    "tags": []
   },
   "outputs": [
    {
     "data": {
      "text/html": [
       "<div>\n",
       "<style scoped>\n",
       "    .dataframe tbody tr th:only-of-type {\n",
       "        vertical-align: middle;\n",
       "    }\n",
       "\n",
       "    .dataframe tbody tr th {\n",
       "        vertical-align: top;\n",
       "    }\n",
       "\n",
       "    .dataframe thead th {\n",
       "        text-align: right;\n",
       "    }\n",
       "</style>\n",
       "<table border=\"1\" class=\"dataframe\">\n",
       "  <thead>\n",
       "    <tr style=\"text-align: right;\">\n",
       "      <th></th>\n",
       "      <th>recency</th>\n",
       "      <th>T</th>\n",
       "      <th>frequency</th>\n",
       "      <th>monetary</th>\n",
       "    </tr>\n",
       "    <tr>\n",
       "      <th>Customer ID</th>\n",
       "      <th></th>\n",
       "      <th></th>\n",
       "      <th></th>\n",
       "      <th></th>\n",
       "    </tr>\n",
       "  </thead>\n",
       "  <tbody>\n",
       "    <tr>\n",
       "      <th>12347.00000</th>\n",
       "      <td>52</td>\n",
       "      <td>52</td>\n",
       "      <td>7</td>\n",
       "      <td>615.71429</td>\n",
       "    </tr>\n",
       "    <tr>\n",
       "      <th>12348.00000</th>\n",
       "      <td>40</td>\n",
       "      <td>51</td>\n",
       "      <td>4</td>\n",
       "      <td>442.69500</td>\n",
       "    </tr>\n",
       "    <tr>\n",
       "      <th>12352.00000</th>\n",
       "      <td>37</td>\n",
       "      <td>42</td>\n",
       "      <td>8</td>\n",
       "      <td>219.54250</td>\n",
       "    </tr>\n",
       "    <tr>\n",
       "      <th>12356.00000</th>\n",
       "      <td>43</td>\n",
       "      <td>46</td>\n",
       "      <td>3</td>\n",
       "      <td>937.14333</td>\n",
       "    </tr>\n",
       "    <tr>\n",
       "      <th>12358.00000</th>\n",
       "      <td>21</td>\n",
       "      <td>21</td>\n",
       "      <td>2</td>\n",
       "      <td>575.21000</td>\n",
       "    </tr>\n",
       "  </tbody>\n",
       "</table>\n",
       "</div>"
      ],
      "text/plain": [
       "             recency   T  frequency  monetary\n",
       "Customer ID                                  \n",
       "12347.00000       52  52          7 615.71429\n",
       "12348.00000       40  51          4 442.69500\n",
       "12352.00000       37  42          8 219.54250\n",
       "12356.00000       43  46          3 937.14333\n",
       "12358.00000       21  21          2 575.21000"
      ]
     },
     "execution_count": 107,
     "metadata": {},
     "output_type": "execute_result"
    }
   ],
   "source": [
    "cltv_df.head()"
   ]
  },
  {
   "cell_type": "markdown",
   "id": "78f7d862",
   "metadata": {
    "papermill": {
     "duration": 0.072696,
     "end_time": "2023-10-25T07:50:22.900335",
     "exception": false,
     "start_time": "2023-10-25T07:50:22.827639",
     "status": "completed"
    },
    "tags": []
   },
   "source": [
    "<a id = \"32\"></a><br>\n",
    "### <p style=\"font-family:JetBrains Mono; font-weight:bold; letter-spacing: 2px; color:#045F5F; font-size:140%; text-align:left;padding: 0px; border-bottom: 3px solid\">Establishment of BG-NBD Model</p>"
   ]
  },
  {
   "cell_type": "code",
   "execution_count": 108,
   "id": "c3eaff04",
   "metadata": {
    "execution": {
     "iopub.execute_input": "2023-10-25T07:50:23.048839Z",
     "iopub.status.busy": "2023-10-25T07:50:23.048356Z",
     "iopub.status.idle": "2023-10-25T07:50:23.054011Z",
     "shell.execute_reply": "2023-10-25T07:50:23.052899Z"
    },
    "papermill": {
     "duration": 0.084458,
     "end_time": "2023-10-25T07:50:23.056531",
     "exception": false,
     "start_time": "2023-10-25T07:50:22.972073",
     "status": "completed"
    },
    "tags": []
   },
   "outputs": [],
   "source": [
    "bgf = BetaGeoFitter(penalizer_coef=0.001)"
   ]
  },
  {
   "cell_type": "code",
   "execution_count": 109,
   "id": "9b058fd3",
   "metadata": {
    "execution": {
     "iopub.execute_input": "2023-10-25T07:50:23.208497Z",
     "iopub.status.busy": "2023-10-25T07:50:23.208060Z",
     "iopub.status.idle": "2023-10-25T07:50:23.539354Z",
     "shell.execute_reply": "2023-10-25T07:50:23.537658Z"
    },
    "papermill": {
     "duration": 0.412417,
     "end_time": "2023-10-25T07:50:23.544744",
     "exception": false,
     "start_time": "2023-10-25T07:50:23.132327",
     "status": "completed"
    },
    "tags": []
   },
   "outputs": [
    {
     "data": {
      "text/plain": [
       "<lifetimes.BetaGeoFitter: fitted with 2845 subjects, a: 0.13, alpha: 10.94, b: 2.53, r: 2.15>"
      ]
     },
     "execution_count": 109,
     "metadata": {},
     "output_type": "execute_result"
    }
   ],
   "source": [
    "bgf.fit(cltv_df['frequency'],\n",
    "        cltv_df['recency'],\n",
    "        cltv_df['T'])"
   ]
  },
  {
   "cell_type": "markdown",
   "id": "4460819b",
   "metadata": {
    "papermill": {
     "duration": 0.074511,
     "end_time": "2023-10-25T07:50:23.745889",
     "exception": false,
     "start_time": "2023-10-25T07:50:23.671378",
     "status": "completed"
    },
    "tags": []
   },
   "source": [
    "* **Who are the top 10 customers we expect to make the most purchases within the next week?**"
   ]
  },
  {
   "cell_type": "code",
   "execution_count": 110,
   "id": "533780db",
   "metadata": {
    "execution": {
     "iopub.execute_input": "2023-10-25T07:50:23.897057Z",
     "iopub.status.busy": "2023-10-25T07:50:23.896523Z",
     "iopub.status.idle": "2023-10-25T07:50:23.919086Z",
     "shell.execute_reply": "2023-10-25T07:50:23.917771Z"
    },
    "papermill": {
     "duration": 0.100901,
     "end_time": "2023-10-25T07:50:23.922021",
     "exception": false,
     "start_time": "2023-10-25T07:50:23.821120",
     "status": "completed"
    },
    "tags": []
   },
   "outputs": [
    {
     "data": {
      "text/plain": [
       "Customer ID\n",
       "12748.00000   3.29706\n",
       "14911.00000   3.17206\n",
       "17841.00000   1.96900\n",
       "13089.00000   1.53964\n",
       "14606.00000   1.48464\n",
       "15311.00000   1.45339\n",
       "12971.00000   1.36928\n",
       "14646.00000   1.22980\n",
       "13408.00000   1.00029\n",
       "18102.00000   0.98442\n",
       "dtype: float64"
      ]
     },
     "execution_count": 110,
     "metadata": {},
     "output_type": "execute_result"
    }
   ],
   "source": [
    "bgf.conditional_expected_number_of_purchases_up_to_time(1,\n",
    "                                                        cltv_df['frequency'],\n",
    "                                                        cltv_df['recency'],\n",
    "                                                        cltv_df['T']).sort_values(ascending=False).head(10)"
   ]
  },
  {
   "cell_type": "code",
   "execution_count": 111,
   "id": "16e568d6",
   "metadata": {
    "execution": {
     "iopub.execute_input": "2023-10-25T07:50:24.074832Z",
     "iopub.status.busy": "2023-10-25T07:50:24.074366Z",
     "iopub.status.idle": "2023-10-25T07:50:24.095620Z",
     "shell.execute_reply": "2023-10-25T07:50:24.093981Z"
    },
    "papermill": {
     "duration": 0.103957,
     "end_time": "2023-10-25T07:50:24.098831",
     "exception": false,
     "start_time": "2023-10-25T07:50:23.994874",
     "status": "completed"
    },
    "tags": []
   },
   "outputs": [
    {
     "data": {
      "text/plain": [
       "Customer ID\n",
       "12748.00000   3.29706\n",
       "14911.00000   3.17206\n",
       "17841.00000   1.96900\n",
       "13089.00000   1.53964\n",
       "14606.00000   1.48464\n",
       "15311.00000   1.45339\n",
       "12971.00000   1.36928\n",
       "14646.00000   1.22980\n",
       "13408.00000   1.00029\n",
       "18102.00000   0.98442\n",
       "dtype: float64"
      ]
     },
     "execution_count": 111,
     "metadata": {},
     "output_type": "execute_result"
    }
   ],
   "source": [
    "bgf.predict(1,\n",
    "            cltv_df['frequency'],\n",
    "            cltv_df['recency'],\n",
    "            cltv_df['T']).sort_values(ascending=False).head(10)"
   ]
  },
  {
   "cell_type": "code",
   "execution_count": 112,
   "id": "ec556a7e",
   "metadata": {
    "execution": {
     "iopub.execute_input": "2023-10-25T07:50:24.249026Z",
     "iopub.status.busy": "2023-10-25T07:50:24.248573Z",
     "iopub.status.idle": "2023-10-25T07:50:24.265873Z",
     "shell.execute_reply": "2023-10-25T07:50:24.264638Z"
    },
    "papermill": {
     "duration": 0.095668,
     "end_time": "2023-10-25T07:50:24.268866",
     "exception": false,
     "start_time": "2023-10-25T07:50:24.173198",
     "status": "completed"
    },
    "tags": []
   },
   "outputs": [],
   "source": [
    "cltv_df[\"expected_purc_1_week\"] = bgf.predict(1,\n",
    "                                              cltv_df['frequency'],\n",
    "                                              cltv_df['recency'],\n",
    "                                              cltv_df['T'])"
   ]
  },
  {
   "cell_type": "code",
   "execution_count": 113,
   "id": "48df87e3",
   "metadata": {
    "execution": {
     "iopub.execute_input": "2023-10-25T07:50:24.422460Z",
     "iopub.status.busy": "2023-10-25T07:50:24.421999Z",
     "iopub.status.idle": "2023-10-25T07:50:24.436432Z",
     "shell.execute_reply": "2023-10-25T07:50:24.434986Z"
    },
    "papermill": {
     "duration": 0.09221,
     "end_time": "2023-10-25T07:50:24.438910",
     "exception": false,
     "start_time": "2023-10-25T07:50:24.346700",
     "status": "completed"
    },
    "tags": []
   },
   "outputs": [
    {
     "data": {
      "text/html": [
       "<div>\n",
       "<style scoped>\n",
       "    .dataframe tbody tr th:only-of-type {\n",
       "        vertical-align: middle;\n",
       "    }\n",
       "\n",
       "    .dataframe tbody tr th {\n",
       "        vertical-align: top;\n",
       "    }\n",
       "\n",
       "    .dataframe thead th {\n",
       "        text-align: right;\n",
       "    }\n",
       "</style>\n",
       "<table border=\"1\" class=\"dataframe\">\n",
       "  <thead>\n",
       "    <tr style=\"text-align: right;\">\n",
       "      <th></th>\n",
       "      <th>recency</th>\n",
       "      <th>T</th>\n",
       "      <th>frequency</th>\n",
       "      <th>monetary</th>\n",
       "      <th>expected_purc_1_week</th>\n",
       "    </tr>\n",
       "    <tr>\n",
       "      <th>Customer ID</th>\n",
       "      <th></th>\n",
       "      <th></th>\n",
       "      <th></th>\n",
       "      <th></th>\n",
       "      <th></th>\n",
       "    </tr>\n",
       "  </thead>\n",
       "  <tbody>\n",
       "    <tr>\n",
       "      <th>12347.00000</th>\n",
       "      <td>52</td>\n",
       "      <td>52</td>\n",
       "      <td>7</td>\n",
       "      <td>615.71429</td>\n",
       "      <td>0.14309</td>\n",
       "    </tr>\n",
       "    <tr>\n",
       "      <th>12348.00000</th>\n",
       "      <td>40</td>\n",
       "      <td>51</td>\n",
       "      <td>4</td>\n",
       "      <td>442.69500</td>\n",
       "      <td>0.09213</td>\n",
       "    </tr>\n",
       "    <tr>\n",
       "      <th>12352.00000</th>\n",
       "      <td>37</td>\n",
       "      <td>42</td>\n",
       "      <td>8</td>\n",
       "      <td>219.54250</td>\n",
       "      <td>0.18474</td>\n",
       "    </tr>\n",
       "    <tr>\n",
       "      <th>12356.00000</th>\n",
       "      <td>43</td>\n",
       "      <td>46</td>\n",
       "      <td>3</td>\n",
       "      <td>937.14333</td>\n",
       "      <td>0.08711</td>\n",
       "    </tr>\n",
       "    <tr>\n",
       "      <th>12358.00000</th>\n",
       "      <td>21</td>\n",
       "      <td>21</td>\n",
       "      <td>2</td>\n",
       "      <td>575.21000</td>\n",
       "      <td>0.12515</td>\n",
       "    </tr>\n",
       "  </tbody>\n",
       "</table>\n",
       "</div>"
      ],
      "text/plain": [
       "             recency   T  frequency  monetary  expected_purc_1_week\n",
       "Customer ID                                                        \n",
       "12347.00000       52  52          7 615.71429               0.14309\n",
       "12348.00000       40  51          4 442.69500               0.09213\n",
       "12352.00000       37  42          8 219.54250               0.18474\n",
       "12356.00000       43  46          3 937.14333               0.08711\n",
       "12358.00000       21  21          2 575.21000               0.12515"
      ]
     },
     "execution_count": 113,
     "metadata": {},
     "output_type": "execute_result"
    }
   ],
   "source": [
    "cltv_df.head()"
   ]
  },
  {
   "cell_type": "markdown",
   "id": "c0c26663",
   "metadata": {
    "papermill": {
     "duration": 0.07559,
     "end_time": "2023-10-25T07:50:24.588309",
     "exception": false,
     "start_time": "2023-10-25T07:50:24.512719",
     "status": "completed"
    },
    "tags": []
   },
   "source": [
    "* **Who are the top 10 customers we expect to make the most purchases within the next month?**"
   ]
  },
  {
   "cell_type": "code",
   "execution_count": 114,
   "id": "4cfc67cb",
   "metadata": {
    "execution": {
     "iopub.execute_input": "2023-10-25T07:50:24.736085Z",
     "iopub.status.busy": "2023-10-25T07:50:24.735613Z",
     "iopub.status.idle": "2023-10-25T07:50:24.758287Z",
     "shell.execute_reply": "2023-10-25T07:50:24.756641Z"
    },
    "papermill": {
     "duration": 0.099988,
     "end_time": "2023-10-25T07:50:24.761241",
     "exception": false,
     "start_time": "2023-10-25T07:50:24.661253",
     "status": "completed"
    },
    "tags": []
   },
   "outputs": [
    {
     "data": {
      "text/plain": [
       "Customer ID\n",
       "12748.00000   13.14984\n",
       "14911.00000   12.65131\n",
       "17841.00000    7.85302\n",
       "13089.00000    6.14060\n",
       "14606.00000    5.92123\n",
       "15311.00000    5.79660\n",
       "12971.00000    5.46113\n",
       "14646.00000    4.90413\n",
       "13408.00000    3.98944\n",
       "18102.00000    3.92597\n",
       "dtype: float64"
      ]
     },
     "execution_count": 114,
     "metadata": {},
     "output_type": "execute_result"
    }
   ],
   "source": [
    "bgf.predict(4,\n",
    "            cltv_df['frequency'],\n",
    "            cltv_df['recency'],\n",
    "            cltv_df['T']).sort_values(ascending=False).head(10)"
   ]
  },
  {
   "cell_type": "code",
   "execution_count": 115,
   "id": "868ddd34",
   "metadata": {
    "execution": {
     "iopub.execute_input": "2023-10-25T07:50:24.911091Z",
     "iopub.status.busy": "2023-10-25T07:50:24.910645Z",
     "iopub.status.idle": "2023-10-25T07:50:24.929557Z",
     "shell.execute_reply": "2023-10-25T07:50:24.928254Z"
    },
    "papermill": {
     "duration": 0.098086,
     "end_time": "2023-10-25T07:50:24.932877",
     "exception": false,
     "start_time": "2023-10-25T07:50:24.834791",
     "status": "completed"
    },
    "tags": []
   },
   "outputs": [],
   "source": [
    "cltv_df[\"expected_purc_1_month\"] = bgf.predict(4,\n",
    "                                               cltv_df['frequency'],\n",
    "                                               cltv_df['recency'],\n",
    "                                               cltv_df['T'])"
   ]
  },
  {
   "cell_type": "code",
   "execution_count": 116,
   "id": "9cc49270",
   "metadata": {
    "execution": {
     "iopub.execute_input": "2023-10-25T07:50:25.087642Z",
     "iopub.status.busy": "2023-10-25T07:50:25.087153Z",
     "iopub.status.idle": "2023-10-25T07:50:25.108427Z",
     "shell.execute_reply": "2023-10-25T07:50:25.106595Z"
    },
    "papermill": {
     "duration": 0.105631,
     "end_time": "2023-10-25T07:50:25.111476",
     "exception": false,
     "start_time": "2023-10-25T07:50:25.005845",
     "status": "completed"
    },
    "tags": []
   },
   "outputs": [
    {
     "data": {
      "text/plain": [
       "1797.9009182051827"
      ]
     },
     "execution_count": 116,
     "metadata": {},
     "output_type": "execute_result"
    }
   ],
   "source": [
    "bgf.predict(4,\n",
    "            cltv_df['frequency'],\n",
    "            cltv_df['recency'],\n",
    "            cltv_df['T']).sum()"
   ]
  },
  {
   "cell_type": "markdown",
   "id": "489c7c80",
   "metadata": {
    "papermill": {
     "duration": 0.074677,
     "end_time": "2023-10-25T07:50:25.260160",
     "exception": false,
     "start_time": "2023-10-25T07:50:25.185483",
     "status": "completed"
    },
    "tags": []
   },
   "source": [
    "* **What is the expected number of purchases for the entire company within 3 months?**"
   ]
  },
  {
   "cell_type": "code",
   "execution_count": 117,
   "id": "d3039f26",
   "metadata": {
    "execution": {
     "iopub.execute_input": "2023-10-25T07:50:25.413761Z",
     "iopub.status.busy": "2023-10-25T07:50:25.413251Z",
     "iopub.status.idle": "2023-10-25T07:50:25.435386Z",
     "shell.execute_reply": "2023-10-25T07:50:25.433412Z"
    },
    "papermill": {
     "duration": 0.103912,
     "end_time": "2023-10-25T07:50:25.438776",
     "exception": false,
     "start_time": "2023-10-25T07:50:25.334864",
     "status": "completed"
    },
    "tags": []
   },
   "outputs": [
    {
     "data": {
      "text/plain": [
       "5327.7189650556775"
      ]
     },
     "execution_count": 117,
     "metadata": {},
     "output_type": "execute_result"
    }
   ],
   "source": [
    "bgf.predict(4 * 3,\n",
    "            cltv_df['frequency'],\n",
    "            cltv_df['recency'],\n",
    "            cltv_df['T']).sum()"
   ]
  },
  {
   "cell_type": "code",
   "execution_count": 118,
   "id": "c05eda44",
   "metadata": {
    "execution": {
     "iopub.execute_input": "2023-10-25T07:50:25.595586Z",
     "iopub.status.busy": "2023-10-25T07:50:25.594712Z",
     "iopub.status.idle": "2023-10-25T07:50:25.612532Z",
     "shell.execute_reply": "2023-10-25T07:50:25.611240Z"
    },
    "papermill": {
     "duration": 0.099701,
     "end_time": "2023-10-25T07:50:25.615836",
     "exception": false,
     "start_time": "2023-10-25T07:50:25.516135",
     "status": "completed"
    },
    "tags": []
   },
   "outputs": [],
   "source": [
    "cltv_df[\"expected_purc_3_month\"] = bgf.predict(4 * 3,\n",
    "                                               cltv_df['frequency'],\n",
    "                                               cltv_df['recency'],\n",
    "                                               cltv_df['T'])"
   ]
  },
  {
   "cell_type": "markdown",
   "id": "6080d403",
   "metadata": {
    "papermill": {
     "duration": 0.076034,
     "end_time": "2023-10-25T07:50:25.767907",
     "exception": false,
     "start_time": "2023-10-25T07:50:25.691873",
     "status": "completed"
    },
    "tags": []
   },
   "source": [
    "* **Evaluation of Prediction Results**"
   ]
  },
  {
   "cell_type": "code",
   "execution_count": 119,
   "id": "45c0f6f3",
   "metadata": {
    "execution": {
     "iopub.execute_input": "2023-10-25T07:50:25.918864Z",
     "iopub.status.busy": "2023-10-25T07:50:25.918427Z",
     "iopub.status.idle": "2023-10-25T07:50:27.026088Z",
     "shell.execute_reply": "2023-10-25T07:50:27.024570Z"
    },
    "papermill": {
     "duration": 1.187653,
     "end_time": "2023-10-25T07:50:27.029430",
     "exception": false,
     "start_time": "2023-10-25T07:50:25.841777",
     "status": "completed"
    },
    "tags": []
   },
   "outputs": [
    {
     "data": {
      "image/png": "[encoded data removed]",
      "text/plain": [
       "<Figure size 640x480 with 1 Axes>"
      ]
     },
     "metadata": {},
     "output_type": "display_data"
    }
   ],
   "source": [
    "plot_period_transactions(bgf)\n",
    "plt.show()"
   ]
  },
  {
   "cell_type": "markdown",
   "id": "e88078fc",
   "metadata": {
    "papermill": {
     "duration": 0.073437,
     "end_time": "2023-10-25T07:50:27.178822",
     "exception": false,
     "start_time": "2023-10-25T07:50:27.105385",
     "status": "completed"
    },
    "tags": []
   },
   "source": [
    "<a id = \"33\"></a><br>\n",
    "### <p style=\"font-family:JetBrains Mono; font-weight:bold; letter-spacing: 2px; color:#045F5F; font-size:140%; text-align:left;padding: 0px; border-bottom: 3px solid\">Establishing the Gamma-Gamma Model</p>"
   ]
  },
  {
   "cell_type": "code",
   "execution_count": 120,
   "id": "0c136f8f",
   "metadata": {
    "execution": {
     "iopub.execute_input": "2023-10-25T07:50:27.333801Z",
     "iopub.status.busy": "2023-10-25T07:50:27.332855Z",
     "iopub.status.idle": "2023-10-25T07:50:27.338587Z",
     "shell.execute_reply": "2023-10-25T07:50:27.337001Z"
    },
    "papermill": {
     "duration": 0.0854,
     "end_time": "2023-10-25T07:50:27.341259",
     "exception": false,
     "start_time": "2023-10-25T07:50:27.255859",
     "status": "completed"
    },
    "tags": []
   },
   "outputs": [],
   "source": [
    "ggf = GammaGammaFitter(penalizer_coef=0.01)"
   ]
  },
  {
   "cell_type": "code",
   "execution_count": 121,
   "id": "44542fa0",
   "metadata": {
    "execution": {
     "iopub.execute_input": "2023-10-25T07:50:27.489020Z",
     "iopub.status.busy": "2023-10-25T07:50:27.487988Z",
     "iopub.status.idle": "2023-10-25T07:50:27.568503Z",
     "shell.execute_reply": "2023-10-25T07:50:27.566522Z"
    },
    "papermill": {
     "duration": 0.159315,
     "end_time": "2023-10-25T07:50:27.572967",
     "exception": false,
     "start_time": "2023-10-25T07:50:27.413652",
     "status": "completed"
    },
    "tags": []
   },
   "outputs": [
    {
     "data": {
      "text/plain": [
       "<lifetimes.GammaGammaFitter: fitted with 2845 subjects, p: 3.79, q: 0.34, v: 3.73>"
      ]
     },
     "execution_count": 121,
     "metadata": {},
     "output_type": "execute_result"
    }
   ],
   "source": [
    "ggf.fit(cltv_df['frequency'], cltv_df['monetary'])"
   ]
  },
  {
   "cell_type": "code",
   "execution_count": 122,
   "id": "f07b14ca",
   "metadata": {
    "execution": {
     "iopub.execute_input": "2023-10-25T07:50:27.785830Z",
     "iopub.status.busy": "2023-10-25T07:50:27.784999Z",
     "iopub.status.idle": "2023-10-25T07:50:27.796796Z",
     "shell.execute_reply": "2023-10-25T07:50:27.795774Z"
    },
    "papermill": {
     "duration": 0.090488,
     "end_time": "2023-10-25T07:50:27.799367",
     "exception": false,
     "start_time": "2023-10-25T07:50:27.708879",
     "status": "completed"
    },
    "tags": []
   },
   "outputs": [
    {
     "data": {
      "text/plain": [
       "Customer ID\n",
       "12347.00000    631.91230\n",
       "12348.00000    463.74596\n",
       "12352.00000    224.88677\n",
       "12356.00000    995.99892\n",
       "12358.00000    631.90217\n",
       "12359.00000   1435.03854\n",
       "12360.00000    933.79054\n",
       "12362.00000    532.23183\n",
       "12363.00000    304.26435\n",
       "12364.00000    344.13697\n",
       "dtype: float64"
      ]
     },
     "execution_count": 122,
     "metadata": {},
     "output_type": "execute_result"
    }
   ],
   "source": [
    "ggf.conditional_expected_average_profit(cltv_df['frequency'],\n",
    "                                        cltv_df['monetary']).head(10)"
   ]
  },
  {
   "cell_type": "code",
   "execution_count": 123,
   "id": "921694dd",
   "metadata": {
    "execution": {
     "iopub.execute_input": "2023-10-25T07:50:27.973527Z",
     "iopub.status.busy": "2023-10-25T07:50:27.972766Z",
     "iopub.status.idle": "2023-10-25T07:50:27.986707Z",
     "shell.execute_reply": "2023-10-25T07:50:27.985716Z"
    },
    "papermill": {
     "duration": 0.11449,
     "end_time": "2023-10-25T07:50:27.989365",
     "exception": false,
     "start_time": "2023-10-25T07:50:27.874875",
     "status": "completed"
    },
    "tags": []
   },
   "outputs": [
    {
     "data": {
      "text/plain": [
       "Customer ID\n",
       "12415.00000   5772.17817\n",
       "12590.00000   5029.41962\n",
       "12435.00000   4288.94402\n",
       "12409.00000   3918.81281\n",
       "14088.00000   3917.12972\n",
       "18102.00000   3870.99693\n",
       "12753.00000   3678.57835\n",
       "14646.00000   3654.81481\n",
       "15749.00000   3216.05234\n",
       "14096.00000   3196.43606\n",
       "dtype: float64"
      ]
     },
     "execution_count": 123,
     "metadata": {},
     "output_type": "execute_result"
    }
   ],
   "source": [
    "ggf.conditional_expected_average_profit(cltv_df['frequency'],\n",
    "                                        cltv_df['monetary']).sort_values(ascending=False).head(10)"
   ]
  },
  {
   "cell_type": "code",
   "execution_count": 124,
   "id": "039076e3",
   "metadata": {
    "execution": {
     "iopub.execute_input": "2023-10-25T07:50:28.152172Z",
     "iopub.status.busy": "2023-10-25T07:50:28.150816Z",
     "iopub.status.idle": "2023-10-25T07:50:28.160746Z",
     "shell.execute_reply": "2023-10-25T07:50:28.159375Z"
    },
    "papermill": {
     "duration": 0.092903,
     "end_time": "2023-10-25T07:50:28.164055",
     "exception": false,
     "start_time": "2023-10-25T07:50:28.071152",
     "status": "completed"
    },
    "tags": []
   },
   "outputs": [],
   "source": [
    "cltv_df[\"expected_average_profit\"] = ggf.conditional_expected_average_profit(cltv_df['frequency'],\n",
    "                                                                             cltv_df['monetary'])"
   ]
  },
  {
   "cell_type": "code",
   "execution_count": 125,
   "id": "272245de",
   "metadata": {
    "execution": {
     "iopub.execute_input": "2023-10-25T07:50:28.322222Z",
     "iopub.status.busy": "2023-10-25T07:50:28.321802Z",
     "iopub.status.idle": "2023-10-25T07:50:28.340530Z",
     "shell.execute_reply": "2023-10-25T07:50:28.338999Z"
    },
    "papermill": {
     "duration": 0.100319,
     "end_time": "2023-10-25T07:50:28.343389",
     "exception": false,
     "start_time": "2023-10-25T07:50:28.243070",
     "status": "completed"
    },
    "tags": []
   },
   "outputs": [
    {
     "data": {
      "text/html": [
       "<div>\n",
       "<style scoped>\n",
       "    .dataframe tbody tr th:only-of-type {\n",
       "        vertical-align: middle;\n",
       "    }\n",
       "\n",
       "    .dataframe tbody tr th {\n",
       "        vertical-align: top;\n",
       "    }\n",
       "\n",
       "    .dataframe thead th {\n",
       "        text-align: right;\n",
       "    }\n",
       "</style>\n",
       "<table border=\"1\" class=\"dataframe\">\n",
       "  <thead>\n",
       "    <tr style=\"text-align: right;\">\n",
       "      <th></th>\n",
       "      <th>recency</th>\n",
       "      <th>T</th>\n",
       "      <th>frequency</th>\n",
       "      <th>monetary</th>\n",
       "      <th>expected_purc_1_week</th>\n",
       "      <th>expected_purc_1_month</th>\n",
       "      <th>expected_purc_3_month</th>\n",
       "      <th>expected_average_profit</th>\n",
       "    </tr>\n",
       "    <tr>\n",
       "      <th>Customer ID</th>\n",
       "      <th></th>\n",
       "      <th></th>\n",
       "      <th></th>\n",
       "      <th></th>\n",
       "      <th></th>\n",
       "      <th></th>\n",
       "      <th></th>\n",
       "      <th></th>\n",
       "    </tr>\n",
       "  </thead>\n",
       "  <tbody>\n",
       "    <tr>\n",
       "      <th>12415.00000</th>\n",
       "      <td>44</td>\n",
       "      <td>48</td>\n",
       "      <td>21</td>\n",
       "      <td>5724.30262</td>\n",
       "      <td>0.38138</td>\n",
       "      <td>1.52065</td>\n",
       "      <td>4.52529</td>\n",
       "      <td>5772.17817</td>\n",
       "    </tr>\n",
       "    <tr>\n",
       "      <th>12590.00000</th>\n",
       "      <td>0</td>\n",
       "      <td>30</td>\n",
       "      <td>2</td>\n",
       "      <td>4591.17250</td>\n",
       "      <td>0.01053</td>\n",
       "      <td>0.04190</td>\n",
       "      <td>0.12420</td>\n",
       "      <td>5029.41962</td>\n",
       "    </tr>\n",
       "    <tr>\n",
       "      <th>12435.00000</th>\n",
       "      <td>26</td>\n",
       "      <td>38</td>\n",
       "      <td>2</td>\n",
       "      <td>3914.94500</td>\n",
       "      <td>0.07590</td>\n",
       "      <td>0.30233</td>\n",
       "      <td>0.89773</td>\n",
       "      <td>4288.94402</td>\n",
       "    </tr>\n",
       "    <tr>\n",
       "      <th>12409.00000</th>\n",
       "      <td>14</td>\n",
       "      <td>26</td>\n",
       "      <td>3</td>\n",
       "      <td>3690.89000</td>\n",
       "      <td>0.11479</td>\n",
       "      <td>0.45673</td>\n",
       "      <td>1.35253</td>\n",
       "      <td>3918.81281</td>\n",
       "    </tr>\n",
       "    <tr>\n",
       "      <th>14088.00000</th>\n",
       "      <td>44</td>\n",
       "      <td>46</td>\n",
       "      <td>13</td>\n",
       "      <td>3864.55462</td>\n",
       "      <td>0.26183</td>\n",
       "      <td>1.04381</td>\n",
       "      <td>3.10522</td>\n",
       "      <td>3917.12972</td>\n",
       "    </tr>\n",
       "    <tr>\n",
       "      <th>18102.00000</th>\n",
       "      <td>52</td>\n",
       "      <td>52</td>\n",
       "      <td>60</td>\n",
       "      <td>3859.73908</td>\n",
       "      <td>0.98442</td>\n",
       "      <td>3.92597</td>\n",
       "      <td>11.68986</td>\n",
       "      <td>3870.99693</td>\n",
       "    </tr>\n",
       "    <tr>\n",
       "      <th>12753.00000</th>\n",
       "      <td>48</td>\n",
       "      <td>52</td>\n",
       "      <td>6</td>\n",
       "      <td>3571.56500</td>\n",
       "      <td>0.12573</td>\n",
       "      <td>0.50135</td>\n",
       "      <td>1.49230</td>\n",
       "      <td>3678.57835</td>\n",
       "    </tr>\n",
       "    <tr>\n",
       "      <th>14646.00000</th>\n",
       "      <td>50</td>\n",
       "      <td>50</td>\n",
       "      <td>73</td>\n",
       "      <td>3646.07568</td>\n",
       "      <td>1.22980</td>\n",
       "      <td>4.90413</td>\n",
       "      <td>14.59923</td>\n",
       "      <td>3654.81481</td>\n",
       "    </tr>\n",
       "    <tr>\n",
       "      <th>15749.00000</th>\n",
       "      <td>13</td>\n",
       "      <td>47</td>\n",
       "      <td>3</td>\n",
       "      <td>3028.78000</td>\n",
       "      <td>0.02424</td>\n",
       "      <td>0.09663</td>\n",
       "      <td>0.28739</td>\n",
       "      <td>3216.05234</td>\n",
       "    </tr>\n",
       "    <tr>\n",
       "      <th>14096.00000</th>\n",
       "      <td>13</td>\n",
       "      <td>14</td>\n",
       "      <td>17</td>\n",
       "      <td>3163.58824</td>\n",
       "      <td>0.75453</td>\n",
       "      <td>2.99607</td>\n",
       "      <td>8.83497</td>\n",
       "      <td>3196.43606</td>\n",
       "    </tr>\n",
       "  </tbody>\n",
       "</table>\n",
       "</div>"
      ],
      "text/plain": [
       "             recency   T  frequency   monetary  expected_purc_1_week  \\\n",
       "Customer ID                                                            \n",
       "12415.00000       44  48         21 5724.30262               0.38138   \n",
       "12590.00000        0  30          2 4591.17250               0.01053   \n",
       "12435.00000       26  38          2 3914.94500               0.07590   \n",
       "12409.00000       14  26          3 3690.89000               0.11479   \n",
       "14088.00000       44  46         13 3864.55462               0.26183   \n",
       "18102.00000       52  52         60 3859.73908               0.98442   \n",
       "12753.00000       48  52          6 3571.56500               0.12573   \n",
       "14646.00000       50  50         73 3646.07568               1.22980   \n",
       "15749.00000       13  47          3 3028.78000               0.02424   \n",
       "14096.00000       13  14         17 3163.58824               0.75453   \n",
       "\n",
       "             expected_purc_1_month  expected_purc_3_month  \\\n",
       "Customer ID                                                 \n",
       "12415.00000                1.52065                4.52529   \n",
       "12590.00000                0.04190                0.12420   \n",
       "12435.00000                0.30233                0.89773   \n",
       "12409.00000                0.45673                1.35253   \n",
       "14088.00000                1.04381                3.10522   \n",
       "18102.00000                3.92597               11.68986   \n",
       "12753.00000                0.50135                1.49230   \n",
       "14646.00000                4.90413               14.59923   \n",
       "15749.00000                0.09663                0.28739   \n",
       "14096.00000                2.99607                8.83497   \n",
       "\n",
       "             expected_average_profit  \n",
       "Customer ID                           \n",
       "12415.00000               5772.17817  \n",
       "12590.00000               5029.41962  \n",
       "12435.00000               4288.94402  \n",
       "12409.00000               3918.81281  \n",
       "14088.00000               3917.12972  \n",
       "18102.00000               3870.99693  \n",
       "12753.00000               3678.57835  \n",
       "14646.00000               3654.81481  \n",
       "15749.00000               3216.05234  \n",
       "14096.00000               3196.43606  "
      ]
     },
     "execution_count": 125,
     "metadata": {},
     "output_type": "execute_result"
    }
   ],
   "source": [
    "cltv_df.sort_values(\"expected_average_profit\", ascending=False).head(10)"
   ]
  },
  {
   "cell_type": "markdown",
   "id": "c9ac6861",
   "metadata": {
    "papermill": {
     "duration": 0.075814,
     "end_time": "2023-10-25T07:50:28.495949",
     "exception": false,
     "start_time": "2023-10-25T07:50:28.420135",
     "status": "completed"
    },
    "tags": []
   },
   "source": [
    "<a id = \"34\"></a><br>\n",
    "### <p style=\"font-family:JetBrains Mono; font-weight:bold; letter-spacing: 2px; color:#045F5F; font-size:140%; text-align:left;padding: 0px; border-bottom: 3px solid\">Calculation of CLTV with BG-NBD and GG Model</p>"
   ]
  },
  {
   "cell_type": "code",
   "execution_count": 126,
   "id": "4bd66f96",
   "metadata": {
    "execution": {
     "iopub.execute_input": "2023-10-25T07:50:28.651323Z",
     "iopub.status.busy": "2023-10-25T07:50:28.650892Z",
     "iopub.status.idle": "2023-10-25T07:50:28.714460Z",
     "shell.execute_reply": "2023-10-25T07:50:28.713232Z"
    },
    "papermill": {
     "duration": 0.145523,
     "end_time": "2023-10-25T07:50:28.717597",
     "exception": false,
     "start_time": "2023-10-25T07:50:28.572074",
     "status": "completed"
    },
    "tags": []
   },
   "outputs": [],
   "source": [
    "cltv = ggf.customer_lifetime_value(bgf,\n",
    "                                   cltv_df['frequency'],\n",
    "                                   cltv_df['recency'],\n",
    "                                   cltv_df['T'],\n",
    "                                   cltv_df['monetary'],\n",
    "                                   time=3,  # 3 months\n",
    "                                   freq=\"W\",  # frequency information of T.\n",
    "                                   discount_rate=0.01)"
   ]
  },
  {
   "cell_type": "code",
   "execution_count": 127,
   "id": "beeb9699",
   "metadata": {
    "execution": {
     "iopub.execute_input": "2023-10-25T07:50:28.872022Z",
     "iopub.status.busy": "2023-10-25T07:50:28.871515Z",
     "iopub.status.idle": "2023-10-25T07:50:28.880119Z",
     "shell.execute_reply": "2023-10-25T07:50:28.879151Z"
    },
    "papermill": {
     "duration": 0.087952,
     "end_time": "2023-10-25T07:50:28.882626",
     "exception": false,
     "start_time": "2023-10-25T07:50:28.794674",
     "status": "completed"
    },
    "tags": []
   },
   "outputs": [
    {
     "data": {
      "text/plain": [
       "Customer ID\n",
       "12347.00000   1141.91105\n",
       "12348.00000    539.34109\n",
       "12352.00000    523.62230\n",
       "12356.00000   1093.97496\n",
       "12358.00000    987.76433\n",
       "Name: clv, dtype: float64"
      ]
     },
     "execution_count": 127,
     "metadata": {},
     "output_type": "execute_result"
    }
   ],
   "source": [
    "cltv.head()"
   ]
  },
  {
   "cell_type": "code",
   "execution_count": 128,
   "id": "da111d3c",
   "metadata": {
    "execution": {
     "iopub.execute_input": "2023-10-25T07:50:29.046164Z",
     "iopub.status.busy": "2023-10-25T07:50:29.045679Z",
     "iopub.status.idle": "2023-10-25T07:50:29.052581Z",
     "shell.execute_reply": "2023-10-25T07:50:29.051091Z"
    },
    "papermill": {
     "duration": 0.093738,
     "end_time": "2023-10-25T07:50:29.055347",
     "exception": false,
     "start_time": "2023-10-25T07:50:28.961609",
     "status": "completed"
    },
    "tags": []
   },
   "outputs": [],
   "source": [
    "cltv = cltv.reset_index()"
   ]
  },
  {
   "cell_type": "code",
   "execution_count": 129,
   "id": "ed48cd3a",
   "metadata": {
    "execution": {
     "iopub.execute_input": "2023-10-25T07:50:29.212006Z",
     "iopub.status.busy": "2023-10-25T07:50:29.211474Z",
     "iopub.status.idle": "2023-10-25T07:50:29.229099Z",
     "shell.execute_reply": "2023-10-25T07:50:29.227417Z"
    },
    "papermill": {
     "duration": 0.099174,
     "end_time": "2023-10-25T07:50:29.232300",
     "exception": false,
     "start_time": "2023-10-25T07:50:29.133126",
     "status": "completed"
    },
    "tags": []
   },
   "outputs": [],
   "source": [
    "cltv_final = cltv_df.merge(cltv, on=\"Customer ID\", how=\"left\")"
   ]
  },
  {
   "cell_type": "code",
   "execution_count": 130,
   "id": "a77734c3",
   "metadata": {
    "execution": {
     "iopub.execute_input": "2023-10-25T07:50:29.391736Z",
     "iopub.status.busy": "2023-10-25T07:50:29.391240Z",
     "iopub.status.idle": "2023-10-25T07:50:29.411970Z",
     "shell.execute_reply": "2023-10-25T07:50:29.410272Z"
    },
    "papermill": {
     "duration": 0.104414,
     "end_time": "2023-10-25T07:50:29.415107",
     "exception": false,
     "start_time": "2023-10-25T07:50:29.310693",
     "status": "completed"
    },
    "tags": []
   },
   "outputs": [
    {
     "data": {
      "text/html": [
       "<div>\n",
       "<style scoped>\n",
       "    .dataframe tbody tr th:only-of-type {\n",
       "        vertical-align: middle;\n",
       "    }\n",
       "\n",
       "    .dataframe tbody tr th {\n",
       "        vertical-align: top;\n",
       "    }\n",
       "\n",
       "    .dataframe thead th {\n",
       "        text-align: right;\n",
       "    }\n",
       "</style>\n",
       "<table border=\"1\" class=\"dataframe\">\n",
       "  <thead>\n",
       "    <tr style=\"text-align: right;\">\n",
       "      <th></th>\n",
       "      <th>Customer ID</th>\n",
       "      <th>recency</th>\n",
       "      <th>T</th>\n",
       "      <th>frequency</th>\n",
       "      <th>monetary</th>\n",
       "      <th>expected_purc_1_week</th>\n",
       "      <th>expected_purc_1_month</th>\n",
       "      <th>expected_purc_3_month</th>\n",
       "      <th>expected_average_profit</th>\n",
       "      <th>clv</th>\n",
       "    </tr>\n",
       "  </thead>\n",
       "  <tbody>\n",
       "    <tr>\n",
       "      <th>1122</th>\n",
       "      <td>14646.00000</td>\n",
       "      <td>50</td>\n",
       "      <td>50</td>\n",
       "      <td>73</td>\n",
       "      <td>3646.07568</td>\n",
       "      <td>1.22980</td>\n",
       "      <td>4.90413</td>\n",
       "      <td>14.59923</td>\n",
       "      <td>3654.81481</td>\n",
       "      <td>56768.30040</td>\n",
       "    </tr>\n",
       "    <tr>\n",
       "      <th>2761</th>\n",
       "      <td>18102.00000</td>\n",
       "      <td>52</td>\n",
       "      <td>52</td>\n",
       "      <td>60</td>\n",
       "      <td>3859.73908</td>\n",
       "      <td>0.98442</td>\n",
       "      <td>3.92597</td>\n",
       "      <td>11.68986</td>\n",
       "      <td>3870.99693</td>\n",
       "      <td>48145.21625</td>\n",
       "    </tr>\n",
       "    <tr>\n",
       "      <th>843</th>\n",
       "      <td>14096.00000</td>\n",
       "      <td>13</td>\n",
       "      <td>14</td>\n",
       "      <td>17</td>\n",
       "      <td>3163.58824</td>\n",
       "      <td>0.75453</td>\n",
       "      <td>2.99607</td>\n",
       "      <td>8.83497</td>\n",
       "      <td>3196.43606</td>\n",
       "      <td>30015.66332</td>\n",
       "    </tr>\n",
       "    <tr>\n",
       "      <th>36</th>\n",
       "      <td>12415.00000</td>\n",
       "      <td>44</td>\n",
       "      <td>48</td>\n",
       "      <td>21</td>\n",
       "      <td>5724.30262</td>\n",
       "      <td>0.38138</td>\n",
       "      <td>1.52065</td>\n",
       "      <td>4.52529</td>\n",
       "      <td>5772.17817</td>\n",
       "      <td>27789.48702</td>\n",
       "    </tr>\n",
       "    <tr>\n",
       "      <th>1257</th>\n",
       "      <td>14911.00000</td>\n",
       "      <td>53</td>\n",
       "      <td>53</td>\n",
       "      <td>201</td>\n",
       "      <td>691.71010</td>\n",
       "      <td>3.17206</td>\n",
       "      <td>12.65131</td>\n",
       "      <td>37.67564</td>\n",
       "      <td>692.32637</td>\n",
       "      <td>27752.33913</td>\n",
       "    </tr>\n",
       "    <tr>\n",
       "      <th>2458</th>\n",
       "      <td>17450.00000</td>\n",
       "      <td>51</td>\n",
       "      <td>52</td>\n",
       "      <td>46</td>\n",
       "      <td>2863.27489</td>\n",
       "      <td>0.75984</td>\n",
       "      <td>3.03032</td>\n",
       "      <td>9.02286</td>\n",
       "      <td>2874.19868</td>\n",
       "      <td>27591.88809</td>\n",
       "    </tr>\n",
       "    <tr>\n",
       "      <th>874</th>\n",
       "      <td>14156.00000</td>\n",
       "      <td>51</td>\n",
       "      <td>53</td>\n",
       "      <td>55</td>\n",
       "      <td>2104.02673</td>\n",
       "      <td>0.88073</td>\n",
       "      <td>3.51259</td>\n",
       "      <td>10.46007</td>\n",
       "      <td>2110.75423</td>\n",
       "      <td>23490.84215</td>\n",
       "    </tr>\n",
       "    <tr>\n",
       "      <th>2487</th>\n",
       "      <td>17511.00000</td>\n",
       "      <td>52</td>\n",
       "      <td>53</td>\n",
       "      <td>31</td>\n",
       "      <td>2933.94306</td>\n",
       "      <td>0.51454</td>\n",
       "      <td>2.05212</td>\n",
       "      <td>6.11071</td>\n",
       "      <td>2950.58013</td>\n",
       "      <td>19183.28456</td>\n",
       "    </tr>\n",
       "    <tr>\n",
       "      <th>1754</th>\n",
       "      <td>16000.00000</td>\n",
       "      <td>0</td>\n",
       "      <td>0</td>\n",
       "      <td>3</td>\n",
       "      <td>2335.12000</td>\n",
       "      <td>0.45514</td>\n",
       "      <td>1.79109</td>\n",
       "      <td>5.19518</td>\n",
       "      <td>2479.80485</td>\n",
       "      <td>13672.04554</td>\n",
       "    </tr>\n",
       "    <tr>\n",
       "      <th>2075</th>\n",
       "      <td>16684.00000</td>\n",
       "      <td>50</td>\n",
       "      <td>51</td>\n",
       "      <td>28</td>\n",
       "      <td>2209.96911</td>\n",
       "      <td>0.48286</td>\n",
       "      <td>1.92557</td>\n",
       "      <td>5.73257</td>\n",
       "      <td>2223.88497</td>\n",
       "      <td>13563.58274</td>\n",
       "    </tr>\n",
       "  </tbody>\n",
       "</table>\n",
       "</div>"
      ],
      "text/plain": [
       "      Customer ID  recency   T  frequency   monetary  expected_purc_1_week  \\\n",
       "1122  14646.00000       50  50         73 3646.07568               1.22980   \n",
       "2761  18102.00000       52  52         60 3859.73908               0.98442   \n",
       "843   14096.00000       13  14         17 3163.58824               0.75453   \n",
       "36    12415.00000       44  48         21 5724.30262               0.38138   \n",
       "1257  14911.00000       53  53        201  691.71010               3.17206   \n",
       "2458  17450.00000       51  52         46 2863.27489               0.75984   \n",
       "874   14156.00000       51  53         55 2104.02673               0.88073   \n",
       "2487  17511.00000       52  53         31 2933.94306               0.51454   \n",
       "1754  16000.00000        0   0          3 2335.12000               0.45514   \n",
       "2075  16684.00000       50  51         28 2209.96911               0.48286   \n",
       "\n",
       "      expected_purc_1_month  expected_purc_3_month  expected_average_profit  \\\n",
       "1122                4.90413               14.59923               3654.81481   \n",
       "2761                3.92597               11.68986               3870.99693   \n",
       "843                 2.99607                8.83497               3196.43606   \n",
       "36                  1.52065                4.52529               5772.17817   \n",
       "1257               12.65131               37.67564                692.32637   \n",
       "2458                3.03032                9.02286               2874.19868   \n",
       "874                 3.51259               10.46007               2110.75423   \n",
       "2487                2.05212                6.11071               2950.58013   \n",
       "1754                1.79109                5.19518               2479.80485   \n",
       "2075                1.92557                5.73257               2223.88497   \n",
       "\n",
       "             clv  \n",
       "1122 56768.30040  \n",
       "2761 48145.21625  \n",
       "843  30015.66332  \n",
       "36   27789.48702  \n",
       "1257 27752.33913  \n",
       "2458 27591.88809  \n",
       "874  23490.84215  \n",
       "2487 19183.28456  \n",
       "1754 13672.04554  \n",
       "2075 13563.58274  "
      ]
     },
     "execution_count": 130,
     "metadata": {},
     "output_type": "execute_result"
    }
   ],
   "source": [
    "cltv_final.sort_values(by=\"clv\", ascending=False).head(10)"
   ]
  },
  {
   "cell_type": "markdown",
   "id": "e204cdc0",
   "metadata": {
    "papermill": {
     "duration": 0.081771,
     "end_time": "2023-10-25T07:50:29.575744",
     "exception": false,
     "start_time": "2023-10-25T07:50:29.493973",
     "status": "completed"
    },
    "tags": []
   },
   "source": [
    "<div style=\"border-radius:10px; border:#6B8BA0 solid; padding: 15px; background-color: #F2EADF; font-size:100%; text-align:left\">\n",
    "\n",
    "<h3 align=\"left\"><font color='#6B8BA0'>🗨️ Comment: </font></h3>\n",
    "    \n",
    "For example, customer number 1257 has made purchases at higher frequencies with lower prices (Monetary: 691.71010).\n",
    "\n",
    "How do these customers with such high Recency values promise the highest value?\n",
    "\n",
    "According to the BG/NBD theory, for a customer who is regular for you, as the Recency value increases (user-specific, within itself), the likelihood of the customer making a purchase approaches. There was partial churn after each transaction. In other words, after each transaction, the urge to purchase is satisfied, the need is met, and there is a drop. Until the need to purchase re-emerges.\n",
    "\n",
    "For example, let's consider No:843. Its Frequency is low, its Age (T) is low, but it promises very high potential as it ranks in the top 5.\n",
    "\n",
    "It provides us with valuable information up to those with low profitability."
   ]
  },
  {
   "cell_type": "markdown",
   "id": "a2cb039f",
   "metadata": {
    "papermill": {
     "duration": 0.075885,
     "end_time": "2023-10-25T07:50:29.731036",
     "exception": false,
     "start_time": "2023-10-25T07:50:29.655151",
     "status": "completed"
    },
    "tags": []
   },
   "source": [
    "<a id = \"35\"></a><br>\n",
    "### <p style=\"font-family:JetBrains Mono; font-weight:bold; letter-spacing: 2px; color:#045F5F; font-size:140%; text-align:left;padding: 0px; border-bottom: 3px solid\">Creating Segments Based on CLTV (Customer Lifetime Value)</p>"
   ]
  },
  {
   "cell_type": "code",
   "execution_count": 131,
   "id": "19bb57c4",
   "metadata": {
    "execution": {
     "iopub.execute_input": "2023-10-25T07:50:29.894974Z",
     "iopub.status.busy": "2023-10-25T07:50:29.894368Z",
     "iopub.status.idle": "2023-10-25T07:50:29.913945Z",
     "shell.execute_reply": "2023-10-25T07:50:29.912279Z"
    },
    "papermill": {
     "duration": 0.107279,
     "end_time": "2023-10-25T07:50:29.917056",
     "exception": false,
     "start_time": "2023-10-25T07:50:29.809777",
     "status": "completed"
    },
    "tags": []
   },
   "outputs": [
    {
     "data": {
      "text/html": [
       "<div>\n",
       "<style scoped>\n",
       "    .dataframe tbody tr th:only-of-type {\n",
       "        vertical-align: middle;\n",
       "    }\n",
       "\n",
       "    .dataframe tbody tr th {\n",
       "        vertical-align: top;\n",
       "    }\n",
       "\n",
       "    .dataframe thead th {\n",
       "        text-align: right;\n",
       "    }\n",
       "</style>\n",
       "<table border=\"1\" class=\"dataframe\">\n",
       "  <thead>\n",
       "    <tr style=\"text-align: right;\">\n",
       "      <th></th>\n",
       "      <th>Customer ID</th>\n",
       "      <th>recency</th>\n",
       "      <th>T</th>\n",
       "      <th>frequency</th>\n",
       "      <th>monetary</th>\n",
       "      <th>expected_purc_1_week</th>\n",
       "      <th>expected_purc_1_month</th>\n",
       "      <th>expected_purc_3_month</th>\n",
       "      <th>expected_average_profit</th>\n",
       "      <th>clv</th>\n",
       "    </tr>\n",
       "  </thead>\n",
       "  <tbody>\n",
       "    <tr>\n",
       "      <th>0</th>\n",
       "      <td>12347.00000</td>\n",
       "      <td>52</td>\n",
       "      <td>52</td>\n",
       "      <td>7</td>\n",
       "      <td>615.71429</td>\n",
       "      <td>0.14309</td>\n",
       "      <td>0.57060</td>\n",
       "      <td>1.69851</td>\n",
       "      <td>631.91230</td>\n",
       "      <td>1141.91105</td>\n",
       "    </tr>\n",
       "    <tr>\n",
       "      <th>1</th>\n",
       "      <td>12348.00000</td>\n",
       "      <td>40</td>\n",
       "      <td>51</td>\n",
       "      <td>4</td>\n",
       "      <td>442.69500</td>\n",
       "      <td>0.09213</td>\n",
       "      <td>0.36735</td>\n",
       "      <td>1.09318</td>\n",
       "      <td>463.74596</td>\n",
       "      <td>539.34109</td>\n",
       "    </tr>\n",
       "    <tr>\n",
       "      <th>2</th>\n",
       "      <td>12352.00000</td>\n",
       "      <td>37</td>\n",
       "      <td>42</td>\n",
       "      <td>8</td>\n",
       "      <td>219.54250</td>\n",
       "      <td>0.18474</td>\n",
       "      <td>0.73627</td>\n",
       "      <td>2.18882</td>\n",
       "      <td>224.88677</td>\n",
       "      <td>523.62230</td>\n",
       "    </tr>\n",
       "    <tr>\n",
       "      <th>3</th>\n",
       "      <td>12356.00000</td>\n",
       "      <td>43</td>\n",
       "      <td>46</td>\n",
       "      <td>3</td>\n",
       "      <td>937.14333</td>\n",
       "      <td>0.08711</td>\n",
       "      <td>0.34722</td>\n",
       "      <td>1.03250</td>\n",
       "      <td>995.99892</td>\n",
       "      <td>1093.97496</td>\n",
       "    </tr>\n",
       "    <tr>\n",
       "      <th>4</th>\n",
       "      <td>12358.00000</td>\n",
       "      <td>21</td>\n",
       "      <td>21</td>\n",
       "      <td>2</td>\n",
       "      <td>575.21000</td>\n",
       "      <td>0.12515</td>\n",
       "      <td>0.49749</td>\n",
       "      <td>1.47037</td>\n",
       "      <td>631.90217</td>\n",
       "      <td>987.76433</td>\n",
       "    </tr>\n",
       "  </tbody>\n",
       "</table>\n",
       "</div>"
      ],
      "text/plain": [
       "   Customer ID  recency   T  frequency  monetary  expected_purc_1_week  \\\n",
       "0  12347.00000       52  52          7 615.71429               0.14309   \n",
       "1  12348.00000       40  51          4 442.69500               0.09213   \n",
       "2  12352.00000       37  42          8 219.54250               0.18474   \n",
       "3  12356.00000       43  46          3 937.14333               0.08711   \n",
       "4  12358.00000       21  21          2 575.21000               0.12515   \n",
       "\n",
       "   expected_purc_1_month  expected_purc_3_month  expected_average_profit  \\\n",
       "0                0.57060                1.69851                631.91230   \n",
       "1                0.36735                1.09318                463.74596   \n",
       "2                0.73627                2.18882                224.88677   \n",
       "3                0.34722                1.03250                995.99892   \n",
       "4                0.49749                1.47037                631.90217   \n",
       "\n",
       "         clv  \n",
       "0 1141.91105  \n",
       "1  539.34109  \n",
       "2  523.62230  \n",
       "3 1093.97496  \n",
       "4  987.76433  "
      ]
     },
     "execution_count": 131,
     "metadata": {},
     "output_type": "execute_result"
    }
   ],
   "source": [
    "cltv_final.head()"
   ]
  },
  {
   "cell_type": "code",
   "execution_count": 132,
   "id": "959be1ce",
   "metadata": {
    "execution": {
     "iopub.execute_input": "2023-10-25T07:50:30.086440Z",
     "iopub.status.busy": "2023-10-25T07:50:30.085993Z",
     "iopub.status.idle": "2023-10-25T07:50:30.094980Z",
     "shell.execute_reply": "2023-10-25T07:50:30.093932Z"
    },
    "papermill": {
     "duration": 0.097233,
     "end_time": "2023-10-25T07:50:30.097799",
     "exception": false,
     "start_time": "2023-10-25T07:50:30.000566",
     "status": "completed"
    },
    "tags": []
   },
   "outputs": [],
   "source": [
    "cltv_final[\"segment\"] = pd.qcut(cltv_final[\"clv\"], 4, labels=[\"D\", \"C\", \"B\", \"A\"])"
   ]
  },
  {
   "cell_type": "code",
   "execution_count": 133,
   "id": "1171d2f5",
   "metadata": {
    "execution": {
     "iopub.execute_input": "2023-10-25T07:50:30.260325Z",
     "iopub.status.busy": "2023-10-25T07:50:30.259587Z",
     "iopub.status.idle": "2023-10-25T07:50:30.280644Z",
     "shell.execute_reply": "2023-10-25T07:50:30.279803Z"
    },
    "papermill": {
     "duration": 0.105457,
     "end_time": "2023-10-25T07:50:30.283268",
     "exception": false,
     "start_time": "2023-10-25T07:50:30.177811",
     "status": "completed"
    },
    "tags": []
   },
   "outputs": [
    {
     "data": {
      "text/html": [
       "<div>\n",
       "<style scoped>\n",
       "    .dataframe tbody tr th:only-of-type {\n",
       "        vertical-align: middle;\n",
       "    }\n",
       "\n",
       "    .dataframe tbody tr th {\n",
       "        vertical-align: top;\n",
       "    }\n",
       "\n",
       "    .dataframe thead th {\n",
       "        text-align: right;\n",
       "    }\n",
       "</style>\n",
       "<table border=\"1\" class=\"dataframe\">\n",
       "  <thead>\n",
       "    <tr style=\"text-align: right;\">\n",
       "      <th></th>\n",
       "      <th>Customer ID</th>\n",
       "      <th>recency</th>\n",
       "      <th>T</th>\n",
       "      <th>frequency</th>\n",
       "      <th>monetary</th>\n",
       "      <th>expected_purc_1_week</th>\n",
       "      <th>expected_purc_1_month</th>\n",
       "      <th>expected_purc_3_month</th>\n",
       "      <th>expected_average_profit</th>\n",
       "      <th>clv</th>\n",
       "      <th>segment</th>\n",
       "    </tr>\n",
       "  </thead>\n",
       "  <tbody>\n",
       "    <tr>\n",
       "      <th>1122</th>\n",
       "      <td>14646.00000</td>\n",
       "      <td>50</td>\n",
       "      <td>50</td>\n",
       "      <td>73</td>\n",
       "      <td>3646.07568</td>\n",
       "      <td>1.22980</td>\n",
       "      <td>4.90413</td>\n",
       "      <td>14.59923</td>\n",
       "      <td>3654.81481</td>\n",
       "      <td>56768.30040</td>\n",
       "      <td>A</td>\n",
       "    </tr>\n",
       "    <tr>\n",
       "      <th>2761</th>\n",
       "      <td>18102.00000</td>\n",
       "      <td>52</td>\n",
       "      <td>52</td>\n",
       "      <td>60</td>\n",
       "      <td>3859.73908</td>\n",
       "      <td>0.98442</td>\n",
       "      <td>3.92597</td>\n",
       "      <td>11.68986</td>\n",
       "      <td>3870.99693</td>\n",
       "      <td>48145.21625</td>\n",
       "      <td>A</td>\n",
       "    </tr>\n",
       "    <tr>\n",
       "      <th>843</th>\n",
       "      <td>14096.00000</td>\n",
       "      <td>13</td>\n",
       "      <td>14</td>\n",
       "      <td>17</td>\n",
       "      <td>3163.58824</td>\n",
       "      <td>0.75453</td>\n",
       "      <td>2.99607</td>\n",
       "      <td>8.83497</td>\n",
       "      <td>3196.43606</td>\n",
       "      <td>30015.66332</td>\n",
       "      <td>A</td>\n",
       "    </tr>\n",
       "    <tr>\n",
       "      <th>36</th>\n",
       "      <td>12415.00000</td>\n",
       "      <td>44</td>\n",
       "      <td>48</td>\n",
       "      <td>21</td>\n",
       "      <td>5724.30262</td>\n",
       "      <td>0.38138</td>\n",
       "      <td>1.52065</td>\n",
       "      <td>4.52529</td>\n",
       "      <td>5772.17817</td>\n",
       "      <td>27789.48702</td>\n",
       "      <td>A</td>\n",
       "    </tr>\n",
       "    <tr>\n",
       "      <th>1257</th>\n",
       "      <td>14911.00000</td>\n",
       "      <td>53</td>\n",
       "      <td>53</td>\n",
       "      <td>201</td>\n",
       "      <td>691.71010</td>\n",
       "      <td>3.17206</td>\n",
       "      <td>12.65131</td>\n",
       "      <td>37.67564</td>\n",
       "      <td>692.32637</td>\n",
       "      <td>27752.33913</td>\n",
       "      <td>A</td>\n",
       "    </tr>\n",
       "    <tr>\n",
       "      <th>2458</th>\n",
       "      <td>17450.00000</td>\n",
       "      <td>51</td>\n",
       "      <td>52</td>\n",
       "      <td>46</td>\n",
       "      <td>2863.27489</td>\n",
       "      <td>0.75984</td>\n",
       "      <td>3.03032</td>\n",
       "      <td>9.02286</td>\n",
       "      <td>2874.19868</td>\n",
       "      <td>27591.88809</td>\n",
       "      <td>A</td>\n",
       "    </tr>\n",
       "    <tr>\n",
       "      <th>874</th>\n",
       "      <td>14156.00000</td>\n",
       "      <td>51</td>\n",
       "      <td>53</td>\n",
       "      <td>55</td>\n",
       "      <td>2104.02673</td>\n",
       "      <td>0.88073</td>\n",
       "      <td>3.51259</td>\n",
       "      <td>10.46007</td>\n",
       "      <td>2110.75423</td>\n",
       "      <td>23490.84215</td>\n",
       "      <td>A</td>\n",
       "    </tr>\n",
       "    <tr>\n",
       "      <th>2487</th>\n",
       "      <td>17511.00000</td>\n",
       "      <td>52</td>\n",
       "      <td>53</td>\n",
       "      <td>31</td>\n",
       "      <td>2933.94306</td>\n",
       "      <td>0.51454</td>\n",
       "      <td>2.05212</td>\n",
       "      <td>6.11071</td>\n",
       "      <td>2950.58013</td>\n",
       "      <td>19183.28456</td>\n",
       "      <td>A</td>\n",
       "    </tr>\n",
       "    <tr>\n",
       "      <th>1754</th>\n",
       "      <td>16000.00000</td>\n",
       "      <td>0</td>\n",
       "      <td>0</td>\n",
       "      <td>3</td>\n",
       "      <td>2335.12000</td>\n",
       "      <td>0.45514</td>\n",
       "      <td>1.79109</td>\n",
       "      <td>5.19518</td>\n",
       "      <td>2479.80485</td>\n",
       "      <td>13672.04554</td>\n",
       "      <td>A</td>\n",
       "    </tr>\n",
       "    <tr>\n",
       "      <th>2075</th>\n",
       "      <td>16684.00000</td>\n",
       "      <td>50</td>\n",
       "      <td>51</td>\n",
       "      <td>28</td>\n",
       "      <td>2209.96911</td>\n",
       "      <td>0.48286</td>\n",
       "      <td>1.92557</td>\n",
       "      <td>5.73257</td>\n",
       "      <td>2223.88497</td>\n",
       "      <td>13563.58274</td>\n",
       "      <td>A</td>\n",
       "    </tr>\n",
       "    <tr>\n",
       "      <th>650</th>\n",
       "      <td>13694.00000</td>\n",
       "      <td>52</td>\n",
       "      <td>53</td>\n",
       "      <td>50</td>\n",
       "      <td>1275.70050</td>\n",
       "      <td>0.81025</td>\n",
       "      <td>3.23149</td>\n",
       "      <td>9.62292</td>\n",
       "      <td>1280.21826</td>\n",
       "      <td>13107.41192</td>\n",
       "      <td>A</td>\n",
       "    </tr>\n",
       "    <tr>\n",
       "      <th>841</th>\n",
       "      <td>14088.00000</td>\n",
       "      <td>44</td>\n",
       "      <td>46</td>\n",
       "      <td>13</td>\n",
       "      <td>3864.55462</td>\n",
       "      <td>0.26183</td>\n",
       "      <td>1.04381</td>\n",
       "      <td>3.10522</td>\n",
       "      <td>3917.12972</td>\n",
       "      <td>12940.11220</td>\n",
       "      <td>A</td>\n",
       "    </tr>\n",
       "    <tr>\n",
       "      <th>1441</th>\n",
       "      <td>15311.00000</td>\n",
       "      <td>53</td>\n",
       "      <td>53</td>\n",
       "      <td>91</td>\n",
       "      <td>667.77912</td>\n",
       "      <td>1.45339</td>\n",
       "      <td>5.79660</td>\n",
       "      <td>17.26197</td>\n",
       "      <td>669.09603</td>\n",
       "      <td>12288.69899</td>\n",
       "      <td>A</td>\n",
       "    </tr>\n",
       "    <tr>\n",
       "      <th>373</th>\n",
       "      <td>13089.00000</td>\n",
       "      <td>52</td>\n",
       "      <td>53</td>\n",
       "      <td>97</td>\n",
       "      <td>606.36247</td>\n",
       "      <td>1.53964</td>\n",
       "      <td>6.14060</td>\n",
       "      <td>18.28642</td>\n",
       "      <td>607.48771</td>\n",
       "      <td>11819.34491</td>\n",
       "      <td>A</td>\n",
       "    </tr>\n",
       "    <tr>\n",
       "      <th>1324</th>\n",
       "      <td>15061.00000</td>\n",
       "      <td>52</td>\n",
       "      <td>53</td>\n",
       "      <td>48</td>\n",
       "      <td>1120.60188</td>\n",
       "      <td>0.77914</td>\n",
       "      <td>3.10741</td>\n",
       "      <td>9.25342</td>\n",
       "      <td>1124.74580</td>\n",
       "      <td>11073.44113</td>\n",
       "      <td>A</td>\n",
       "    </tr>\n",
       "    <tr>\n",
       "      <th>949</th>\n",
       "      <td>14298.00000</td>\n",
       "      <td>50</td>\n",
       "      <td>51</td>\n",
       "      <td>44</td>\n",
       "      <td>1162.86273</td>\n",
       "      <td>0.73993</td>\n",
       "      <td>2.95076</td>\n",
       "      <td>8.78495</td>\n",
       "      <td>1167.55220</td>\n",
       "      <td>10912.65291</td>\n",
       "      <td>A</td>\n",
       "    </tr>\n",
       "    <tr>\n",
       "      <th>2774</th>\n",
       "      <td>18139.00000</td>\n",
       "      <td>0</td>\n",
       "      <td>2</td>\n",
       "      <td>6</td>\n",
       "      <td>1406.39000</td>\n",
       "      <td>0.58767</td>\n",
       "      <td>2.31861</td>\n",
       "      <td>6.75480</td>\n",
       "      <td>1448.91709</td>\n",
       "      <td>10390.50174</td>\n",
       "      <td>A</td>\n",
       "    </tr>\n",
       "    <tr>\n",
       "      <th>1647</th>\n",
       "      <td>15769.00000</td>\n",
       "      <td>51</td>\n",
       "      <td>53</td>\n",
       "      <td>26</td>\n",
       "      <td>1873.67019</td>\n",
       "      <td>0.43490</td>\n",
       "      <td>1.73446</td>\n",
       "      <td>5.16472</td>\n",
       "      <td>1886.40406</td>\n",
       "      <td>10365.85201</td>\n",
       "      <td>A</td>\n",
       "    </tr>\n",
       "    <tr>\n",
       "      <th>2652</th>\n",
       "      <td>17841.00000</td>\n",
       "      <td>53</td>\n",
       "      <td>53</td>\n",
       "      <td>124</td>\n",
       "      <td>330.13435</td>\n",
       "      <td>1.96900</td>\n",
       "      <td>7.85302</td>\n",
       "      <td>23.38608</td>\n",
       "      <td>330.62712</td>\n",
       "      <td>8226.65976</td>\n",
       "      <td>A</td>\n",
       "    </tr>\n",
       "    <tr>\n",
       "      <th>2699</th>\n",
       "      <td>17949.00000</td>\n",
       "      <td>52</td>\n",
       "      <td>53</td>\n",
       "      <td>45</td>\n",
       "      <td>848.43033</td>\n",
       "      <td>0.73247</td>\n",
       "      <td>2.92127</td>\n",
       "      <td>8.69908</td>\n",
       "      <td>851.79796</td>\n",
       "      <td>7883.79486</td>\n",
       "      <td>A</td>\n",
       "    </tr>\n",
       "  </tbody>\n",
       "</table>\n",
       "</div>"
      ],
      "text/plain": [
       "      Customer ID  recency   T  frequency   monetary  expected_purc_1_week  \\\n",
       "1122  14646.00000       50  50         73 3646.07568               1.22980   \n",
       "2761  18102.00000       52  52         60 3859.73908               0.98442   \n",
       "843   14096.00000       13  14         17 3163.58824               0.75453   \n",
       "36    12415.00000       44  48         21 5724.30262               0.38138   \n",
       "1257  14911.00000       53  53        201  691.71010               3.17206   \n",
       "2458  17450.00000       51  52         46 2863.27489               0.75984   \n",
       "874   14156.00000       51  53         55 2104.02673               0.88073   \n",
       "2487  17511.00000       52  53         31 2933.94306               0.51454   \n",
       "1754  16000.00000        0   0          3 2335.12000               0.45514   \n",
       "2075  16684.00000       50  51         28 2209.96911               0.48286   \n",
       "650   13694.00000       52  53         50 1275.70050               0.81025   \n",
       "841   14088.00000       44  46         13 3864.55462               0.26183   \n",
       "1441  15311.00000       53  53         91  667.77912               1.45339   \n",
       "373   13089.00000       52  53         97  606.36247               1.53964   \n",
       "1324  15061.00000       52  53         48 1120.60188               0.77914   \n",
       "949   14298.00000       50  51         44 1162.86273               0.73993   \n",
       "2774  18139.00000        0   2          6 1406.39000               0.58767   \n",
       "1647  15769.00000       51  53         26 1873.67019               0.43490   \n",
       "2652  17841.00000       53  53        124  330.13435               1.96900   \n",
       "2699  17949.00000       52  53         45  848.43033               0.73247   \n",
       "\n",
       "      expected_purc_1_month  expected_purc_3_month  expected_average_profit  \\\n",
       "1122                4.90413               14.59923               3654.81481   \n",
       "2761                3.92597               11.68986               3870.99693   \n",
       "843                 2.99607                8.83497               3196.43606   \n",
       "36                  1.52065                4.52529               5772.17817   \n",
       "1257               12.65131               37.67564                692.32637   \n",
       "2458                3.03032                9.02286               2874.19868   \n",
       "874                 3.51259               10.46007               2110.75423   \n",
       "2487                2.05212                6.11071               2950.58013   \n",
       "1754                1.79109                5.19518               2479.80485   \n",
       "2075                1.92557                5.73257               2223.88497   \n",
       "650                 3.23149                9.62292               1280.21826   \n",
       "841                 1.04381                3.10522               3917.12972   \n",
       "1441                5.79660               17.26197                669.09603   \n",
       "373                 6.14060               18.28642                607.48771   \n",
       "1324                3.10741                9.25342               1124.74580   \n",
       "949                 2.95076                8.78495               1167.55220   \n",
       "2774                2.31861                6.75480               1448.91709   \n",
       "1647                1.73446                5.16472               1886.40406   \n",
       "2652                7.85302               23.38608                330.62712   \n",
       "2699                2.92127                8.69908                851.79796   \n",
       "\n",
       "             clv segment  \n",
       "1122 56768.30040       A  \n",
       "2761 48145.21625       A  \n",
       "843  30015.66332       A  \n",
       "36   27789.48702       A  \n",
       "1257 27752.33913       A  \n",
       "2458 27591.88809       A  \n",
       "874  23490.84215       A  \n",
       "2487 19183.28456       A  \n",
       "1754 13672.04554       A  \n",
       "2075 13563.58274       A  \n",
       "650  13107.41192       A  \n",
       "841  12940.11220       A  \n",
       "1441 12288.69899       A  \n",
       "373  11819.34491       A  \n",
       "1324 11073.44113       A  \n",
       "949  10912.65291       A  \n",
       "2774 10390.50174       A  \n",
       "1647 10365.85201       A  \n",
       "2652  8226.65976       A  \n",
       "2699  7883.79486       A  "
      ]
     },
     "execution_count": 133,
     "metadata": {},
     "output_type": "execute_result"
    }
   ],
   "source": [
    "cltv_final.sort_values(by=\"clv\", ascending=False).head(20)"
   ]
  },
  {
   "cell_type": "code",
   "execution_count": 134,
   "id": "380deb7f",
   "metadata": {
    "execution": {
     "iopub.execute_input": "2023-10-25T07:50:30.446590Z",
     "iopub.status.busy": "2023-10-25T07:50:30.445869Z",
     "iopub.status.idle": "2023-10-25T07:50:30.489084Z",
     "shell.execute_reply": "2023-10-25T07:50:30.488198Z"
    },
    "papermill": {
     "duration": 0.126829,
     "end_time": "2023-10-25T07:50:30.491769",
     "exception": false,
     "start_time": "2023-10-25T07:50:30.364940",
     "status": "completed"
    },
    "tags": []
   },
   "outputs": [
    {
     "data": {
      "text/html": [
       "<div>\n",
       "<style scoped>\n",
       "    .dataframe tbody tr th:only-of-type {\n",
       "        vertical-align: middle;\n",
       "    }\n",
       "\n",
       "    .dataframe tbody tr th {\n",
       "        vertical-align: top;\n",
       "    }\n",
       "\n",
       "    .dataframe thead tr th {\n",
       "        text-align: left;\n",
       "    }\n",
       "\n",
       "    .dataframe thead tr:last-of-type th {\n",
       "        text-align: right;\n",
       "    }\n",
       "</style>\n",
       "<table border=\"1\" class=\"dataframe\">\n",
       "  <thead>\n",
       "    <tr>\n",
       "      <th></th>\n",
       "      <th colspan=\"3\" halign=\"left\">Customer ID</th>\n",
       "      <th colspan=\"3\" halign=\"left\">recency</th>\n",
       "      <th colspan=\"3\" halign=\"left\">T</th>\n",
       "      <th colspan=\"3\" halign=\"left\">frequency</th>\n",
       "      <th colspan=\"3\" halign=\"left\">monetary</th>\n",
       "      <th colspan=\"3\" halign=\"left\">expected_purc_1_week</th>\n",
       "      <th colspan=\"3\" halign=\"left\">expected_purc_1_month</th>\n",
       "      <th colspan=\"3\" halign=\"left\">expected_purc_3_month</th>\n",
       "      <th colspan=\"3\" halign=\"left\">expected_average_profit</th>\n",
       "      <th colspan=\"3\" halign=\"left\">clv</th>\n",
       "    </tr>\n",
       "    <tr>\n",
       "      <th></th>\n",
       "      <th>sum</th>\n",
       "      <th>mean</th>\n",
       "      <th>count</th>\n",
       "      <th>sum</th>\n",
       "      <th>mean</th>\n",
       "      <th>count</th>\n",
       "      <th>sum</th>\n",
       "      <th>mean</th>\n",
       "      <th>count</th>\n",
       "      <th>sum</th>\n",
       "      <th>mean</th>\n",
       "      <th>count</th>\n",
       "      <th>sum</th>\n",
       "      <th>mean</th>\n",
       "      <th>count</th>\n",
       "      <th>sum</th>\n",
       "      <th>mean</th>\n",
       "      <th>count</th>\n",
       "      <th>sum</th>\n",
       "      <th>mean</th>\n",
       "      <th>count</th>\n",
       "      <th>sum</th>\n",
       "      <th>mean</th>\n",
       "      <th>count</th>\n",
       "      <th>sum</th>\n",
       "      <th>mean</th>\n",
       "      <th>count</th>\n",
       "      <th>sum</th>\n",
       "      <th>mean</th>\n",
       "      <th>count</th>\n",
       "    </tr>\n",
       "    <tr>\n",
       "      <th>segment</th>\n",
       "      <th></th>\n",
       "      <th></th>\n",
       "      <th></th>\n",
       "      <th></th>\n",
       "      <th></th>\n",
       "      <th></th>\n",
       "      <th></th>\n",
       "      <th></th>\n",
       "      <th></th>\n",
       "      <th></th>\n",
       "      <th></th>\n",
       "      <th></th>\n",
       "      <th></th>\n",
       "      <th></th>\n",
       "      <th></th>\n",
       "      <th></th>\n",
       "      <th></th>\n",
       "      <th></th>\n",
       "      <th></th>\n",
       "      <th></th>\n",
       "      <th></th>\n",
       "      <th></th>\n",
       "      <th></th>\n",
       "      <th></th>\n",
       "      <th></th>\n",
       "      <th></th>\n",
       "      <th></th>\n",
       "      <th></th>\n",
       "      <th></th>\n",
       "      <th></th>\n",
       "    </tr>\n",
       "  </thead>\n",
       "  <tbody>\n",
       "    <tr>\n",
       "      <th>D</th>\n",
       "      <td>11076784.00000</td>\n",
       "      <td>15557.28090</td>\n",
       "      <td>712</td>\n",
       "      <td>15297</td>\n",
       "      <td>21.48455</td>\n",
       "      <td>712</td>\n",
       "      <td>28527</td>\n",
       "      <td>40.06601</td>\n",
       "      <td>712</td>\n",
       "      <td>2182</td>\n",
       "      <td>3.06461</td>\n",
       "      <td>712</td>\n",
       "      <td>132206.51009</td>\n",
       "      <td>185.68330</td>\n",
       "      <td>712</td>\n",
       "      <td>49.88097</td>\n",
       "      <td>0.07006</td>\n",
       "      <td>712</td>\n",
       "      <td>198.57617</td>\n",
       "      <td>0.27890</td>\n",
       "      <td>712</td>\n",
       "      <td>588.94004</td>\n",
       "      <td>0.82716</td>\n",
       "      <td>712</td>\n",
       "      <td>143321.14646</td>\n",
       "      <td>201.29375</td>\n",
       "      <td>712</td>\n",
       "      <td>100055.11203</td>\n",
       "      <td>140.52684</td>\n",
       "      <td>712</td>\n",
       "    </tr>\n",
       "    <tr>\n",
       "      <th>C</th>\n",
       "      <td>10892299.00000</td>\n",
       "      <td>15319.68917</td>\n",
       "      <td>711</td>\n",
       "      <td>21539</td>\n",
       "      <td>30.29395</td>\n",
       "      <td>711</td>\n",
       "      <td>26795</td>\n",
       "      <td>37.68636</td>\n",
       "      <td>711</td>\n",
       "      <td>2908</td>\n",
       "      <td>4.09001</td>\n",
       "      <td>711</td>\n",
       "      <td>194012.36158</td>\n",
       "      <td>272.87252</td>\n",
       "      <td>711</td>\n",
       "      <td>86.38405</td>\n",
       "      <td>0.12150</td>\n",
       "      <td>711</td>\n",
       "      <td>343.84957</td>\n",
       "      <td>0.48361</td>\n",
       "      <td>711</td>\n",
       "      <td>1019.51540</td>\n",
       "      <td>1.43392</td>\n",
       "      <td>711</td>\n",
       "      <td>207051.04881</td>\n",
       "      <td>291.21104</td>\n",
       "      <td>711</td>\n",
       "      <td>271427.12169</td>\n",
       "      <td>381.75404</td>\n",
       "      <td>711</td>\n",
       "    </tr>\n",
       "    <tr>\n",
       "      <th>B</th>\n",
       "      <td>10902219.00000</td>\n",
       "      <td>15333.64135</td>\n",
       "      <td>711</td>\n",
       "      <td>20766</td>\n",
       "      <td>29.20675</td>\n",
       "      <td>711</td>\n",
       "      <td>24486</td>\n",
       "      <td>34.43882</td>\n",
       "      <td>711</td>\n",
       "      <td>3877</td>\n",
       "      <td>5.45288</td>\n",
       "      <td>711</td>\n",
       "      <td>264976.21770</td>\n",
       "      <td>372.68104</td>\n",
       "      <td>711</td>\n",
       "      <td>117.00725</td>\n",
       "      <td>0.16457</td>\n",
       "      <td>711</td>\n",
       "      <td>465.45714</td>\n",
       "      <td>0.65465</td>\n",
       "      <td>711</td>\n",
       "      <td>1378.33886</td>\n",
       "      <td>1.93859</td>\n",
       "      <td>711</td>\n",
       "      <td>279486.86199</td>\n",
       "      <td>393.08982</td>\n",
       "      <td>711</td>\n",
       "      <td>493871.38255</td>\n",
       "      <td>694.61517</td>\n",
       "      <td>711</td>\n",
       "    </tr>\n",
       "    <tr>\n",
       "      <th>A</th>\n",
       "      <td>10634909.00000</td>\n",
       "      <td>14957.67792</td>\n",
       "      <td>711</td>\n",
       "      <td>22038</td>\n",
       "      <td>30.99578</td>\n",
       "      <td>711</td>\n",
       "      <td>24182</td>\n",
       "      <td>34.01125</td>\n",
       "      <td>711</td>\n",
       "      <td>8072</td>\n",
       "      <td>11.35302</td>\n",
       "      <td>711</td>\n",
       "      <td>467638.69681</td>\n",
       "      <td>657.71969</td>\n",
       "      <td>711</td>\n",
       "      <td>198.54515</td>\n",
       "      <td>0.27925</td>\n",
       "      <td>711</td>\n",
       "      <td>790.01805</td>\n",
       "      <td>1.11114</td>\n",
       "      <td>711</td>\n",
       "      <td>2340.92466</td>\n",
       "      <td>3.29244</td>\n",
       "      <td>711</td>\n",
       "      <td>486054.02098</td>\n",
       "      <td>683.62028</td>\n",
       "      <td>711</td>\n",
       "      <td>1602682.71348</td>\n",
       "      <td>2254.12477</td>\n",
       "      <td>711</td>\n",
       "    </tr>\n",
       "  </tbody>\n",
       "</table>\n",
       "</div>"
      ],
      "text/plain": [
       "           Customer ID                   recency                     T  \\\n",
       "                   sum        mean count     sum     mean count    sum   \n",
       "segment                                                                  \n",
       "D       11076784.00000 15557.28090   712   15297 21.48455   712  28527   \n",
       "C       10892299.00000 15319.68917   711   21539 30.29395   711  26795   \n",
       "B       10902219.00000 15333.64135   711   20766 29.20675   711  24486   \n",
       "A       10634909.00000 14957.67792   711   22038 30.99578   711  24182   \n",
       "\n",
       "                       frequency                    monetary                  \\\n",
       "            mean count       sum     mean count          sum      mean count   \n",
       "segment                                                                        \n",
       "D       40.06601   712      2182  3.06461   712 132206.51009 185.68330   712   \n",
       "C       37.68636   711      2908  4.09001   711 194012.36158 272.87252   711   \n",
       "B       34.43882   711      3877  5.45288   711 264976.21770 372.68104   711   \n",
       "A       34.01125   711      8072 11.35302   711 467638.69681 657.71969   711   \n",
       "\n",
       "        expected_purc_1_week               expected_purc_1_month          \\\n",
       "                         sum    mean count                   sum    mean   \n",
       "segment                                                                    \n",
       "D                   49.88097 0.07006   712             198.57617 0.27890   \n",
       "C                   86.38405 0.12150   711             343.84957 0.48361   \n",
       "B                  117.00725 0.16457   711             465.45714 0.65465   \n",
       "A                  198.54515 0.27925   711             790.01805 1.11114   \n",
       "\n",
       "              expected_purc_3_month               expected_average_profit  \\\n",
       "        count                   sum    mean count                     sum   \n",
       "segment                                                                     \n",
       "D         712             588.94004 0.82716   712            143321.14646   \n",
       "C         711            1019.51540 1.43392   711            207051.04881   \n",
       "B         711            1378.33886 1.93859   711            279486.86199   \n",
       "A         711            2340.92466 3.29244   711            486054.02098   \n",
       "\n",
       "                                  clv                   \n",
       "             mean count           sum       mean count  \n",
       "segment                                                 \n",
       "D       201.29375   712  100055.11203  140.52684   712  \n",
       "C       291.21104   711  271427.12169  381.75404   711  \n",
       "B       393.08982   711  493871.38255  694.61517   711  \n",
       "A       683.62028   711 1602682.71348 2254.12477   711  "
      ]
     },
     "execution_count": 134,
     "metadata": {},
     "output_type": "execute_result"
    }
   ],
   "source": [
    "cltv_final.groupby(\"segment\").agg(\n",
    "    {\"count\", \"mean\", \"sum\"})"
   ]
  },
  {
   "cell_type": "markdown",
   "id": "ef56f783",
   "metadata": {
    "papermill": {
     "duration": 0.083154,
     "end_time": "2023-10-25T07:50:30.657864",
     "exception": false,
     "start_time": "2023-10-25T07:50:30.574710",
     "status": "completed"
    },
    "tags": []
   },
   "source": [
    "<div style=\"border-radius:10px; border:#D0C2F0 solid; padding: 15px; background-color: #FFF0F4; font-size:100%; text-align:left\">\n",
    "\n",
    "<h3 align=\"left\"><font color='#5E5273'>👻 Analysis Results: </font></h3>\n",
    "    \n",
    "The results of CLTV and CLTV prediction represent the value of a customer to a business. However, this value is not expressed in terms of money. Instead, it represents the revenue that a customer brings to the business.\n",
    "\n",
    "CLTV is used to determine the current or potential value of a customer. This value represents an estimated amount of the revenue a customer is expected to generate for the business. For example, a customer's CLTV value might be 500 units, indicating that the customer is expected to bring 500 units of revenue to the business.\n",
    "\n",
    "CLTV prediction aims to forecast the future customer value. These predictions include an estimate of the revenue a customer is expected to bring in the future, based on their future purchasing habits, loyalty, and expected revenue generation. CLTV predictions are also revenue estimates, expressed in a specific currency or monetary amount.\n",
    "\n",
    "In summary, CLTV and CLTV predictions are metrics that measure the revenue generated for a business, but they are not directly expressed as a specific amount of money.\n",
    "    \n",
    "-------\n",
    "\n",
    "**CLTV**\n",
    "\n",
    "* CLTV calculation represents a single time period. It represents the time frame in which the analysis is conducted.\n",
    "* Total Price is the dominant factor and overshadows the impact of purchase frequency.\n",
    "* Once it has brought in the same revenue, the number of transactions is not significant.\n",
    "* Churn Rate is revenue from the entire customer base, not individual, which is a drawback.\n",
    "* Profit Margin is revenue from the entire customer base, not individual, which is a drawback."
   ]
  }
 ],
 "metadata": {
  "kernelspec": {
   "display_name": "Python 3",
   "language": "python",
   "name": "python3"
  },
  "language_info": {
   "codemirror_mode": {
    "name": "ipython",
    "version": 3
   },
   "file_extension": ".py",
   "mimetype": "text/x-python",
   "name": "python",
   "nbconvert_exporter": "python",
   "pygments_lexer": "ipython3",
   "version": "3.10.12"
  },
  "papermill": {
   "default_parameters": {},
   "duration": 72.442827,
   "end_time": "2023-10-25T07:50:31.765318",
   "environment_variables": {},
   "exception": null,
   "input_path": "__notebook__.ipynb",
   "output_path": "__notebook__.ipynb",
   "parameters": {},
   "start_time": "2023-10-25T07:49:19.322491",
   "version": "2.4.0"
  }
 },
 "nbformat": 4,
 "nbformat_minor": 5
}
