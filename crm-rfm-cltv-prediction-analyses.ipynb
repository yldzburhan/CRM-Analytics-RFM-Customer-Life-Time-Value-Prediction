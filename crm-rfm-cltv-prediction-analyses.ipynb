{
 "cells": [
  {
   "cell_type": "markdown",
   "id": "66314df7",
   "metadata": {
    "papermill": {
     "duration": 0.015434,
     "end_time": "2023-10-15T18:29:21.834956",
     "exception": false,
     "start_time": "2023-10-15T18:29:21.819522",
     "status": "completed"
    },
    "tags": []
   },
   "source": [
    "# **<center><span style=\"color:#f6a6b2;font-family:cursive;font-size:125%;border-bottom: 3px solid\">Import Libraries & Loading Data</span></center>**\n",
    "\n",
    "---"
   ]
  },
  {
   "cell_type": "code",
   "execution_count": 1,
   "id": "1886033a",
   "metadata": {
    "_cell_guid": "b1076dfc-b9ad-4769-8c92-a6c4dae69d19",
    "_uuid": "8f2839f25d086af736a60e9eeb907d3b93b6e0e5",
    "execution": {
     "iopub.execute_input": "2023-10-15T18:29:21.868139Z",
     "iopub.status.busy": "2023-10-15T18:29:21.867496Z",
     "iopub.status.idle": "2023-10-15T18:29:23.981019Z",
     "shell.execute_reply": "2023-10-15T18:29:23.980049Z"
    },
    "papermill": {
     "duration": 2.133579,
     "end_time": "2023-10-15T18:29:23.983761",
     "exception": false,
     "start_time": "2023-10-15T18:29:21.850182",
     "status": "completed"
    },
    "tags": []
   },
   "outputs": [],
   "source": [
    "import numpy as np\n",
    "import pandas as pd\n",
    "import datetime as dt\n",
    "import matplotlib.pyplot as plt\n",
    "import seaborn as sns\n",
    "\n",
    "import warnings\n",
    "from sklearn.exceptions import ConvergenceWarning\n",
    "\n",
    "warnings.filterwarnings(\"ignore\")\n",
    "warnings.filterwarnings(\"ignore\", category=ConvergenceWarning)\n",
    "warnings.filterwarnings(\"ignore\", category=UserWarning)\n",
    "\n",
    "pd.set_option('display.max_columns', None)\n",
    "pd.set_option('display.max_rows', None)\n",
    "pd.set_option('display.float_format', lambda x: '%.4f' % x)"
   ]
  },
  {
   "cell_type": "code",
   "execution_count": 2,
   "id": "4039cf7d",
   "metadata": {
    "execution": {
     "iopub.execute_input": "2023-10-15T18:29:24.016860Z",
     "iopub.status.busy": "2023-10-15T18:29:24.016367Z",
     "iopub.status.idle": "2023-10-15T18:29:24.057867Z",
     "shell.execute_reply": "2023-10-15T18:29:24.056372Z"
    },
    "papermill": {
     "duration": 0.060649,
     "end_time": "2023-10-15T18:29:24.060704",
     "exception": false,
     "start_time": "2023-10-15T18:29:24.000055",
     "status": "completed"
    },
    "tags": []
   },
   "outputs": [],
   "source": [
    "data = pd.read_csv(\"/kaggle/input/customer-personality-analysis/marketing_campaign.csv\", sep=\"\\t\")"
   ]
  },
  {
   "cell_type": "code",
   "execution_count": 3,
   "id": "5368fb77",
   "metadata": {
    "execution": {
     "iopub.execute_input": "2023-10-15T18:29:24.095077Z",
     "iopub.status.busy": "2023-10-15T18:29:24.094107Z",
     "iopub.status.idle": "2023-10-15T18:29:24.100364Z",
     "shell.execute_reply": "2023-10-15T18:29:24.099207Z"
    },
    "papermill": {
     "duration": 0.026195,
     "end_time": "2023-10-15T18:29:24.102801",
     "exception": false,
     "start_time": "2023-10-15T18:29:24.076606",
     "status": "completed"
    },
    "tags": []
   },
   "outputs": [],
   "source": [
    "df = data.copy()"
   ]
  },
  {
   "cell_type": "markdown",
   "id": "7d540e1c",
   "metadata": {
    "papermill": {
     "duration": 0.014734,
     "end_time": "2023-10-15T18:29:24.133085",
     "exception": false,
     "start_time": "2023-10-15T18:29:24.118351",
     "status": "completed"
    },
    "tags": []
   },
   "source": [
    "# **<center><span style=\"color:#f6a6b2;font-family:cursive;font-size:125%;border-bottom: 3px solid\">Looking & Cleaning Data</span></center>**\n",
    "----"
   ]
  },
  {
   "cell_type": "code",
   "execution_count": 4,
   "id": "7e406035",
   "metadata": {
    "execution": {
     "iopub.execute_input": "2023-10-15T18:29:24.226555Z",
     "iopub.status.busy": "2023-10-15T18:29:24.226192Z",
     "iopub.status.idle": "2023-10-15T18:29:24.259779Z",
     "shell.execute_reply": "2023-10-15T18:29:24.258590Z"
    },
    "papermill": {
     "duration": 0.114395,
     "end_time": "2023-10-15T18:29:24.262625",
     "exception": false,
     "start_time": "2023-10-15T18:29:24.148230",
     "status": "completed"
    },
    "tags": []
   },
   "outputs": [
    {
     "name": "stdout",
     "output_type": "stream",
     "text": [
      "<class 'pandas.core.frame.DataFrame'>\n",
      "RangeIndex: 2240 entries, 0 to 2239\n",
      "Data columns (total 29 columns):\n",
      " #   Column               Non-Null Count  Dtype  \n",
      "---  ------               --------------  -----  \n",
      " 0   ID                   2240 non-null   int64  \n",
      " 1   Year_Birth           2240 non-null   int64  \n",
      " 2   Education            2240 non-null   object \n",
      " 3   Marital_Status       2240 non-null   object \n",
      " 4   Income               2216 non-null   float64\n",
      " 5   Kidhome              2240 non-null   int64  \n",
      " 6   Teenhome             2240 non-null   int64  \n",
      " 7   Dt_Customer          2240 non-null   object \n",
      " 8   Recency              2240 non-null   int64  \n",
      " 9   MntWines             2240 non-null   int64  \n",
      " 10  MntFruits            2240 non-null   int64  \n",
      " 11  MntMeatProducts      2240 non-null   int64  \n",
      " 12  MntFishProducts      2240 non-null   int64  \n",
      " 13  MntSweetProducts     2240 non-null   int64  \n",
      " 14  MntGoldProds         2240 non-null   int64  \n",
      " 15  NumDealsPurchases    2240 non-null   int64  \n",
      " 16  NumWebPurchases      2240 non-null   int64  \n",
      " 17  NumCatalogPurchases  2240 non-null   int64  \n",
      " 18  NumStorePurchases    2240 non-null   int64  \n",
      " 19  NumWebVisitsMonth    2240 non-null   int64  \n",
      " 20  AcceptedCmp3         2240 non-null   int64  \n",
      " 21  AcceptedCmp4         2240 non-null   int64  \n",
      " 22  AcceptedCmp5         2240 non-null   int64  \n",
      " 23  AcceptedCmp1         2240 non-null   int64  \n",
      " 24  AcceptedCmp2         2240 non-null   int64  \n",
      " 25  Complain             2240 non-null   int64  \n",
      " 26  Z_CostContact        2240 non-null   int64  \n",
      " 27  Z_Revenue            2240 non-null   int64  \n",
      " 28  Response             2240 non-null   int64  \n",
      "dtypes: float64(1), int64(25), object(3)\n",
      "memory usage: 507.6+ KB\n"
     ]
    }
   ],
   "source": [
    "df.info()"
   ]
  },
  {
   "cell_type": "code",
   "execution_count": 5,
   "id": "ba643b75",
   "metadata": {
    "execution": {
     "iopub.execute_input": "2023-10-15T18:29:24.295380Z",
     "iopub.status.busy": "2023-10-15T18:29:24.294871Z",
     "iopub.status.idle": "2023-10-15T18:29:24.301268Z",
     "shell.execute_reply": "2023-10-15T18:29:24.300592Z"
    },
    "papermill": {
     "duration": 0.024909,
     "end_time": "2023-10-15T18:29:24.303155",
     "exception": false,
     "start_time": "2023-10-15T18:29:24.278246",
     "status": "completed"
    },
    "tags": []
   },
   "outputs": [
    {
     "data": {
      "text/plain": [
       "(2240, 29)"
      ]
     },
     "execution_count": 5,
     "metadata": {},
     "output_type": "execute_result"
    }
   ],
   "source": [
    "df.shape"
   ]
  },
  {
   "cell_type": "code",
   "execution_count": 6,
   "id": "0efacbf3",
   "metadata": {
    "execution": {
     "iopub.execute_input": "2023-10-15T18:29:24.337200Z",
     "iopub.status.busy": "2023-10-15T18:29:24.335977Z",
     "iopub.status.idle": "2023-10-15T18:29:24.404515Z",
     "shell.execute_reply": "2023-10-15T18:29:24.403172Z"
    },
    "papermill": {
     "duration": 0.087673,
     "end_time": "2023-10-15T18:29:24.406862",
     "exception": false,
     "start_time": "2023-10-15T18:29:24.319189",
     "status": "completed"
    },
    "tags": []
   },
   "outputs": [
    {
     "data": {
      "text/html": [
       "<div>\n",
       "<style scoped>\n",
       "    .dataframe tbody tr th:only-of-type {\n",
       "        vertical-align: middle;\n",
       "    }\n",
       "\n",
       "    .dataframe tbody tr th {\n",
       "        vertical-align: top;\n",
       "    }\n",
       "\n",
       "    .dataframe thead th {\n",
       "        text-align: right;\n",
       "    }\n",
       "</style>\n",
       "<table border=\"1\" class=\"dataframe\">\n",
       "  <thead>\n",
       "    <tr style=\"text-align: right;\">\n",
       "      <th></th>\n",
       "      <th>count</th>\n",
       "      <th>mean</th>\n",
       "      <th>std</th>\n",
       "      <th>min</th>\n",
       "      <th>25%</th>\n",
       "      <th>50%</th>\n",
       "      <th>75%</th>\n",
       "      <th>max</th>\n",
       "    </tr>\n",
       "  </thead>\n",
       "  <tbody>\n",
       "    <tr>\n",
       "      <th>ID</th>\n",
       "      <td>2240.0000</td>\n",
       "      <td>5592.1598</td>\n",
       "      <td>3246.6622</td>\n",
       "      <td>0.0000</td>\n",
       "      <td>2828.2500</td>\n",
       "      <td>5458.5000</td>\n",
       "      <td>8427.7500</td>\n",
       "      <td>11191.0000</td>\n",
       "    </tr>\n",
       "    <tr>\n",
       "      <th>Year_Birth</th>\n",
       "      <td>2240.0000</td>\n",
       "      <td>1968.8058</td>\n",
       "      <td>11.9841</td>\n",
       "      <td>1893.0000</td>\n",
       "      <td>1959.0000</td>\n",
       "      <td>1970.0000</td>\n",
       "      <td>1977.0000</td>\n",
       "      <td>1996.0000</td>\n",
       "    </tr>\n",
       "    <tr>\n",
       "      <th>Income</th>\n",
       "      <td>2216.0000</td>\n",
       "      <td>52247.2514</td>\n",
       "      <td>25173.0767</td>\n",
       "      <td>1730.0000</td>\n",
       "      <td>35303.0000</td>\n",
       "      <td>51381.5000</td>\n",
       "      <td>68522.0000</td>\n",
       "      <td>666666.0000</td>\n",
       "    </tr>\n",
       "    <tr>\n",
       "      <th>Kidhome</th>\n",
       "      <td>2240.0000</td>\n",
       "      <td>0.4442</td>\n",
       "      <td>0.5384</td>\n",
       "      <td>0.0000</td>\n",
       "      <td>0.0000</td>\n",
       "      <td>0.0000</td>\n",
       "      <td>1.0000</td>\n",
       "      <td>2.0000</td>\n",
       "    </tr>\n",
       "    <tr>\n",
       "      <th>Teenhome</th>\n",
       "      <td>2240.0000</td>\n",
       "      <td>0.5062</td>\n",
       "      <td>0.5445</td>\n",
       "      <td>0.0000</td>\n",
       "      <td>0.0000</td>\n",
       "      <td>0.0000</td>\n",
       "      <td>1.0000</td>\n",
       "      <td>2.0000</td>\n",
       "    </tr>\n",
       "    <tr>\n",
       "      <th>Recency</th>\n",
       "      <td>2240.0000</td>\n",
       "      <td>49.1094</td>\n",
       "      <td>28.9625</td>\n",
       "      <td>0.0000</td>\n",
       "      <td>24.0000</td>\n",
       "      <td>49.0000</td>\n",
       "      <td>74.0000</td>\n",
       "      <td>99.0000</td>\n",
       "    </tr>\n",
       "    <tr>\n",
       "      <th>MntWines</th>\n",
       "      <td>2240.0000</td>\n",
       "      <td>303.9357</td>\n",
       "      <td>336.5974</td>\n",
       "      <td>0.0000</td>\n",
       "      <td>23.7500</td>\n",
       "      <td>173.5000</td>\n",
       "      <td>504.2500</td>\n",
       "      <td>1493.0000</td>\n",
       "    </tr>\n",
       "    <tr>\n",
       "      <th>MntFruits</th>\n",
       "      <td>2240.0000</td>\n",
       "      <td>26.3022</td>\n",
       "      <td>39.7734</td>\n",
       "      <td>0.0000</td>\n",
       "      <td>1.0000</td>\n",
       "      <td>8.0000</td>\n",
       "      <td>33.0000</td>\n",
       "      <td>199.0000</td>\n",
       "    </tr>\n",
       "    <tr>\n",
       "      <th>MntMeatProducts</th>\n",
       "      <td>2240.0000</td>\n",
       "      <td>166.9500</td>\n",
       "      <td>225.7154</td>\n",
       "      <td>0.0000</td>\n",
       "      <td>16.0000</td>\n",
       "      <td>67.0000</td>\n",
       "      <td>232.0000</td>\n",
       "      <td>1725.0000</td>\n",
       "    </tr>\n",
       "    <tr>\n",
       "      <th>MntFishProducts</th>\n",
       "      <td>2240.0000</td>\n",
       "      <td>37.5254</td>\n",
       "      <td>54.6290</td>\n",
       "      <td>0.0000</td>\n",
       "      <td>3.0000</td>\n",
       "      <td>12.0000</td>\n",
       "      <td>50.0000</td>\n",
       "      <td>259.0000</td>\n",
       "    </tr>\n",
       "    <tr>\n",
       "      <th>MntSweetProducts</th>\n",
       "      <td>2240.0000</td>\n",
       "      <td>27.0629</td>\n",
       "      <td>41.2805</td>\n",
       "      <td>0.0000</td>\n",
       "      <td>1.0000</td>\n",
       "      <td>8.0000</td>\n",
       "      <td>33.0000</td>\n",
       "      <td>263.0000</td>\n",
       "    </tr>\n",
       "    <tr>\n",
       "      <th>MntGoldProds</th>\n",
       "      <td>2240.0000</td>\n",
       "      <td>44.0219</td>\n",
       "      <td>52.1674</td>\n",
       "      <td>0.0000</td>\n",
       "      <td>9.0000</td>\n",
       "      <td>24.0000</td>\n",
       "      <td>56.0000</td>\n",
       "      <td>362.0000</td>\n",
       "    </tr>\n",
       "    <tr>\n",
       "      <th>NumDealsPurchases</th>\n",
       "      <td>2240.0000</td>\n",
       "      <td>2.3250</td>\n",
       "      <td>1.9322</td>\n",
       "      <td>0.0000</td>\n",
       "      <td>1.0000</td>\n",
       "      <td>2.0000</td>\n",
       "      <td>3.0000</td>\n",
       "      <td>15.0000</td>\n",
       "    </tr>\n",
       "    <tr>\n",
       "      <th>NumWebPurchases</th>\n",
       "      <td>2240.0000</td>\n",
       "      <td>4.0848</td>\n",
       "      <td>2.7787</td>\n",
       "      <td>0.0000</td>\n",
       "      <td>2.0000</td>\n",
       "      <td>4.0000</td>\n",
       "      <td>6.0000</td>\n",
       "      <td>27.0000</td>\n",
       "    </tr>\n",
       "    <tr>\n",
       "      <th>NumCatalogPurchases</th>\n",
       "      <td>2240.0000</td>\n",
       "      <td>2.6621</td>\n",
       "      <td>2.9231</td>\n",
       "      <td>0.0000</td>\n",
       "      <td>0.0000</td>\n",
       "      <td>2.0000</td>\n",
       "      <td>4.0000</td>\n",
       "      <td>28.0000</td>\n",
       "    </tr>\n",
       "    <tr>\n",
       "      <th>NumStorePurchases</th>\n",
       "      <td>2240.0000</td>\n",
       "      <td>5.7902</td>\n",
       "      <td>3.2510</td>\n",
       "      <td>0.0000</td>\n",
       "      <td>3.0000</td>\n",
       "      <td>5.0000</td>\n",
       "      <td>8.0000</td>\n",
       "      <td>13.0000</td>\n",
       "    </tr>\n",
       "    <tr>\n",
       "      <th>NumWebVisitsMonth</th>\n",
       "      <td>2240.0000</td>\n",
       "      <td>5.3165</td>\n",
       "      <td>2.4266</td>\n",
       "      <td>0.0000</td>\n",
       "      <td>3.0000</td>\n",
       "      <td>6.0000</td>\n",
       "      <td>7.0000</td>\n",
       "      <td>20.0000</td>\n",
       "    </tr>\n",
       "    <tr>\n",
       "      <th>AcceptedCmp3</th>\n",
       "      <td>2240.0000</td>\n",
       "      <td>0.0728</td>\n",
       "      <td>0.2598</td>\n",
       "      <td>0.0000</td>\n",
       "      <td>0.0000</td>\n",
       "      <td>0.0000</td>\n",
       "      <td>0.0000</td>\n",
       "      <td>1.0000</td>\n",
       "    </tr>\n",
       "    <tr>\n",
       "      <th>AcceptedCmp4</th>\n",
       "      <td>2240.0000</td>\n",
       "      <td>0.0746</td>\n",
       "      <td>0.2627</td>\n",
       "      <td>0.0000</td>\n",
       "      <td>0.0000</td>\n",
       "      <td>0.0000</td>\n",
       "      <td>0.0000</td>\n",
       "      <td>1.0000</td>\n",
       "    </tr>\n",
       "    <tr>\n",
       "      <th>AcceptedCmp5</th>\n",
       "      <td>2240.0000</td>\n",
       "      <td>0.0728</td>\n",
       "      <td>0.2598</td>\n",
       "      <td>0.0000</td>\n",
       "      <td>0.0000</td>\n",
       "      <td>0.0000</td>\n",
       "      <td>0.0000</td>\n",
       "      <td>1.0000</td>\n",
       "    </tr>\n",
       "    <tr>\n",
       "      <th>AcceptedCmp1</th>\n",
       "      <td>2240.0000</td>\n",
       "      <td>0.0643</td>\n",
       "      <td>0.2453</td>\n",
       "      <td>0.0000</td>\n",
       "      <td>0.0000</td>\n",
       "      <td>0.0000</td>\n",
       "      <td>0.0000</td>\n",
       "      <td>1.0000</td>\n",
       "    </tr>\n",
       "    <tr>\n",
       "      <th>AcceptedCmp2</th>\n",
       "      <td>2240.0000</td>\n",
       "      <td>0.0134</td>\n",
       "      <td>0.1150</td>\n",
       "      <td>0.0000</td>\n",
       "      <td>0.0000</td>\n",
       "      <td>0.0000</td>\n",
       "      <td>0.0000</td>\n",
       "      <td>1.0000</td>\n",
       "    </tr>\n",
       "    <tr>\n",
       "      <th>Complain</th>\n",
       "      <td>2240.0000</td>\n",
       "      <td>0.0094</td>\n",
       "      <td>0.0964</td>\n",
       "      <td>0.0000</td>\n",
       "      <td>0.0000</td>\n",
       "      <td>0.0000</td>\n",
       "      <td>0.0000</td>\n",
       "      <td>1.0000</td>\n",
       "    </tr>\n",
       "    <tr>\n",
       "      <th>Z_CostContact</th>\n",
       "      <td>2240.0000</td>\n",
       "      <td>3.0000</td>\n",
       "      <td>0.0000</td>\n",
       "      <td>3.0000</td>\n",
       "      <td>3.0000</td>\n",
       "      <td>3.0000</td>\n",
       "      <td>3.0000</td>\n",
       "      <td>3.0000</td>\n",
       "    </tr>\n",
       "    <tr>\n",
       "      <th>Z_Revenue</th>\n",
       "      <td>2240.0000</td>\n",
       "      <td>11.0000</td>\n",
       "      <td>0.0000</td>\n",
       "      <td>11.0000</td>\n",
       "      <td>11.0000</td>\n",
       "      <td>11.0000</td>\n",
       "      <td>11.0000</td>\n",
       "      <td>11.0000</td>\n",
       "    </tr>\n",
       "    <tr>\n",
       "      <th>Response</th>\n",
       "      <td>2240.0000</td>\n",
       "      <td>0.1491</td>\n",
       "      <td>0.3563</td>\n",
       "      <td>0.0000</td>\n",
       "      <td>0.0000</td>\n",
       "      <td>0.0000</td>\n",
       "      <td>0.0000</td>\n",
       "      <td>1.0000</td>\n",
       "    </tr>\n",
       "  </tbody>\n",
       "</table>\n",
       "</div>"
      ],
      "text/plain": [
       "                        count       mean        std       min        25%  \\\n",
       "ID                  2240.0000  5592.1598  3246.6622    0.0000  2828.2500   \n",
       "Year_Birth          2240.0000  1968.8058    11.9841 1893.0000  1959.0000   \n",
       "Income              2216.0000 52247.2514 25173.0767 1730.0000 35303.0000   \n",
       "Kidhome             2240.0000     0.4442     0.5384    0.0000     0.0000   \n",
       "Teenhome            2240.0000     0.5062     0.5445    0.0000     0.0000   \n",
       "Recency             2240.0000    49.1094    28.9625    0.0000    24.0000   \n",
       "MntWines            2240.0000   303.9357   336.5974    0.0000    23.7500   \n",
       "MntFruits           2240.0000    26.3022    39.7734    0.0000     1.0000   \n",
       "MntMeatProducts     2240.0000   166.9500   225.7154    0.0000    16.0000   \n",
       "MntFishProducts     2240.0000    37.5254    54.6290    0.0000     3.0000   \n",
       "MntSweetProducts    2240.0000    27.0629    41.2805    0.0000     1.0000   \n",
       "MntGoldProds        2240.0000    44.0219    52.1674    0.0000     9.0000   \n",
       "NumDealsPurchases   2240.0000     2.3250     1.9322    0.0000     1.0000   \n",
       "NumWebPurchases     2240.0000     4.0848     2.7787    0.0000     2.0000   \n",
       "NumCatalogPurchases 2240.0000     2.6621     2.9231    0.0000     0.0000   \n",
       "NumStorePurchases   2240.0000     5.7902     3.2510    0.0000     3.0000   \n",
       "NumWebVisitsMonth   2240.0000     5.3165     2.4266    0.0000     3.0000   \n",
       "AcceptedCmp3        2240.0000     0.0728     0.2598    0.0000     0.0000   \n",
       "AcceptedCmp4        2240.0000     0.0746     0.2627    0.0000     0.0000   \n",
       "AcceptedCmp5        2240.0000     0.0728     0.2598    0.0000     0.0000   \n",
       "AcceptedCmp1        2240.0000     0.0643     0.2453    0.0000     0.0000   \n",
       "AcceptedCmp2        2240.0000     0.0134     0.1150    0.0000     0.0000   \n",
       "Complain            2240.0000     0.0094     0.0964    0.0000     0.0000   \n",
       "Z_CostContact       2240.0000     3.0000     0.0000    3.0000     3.0000   \n",
       "Z_Revenue           2240.0000    11.0000     0.0000   11.0000    11.0000   \n",
       "Response            2240.0000     0.1491     0.3563    0.0000     0.0000   \n",
       "\n",
       "                           50%        75%         max  \n",
       "ID                   5458.5000  8427.7500  11191.0000  \n",
       "Year_Birth           1970.0000  1977.0000   1996.0000  \n",
       "Income              51381.5000 68522.0000 666666.0000  \n",
       "Kidhome                 0.0000     1.0000      2.0000  \n",
       "Teenhome                0.0000     1.0000      2.0000  \n",
       "Recency                49.0000    74.0000     99.0000  \n",
       "MntWines              173.5000   504.2500   1493.0000  \n",
       "MntFruits               8.0000    33.0000    199.0000  \n",
       "MntMeatProducts        67.0000   232.0000   1725.0000  \n",
       "MntFishProducts        12.0000    50.0000    259.0000  \n",
       "MntSweetProducts        8.0000    33.0000    263.0000  \n",
       "MntGoldProds           24.0000    56.0000    362.0000  \n",
       "NumDealsPurchases       2.0000     3.0000     15.0000  \n",
       "NumWebPurchases         4.0000     6.0000     27.0000  \n",
       "NumCatalogPurchases     2.0000     4.0000     28.0000  \n",
       "NumStorePurchases       5.0000     8.0000     13.0000  \n",
       "NumWebVisitsMonth       6.0000     7.0000     20.0000  \n",
       "AcceptedCmp3            0.0000     0.0000      1.0000  \n",
       "AcceptedCmp4            0.0000     0.0000      1.0000  \n",
       "AcceptedCmp5            0.0000     0.0000      1.0000  \n",
       "AcceptedCmp1            0.0000     0.0000      1.0000  \n",
       "AcceptedCmp2            0.0000     0.0000      1.0000  \n",
       "Complain                0.0000     0.0000      1.0000  \n",
       "Z_CostContact           3.0000     3.0000      3.0000  \n",
       "Z_Revenue              11.0000    11.0000     11.0000  \n",
       "Response                0.0000     0.0000      1.0000  "
      ]
     },
     "execution_count": 6,
     "metadata": {},
     "output_type": "execute_result"
    }
   ],
   "source": [
    "df.describe().T"
   ]
  },
  {
   "cell_type": "markdown",
   "id": "7d58b2ab",
   "metadata": {
    "papermill": {
     "duration": 0.015852,
     "end_time": "2023-10-15T18:29:24.441348",
     "exception": false,
     "start_time": "2023-10-15T18:29:24.425496",
     "status": "completed"
    },
    "tags": []
   },
   "source": [
    "<div style=\"border-radius:10px; border:#DEB887 solid; padding: 15px; background-color: #FFFAF0; font-size:100%; text-align:left\">\n",
    "\n",
    "<h3 align=\"left\"><font color='#DEB887'>💡 Features: </font></h3>\n",
    "    \n",
    "**People (Customer Information)**\n",
    "    \n",
    "1. **ID**: Unique identifier of the customer.\n",
    "1. **Year_Birth**: Birth year of the customer.\n",
    "1. **Education**: Education level of the customer.\n",
    "1. **Marital_Status**: Marital status of the customer.\n",
    "1. **Income**: Yearly household income of the customer.\n",
    "1. **Kidhome**: Number of children in the customer's household.\n",
    "1. **Teenhome**: Number of teenagers in the customer's household.\n",
    "1. **Dt_Customer**: Date of customer's enrollment with the company.\n",
    "1. **Recency**: Number of days since the customer's last purchase.\n",
    "1. **Complain**: 1 if the customer complained in the last 2 years, 0 otherwise.\n",
    "    \n",
    "**Products (Product Information)**\n",
    "    \n",
    "1. **MntWines**: Amount spent on wine in the last 2 years.\n",
    "1. **MntFruits**: Amount spent on fruits in the last 2 years.\n",
    "1. **MntMeatProducts**: Amount spent on meat in the last 2 years.\n",
    "1. **MntFishProducts**: Amount spent on fish in the last 2 years.\n",
    "1. **MntSweetProducts**: Amount spent on sweets in the last 2 years.\n",
    "1. **MntGoldProds**: Amount spent on gold in the last 2 years.\n",
    "    \n",
    "**Promotion (Promotional Information)**\n",
    "    \n",
    "1. **NumDealsPurchases**: Number of purchases made with a discount.\n",
    "1. **AcceptedCmp1**: 1 if the customer accepted the offer in the 1st campaign, 0 otherwise.\n",
    "1. **AcceptedCmp2**: 1 if the customer accepted the offer in the 2nd campaign, 0 otherwise.\n",
    "1. **AcceptedCmp3**: 1 if the customer accepted the offer in the 3rd campaign, 0 otherwise.\n",
    "1. **AcceptedCmp4**: 1 if the customer accepted the offer in the 4th campaign, 0 otherwise.\n",
    "1. **AcceptedCmp5**: 1 if the customer accepted the offer in the 5th campaign, 0 otherwise.\n",
    "1. **Response**: 1 if the customer accepted the offer in the last campaign, 0 otherwise.\n",
    "    \n",
    "**Place (Purchase Location Information)**\n",
    "    \n",
    "1. **NumWebPurchases**: Number of purchases made through the company’s website.\n",
    "1. **NumCatalogPurchases**: Number of purchases made using a catalogue.\n",
    "1. **NumStorePurchases**: Number of purchases made directly in stores.\n",
    "1. **NumWebVisitsMonth**: Number of visits to the company’s website in the last month."
   ]
  },
  {
   "cell_type": "code",
   "execution_count": 7,
   "id": "18e267e4",
   "metadata": {
    "execution": {
     "iopub.execute_input": "2023-10-15T18:29:24.475314Z",
     "iopub.status.busy": "2023-10-15T18:29:24.474936Z",
     "iopub.status.idle": "2023-10-15T18:29:24.495689Z",
     "shell.execute_reply": "2023-10-15T18:29:24.494491Z"
    },
    "papermill": {
     "duration": 0.040308,
     "end_time": "2023-10-15T18:29:24.497750",
     "exception": false,
     "start_time": "2023-10-15T18:29:24.457442",
     "status": "completed"
    },
    "tags": []
   },
   "outputs": [
    {
     "data": {
      "text/html": [
       "<div>\n",
       "<style scoped>\n",
       "    .dataframe tbody tr th:only-of-type {\n",
       "        vertical-align: middle;\n",
       "    }\n",
       "\n",
       "    .dataframe tbody tr th {\n",
       "        vertical-align: top;\n",
       "    }\n",
       "\n",
       "    .dataframe thead th {\n",
       "        text-align: right;\n",
       "    }\n",
       "</style>\n",
       "<table border=\"1\" class=\"dataframe\">\n",
       "  <thead>\n",
       "    <tr style=\"text-align: right;\">\n",
       "      <th></th>\n",
       "      <th>ID</th>\n",
       "      <th>Year_Birth</th>\n",
       "      <th>Education</th>\n",
       "      <th>Marital_Status</th>\n",
       "      <th>Income</th>\n",
       "      <th>Kidhome</th>\n",
       "      <th>Teenhome</th>\n",
       "      <th>Dt_Customer</th>\n",
       "      <th>Recency</th>\n",
       "      <th>MntWines</th>\n",
       "      <th>MntFruits</th>\n",
       "      <th>MntMeatProducts</th>\n",
       "      <th>MntFishProducts</th>\n",
       "      <th>MntSweetProducts</th>\n",
       "      <th>MntGoldProds</th>\n",
       "      <th>NumDealsPurchases</th>\n",
       "      <th>NumWebPurchases</th>\n",
       "      <th>NumCatalogPurchases</th>\n",
       "      <th>NumStorePurchases</th>\n",
       "      <th>NumWebVisitsMonth</th>\n",
       "      <th>AcceptedCmp3</th>\n",
       "      <th>AcceptedCmp4</th>\n",
       "      <th>AcceptedCmp5</th>\n",
       "      <th>AcceptedCmp1</th>\n",
       "      <th>AcceptedCmp2</th>\n",
       "      <th>Complain</th>\n",
       "      <th>Z_CostContact</th>\n",
       "      <th>Z_Revenue</th>\n",
       "      <th>Response</th>\n",
       "    </tr>\n",
       "  </thead>\n",
       "  <tbody>\n",
       "    <tr>\n",
       "      <th>0</th>\n",
       "      <td>5524</td>\n",
       "      <td>1957</td>\n",
       "      <td>Graduation</td>\n",
       "      <td>Single</td>\n",
       "      <td>58138.0000</td>\n",
       "      <td>0</td>\n",
       "      <td>0</td>\n",
       "      <td>04-09-2012</td>\n",
       "      <td>58</td>\n",
       "      <td>635</td>\n",
       "      <td>88</td>\n",
       "      <td>546</td>\n",
       "      <td>172</td>\n",
       "      <td>88</td>\n",
       "      <td>88</td>\n",
       "      <td>3</td>\n",
       "      <td>8</td>\n",
       "      <td>10</td>\n",
       "      <td>4</td>\n",
       "      <td>7</td>\n",
       "      <td>0</td>\n",
       "      <td>0</td>\n",
       "      <td>0</td>\n",
       "      <td>0</td>\n",
       "      <td>0</td>\n",
       "      <td>0</td>\n",
       "      <td>3</td>\n",
       "      <td>11</td>\n",
       "      <td>1</td>\n",
       "    </tr>\n",
       "    <tr>\n",
       "      <th>1</th>\n",
       "      <td>2174</td>\n",
       "      <td>1954</td>\n",
       "      <td>Graduation</td>\n",
       "      <td>Single</td>\n",
       "      <td>46344.0000</td>\n",
       "      <td>1</td>\n",
       "      <td>1</td>\n",
       "      <td>08-03-2014</td>\n",
       "      <td>38</td>\n",
       "      <td>11</td>\n",
       "      <td>1</td>\n",
       "      <td>6</td>\n",
       "      <td>2</td>\n",
       "      <td>1</td>\n",
       "      <td>6</td>\n",
       "      <td>2</td>\n",
       "      <td>1</td>\n",
       "      <td>1</td>\n",
       "      <td>2</td>\n",
       "      <td>5</td>\n",
       "      <td>0</td>\n",
       "      <td>0</td>\n",
       "      <td>0</td>\n",
       "      <td>0</td>\n",
       "      <td>0</td>\n",
       "      <td>0</td>\n",
       "      <td>3</td>\n",
       "      <td>11</td>\n",
       "      <td>0</td>\n",
       "    </tr>\n",
       "    <tr>\n",
       "      <th>2</th>\n",
       "      <td>4141</td>\n",
       "      <td>1965</td>\n",
       "      <td>Graduation</td>\n",
       "      <td>Together</td>\n",
       "      <td>71613.0000</td>\n",
       "      <td>0</td>\n",
       "      <td>0</td>\n",
       "      <td>21-08-2013</td>\n",
       "      <td>26</td>\n",
       "      <td>426</td>\n",
       "      <td>49</td>\n",
       "      <td>127</td>\n",
       "      <td>111</td>\n",
       "      <td>21</td>\n",
       "      <td>42</td>\n",
       "      <td>1</td>\n",
       "      <td>8</td>\n",
       "      <td>2</td>\n",
       "      <td>10</td>\n",
       "      <td>4</td>\n",
       "      <td>0</td>\n",
       "      <td>0</td>\n",
       "      <td>0</td>\n",
       "      <td>0</td>\n",
       "      <td>0</td>\n",
       "      <td>0</td>\n",
       "      <td>3</td>\n",
       "      <td>11</td>\n",
       "      <td>0</td>\n",
       "    </tr>\n",
       "    <tr>\n",
       "      <th>3</th>\n",
       "      <td>6182</td>\n",
       "      <td>1984</td>\n",
       "      <td>Graduation</td>\n",
       "      <td>Together</td>\n",
       "      <td>26646.0000</td>\n",
       "      <td>1</td>\n",
       "      <td>0</td>\n",
       "      <td>10-02-2014</td>\n",
       "      <td>26</td>\n",
       "      <td>11</td>\n",
       "      <td>4</td>\n",
       "      <td>20</td>\n",
       "      <td>10</td>\n",
       "      <td>3</td>\n",
       "      <td>5</td>\n",
       "      <td>2</td>\n",
       "      <td>2</td>\n",
       "      <td>0</td>\n",
       "      <td>4</td>\n",
       "      <td>6</td>\n",
       "      <td>0</td>\n",
       "      <td>0</td>\n",
       "      <td>0</td>\n",
       "      <td>0</td>\n",
       "      <td>0</td>\n",
       "      <td>0</td>\n",
       "      <td>3</td>\n",
       "      <td>11</td>\n",
       "      <td>0</td>\n",
       "    </tr>\n",
       "    <tr>\n",
       "      <th>4</th>\n",
       "      <td>5324</td>\n",
       "      <td>1981</td>\n",
       "      <td>PhD</td>\n",
       "      <td>Married</td>\n",
       "      <td>58293.0000</td>\n",
       "      <td>1</td>\n",
       "      <td>0</td>\n",
       "      <td>19-01-2014</td>\n",
       "      <td>94</td>\n",
       "      <td>173</td>\n",
       "      <td>43</td>\n",
       "      <td>118</td>\n",
       "      <td>46</td>\n",
       "      <td>27</td>\n",
       "      <td>15</td>\n",
       "      <td>5</td>\n",
       "      <td>5</td>\n",
       "      <td>3</td>\n",
       "      <td>6</td>\n",
       "      <td>5</td>\n",
       "      <td>0</td>\n",
       "      <td>0</td>\n",
       "      <td>0</td>\n",
       "      <td>0</td>\n",
       "      <td>0</td>\n",
       "      <td>0</td>\n",
       "      <td>3</td>\n",
       "      <td>11</td>\n",
       "      <td>0</td>\n",
       "    </tr>\n",
       "    <tr>\n",
       "      <th>5</th>\n",
       "      <td>7446</td>\n",
       "      <td>1967</td>\n",
       "      <td>Master</td>\n",
       "      <td>Together</td>\n",
       "      <td>62513.0000</td>\n",
       "      <td>0</td>\n",
       "      <td>1</td>\n",
       "      <td>09-09-2013</td>\n",
       "      <td>16</td>\n",
       "      <td>520</td>\n",
       "      <td>42</td>\n",
       "      <td>98</td>\n",
       "      <td>0</td>\n",
       "      <td>42</td>\n",
       "      <td>14</td>\n",
       "      <td>2</td>\n",
       "      <td>6</td>\n",
       "      <td>4</td>\n",
       "      <td>10</td>\n",
       "      <td>6</td>\n",
       "      <td>0</td>\n",
       "      <td>0</td>\n",
       "      <td>0</td>\n",
       "      <td>0</td>\n",
       "      <td>0</td>\n",
       "      <td>0</td>\n",
       "      <td>3</td>\n",
       "      <td>11</td>\n",
       "      <td>0</td>\n",
       "    </tr>\n",
       "    <tr>\n",
       "      <th>6</th>\n",
       "      <td>965</td>\n",
       "      <td>1971</td>\n",
       "      <td>Graduation</td>\n",
       "      <td>Divorced</td>\n",
       "      <td>55635.0000</td>\n",
       "      <td>0</td>\n",
       "      <td>1</td>\n",
       "      <td>13-11-2012</td>\n",
       "      <td>34</td>\n",
       "      <td>235</td>\n",
       "      <td>65</td>\n",
       "      <td>164</td>\n",
       "      <td>50</td>\n",
       "      <td>49</td>\n",
       "      <td>27</td>\n",
       "      <td>4</td>\n",
       "      <td>7</td>\n",
       "      <td>3</td>\n",
       "      <td>7</td>\n",
       "      <td>6</td>\n",
       "      <td>0</td>\n",
       "      <td>0</td>\n",
       "      <td>0</td>\n",
       "      <td>0</td>\n",
       "      <td>0</td>\n",
       "      <td>0</td>\n",
       "      <td>3</td>\n",
       "      <td>11</td>\n",
       "      <td>0</td>\n",
       "    </tr>\n",
       "    <tr>\n",
       "      <th>7</th>\n",
       "      <td>6177</td>\n",
       "      <td>1985</td>\n",
       "      <td>PhD</td>\n",
       "      <td>Married</td>\n",
       "      <td>33454.0000</td>\n",
       "      <td>1</td>\n",
       "      <td>0</td>\n",
       "      <td>08-05-2013</td>\n",
       "      <td>32</td>\n",
       "      <td>76</td>\n",
       "      <td>10</td>\n",
       "      <td>56</td>\n",
       "      <td>3</td>\n",
       "      <td>1</td>\n",
       "      <td>23</td>\n",
       "      <td>2</td>\n",
       "      <td>4</td>\n",
       "      <td>0</td>\n",
       "      <td>4</td>\n",
       "      <td>8</td>\n",
       "      <td>0</td>\n",
       "      <td>0</td>\n",
       "      <td>0</td>\n",
       "      <td>0</td>\n",
       "      <td>0</td>\n",
       "      <td>0</td>\n",
       "      <td>3</td>\n",
       "      <td>11</td>\n",
       "      <td>0</td>\n",
       "    </tr>\n",
       "    <tr>\n",
       "      <th>8</th>\n",
       "      <td>4855</td>\n",
       "      <td>1974</td>\n",
       "      <td>PhD</td>\n",
       "      <td>Together</td>\n",
       "      <td>30351.0000</td>\n",
       "      <td>1</td>\n",
       "      <td>0</td>\n",
       "      <td>06-06-2013</td>\n",
       "      <td>19</td>\n",
       "      <td>14</td>\n",
       "      <td>0</td>\n",
       "      <td>24</td>\n",
       "      <td>3</td>\n",
       "      <td>3</td>\n",
       "      <td>2</td>\n",
       "      <td>1</td>\n",
       "      <td>3</td>\n",
       "      <td>0</td>\n",
       "      <td>2</td>\n",
       "      <td>9</td>\n",
       "      <td>0</td>\n",
       "      <td>0</td>\n",
       "      <td>0</td>\n",
       "      <td>0</td>\n",
       "      <td>0</td>\n",
       "      <td>0</td>\n",
       "      <td>3</td>\n",
       "      <td>11</td>\n",
       "      <td>1</td>\n",
       "    </tr>\n",
       "    <tr>\n",
       "      <th>9</th>\n",
       "      <td>5899</td>\n",
       "      <td>1950</td>\n",
       "      <td>PhD</td>\n",
       "      <td>Together</td>\n",
       "      <td>5648.0000</td>\n",
       "      <td>1</td>\n",
       "      <td>1</td>\n",
       "      <td>13-03-2014</td>\n",
       "      <td>68</td>\n",
       "      <td>28</td>\n",
       "      <td>0</td>\n",
       "      <td>6</td>\n",
       "      <td>1</td>\n",
       "      <td>1</td>\n",
       "      <td>13</td>\n",
       "      <td>1</td>\n",
       "      <td>1</td>\n",
       "      <td>0</td>\n",
       "      <td>0</td>\n",
       "      <td>20</td>\n",
       "      <td>1</td>\n",
       "      <td>0</td>\n",
       "      <td>0</td>\n",
       "      <td>0</td>\n",
       "      <td>0</td>\n",
       "      <td>0</td>\n",
       "      <td>3</td>\n",
       "      <td>11</td>\n",
       "      <td>0</td>\n",
       "    </tr>\n",
       "  </tbody>\n",
       "</table>\n",
       "</div>"
      ],
      "text/plain": [
       "     ID  Year_Birth   Education Marital_Status     Income  Kidhome  Teenhome  \\\n",
       "0  5524        1957  Graduation         Single 58138.0000        0         0   \n",
       "1  2174        1954  Graduation         Single 46344.0000        1         1   \n",
       "2  4141        1965  Graduation       Together 71613.0000        0         0   \n",
       "3  6182        1984  Graduation       Together 26646.0000        1         0   \n",
       "4  5324        1981         PhD        Married 58293.0000        1         0   \n",
       "5  7446        1967      Master       Together 62513.0000        0         1   \n",
       "6   965        1971  Graduation       Divorced 55635.0000        0         1   \n",
       "7  6177        1985         PhD        Married 33454.0000        1         0   \n",
       "8  4855        1974         PhD       Together 30351.0000        1         0   \n",
       "9  5899        1950         PhD       Together  5648.0000        1         1   \n",
       "\n",
       "  Dt_Customer  Recency  MntWines  MntFruits  MntMeatProducts  MntFishProducts  \\\n",
       "0  04-09-2012       58       635         88              546              172   \n",
       "1  08-03-2014       38        11          1                6                2   \n",
       "2  21-08-2013       26       426         49              127              111   \n",
       "3  10-02-2014       26        11          4               20               10   \n",
       "4  19-01-2014       94       173         43              118               46   \n",
       "5  09-09-2013       16       520         42               98                0   \n",
       "6  13-11-2012       34       235         65              164               50   \n",
       "7  08-05-2013       32        76         10               56                3   \n",
       "8  06-06-2013       19        14          0               24                3   \n",
       "9  13-03-2014       68        28          0                6                1   \n",
       "\n",
       "   MntSweetProducts  MntGoldProds  NumDealsPurchases  NumWebPurchases  \\\n",
       "0                88            88                  3                8   \n",
       "1                 1             6                  2                1   \n",
       "2                21            42                  1                8   \n",
       "3                 3             5                  2                2   \n",
       "4                27            15                  5                5   \n",
       "5                42            14                  2                6   \n",
       "6                49            27                  4                7   \n",
       "7                 1            23                  2                4   \n",
       "8                 3             2                  1                3   \n",
       "9                 1            13                  1                1   \n",
       "\n",
       "   NumCatalogPurchases  NumStorePurchases  NumWebVisitsMonth  AcceptedCmp3  \\\n",
       "0                   10                  4                  7             0   \n",
       "1                    1                  2                  5             0   \n",
       "2                    2                 10                  4             0   \n",
       "3                    0                  4                  6             0   \n",
       "4                    3                  6                  5             0   \n",
       "5                    4                 10                  6             0   \n",
       "6                    3                  7                  6             0   \n",
       "7                    0                  4                  8             0   \n",
       "8                    0                  2                  9             0   \n",
       "9                    0                  0                 20             1   \n",
       "\n",
       "   AcceptedCmp4  AcceptedCmp5  AcceptedCmp1  AcceptedCmp2  Complain  \\\n",
       "0             0             0             0             0         0   \n",
       "1             0             0             0             0         0   \n",
       "2             0             0             0             0         0   \n",
       "3             0             0             0             0         0   \n",
       "4             0             0             0             0         0   \n",
       "5             0             0             0             0         0   \n",
       "6             0             0             0             0         0   \n",
       "7             0             0             0             0         0   \n",
       "8             0             0             0             0         0   \n",
       "9             0             0             0             0         0   \n",
       "\n",
       "   Z_CostContact  Z_Revenue  Response  \n",
       "0              3         11         1  \n",
       "1              3         11         0  \n",
       "2              3         11         0  \n",
       "3              3         11         0  \n",
       "4              3         11         0  \n",
       "5              3         11         0  \n",
       "6              3         11         0  \n",
       "7              3         11         0  \n",
       "8              3         11         1  \n",
       "9              3         11         0  "
      ]
     },
     "execution_count": 7,
     "metadata": {},
     "output_type": "execute_result"
    }
   ],
   "source": [
    "df.head(10)"
   ]
  },
  {
   "cell_type": "code",
   "execution_count": 8,
   "id": "6fe4fe31",
   "metadata": {
    "execution": {
     "iopub.execute_input": "2023-10-15T18:29:24.532450Z",
     "iopub.status.busy": "2023-10-15T18:29:24.532050Z",
     "iopub.status.idle": "2023-10-15T18:29:24.541722Z",
     "shell.execute_reply": "2023-10-15T18:29:24.540666Z"
    },
    "papermill": {
     "duration": 0.029187,
     "end_time": "2023-10-15T18:29:24.543448",
     "exception": false,
     "start_time": "2023-10-15T18:29:24.514261",
     "status": "completed"
    },
    "tags": []
   },
   "outputs": [
    {
     "data": {
      "text/plain": [
       "ID                      0\n",
       "Year_Birth              0\n",
       "Education               0\n",
       "Marital_Status          0\n",
       "Income                 24\n",
       "Kidhome                 0\n",
       "Teenhome                0\n",
       "Dt_Customer             0\n",
       "Recency                 0\n",
       "MntWines                0\n",
       "MntFruits               0\n",
       "MntMeatProducts         0\n",
       "MntFishProducts         0\n",
       "MntSweetProducts        0\n",
       "MntGoldProds            0\n",
       "NumDealsPurchases       0\n",
       "NumWebPurchases         0\n",
       "NumCatalogPurchases     0\n",
       "NumStorePurchases       0\n",
       "NumWebVisitsMonth       0\n",
       "AcceptedCmp3            0\n",
       "AcceptedCmp4            0\n",
       "AcceptedCmp5            0\n",
       "AcceptedCmp1            0\n",
       "AcceptedCmp2            0\n",
       "Complain                0\n",
       "Z_CostContact           0\n",
       "Z_Revenue               0\n",
       "Response                0\n",
       "dtype: int64"
      ]
     },
     "execution_count": 8,
     "metadata": {},
     "output_type": "execute_result"
    }
   ],
   "source": [
    "df.isnull().sum()"
   ]
  },
  {
   "cell_type": "code",
   "execution_count": 9,
   "id": "4f01de1f",
   "metadata": {
    "execution": {
     "iopub.execute_input": "2023-10-15T18:29:24.578238Z",
     "iopub.status.busy": "2023-10-15T18:29:24.577671Z",
     "iopub.status.idle": "2023-10-15T18:29:24.591699Z",
     "shell.execute_reply": "2023-10-15T18:29:24.590712Z"
    },
    "papermill": {
     "duration": 0.033552,
     "end_time": "2023-10-15T18:29:24.593655",
     "exception": false,
     "start_time": "2023-10-15T18:29:24.560103",
     "status": "completed"
    },
    "tags": []
   },
   "outputs": [
    {
     "data": {
      "text/plain": [
       "0"
      ]
     },
     "execution_count": 9,
     "metadata": {},
     "output_type": "execute_result"
    }
   ],
   "source": [
    "df.duplicated().sum()"
   ]
  },
  {
   "cell_type": "markdown",
   "id": "3a32aab9",
   "metadata": {
    "papermill": {
     "duration": 0.017297,
     "end_time": "2023-10-15T18:29:24.627696",
     "exception": false,
     "start_time": "2023-10-15T18:29:24.610399",
     "status": "completed"
    },
    "tags": []
   },
   "source": [
    "# **<center><span style=\"color:#f6a6b2;font-family:cursive;font-size:125%;border-bottom: 3px solid\">EDA</span></center>**\n",
    "---"
   ]
  },
  {
   "cell_type": "markdown",
   "id": "ac956cb1",
   "metadata": {
    "papermill": {
     "duration": 0.016719,
     "end_time": "2023-10-15T18:29:24.662303",
     "exception": false,
     "start_time": "2023-10-15T18:29:24.645584",
     "status": "completed"
    },
    "tags": []
   },
   "source": [
    "* **Step - 1**"
   ]
  },
  {
   "cell_type": "code",
   "execution_count": 10,
   "id": "9fff33ea",
   "metadata": {
    "execution": {
     "iopub.execute_input": "2023-10-15T18:29:24.698501Z",
     "iopub.status.busy": "2023-10-15T18:29:24.698054Z",
     "iopub.status.idle": "2023-10-15T18:29:24.703873Z",
     "shell.execute_reply": "2023-10-15T18:29:24.703179Z"
    },
    "papermill": {
     "duration": 0.026734,
     "end_time": "2023-10-15T18:29:24.705664",
     "exception": false,
     "start_time": "2023-10-15T18:29:24.678930",
     "status": "completed"
    },
    "tags": []
   },
   "outputs": [],
   "source": [
    "df['Income'] = df['Income'].fillna(df['Income'].median())"
   ]
  },
  {
   "cell_type": "code",
   "execution_count": 11,
   "id": "28dcb27f",
   "metadata": {
    "execution": {
     "iopub.execute_input": "2023-10-15T18:29:24.740972Z",
     "iopub.status.busy": "2023-10-15T18:29:24.739951Z",
     "iopub.status.idle": "2023-10-15T18:29:24.749322Z",
     "shell.execute_reply": "2023-10-15T18:29:24.748189Z"
    },
    "papermill": {
     "duration": 0.029049,
     "end_time": "2023-10-15T18:29:24.751439",
     "exception": false,
     "start_time": "2023-10-15T18:29:24.722390",
     "status": "completed"
    },
    "tags": []
   },
   "outputs": [
    {
     "data": {
      "text/plain": [
       "ID                     0\n",
       "Year_Birth             0\n",
       "Education              0\n",
       "Marital_Status         0\n",
       "Income                 0\n",
       "Kidhome                0\n",
       "Teenhome               0\n",
       "Dt_Customer            0\n",
       "Recency                0\n",
       "MntWines               0\n",
       "MntFruits              0\n",
       "MntMeatProducts        0\n",
       "MntFishProducts        0\n",
       "MntSweetProducts       0\n",
       "MntGoldProds           0\n",
       "NumDealsPurchases      0\n",
       "NumWebPurchases        0\n",
       "NumCatalogPurchases    0\n",
       "NumStorePurchases      0\n",
       "NumWebVisitsMonth      0\n",
       "AcceptedCmp3           0\n",
       "AcceptedCmp4           0\n",
       "AcceptedCmp5           0\n",
       "AcceptedCmp1           0\n",
       "AcceptedCmp2           0\n",
       "Complain               0\n",
       "Z_CostContact          0\n",
       "Z_Revenue              0\n",
       "Response               0\n",
       "dtype: int64"
      ]
     },
     "execution_count": 11,
     "metadata": {},
     "output_type": "execute_result"
    }
   ],
   "source": [
    "df.isnull().sum()"
   ]
  },
  {
   "cell_type": "markdown",
   "id": "aa4cc319",
   "metadata": {
    "papermill": {
     "duration": 0.017652,
     "end_time": "2023-10-15T18:29:24.786804",
     "exception": false,
     "start_time": "2023-10-15T18:29:24.769152",
     "status": "completed"
    },
    "tags": []
   },
   "source": [
    "* **Step - 2**"
   ]
  },
  {
   "cell_type": "code",
   "execution_count": 12,
   "id": "e8987a3d",
   "metadata": {
    "execution": {
     "iopub.execute_input": "2023-10-15T18:29:24.822397Z",
     "iopub.status.busy": "2023-10-15T18:29:24.822033Z",
     "iopub.status.idle": "2023-10-15T18:29:24.838107Z",
     "shell.execute_reply": "2023-10-15T18:29:24.837395Z"
    },
    "papermill": {
     "duration": 0.036401,
     "end_time": "2023-10-15T18:29:24.840219",
     "exception": false,
     "start_time": "2023-10-15T18:29:24.803818",
     "status": "completed"
    },
    "tags": []
   },
   "outputs": [],
   "source": [
    "df['Dt_Customer'] = pd.to_datetime(df['Dt_Customer'], format=\"%d-%m-%Y\")"
   ]
  },
  {
   "cell_type": "code",
   "execution_count": 13,
   "id": "e9cd4b4d",
   "metadata": {
    "execution": {
     "iopub.execute_input": "2023-10-15T18:29:24.877392Z",
     "iopub.status.busy": "2023-10-15T18:29:24.876658Z",
     "iopub.status.idle": "2023-10-15T18:29:24.884865Z",
     "shell.execute_reply": "2023-10-15T18:29:24.883779Z"
    },
    "papermill": {
     "duration": 0.02954,
     "end_time": "2023-10-15T18:29:24.886880",
     "exception": false,
     "start_time": "2023-10-15T18:29:24.857340",
     "status": "completed"
    },
    "tags": []
   },
   "outputs": [
    {
     "data": {
      "text/plain": [
       "Timestamp('2014-06-29 00:00:00')"
      ]
     },
     "execution_count": 13,
     "metadata": {},
     "output_type": "execute_result"
    }
   ],
   "source": [
    "df['Dt_Customer'].max()"
   ]
  },
  {
   "cell_type": "code",
   "execution_count": 14,
   "id": "9142bcc5",
   "metadata": {
    "execution": {
     "iopub.execute_input": "2023-10-15T18:29:24.923513Z",
     "iopub.status.busy": "2023-10-15T18:29:24.922908Z",
     "iopub.status.idle": "2023-10-15T18:29:24.929461Z",
     "shell.execute_reply": "2023-10-15T18:29:24.928443Z"
    },
    "papermill": {
     "duration": 0.027289,
     "end_time": "2023-10-15T18:29:24.931304",
     "exception": false,
     "start_time": "2023-10-15T18:29:24.904015",
     "status": "completed"
    },
    "tags": []
   },
   "outputs": [
    {
     "data": {
      "text/plain": [
       "Timestamp('2012-07-30 00:00:00')"
      ]
     },
     "execution_count": 14,
     "metadata": {},
     "output_type": "execute_result"
    }
   ],
   "source": [
    "df['Dt_Customer'].min()"
   ]
  },
  {
   "cell_type": "code",
   "execution_count": 15,
   "id": "a6ae1762",
   "metadata": {
    "execution": {
     "iopub.execute_input": "2023-10-15T18:29:24.967657Z",
     "iopub.status.busy": "2023-10-15T18:29:24.967060Z",
     "iopub.status.idle": "2023-10-15T18:29:24.984502Z",
     "shell.execute_reply": "2023-10-15T18:29:24.983446Z"
    },
    "papermill": {
     "duration": 0.037873,
     "end_time": "2023-10-15T18:29:24.986505",
     "exception": false,
     "start_time": "2023-10-15T18:29:24.948632",
     "status": "completed"
    },
    "tags": []
   },
   "outputs": [
    {
     "data": {
      "text/html": [
       "<div>\n",
       "<style scoped>\n",
       "    .dataframe tbody tr th:only-of-type {\n",
       "        vertical-align: middle;\n",
       "    }\n",
       "\n",
       "    .dataframe tbody tr th {\n",
       "        vertical-align: top;\n",
       "    }\n",
       "\n",
       "    .dataframe thead th {\n",
       "        text-align: right;\n",
       "    }\n",
       "</style>\n",
       "<table border=\"1\" class=\"dataframe\">\n",
       "  <thead>\n",
       "    <tr style=\"text-align: right;\">\n",
       "      <th></th>\n",
       "      <th>ID</th>\n",
       "      <th>Year_Birth</th>\n",
       "      <th>Education</th>\n",
       "      <th>Marital_Status</th>\n",
       "      <th>Income</th>\n",
       "      <th>Kidhome</th>\n",
       "      <th>Teenhome</th>\n",
       "      <th>Dt_Customer</th>\n",
       "      <th>Recency</th>\n",
       "      <th>MntWines</th>\n",
       "      <th>MntFruits</th>\n",
       "      <th>MntMeatProducts</th>\n",
       "      <th>MntFishProducts</th>\n",
       "      <th>MntSweetProducts</th>\n",
       "      <th>MntGoldProds</th>\n",
       "      <th>NumDealsPurchases</th>\n",
       "      <th>NumWebPurchases</th>\n",
       "      <th>NumCatalogPurchases</th>\n",
       "      <th>NumStorePurchases</th>\n",
       "      <th>NumWebVisitsMonth</th>\n",
       "      <th>AcceptedCmp3</th>\n",
       "      <th>AcceptedCmp4</th>\n",
       "      <th>AcceptedCmp5</th>\n",
       "      <th>AcceptedCmp1</th>\n",
       "      <th>AcceptedCmp2</th>\n",
       "      <th>Complain</th>\n",
       "      <th>Z_CostContact</th>\n",
       "      <th>Z_Revenue</th>\n",
       "      <th>Response</th>\n",
       "    </tr>\n",
       "  </thead>\n",
       "  <tbody>\n",
       "    <tr>\n",
       "      <th>0</th>\n",
       "      <td>5524</td>\n",
       "      <td>1957</td>\n",
       "      <td>Graduation</td>\n",
       "      <td>Single</td>\n",
       "      <td>58138.0000</td>\n",
       "      <td>0</td>\n",
       "      <td>0</td>\n",
       "      <td>2012-09-04</td>\n",
       "      <td>58</td>\n",
       "      <td>635</td>\n",
       "      <td>88</td>\n",
       "      <td>546</td>\n",
       "      <td>172</td>\n",
       "      <td>88</td>\n",
       "      <td>88</td>\n",
       "      <td>3</td>\n",
       "      <td>8</td>\n",
       "      <td>10</td>\n",
       "      <td>4</td>\n",
       "      <td>7</td>\n",
       "      <td>0</td>\n",
       "      <td>0</td>\n",
       "      <td>0</td>\n",
       "      <td>0</td>\n",
       "      <td>0</td>\n",
       "      <td>0</td>\n",
       "      <td>3</td>\n",
       "      <td>11</td>\n",
       "      <td>1</td>\n",
       "    </tr>\n",
       "    <tr>\n",
       "      <th>1</th>\n",
       "      <td>2174</td>\n",
       "      <td>1954</td>\n",
       "      <td>Graduation</td>\n",
       "      <td>Single</td>\n",
       "      <td>46344.0000</td>\n",
       "      <td>1</td>\n",
       "      <td>1</td>\n",
       "      <td>2014-03-08</td>\n",
       "      <td>38</td>\n",
       "      <td>11</td>\n",
       "      <td>1</td>\n",
       "      <td>6</td>\n",
       "      <td>2</td>\n",
       "      <td>1</td>\n",
       "      <td>6</td>\n",
       "      <td>2</td>\n",
       "      <td>1</td>\n",
       "      <td>1</td>\n",
       "      <td>2</td>\n",
       "      <td>5</td>\n",
       "      <td>0</td>\n",
       "      <td>0</td>\n",
       "      <td>0</td>\n",
       "      <td>0</td>\n",
       "      <td>0</td>\n",
       "      <td>0</td>\n",
       "      <td>3</td>\n",
       "      <td>11</td>\n",
       "      <td>0</td>\n",
       "    </tr>\n",
       "    <tr>\n",
       "      <th>2</th>\n",
       "      <td>4141</td>\n",
       "      <td>1965</td>\n",
       "      <td>Graduation</td>\n",
       "      <td>Together</td>\n",
       "      <td>71613.0000</td>\n",
       "      <td>0</td>\n",
       "      <td>0</td>\n",
       "      <td>2013-08-21</td>\n",
       "      <td>26</td>\n",
       "      <td>426</td>\n",
       "      <td>49</td>\n",
       "      <td>127</td>\n",
       "      <td>111</td>\n",
       "      <td>21</td>\n",
       "      <td>42</td>\n",
       "      <td>1</td>\n",
       "      <td>8</td>\n",
       "      <td>2</td>\n",
       "      <td>10</td>\n",
       "      <td>4</td>\n",
       "      <td>0</td>\n",
       "      <td>0</td>\n",
       "      <td>0</td>\n",
       "      <td>0</td>\n",
       "      <td>0</td>\n",
       "      <td>0</td>\n",
       "      <td>3</td>\n",
       "      <td>11</td>\n",
       "      <td>0</td>\n",
       "    </tr>\n",
       "    <tr>\n",
       "      <th>3</th>\n",
       "      <td>6182</td>\n",
       "      <td>1984</td>\n",
       "      <td>Graduation</td>\n",
       "      <td>Together</td>\n",
       "      <td>26646.0000</td>\n",
       "      <td>1</td>\n",
       "      <td>0</td>\n",
       "      <td>2014-02-10</td>\n",
       "      <td>26</td>\n",
       "      <td>11</td>\n",
       "      <td>4</td>\n",
       "      <td>20</td>\n",
       "      <td>10</td>\n",
       "      <td>3</td>\n",
       "      <td>5</td>\n",
       "      <td>2</td>\n",
       "      <td>2</td>\n",
       "      <td>0</td>\n",
       "      <td>4</td>\n",
       "      <td>6</td>\n",
       "      <td>0</td>\n",
       "      <td>0</td>\n",
       "      <td>0</td>\n",
       "      <td>0</td>\n",
       "      <td>0</td>\n",
       "      <td>0</td>\n",
       "      <td>3</td>\n",
       "      <td>11</td>\n",
       "      <td>0</td>\n",
       "    </tr>\n",
       "    <tr>\n",
       "      <th>4</th>\n",
       "      <td>5324</td>\n",
       "      <td>1981</td>\n",
       "      <td>PhD</td>\n",
       "      <td>Married</td>\n",
       "      <td>58293.0000</td>\n",
       "      <td>1</td>\n",
       "      <td>0</td>\n",
       "      <td>2014-01-19</td>\n",
       "      <td>94</td>\n",
       "      <td>173</td>\n",
       "      <td>43</td>\n",
       "      <td>118</td>\n",
       "      <td>46</td>\n",
       "      <td>27</td>\n",
       "      <td>15</td>\n",
       "      <td>5</td>\n",
       "      <td>5</td>\n",
       "      <td>3</td>\n",
       "      <td>6</td>\n",
       "      <td>5</td>\n",
       "      <td>0</td>\n",
       "      <td>0</td>\n",
       "      <td>0</td>\n",
       "      <td>0</td>\n",
       "      <td>0</td>\n",
       "      <td>0</td>\n",
       "      <td>3</td>\n",
       "      <td>11</td>\n",
       "      <td>0</td>\n",
       "    </tr>\n",
       "  </tbody>\n",
       "</table>\n",
       "</div>"
      ],
      "text/plain": [
       "     ID  Year_Birth   Education Marital_Status     Income  Kidhome  Teenhome  \\\n",
       "0  5524        1957  Graduation         Single 58138.0000        0         0   \n",
       "1  2174        1954  Graduation         Single 46344.0000        1         1   \n",
       "2  4141        1965  Graduation       Together 71613.0000        0         0   \n",
       "3  6182        1984  Graduation       Together 26646.0000        1         0   \n",
       "4  5324        1981         PhD        Married 58293.0000        1         0   \n",
       "\n",
       "  Dt_Customer  Recency  MntWines  MntFruits  MntMeatProducts  MntFishProducts  \\\n",
       "0  2012-09-04       58       635         88              546              172   \n",
       "1  2014-03-08       38        11          1                6                2   \n",
       "2  2013-08-21       26       426         49              127              111   \n",
       "3  2014-02-10       26        11          4               20               10   \n",
       "4  2014-01-19       94       173         43              118               46   \n",
       "\n",
       "   MntSweetProducts  MntGoldProds  NumDealsPurchases  NumWebPurchases  \\\n",
       "0                88            88                  3                8   \n",
       "1                 1             6                  2                1   \n",
       "2                21            42                  1                8   \n",
       "3                 3             5                  2                2   \n",
       "4                27            15                  5                5   \n",
       "\n",
       "   NumCatalogPurchases  NumStorePurchases  NumWebVisitsMonth  AcceptedCmp3  \\\n",
       "0                   10                  4                  7             0   \n",
       "1                    1                  2                  5             0   \n",
       "2                    2                 10                  4             0   \n",
       "3                    0                  4                  6             0   \n",
       "4                    3                  6                  5             0   \n",
       "\n",
       "   AcceptedCmp4  AcceptedCmp5  AcceptedCmp1  AcceptedCmp2  Complain  \\\n",
       "0             0             0             0             0         0   \n",
       "1             0             0             0             0         0   \n",
       "2             0             0             0             0         0   \n",
       "3             0             0             0             0         0   \n",
       "4             0             0             0             0         0   \n",
       "\n",
       "   Z_CostContact  Z_Revenue  Response  \n",
       "0              3         11         1  \n",
       "1              3         11         0  \n",
       "2              3         11         0  \n",
       "3              3         11         0  \n",
       "4              3         11         0  "
      ]
     },
     "execution_count": 15,
     "metadata": {},
     "output_type": "execute_result"
    }
   ],
   "source": [
    "df.head()"
   ]
  },
  {
   "cell_type": "markdown",
   "id": "2d622c05",
   "metadata": {
    "papermill": {
     "duration": 0.017432,
     "end_time": "2023-10-15T18:29:25.021056",
     "exception": false,
     "start_time": "2023-10-15T18:29:25.003624",
     "status": "completed"
    },
    "tags": []
   },
   "source": [
    "* **Step - 3**"
   ]
  },
  {
   "cell_type": "code",
   "execution_count": 16,
   "id": "0ba94498",
   "metadata": {
    "execution": {
     "iopub.execute_input": "2023-10-15T18:29:25.057762Z",
     "iopub.status.busy": "2023-10-15T18:29:25.057191Z",
     "iopub.status.idle": "2023-10-15T18:29:25.068653Z",
     "shell.execute_reply": "2023-10-15T18:29:25.067352Z"
    },
    "papermill": {
     "duration": 0.032458,
     "end_time": "2023-10-15T18:29:25.071043",
     "exception": false,
     "start_time": "2023-10-15T18:29:25.038585",
     "status": "completed"
    },
    "tags": []
   },
   "outputs": [
    {
     "data": {
      "text/plain": [
       "ID                     2240\n",
       "Year_Birth               59\n",
       "Education                 5\n",
       "Marital_Status            8\n",
       "Income                 1975\n",
       "Kidhome                   3\n",
       "Teenhome                  3\n",
       "Dt_Customer             663\n",
       "Recency                 100\n",
       "MntWines                776\n",
       "MntFruits               158\n",
       "MntMeatProducts         558\n",
       "MntFishProducts         182\n",
       "MntSweetProducts        177\n",
       "MntGoldProds            213\n",
       "NumDealsPurchases        15\n",
       "NumWebPurchases          15\n",
       "NumCatalogPurchases      14\n",
       "NumStorePurchases        14\n",
       "NumWebVisitsMonth        16\n",
       "AcceptedCmp3              2\n",
       "AcceptedCmp4              2\n",
       "AcceptedCmp5              2\n",
       "AcceptedCmp1              2\n",
       "AcceptedCmp2              2\n",
       "Complain                  2\n",
       "Z_CostContact             1\n",
       "Z_Revenue                 1\n",
       "Response                  2\n",
       "dtype: int64"
      ]
     },
     "execution_count": 16,
     "metadata": {},
     "output_type": "execute_result"
    }
   ],
   "source": [
    "df.nunique()"
   ]
  },
  {
   "cell_type": "code",
   "execution_count": 17,
   "id": "e71a7578",
   "metadata": {
    "execution": {
     "iopub.execute_input": "2023-10-15T18:29:25.111284Z",
     "iopub.status.busy": "2023-10-15T18:29:25.110884Z",
     "iopub.status.idle": "2023-10-15T18:29:25.121802Z",
     "shell.execute_reply": "2023-10-15T18:29:25.120449Z"
    },
    "papermill": {
     "duration": 0.035076,
     "end_time": "2023-10-15T18:29:25.124574",
     "exception": false,
     "start_time": "2023-10-15T18:29:25.089498",
     "status": "completed"
    },
    "tags": []
   },
   "outputs": [],
   "source": [
    "df = df.drop(columns = [\"Z_CostContact\", \"Z_Revenue\"],axis=1)"
   ]
  },
  {
   "cell_type": "markdown",
   "id": "f49585bf",
   "metadata": {
    "papermill": {
     "duration": 0.01773,
     "end_time": "2023-10-15T18:29:25.162411",
     "exception": false,
     "start_time": "2023-10-15T18:29:25.144681",
     "status": "completed"
    },
    "tags": []
   },
   "source": [
    "* **Step - 4**"
   ]
  },
  {
   "cell_type": "code",
   "execution_count": 18,
   "id": "1767ce90",
   "metadata": {
    "execution": {
     "iopub.execute_input": "2023-10-15T18:29:25.201065Z",
     "iopub.status.busy": "2023-10-15T18:29:25.200694Z",
     "iopub.status.idle": "2023-10-15T18:29:25.208895Z",
     "shell.execute_reply": "2023-10-15T18:29:25.207513Z"
    },
    "papermill": {
     "duration": 0.030436,
     "end_time": "2023-10-15T18:29:25.211289",
     "exception": false,
     "start_time": "2023-10-15T18:29:25.180853",
     "status": "completed"
    },
    "tags": []
   },
   "outputs": [],
   "source": [
    "df[\"monetary\"] = df.loc[:,df.columns.str.contains(\"Mnt\")].sum(axis=1)"
   ]
  },
  {
   "cell_type": "code",
   "execution_count": 19,
   "id": "2ee2f1da",
   "metadata": {
    "execution": {
     "iopub.execute_input": "2023-10-15T18:29:25.249264Z",
     "iopub.status.busy": "2023-10-15T18:29:25.248515Z",
     "iopub.status.idle": "2023-10-15T18:29:25.266710Z",
     "shell.execute_reply": "2023-10-15T18:29:25.265541Z"
    },
    "papermill": {
     "duration": 0.039871,
     "end_time": "2023-10-15T18:29:25.268828",
     "exception": false,
     "start_time": "2023-10-15T18:29:25.228957",
     "status": "completed"
    },
    "tags": []
   },
   "outputs": [
    {
     "data": {
      "text/html": [
       "<div>\n",
       "<style scoped>\n",
       "    .dataframe tbody tr th:only-of-type {\n",
       "        vertical-align: middle;\n",
       "    }\n",
       "\n",
       "    .dataframe tbody tr th {\n",
       "        vertical-align: top;\n",
       "    }\n",
       "\n",
       "    .dataframe thead th {\n",
       "        text-align: right;\n",
       "    }\n",
       "</style>\n",
       "<table border=\"1\" class=\"dataframe\">\n",
       "  <thead>\n",
       "    <tr style=\"text-align: right;\">\n",
       "      <th></th>\n",
       "      <th>ID</th>\n",
       "      <th>Year_Birth</th>\n",
       "      <th>Education</th>\n",
       "      <th>Marital_Status</th>\n",
       "      <th>Income</th>\n",
       "      <th>Kidhome</th>\n",
       "      <th>Teenhome</th>\n",
       "      <th>Dt_Customer</th>\n",
       "      <th>Recency</th>\n",
       "      <th>MntWines</th>\n",
       "      <th>MntFruits</th>\n",
       "      <th>MntMeatProducts</th>\n",
       "      <th>MntFishProducts</th>\n",
       "      <th>MntSweetProducts</th>\n",
       "      <th>MntGoldProds</th>\n",
       "      <th>NumDealsPurchases</th>\n",
       "      <th>NumWebPurchases</th>\n",
       "      <th>NumCatalogPurchases</th>\n",
       "      <th>NumStorePurchases</th>\n",
       "      <th>NumWebVisitsMonth</th>\n",
       "      <th>AcceptedCmp3</th>\n",
       "      <th>AcceptedCmp4</th>\n",
       "      <th>AcceptedCmp5</th>\n",
       "      <th>AcceptedCmp1</th>\n",
       "      <th>AcceptedCmp2</th>\n",
       "      <th>Complain</th>\n",
       "      <th>Response</th>\n",
       "      <th>monetary</th>\n",
       "    </tr>\n",
       "  </thead>\n",
       "  <tbody>\n",
       "    <tr>\n",
       "      <th>0</th>\n",
       "      <td>5524</td>\n",
       "      <td>1957</td>\n",
       "      <td>Graduation</td>\n",
       "      <td>Single</td>\n",
       "      <td>58138.0000</td>\n",
       "      <td>0</td>\n",
       "      <td>0</td>\n",
       "      <td>2012-09-04</td>\n",
       "      <td>58</td>\n",
       "      <td>635</td>\n",
       "      <td>88</td>\n",
       "      <td>546</td>\n",
       "      <td>172</td>\n",
       "      <td>88</td>\n",
       "      <td>88</td>\n",
       "      <td>3</td>\n",
       "      <td>8</td>\n",
       "      <td>10</td>\n",
       "      <td>4</td>\n",
       "      <td>7</td>\n",
       "      <td>0</td>\n",
       "      <td>0</td>\n",
       "      <td>0</td>\n",
       "      <td>0</td>\n",
       "      <td>0</td>\n",
       "      <td>0</td>\n",
       "      <td>1</td>\n",
       "      <td>1617</td>\n",
       "    </tr>\n",
       "    <tr>\n",
       "      <th>1</th>\n",
       "      <td>2174</td>\n",
       "      <td>1954</td>\n",
       "      <td>Graduation</td>\n",
       "      <td>Single</td>\n",
       "      <td>46344.0000</td>\n",
       "      <td>1</td>\n",
       "      <td>1</td>\n",
       "      <td>2014-03-08</td>\n",
       "      <td>38</td>\n",
       "      <td>11</td>\n",
       "      <td>1</td>\n",
       "      <td>6</td>\n",
       "      <td>2</td>\n",
       "      <td>1</td>\n",
       "      <td>6</td>\n",
       "      <td>2</td>\n",
       "      <td>1</td>\n",
       "      <td>1</td>\n",
       "      <td>2</td>\n",
       "      <td>5</td>\n",
       "      <td>0</td>\n",
       "      <td>0</td>\n",
       "      <td>0</td>\n",
       "      <td>0</td>\n",
       "      <td>0</td>\n",
       "      <td>0</td>\n",
       "      <td>0</td>\n",
       "      <td>27</td>\n",
       "    </tr>\n",
       "    <tr>\n",
       "      <th>2</th>\n",
       "      <td>4141</td>\n",
       "      <td>1965</td>\n",
       "      <td>Graduation</td>\n",
       "      <td>Together</td>\n",
       "      <td>71613.0000</td>\n",
       "      <td>0</td>\n",
       "      <td>0</td>\n",
       "      <td>2013-08-21</td>\n",
       "      <td>26</td>\n",
       "      <td>426</td>\n",
       "      <td>49</td>\n",
       "      <td>127</td>\n",
       "      <td>111</td>\n",
       "      <td>21</td>\n",
       "      <td>42</td>\n",
       "      <td>1</td>\n",
       "      <td>8</td>\n",
       "      <td>2</td>\n",
       "      <td>10</td>\n",
       "      <td>4</td>\n",
       "      <td>0</td>\n",
       "      <td>0</td>\n",
       "      <td>0</td>\n",
       "      <td>0</td>\n",
       "      <td>0</td>\n",
       "      <td>0</td>\n",
       "      <td>0</td>\n",
       "      <td>776</td>\n",
       "    </tr>\n",
       "    <tr>\n",
       "      <th>3</th>\n",
       "      <td>6182</td>\n",
       "      <td>1984</td>\n",
       "      <td>Graduation</td>\n",
       "      <td>Together</td>\n",
       "      <td>26646.0000</td>\n",
       "      <td>1</td>\n",
       "      <td>0</td>\n",
       "      <td>2014-02-10</td>\n",
       "      <td>26</td>\n",
       "      <td>11</td>\n",
       "      <td>4</td>\n",
       "      <td>20</td>\n",
       "      <td>10</td>\n",
       "      <td>3</td>\n",
       "      <td>5</td>\n",
       "      <td>2</td>\n",
       "      <td>2</td>\n",
       "      <td>0</td>\n",
       "      <td>4</td>\n",
       "      <td>6</td>\n",
       "      <td>0</td>\n",
       "      <td>0</td>\n",
       "      <td>0</td>\n",
       "      <td>0</td>\n",
       "      <td>0</td>\n",
       "      <td>0</td>\n",
       "      <td>0</td>\n",
       "      <td>53</td>\n",
       "    </tr>\n",
       "    <tr>\n",
       "      <th>4</th>\n",
       "      <td>5324</td>\n",
       "      <td>1981</td>\n",
       "      <td>PhD</td>\n",
       "      <td>Married</td>\n",
       "      <td>58293.0000</td>\n",
       "      <td>1</td>\n",
       "      <td>0</td>\n",
       "      <td>2014-01-19</td>\n",
       "      <td>94</td>\n",
       "      <td>173</td>\n",
       "      <td>43</td>\n",
       "      <td>118</td>\n",
       "      <td>46</td>\n",
       "      <td>27</td>\n",
       "      <td>15</td>\n",
       "      <td>5</td>\n",
       "      <td>5</td>\n",
       "      <td>3</td>\n",
       "      <td>6</td>\n",
       "      <td>5</td>\n",
       "      <td>0</td>\n",
       "      <td>0</td>\n",
       "      <td>0</td>\n",
       "      <td>0</td>\n",
       "      <td>0</td>\n",
       "      <td>0</td>\n",
       "      <td>0</td>\n",
       "      <td>422</td>\n",
       "    </tr>\n",
       "  </tbody>\n",
       "</table>\n",
       "</div>"
      ],
      "text/plain": [
       "     ID  Year_Birth   Education Marital_Status     Income  Kidhome  Teenhome  \\\n",
       "0  5524        1957  Graduation         Single 58138.0000        0         0   \n",
       "1  2174        1954  Graduation         Single 46344.0000        1         1   \n",
       "2  4141        1965  Graduation       Together 71613.0000        0         0   \n",
       "3  6182        1984  Graduation       Together 26646.0000        1         0   \n",
       "4  5324        1981         PhD        Married 58293.0000        1         0   \n",
       "\n",
       "  Dt_Customer  Recency  MntWines  MntFruits  MntMeatProducts  MntFishProducts  \\\n",
       "0  2012-09-04       58       635         88              546              172   \n",
       "1  2014-03-08       38        11          1                6                2   \n",
       "2  2013-08-21       26       426         49              127              111   \n",
       "3  2014-02-10       26        11          4               20               10   \n",
       "4  2014-01-19       94       173         43              118               46   \n",
       "\n",
       "   MntSweetProducts  MntGoldProds  NumDealsPurchases  NumWebPurchases  \\\n",
       "0                88            88                  3                8   \n",
       "1                 1             6                  2                1   \n",
       "2                21            42                  1                8   \n",
       "3                 3             5                  2                2   \n",
       "4                27            15                  5                5   \n",
       "\n",
       "   NumCatalogPurchases  NumStorePurchases  NumWebVisitsMonth  AcceptedCmp3  \\\n",
       "0                   10                  4                  7             0   \n",
       "1                    1                  2                  5             0   \n",
       "2                    2                 10                  4             0   \n",
       "3                    0                  4                  6             0   \n",
       "4                    3                  6                  5             0   \n",
       "\n",
       "   AcceptedCmp4  AcceptedCmp5  AcceptedCmp1  AcceptedCmp2  Complain  Response  \\\n",
       "0             0             0             0             0         0         1   \n",
       "1             0             0             0             0         0         0   \n",
       "2             0             0             0             0         0         0   \n",
       "3             0             0             0             0         0         0   \n",
       "4             0             0             0             0         0         0   \n",
       "\n",
       "   monetary  \n",
       "0      1617  \n",
       "1        27  \n",
       "2       776  \n",
       "3        53  \n",
       "4       422  "
      ]
     },
     "execution_count": 19,
     "metadata": {},
     "output_type": "execute_result"
    }
   ],
   "source": [
    "df.head()"
   ]
  },
  {
   "cell_type": "markdown",
   "id": "011f7e40",
   "metadata": {
    "papermill": {
     "duration": 0.017626,
     "end_time": "2023-10-15T18:29:25.304657",
     "exception": false,
     "start_time": "2023-10-15T18:29:25.287031",
     "status": "completed"
    },
    "tags": []
   },
   "source": [
    "* **Step - 5**"
   ]
  },
  {
   "cell_type": "code",
   "execution_count": 20,
   "id": "ff601e53",
   "metadata": {
    "execution": {
     "iopub.execute_input": "2023-10-15T18:29:25.342889Z",
     "iopub.status.busy": "2023-10-15T18:29:25.341962Z",
     "iopub.status.idle": "2023-10-15T18:29:25.350335Z",
     "shell.execute_reply": "2023-10-15T18:29:25.349304Z"
    },
    "papermill": {
     "duration": 0.029733,
     "end_time": "2023-10-15T18:29:25.352514",
     "exception": false,
     "start_time": "2023-10-15T18:29:25.322781",
     "status": "completed"
    },
    "tags": []
   },
   "outputs": [],
   "source": [
    "df[\"frequency\"] = df.loc[:,df.columns.str.contains(\"Purchases\")].sum(axis=1)"
   ]
  },
  {
   "cell_type": "code",
   "execution_count": 21,
   "id": "36e16a77",
   "metadata": {
    "execution": {
     "iopub.execute_input": "2023-10-15T18:29:25.390639Z",
     "iopub.status.busy": "2023-10-15T18:29:25.390300Z",
     "iopub.status.idle": "2023-10-15T18:29:25.407927Z",
     "shell.execute_reply": "2023-10-15T18:29:25.406937Z"
    },
    "papermill": {
     "duration": 0.038995,
     "end_time": "2023-10-15T18:29:25.410101",
     "exception": false,
     "start_time": "2023-10-15T18:29:25.371106",
     "status": "completed"
    },
    "tags": []
   },
   "outputs": [
    {
     "data": {
      "text/html": [
       "<div>\n",
       "<style scoped>\n",
       "    .dataframe tbody tr th:only-of-type {\n",
       "        vertical-align: middle;\n",
       "    }\n",
       "\n",
       "    .dataframe tbody tr th {\n",
       "        vertical-align: top;\n",
       "    }\n",
       "\n",
       "    .dataframe thead th {\n",
       "        text-align: right;\n",
       "    }\n",
       "</style>\n",
       "<table border=\"1\" class=\"dataframe\">\n",
       "  <thead>\n",
       "    <tr style=\"text-align: right;\">\n",
       "      <th></th>\n",
       "      <th>ID</th>\n",
       "      <th>Year_Birth</th>\n",
       "      <th>Education</th>\n",
       "      <th>Marital_Status</th>\n",
       "      <th>Income</th>\n",
       "      <th>Kidhome</th>\n",
       "      <th>Teenhome</th>\n",
       "      <th>Dt_Customer</th>\n",
       "      <th>Recency</th>\n",
       "      <th>MntWines</th>\n",
       "      <th>MntFruits</th>\n",
       "      <th>MntMeatProducts</th>\n",
       "      <th>MntFishProducts</th>\n",
       "      <th>MntSweetProducts</th>\n",
       "      <th>MntGoldProds</th>\n",
       "      <th>NumDealsPurchases</th>\n",
       "      <th>NumWebPurchases</th>\n",
       "      <th>NumCatalogPurchases</th>\n",
       "      <th>NumStorePurchases</th>\n",
       "      <th>NumWebVisitsMonth</th>\n",
       "      <th>AcceptedCmp3</th>\n",
       "      <th>AcceptedCmp4</th>\n",
       "      <th>AcceptedCmp5</th>\n",
       "      <th>AcceptedCmp1</th>\n",
       "      <th>AcceptedCmp2</th>\n",
       "      <th>Complain</th>\n",
       "      <th>Response</th>\n",
       "      <th>monetary</th>\n",
       "      <th>frequency</th>\n",
       "    </tr>\n",
       "  </thead>\n",
       "  <tbody>\n",
       "    <tr>\n",
       "      <th>0</th>\n",
       "      <td>5524</td>\n",
       "      <td>1957</td>\n",
       "      <td>Graduation</td>\n",
       "      <td>Single</td>\n",
       "      <td>58138.0000</td>\n",
       "      <td>0</td>\n",
       "      <td>0</td>\n",
       "      <td>2012-09-04</td>\n",
       "      <td>58</td>\n",
       "      <td>635</td>\n",
       "      <td>88</td>\n",
       "      <td>546</td>\n",
       "      <td>172</td>\n",
       "      <td>88</td>\n",
       "      <td>88</td>\n",
       "      <td>3</td>\n",
       "      <td>8</td>\n",
       "      <td>10</td>\n",
       "      <td>4</td>\n",
       "      <td>7</td>\n",
       "      <td>0</td>\n",
       "      <td>0</td>\n",
       "      <td>0</td>\n",
       "      <td>0</td>\n",
       "      <td>0</td>\n",
       "      <td>0</td>\n",
       "      <td>1</td>\n",
       "      <td>1617</td>\n",
       "      <td>25</td>\n",
       "    </tr>\n",
       "    <tr>\n",
       "      <th>1</th>\n",
       "      <td>2174</td>\n",
       "      <td>1954</td>\n",
       "      <td>Graduation</td>\n",
       "      <td>Single</td>\n",
       "      <td>46344.0000</td>\n",
       "      <td>1</td>\n",
       "      <td>1</td>\n",
       "      <td>2014-03-08</td>\n",
       "      <td>38</td>\n",
       "      <td>11</td>\n",
       "      <td>1</td>\n",
       "      <td>6</td>\n",
       "      <td>2</td>\n",
       "      <td>1</td>\n",
       "      <td>6</td>\n",
       "      <td>2</td>\n",
       "      <td>1</td>\n",
       "      <td>1</td>\n",
       "      <td>2</td>\n",
       "      <td>5</td>\n",
       "      <td>0</td>\n",
       "      <td>0</td>\n",
       "      <td>0</td>\n",
       "      <td>0</td>\n",
       "      <td>0</td>\n",
       "      <td>0</td>\n",
       "      <td>0</td>\n",
       "      <td>27</td>\n",
       "      <td>6</td>\n",
       "    </tr>\n",
       "    <tr>\n",
       "      <th>2</th>\n",
       "      <td>4141</td>\n",
       "      <td>1965</td>\n",
       "      <td>Graduation</td>\n",
       "      <td>Together</td>\n",
       "      <td>71613.0000</td>\n",
       "      <td>0</td>\n",
       "      <td>0</td>\n",
       "      <td>2013-08-21</td>\n",
       "      <td>26</td>\n",
       "      <td>426</td>\n",
       "      <td>49</td>\n",
       "      <td>127</td>\n",
       "      <td>111</td>\n",
       "      <td>21</td>\n",
       "      <td>42</td>\n",
       "      <td>1</td>\n",
       "      <td>8</td>\n",
       "      <td>2</td>\n",
       "      <td>10</td>\n",
       "      <td>4</td>\n",
       "      <td>0</td>\n",
       "      <td>0</td>\n",
       "      <td>0</td>\n",
       "      <td>0</td>\n",
       "      <td>0</td>\n",
       "      <td>0</td>\n",
       "      <td>0</td>\n",
       "      <td>776</td>\n",
       "      <td>21</td>\n",
       "    </tr>\n",
       "    <tr>\n",
       "      <th>3</th>\n",
       "      <td>6182</td>\n",
       "      <td>1984</td>\n",
       "      <td>Graduation</td>\n",
       "      <td>Together</td>\n",
       "      <td>26646.0000</td>\n",
       "      <td>1</td>\n",
       "      <td>0</td>\n",
       "      <td>2014-02-10</td>\n",
       "      <td>26</td>\n",
       "      <td>11</td>\n",
       "      <td>4</td>\n",
       "      <td>20</td>\n",
       "      <td>10</td>\n",
       "      <td>3</td>\n",
       "      <td>5</td>\n",
       "      <td>2</td>\n",
       "      <td>2</td>\n",
       "      <td>0</td>\n",
       "      <td>4</td>\n",
       "      <td>6</td>\n",
       "      <td>0</td>\n",
       "      <td>0</td>\n",
       "      <td>0</td>\n",
       "      <td>0</td>\n",
       "      <td>0</td>\n",
       "      <td>0</td>\n",
       "      <td>0</td>\n",
       "      <td>53</td>\n",
       "      <td>8</td>\n",
       "    </tr>\n",
       "    <tr>\n",
       "      <th>4</th>\n",
       "      <td>5324</td>\n",
       "      <td>1981</td>\n",
       "      <td>PhD</td>\n",
       "      <td>Married</td>\n",
       "      <td>58293.0000</td>\n",
       "      <td>1</td>\n",
       "      <td>0</td>\n",
       "      <td>2014-01-19</td>\n",
       "      <td>94</td>\n",
       "      <td>173</td>\n",
       "      <td>43</td>\n",
       "      <td>118</td>\n",
       "      <td>46</td>\n",
       "      <td>27</td>\n",
       "      <td>15</td>\n",
       "      <td>5</td>\n",
       "      <td>5</td>\n",
       "      <td>3</td>\n",
       "      <td>6</td>\n",
       "      <td>5</td>\n",
       "      <td>0</td>\n",
       "      <td>0</td>\n",
       "      <td>0</td>\n",
       "      <td>0</td>\n",
       "      <td>0</td>\n",
       "      <td>0</td>\n",
       "      <td>0</td>\n",
       "      <td>422</td>\n",
       "      <td>19</td>\n",
       "    </tr>\n",
       "  </tbody>\n",
       "</table>\n",
       "</div>"
      ],
      "text/plain": [
       "     ID  Year_Birth   Education Marital_Status     Income  Kidhome  Teenhome  \\\n",
       "0  5524        1957  Graduation         Single 58138.0000        0         0   \n",
       "1  2174        1954  Graduation         Single 46344.0000        1         1   \n",
       "2  4141        1965  Graduation       Together 71613.0000        0         0   \n",
       "3  6182        1984  Graduation       Together 26646.0000        1         0   \n",
       "4  5324        1981         PhD        Married 58293.0000        1         0   \n",
       "\n",
       "  Dt_Customer  Recency  MntWines  MntFruits  MntMeatProducts  MntFishProducts  \\\n",
       "0  2012-09-04       58       635         88              546              172   \n",
       "1  2014-03-08       38        11          1                6                2   \n",
       "2  2013-08-21       26       426         49              127              111   \n",
       "3  2014-02-10       26        11          4               20               10   \n",
       "4  2014-01-19       94       173         43              118               46   \n",
       "\n",
       "   MntSweetProducts  MntGoldProds  NumDealsPurchases  NumWebPurchases  \\\n",
       "0                88            88                  3                8   \n",
       "1                 1             6                  2                1   \n",
       "2                21            42                  1                8   \n",
       "3                 3             5                  2                2   \n",
       "4                27            15                  5                5   \n",
       "\n",
       "   NumCatalogPurchases  NumStorePurchases  NumWebVisitsMonth  AcceptedCmp3  \\\n",
       "0                   10                  4                  7             0   \n",
       "1                    1                  2                  5             0   \n",
       "2                    2                 10                  4             0   \n",
       "3                    0                  4                  6             0   \n",
       "4                    3                  6                  5             0   \n",
       "\n",
       "   AcceptedCmp4  AcceptedCmp5  AcceptedCmp1  AcceptedCmp2  Complain  Response  \\\n",
       "0             0             0             0             0         0         1   \n",
       "1             0             0             0             0         0         0   \n",
       "2             0             0             0             0         0         0   \n",
       "3             0             0             0             0         0         0   \n",
       "4             0             0             0             0         0         0   \n",
       "\n",
       "   monetary  frequency  \n",
       "0      1617         25  \n",
       "1        27          6  \n",
       "2       776         21  \n",
       "3        53          8  \n",
       "4       422         19  "
      ]
     },
     "execution_count": 21,
     "metadata": {},
     "output_type": "execute_result"
    }
   ],
   "source": [
    "df.head()"
   ]
  },
  {
   "cell_type": "markdown",
   "id": "f29e53c2",
   "metadata": {
    "papermill": {
     "duration": 0.018042,
     "end_time": "2023-10-15T18:29:25.448748",
     "exception": false,
     "start_time": "2023-10-15T18:29:25.430706",
     "status": "completed"
    },
    "tags": []
   },
   "source": [
    "<div style=\"border-radius:10px; border:#DEB887 solid; padding: 15px; background-color: #FFFAF0; font-size:100%; text-align:left\">\n",
    "\n",
    "<h3 align=\"left\"><font color='#DEB887'>💡 Steps what we did: </font></h3>\n",
    "\n",
    "1. We replaced missing values in the \"Income\" column with median values.\n",
    "2. We changed the data type of the 'Dt_Customer' column to 'datetime'.\n",
    "3. We removed the \"Z_CostContact\" and \"Z_Revenue\" columns as they contained the same value in all rows, rendering the data meaningless.\n",
    "4. We aggregated the data from various columns related to the amount spent and consolidated it into a new column called \"monetary.\"\n",
    "5. We combined the data from multiple columns related to transaction amounts and created a new column named \"frequency.\""
   ]
  },
  {
   "cell_type": "markdown",
   "id": "9258a753",
   "metadata": {
    "papermill": {
     "duration": 0.017859,
     "end_time": "2023-10-15T18:29:25.484866",
     "exception": false,
     "start_time": "2023-10-15T18:29:25.467007",
     "status": "completed"
    },
    "tags": []
   },
   "source": [
    "# **<center><span style=\"color:#f6a6b2;font-family:cursive;font-size:125%;border-bottom: 3px solid\">RFM Analysis</span></center>**\n",
    "----"
   ]
  },
  {
   "cell_type": "markdown",
   "id": "f0950953",
   "metadata": {
    "papermill": {
     "duration": 0.017778,
     "end_time": "2023-10-15T18:29:25.520916",
     "exception": false,
     "start_time": "2023-10-15T18:29:25.503138",
     "status": "completed"
    },
    "tags": []
   },
   "source": [
    "<div style=\"border-radius:10px; border:#DEB887 solid; padding: 15px; background-color: #FFFAF0; font-size:100%; text-align:left\">\n",
    "\n",
    "<h3 align=\"left\"><font color='#DEB887'>💡 RFM Metrics: </font></h3>\n",
    "    \n",
    "1. **Recency**: refers to the newness of the customer. (Date of analysis - Date of last purchase by the customer)\n",
    "1. **Frequency**: is the total purchase value made by the customer.\n",
    "1. **Monetary**: It is the total money left by the customer as a result of the total purchases he made."
   ]
  },
  {
   "cell_type": "code",
   "execution_count": 22,
   "id": "5a9dd34a",
   "metadata": {
    "execution": {
     "iopub.execute_input": "2023-10-15T18:29:25.559543Z",
     "iopub.status.busy": "2023-10-15T18:29:25.559221Z",
     "iopub.status.idle": "2023-10-15T18:29:25.564906Z",
     "shell.execute_reply": "2023-10-15T18:29:25.563954Z"
    },
    "papermill": {
     "duration": 0.027233,
     "end_time": "2023-10-15T18:29:25.566929",
     "exception": false,
     "start_time": "2023-10-15T18:29:25.539696",
     "status": "completed"
    },
    "tags": []
   },
   "outputs": [],
   "source": [
    "rfm = df[[\"ID\",\"Recency\",\"frequency\",\"monetary\"]]"
   ]
  },
  {
   "cell_type": "code",
   "execution_count": 23,
   "id": "68a5e301",
   "metadata": {
    "execution": {
     "iopub.execute_input": "2023-10-15T18:29:25.605347Z",
     "iopub.status.busy": "2023-10-15T18:29:25.604966Z",
     "iopub.status.idle": "2023-10-15T18:29:25.613968Z",
     "shell.execute_reply": "2023-10-15T18:29:25.612816Z"
    },
    "papermill": {
     "duration": 0.030996,
     "end_time": "2023-10-15T18:29:25.616390",
     "exception": false,
     "start_time": "2023-10-15T18:29:25.585394",
     "status": "completed"
    },
    "tags": []
   },
   "outputs": [
    {
     "data": {
      "text/html": [
       "<div>\n",
       "<style scoped>\n",
       "    .dataframe tbody tr th:only-of-type {\n",
       "        vertical-align: middle;\n",
       "    }\n",
       "\n",
       "    .dataframe tbody tr th {\n",
       "        vertical-align: top;\n",
       "    }\n",
       "\n",
       "    .dataframe thead th {\n",
       "        text-align: right;\n",
       "    }\n",
       "</style>\n",
       "<table border=\"1\" class=\"dataframe\">\n",
       "  <thead>\n",
       "    <tr style=\"text-align: right;\">\n",
       "      <th></th>\n",
       "      <th>ID</th>\n",
       "      <th>Recency</th>\n",
       "      <th>frequency</th>\n",
       "      <th>monetary</th>\n",
       "    </tr>\n",
       "  </thead>\n",
       "  <tbody>\n",
       "    <tr>\n",
       "      <th>0</th>\n",
       "      <td>5524</td>\n",
       "      <td>58</td>\n",
       "      <td>25</td>\n",
       "      <td>1617</td>\n",
       "    </tr>\n",
       "    <tr>\n",
       "      <th>1</th>\n",
       "      <td>2174</td>\n",
       "      <td>38</td>\n",
       "      <td>6</td>\n",
       "      <td>27</td>\n",
       "    </tr>\n",
       "    <tr>\n",
       "      <th>2</th>\n",
       "      <td>4141</td>\n",
       "      <td>26</td>\n",
       "      <td>21</td>\n",
       "      <td>776</td>\n",
       "    </tr>\n",
       "    <tr>\n",
       "      <th>3</th>\n",
       "      <td>6182</td>\n",
       "      <td>26</td>\n",
       "      <td>8</td>\n",
       "      <td>53</td>\n",
       "    </tr>\n",
       "    <tr>\n",
       "      <th>4</th>\n",
       "      <td>5324</td>\n",
       "      <td>94</td>\n",
       "      <td>19</td>\n",
       "      <td>422</td>\n",
       "    </tr>\n",
       "  </tbody>\n",
       "</table>\n",
       "</div>"
      ],
      "text/plain": [
       "     ID  Recency  frequency  monetary\n",
       "0  5524       58         25      1617\n",
       "1  2174       38          6        27\n",
       "2  4141       26         21       776\n",
       "3  6182       26          8        53\n",
       "4  5324       94         19       422"
      ]
     },
     "execution_count": 23,
     "metadata": {},
     "output_type": "execute_result"
    }
   ],
   "source": [
    "rfm.head()"
   ]
  },
  {
   "cell_type": "code",
   "execution_count": 24,
   "id": "ec2f395d",
   "metadata": {
    "execution": {
     "iopub.execute_input": "2023-10-15T18:29:25.654997Z",
     "iopub.status.busy": "2023-10-15T18:29:25.654651Z",
     "iopub.status.idle": "2023-10-15T18:29:25.676443Z",
     "shell.execute_reply": "2023-10-15T18:29:25.675337Z"
    },
    "papermill": {
     "duration": 0.043797,
     "end_time": "2023-10-15T18:29:25.678801",
     "exception": false,
     "start_time": "2023-10-15T18:29:25.635004",
     "status": "completed"
    },
    "tags": []
   },
   "outputs": [
    {
     "data": {
      "text/html": [
       "<div>\n",
       "<style scoped>\n",
       "    .dataframe tbody tr th:only-of-type {\n",
       "        vertical-align: middle;\n",
       "    }\n",
       "\n",
       "    .dataframe tbody tr th {\n",
       "        vertical-align: top;\n",
       "    }\n",
       "\n",
       "    .dataframe thead th {\n",
       "        text-align: right;\n",
       "    }\n",
       "</style>\n",
       "<table border=\"1\" class=\"dataframe\">\n",
       "  <thead>\n",
       "    <tr style=\"text-align: right;\">\n",
       "      <th></th>\n",
       "      <th>count</th>\n",
       "      <th>mean</th>\n",
       "      <th>std</th>\n",
       "      <th>min</th>\n",
       "      <th>25%</th>\n",
       "      <th>50%</th>\n",
       "      <th>75%</th>\n",
       "      <th>max</th>\n",
       "    </tr>\n",
       "  </thead>\n",
       "  <tbody>\n",
       "    <tr>\n",
       "      <th>ID</th>\n",
       "      <td>2240.0000</td>\n",
       "      <td>5592.1598</td>\n",
       "      <td>3246.6622</td>\n",
       "      <td>0.0000</td>\n",
       "      <td>2828.2500</td>\n",
       "      <td>5458.5000</td>\n",
       "      <td>8427.7500</td>\n",
       "      <td>11191.0000</td>\n",
       "    </tr>\n",
       "    <tr>\n",
       "      <th>Recency</th>\n",
       "      <td>2240.0000</td>\n",
       "      <td>49.1094</td>\n",
       "      <td>28.9625</td>\n",
       "      <td>0.0000</td>\n",
       "      <td>24.0000</td>\n",
       "      <td>49.0000</td>\n",
       "      <td>74.0000</td>\n",
       "      <td>99.0000</td>\n",
       "    </tr>\n",
       "    <tr>\n",
       "      <th>frequency</th>\n",
       "      <td>2240.0000</td>\n",
       "      <td>14.8621</td>\n",
       "      <td>7.6772</td>\n",
       "      <td>0.0000</td>\n",
       "      <td>8.0000</td>\n",
       "      <td>15.0000</td>\n",
       "      <td>21.0000</td>\n",
       "      <td>44.0000</td>\n",
       "    </tr>\n",
       "    <tr>\n",
       "      <th>monetary</th>\n",
       "      <td>2240.0000</td>\n",
       "      <td>605.7982</td>\n",
       "      <td>602.2493</td>\n",
       "      <td>5.0000</td>\n",
       "      <td>68.7500</td>\n",
       "      <td>396.0000</td>\n",
       "      <td>1045.5000</td>\n",
       "      <td>2525.0000</td>\n",
       "    </tr>\n",
       "  </tbody>\n",
       "</table>\n",
       "</div>"
      ],
      "text/plain": [
       "              count      mean       std    min       25%       50%       75%  \\\n",
       "ID        2240.0000 5592.1598 3246.6622 0.0000 2828.2500 5458.5000 8427.7500   \n",
       "Recency   2240.0000   49.1094   28.9625 0.0000   24.0000   49.0000   74.0000   \n",
       "frequency 2240.0000   14.8621    7.6772 0.0000    8.0000   15.0000   21.0000   \n",
       "monetary  2240.0000  605.7982  602.2493 5.0000   68.7500  396.0000 1045.5000   \n",
       "\n",
       "                 max  \n",
       "ID        11191.0000  \n",
       "Recency      99.0000  \n",
       "frequency    44.0000  \n",
       "monetary   2525.0000  "
      ]
     },
     "execution_count": 24,
     "metadata": {},
     "output_type": "execute_result"
    }
   ],
   "source": [
    "rfm.describe().T"
   ]
  },
  {
   "cell_type": "markdown",
   "id": "ca62bf09",
   "metadata": {
    "papermill": {
     "duration": 0.018957,
     "end_time": "2023-10-15T18:29:25.716461",
     "exception": false,
     "start_time": "2023-10-15T18:29:25.697504",
     "status": "completed"
    },
    "tags": []
   },
   "source": [
    "<div style=\"border-radius:10px; border:#DEB887 solid; padding: 15px; background-color: #FFFAF0; font-size:100%; text-align:left\">\n",
    "\n",
    "<h3 align=\"left\"><font color='#DEB887'>💡 Notes: </font></h3>\n",
    "    \n",
    "* As evident, both 'recency' and 'frequency' have minimum values of zero. Nevertheless, these metrics should not have zero values, necessitating the need for adjustments."
   ]
  },
  {
   "cell_type": "code",
   "execution_count": 25,
   "id": "ea9c176c",
   "metadata": {
    "execution": {
     "iopub.execute_input": "2023-10-15T18:29:25.757608Z",
     "iopub.status.busy": "2023-10-15T18:29:25.757239Z",
     "iopub.status.idle": "2023-10-15T18:29:25.765146Z",
     "shell.execute_reply": "2023-10-15T18:29:25.764077Z"
    },
    "papermill": {
     "duration": 0.031233,
     "end_time": "2023-10-15T18:29:25.767557",
     "exception": false,
     "start_time": "2023-10-15T18:29:25.736324",
     "status": "completed"
    },
    "tags": []
   },
   "outputs": [],
   "source": [
    "rfm = rfm[rfm[\"frequency\"] > 0]\n",
    "rfm = rfm[rfm[\"Recency\"] > 0]"
   ]
  },
  {
   "cell_type": "code",
   "execution_count": 26,
   "id": "182615a9",
   "metadata": {
    "execution": {
     "iopub.execute_input": "2023-10-15T18:29:25.807922Z",
     "iopub.status.busy": "2023-10-15T18:29:25.807589Z",
     "iopub.status.idle": "2023-10-15T18:29:25.828624Z",
     "shell.execute_reply": "2023-10-15T18:29:25.827552Z"
    },
    "papermill": {
     "duration": 0.043203,
     "end_time": "2023-10-15T18:29:25.830552",
     "exception": false,
     "start_time": "2023-10-15T18:29:25.787349",
     "status": "completed"
    },
    "tags": []
   },
   "outputs": [
    {
     "data": {
      "text/html": [
       "<div>\n",
       "<style scoped>\n",
       "    .dataframe tbody tr th:only-of-type {\n",
       "        vertical-align: middle;\n",
       "    }\n",
       "\n",
       "    .dataframe tbody tr th {\n",
       "        vertical-align: top;\n",
       "    }\n",
       "\n",
       "    .dataframe thead th {\n",
       "        text-align: right;\n",
       "    }\n",
       "</style>\n",
       "<table border=\"1\" class=\"dataframe\">\n",
       "  <thead>\n",
       "    <tr style=\"text-align: right;\">\n",
       "      <th></th>\n",
       "      <th>count</th>\n",
       "      <th>mean</th>\n",
       "      <th>std</th>\n",
       "      <th>min</th>\n",
       "      <th>25%</th>\n",
       "      <th>50%</th>\n",
       "      <th>75%</th>\n",
       "      <th>max</th>\n",
       "    </tr>\n",
       "  </thead>\n",
       "  <tbody>\n",
       "    <tr>\n",
       "      <th>ID</th>\n",
       "      <td>2208.0000</td>\n",
       "      <td>5590.3822</td>\n",
       "      <td>3238.7851</td>\n",
       "      <td>0.0000</td>\n",
       "      <td>2834.7500</td>\n",
       "      <td>5468.0000</td>\n",
       "      <td>8416.5000</td>\n",
       "      <td>11191.0000</td>\n",
       "    </tr>\n",
       "    <tr>\n",
       "      <th>Recency</th>\n",
       "      <td>2208.0000</td>\n",
       "      <td>49.7115</td>\n",
       "      <td>28.6108</td>\n",
       "      <td>1.0000</td>\n",
       "      <td>25.0000</td>\n",
       "      <td>50.0000</td>\n",
       "      <td>74.0000</td>\n",
       "      <td>99.0000</td>\n",
       "    </tr>\n",
       "    <tr>\n",
       "      <th>frequency</th>\n",
       "      <td>2208.0000</td>\n",
       "      <td>14.8863</td>\n",
       "      <td>7.6548</td>\n",
       "      <td>1.0000</td>\n",
       "      <td>8.0000</td>\n",
       "      <td>15.0000</td>\n",
       "      <td>21.0000</td>\n",
       "      <td>44.0000</td>\n",
       "    </tr>\n",
       "    <tr>\n",
       "      <th>monetary</th>\n",
       "      <td>2208.0000</td>\n",
       "      <td>608.8596</td>\n",
       "      <td>604.0864</td>\n",
       "      <td>8.0000</td>\n",
       "      <td>68.0000</td>\n",
       "      <td>397.5000</td>\n",
       "      <td>1048.2500</td>\n",
       "      <td>2525.0000</td>\n",
       "    </tr>\n",
       "  </tbody>\n",
       "</table>\n",
       "</div>"
      ],
      "text/plain": [
       "              count      mean       std    min       25%       50%       75%  \\\n",
       "ID        2208.0000 5590.3822 3238.7851 0.0000 2834.7500 5468.0000 8416.5000   \n",
       "Recency   2208.0000   49.7115   28.6108 1.0000   25.0000   50.0000   74.0000   \n",
       "frequency 2208.0000   14.8863    7.6548 1.0000    8.0000   15.0000   21.0000   \n",
       "monetary  2208.0000  608.8596  604.0864 8.0000   68.0000  397.5000 1048.2500   \n",
       "\n",
       "                 max  \n",
       "ID        11191.0000  \n",
       "Recency      99.0000  \n",
       "frequency    44.0000  \n",
       "monetary   2525.0000  "
      ]
     },
     "execution_count": 26,
     "metadata": {},
     "output_type": "execute_result"
    }
   ],
   "source": [
    "rfm.describe().T"
   ]
  },
  {
   "cell_type": "code",
   "execution_count": 27,
   "id": "487ea463",
   "metadata": {
    "execution": {
     "iopub.execute_input": "2023-10-15T18:29:25.871548Z",
     "iopub.status.busy": "2023-10-15T18:29:25.870943Z",
     "iopub.status.idle": "2023-10-15T18:29:25.877468Z",
     "shell.execute_reply": "2023-10-15T18:29:25.876390Z"
    },
    "papermill": {
     "duration": 0.029051,
     "end_time": "2023-10-15T18:29:25.879508",
     "exception": false,
     "start_time": "2023-10-15T18:29:25.850457",
     "status": "completed"
    },
    "tags": []
   },
   "outputs": [
    {
     "data": {
      "text/plain": [
       "(2208, 4)"
      ]
     },
     "execution_count": 27,
     "metadata": {},
     "output_type": "execute_result"
    }
   ],
   "source": [
    "rfm.shape"
   ]
  },
  {
   "cell_type": "code",
   "execution_count": 28,
   "id": "e66c832f",
   "metadata": {
    "execution": {
     "iopub.execute_input": "2023-10-15T18:29:25.921609Z",
     "iopub.status.busy": "2023-10-15T18:29:25.920868Z",
     "iopub.status.idle": "2023-10-15T18:29:25.929028Z",
     "shell.execute_reply": "2023-10-15T18:29:25.928214Z"
    },
    "papermill": {
     "duration": 0.032267,
     "end_time": "2023-10-15T18:29:25.931282",
     "exception": false,
     "start_time": "2023-10-15T18:29:25.899015",
     "status": "completed"
    },
    "tags": []
   },
   "outputs": [],
   "source": [
    "rfm[\"recency_score\"] = pd.qcut(rfm['Recency'], 5, labels=[5, 4, 3, 2, 1])"
   ]
  },
  {
   "cell_type": "code",
   "execution_count": 29,
   "id": "dd074dbd",
   "metadata": {
    "execution": {
     "iopub.execute_input": "2023-10-15T18:29:25.972494Z",
     "iopub.status.busy": "2023-10-15T18:29:25.972077Z",
     "iopub.status.idle": "2023-10-15T18:29:25.983434Z",
     "shell.execute_reply": "2023-10-15T18:29:25.982429Z"
    },
    "papermill": {
     "duration": 0.034362,
     "end_time": "2023-10-15T18:29:25.985566",
     "exception": false,
     "start_time": "2023-10-15T18:29:25.951204",
     "status": "completed"
    },
    "tags": []
   },
   "outputs": [],
   "source": [
    "rfm[\"frequency_score\"] = pd.qcut(rfm['frequency'].rank(method=\"first\"), 5, labels=[1, 2, 3, 4, 5])"
   ]
  },
  {
   "cell_type": "code",
   "execution_count": 30,
   "id": "59bb8737",
   "metadata": {
    "execution": {
     "iopub.execute_input": "2023-10-15T18:29:26.027002Z",
     "iopub.status.busy": "2023-10-15T18:29:26.025877Z",
     "iopub.status.idle": "2023-10-15T18:29:26.033767Z",
     "shell.execute_reply": "2023-10-15T18:29:26.032953Z"
    },
    "papermill": {
     "duration": 0.030163,
     "end_time": "2023-10-15T18:29:26.035795",
     "exception": false,
     "start_time": "2023-10-15T18:29:26.005632",
     "status": "completed"
    },
    "tags": []
   },
   "outputs": [],
   "source": [
    "rfm[\"monetary_score\"] = pd.qcut(rfm['monetary'], 5, labels=[1, 2, 3, 4, 5])"
   ]
  },
  {
   "cell_type": "code",
   "execution_count": 31,
   "id": "be7cd3a3",
   "metadata": {
    "execution": {
     "iopub.execute_input": "2023-10-15T18:29:26.075336Z",
     "iopub.status.busy": "2023-10-15T18:29:26.074697Z",
     "iopub.status.idle": "2023-10-15T18:29:26.087721Z",
     "shell.execute_reply": "2023-10-15T18:29:26.086461Z"
    },
    "papermill": {
     "duration": 0.035848,
     "end_time": "2023-10-15T18:29:26.090521",
     "exception": false,
     "start_time": "2023-10-15T18:29:26.054673",
     "status": "completed"
    },
    "tags": []
   },
   "outputs": [
    {
     "data": {
      "text/html": [
       "<div>\n",
       "<style scoped>\n",
       "    .dataframe tbody tr th:only-of-type {\n",
       "        vertical-align: middle;\n",
       "    }\n",
       "\n",
       "    .dataframe tbody tr th {\n",
       "        vertical-align: top;\n",
       "    }\n",
       "\n",
       "    .dataframe thead th {\n",
       "        text-align: right;\n",
       "    }\n",
       "</style>\n",
       "<table border=\"1\" class=\"dataframe\">\n",
       "  <thead>\n",
       "    <tr style=\"text-align: right;\">\n",
       "      <th></th>\n",
       "      <th>ID</th>\n",
       "      <th>Recency</th>\n",
       "      <th>frequency</th>\n",
       "      <th>monetary</th>\n",
       "      <th>recency_score</th>\n",
       "      <th>frequency_score</th>\n",
       "      <th>monetary_score</th>\n",
       "    </tr>\n",
       "  </thead>\n",
       "  <tbody>\n",
       "    <tr>\n",
       "      <th>0</th>\n",
       "      <td>5524</td>\n",
       "      <td>58</td>\n",
       "      <td>25</td>\n",
       "      <td>1617</td>\n",
       "      <td>3</td>\n",
       "      <td>5</td>\n",
       "      <td>5</td>\n",
       "    </tr>\n",
       "    <tr>\n",
       "      <th>1</th>\n",
       "      <td>2174</td>\n",
       "      <td>38</td>\n",
       "      <td>6</td>\n",
       "      <td>27</td>\n",
       "      <td>4</td>\n",
       "      <td>1</td>\n",
       "      <td>1</td>\n",
       "    </tr>\n",
       "    <tr>\n",
       "      <th>2</th>\n",
       "      <td>4141</td>\n",
       "      <td>26</td>\n",
       "      <td>21</td>\n",
       "      <td>776</td>\n",
       "      <td>4</td>\n",
       "      <td>4</td>\n",
       "      <td>4</td>\n",
       "    </tr>\n",
       "    <tr>\n",
       "      <th>3</th>\n",
       "      <td>6182</td>\n",
       "      <td>26</td>\n",
       "      <td>8</td>\n",
       "      <td>53</td>\n",
       "      <td>4</td>\n",
       "      <td>2</td>\n",
       "      <td>1</td>\n",
       "    </tr>\n",
       "    <tr>\n",
       "      <th>4</th>\n",
       "      <td>5324</td>\n",
       "      <td>94</td>\n",
       "      <td>19</td>\n",
       "      <td>422</td>\n",
       "      <td>1</td>\n",
       "      <td>4</td>\n",
       "      <td>3</td>\n",
       "    </tr>\n",
       "  </tbody>\n",
       "</table>\n",
       "</div>"
      ],
      "text/plain": [
       "     ID  Recency  frequency  monetary recency_score frequency_score  \\\n",
       "0  5524       58         25      1617             3               5   \n",
       "1  2174       38          6        27             4               1   \n",
       "2  4141       26         21       776             4               4   \n",
       "3  6182       26          8        53             4               2   \n",
       "4  5324       94         19       422             1               4   \n",
       "\n",
       "  monetary_score  \n",
       "0              5  \n",
       "1              1  \n",
       "2              4  \n",
       "3              1  \n",
       "4              3  "
      ]
     },
     "execution_count": 31,
     "metadata": {},
     "output_type": "execute_result"
    }
   ],
   "source": [
    "rfm.head()"
   ]
  },
  {
   "cell_type": "markdown",
   "id": "720ffd34",
   "metadata": {
    "papermill": {
     "duration": 0.018766,
     "end_time": "2023-10-15T18:29:26.130213",
     "exception": false,
     "start_time": "2023-10-15T18:29:26.111447",
     "status": "completed"
    },
    "tags": []
   },
   "source": [
    "<div style=\"border-radius:10px; border:#DEB887 solid; padding: 15px; background-color: #FFFAF0; font-size:100%; text-align:left\">\n",
    "\n",
    "<h3 align=\"left\"><font color='#DEB887'>💡 Notes: </font></h3>\n",
    "    \n",
    "* The priority order for metric importance in RFM Score calculation is as follows: frequency > recency > monetary. Consequently, we only need to consider 'recency' and 'frequency' in our analysis"
   ]
  },
  {
   "cell_type": "code",
   "execution_count": 32,
   "id": "1876cd14",
   "metadata": {
    "execution": {
     "iopub.execute_input": "2023-10-15T18:29:26.170202Z",
     "iopub.status.busy": "2023-10-15T18:29:26.169827Z",
     "iopub.status.idle": "2023-10-15T18:29:26.177331Z",
     "shell.execute_reply": "2023-10-15T18:29:26.176245Z"
    },
    "papermill": {
     "duration": 0.030439,
     "end_time": "2023-10-15T18:29:26.179714",
     "exception": false,
     "start_time": "2023-10-15T18:29:26.149275",
     "status": "completed"
    },
    "tags": []
   },
   "outputs": [],
   "source": [
    "rfm[\"RFM_SCORE\"] = (rfm['recency_score'].astype(str) + rfm['frequency_score'].astype(str))"
   ]
  },
  {
   "cell_type": "markdown",
   "id": "a8e4e1c3",
   "metadata": {
    "papermill": {
     "duration": 0.019139,
     "end_time": "2023-10-15T18:29:26.218230",
     "exception": false,
     "start_time": "2023-10-15T18:29:26.199091",
     "status": "completed"
    },
    "tags": []
   },
   "source": [
    "<div style=\"border-radius:10px; border:#DEB887 solid; padding: 15px; background-color: #FFFAF0; font-size:100%; text-align:left\">\n",
    "\n",
    "<h3 align=\"left\"><font color='#DEB887'>💡 Explanations of Segments:</font></h3>\n",
    "    \n",
    "1. **About_to_sleep** : Encourage customers in this segment to re-engage by implementing stimulating campaigns. Special offers, discounts, or loyalty programs could be utilized to regain their interest.\n",
    "2. **At_risk** : Since customers in this segment are at risk of attrition, special offers or discounts can be provided to win them back. Additionally, personalized services can be offered to enhance customer satisfaction.\n",
    "3.**Cant_loose** : Customers in this segment may have demonstrated loyalty. Thus, you can strengthen their loyalty by offering loyalty programs or special privileges to reward them for their commitment.\n",
    "4. **Champions** : Customer loyalty is high in this segment. Retain their loyalty by offering special deals or loyalty programs. Additionally, consider their feedback to improve your products or services.\n",
    "5. **Hibernating** : Implement stimulating campaigns to regain the interest of customers in this segment. Strategies such as sending personalized offers or reminders could be utilized.\n",
    "6. **Loyal_customers** : Customers in this segment exhibit high loyalty. Offer them exclusive deals or privileges to strengthen their commitment. Additionally, gather their recommendations and feedback to enhance service quality.\n",
    "7. **Need_attention** : Attract the attention of customers in this segment by providing personalized offers or services. Ensuring excellent customer support is vital to enhance customer satisfaction.\n",
    "8. **New_customers** : Welcome these customers with welcome offers or discounts to establish their loyalty. Additionally, gather their feedback to improve your products or services.\n",
    "9. **Potential_loyalist** : Offer personalized deals or exclusive privileges to enhance the loyalty of customers in this segment. Regular interaction is crucial to increase brand awareness.\n",
    "10. **Promising** : Attract the interest of customers in this segment by implementing special offers or campaigns. Providing a good customer experience is essential to enhance customer satisfaction."
   ]
  },
  {
   "cell_type": "markdown",
   "id": "334b2c80",
   "metadata": {
    "papermill": {
     "duration": 0.019049,
     "end_time": "2023-10-15T18:29:26.256393",
     "exception": false,
     "start_time": "2023-10-15T18:29:26.237344",
     "status": "completed"
    },
    "tags": []
   },
   "source": [
    "# **<center><span style=\"color:#f7c297;font-family:cursive;font-size:100%\"> -RFM Table- </span></center>**\n",
    "<center> <img src=https://i.imgur.com/MYgXofm.png> <img> </center>"
   ]
  },
  {
   "cell_type": "code",
   "execution_count": 33,
   "id": "fffedb7f",
   "metadata": {
    "execution": {
     "iopub.execute_input": "2023-10-15T18:29:26.298790Z",
     "iopub.status.busy": "2023-10-15T18:29:26.298399Z",
     "iopub.status.idle": "2023-10-15T18:29:26.303104Z",
     "shell.execute_reply": "2023-10-15T18:29:26.302344Z"
    },
    "papermill": {
     "duration": 0.028585,
     "end_time": "2023-10-15T18:29:26.305075",
     "exception": false,
     "start_time": "2023-10-15T18:29:26.276490",
     "status": "completed"
    },
    "tags": []
   },
   "outputs": [],
   "source": [
    "seg_map = {\n",
    "    r'[1-2][1-2]': 'hibernating',\n",
    "    r'[1-2][3-4]': 'at_Risk',\n",
    "    r'[1-2]5': 'cant_loose',\n",
    "    r'3[1-2]': 'about_to_sleep',\n",
    "    r'33': 'need_attention',\n",
    "    r'[3-4][4-5]': 'loyal_customers',\n",
    "    r'41': 'promising',\n",
    "    r'51': 'new_customers',\n",
    "    r'[4-5][2-3]': 'potential_loyalists',\n",
    "    r'5[4-5]': 'champions'\n",
    "}"
   ]
  },
  {
   "cell_type": "code",
   "execution_count": 34,
   "id": "1afdb13f",
   "metadata": {
    "execution": {
     "iopub.execute_input": "2023-10-15T18:29:26.346630Z",
     "iopub.status.busy": "2023-10-15T18:29:26.346270Z",
     "iopub.status.idle": "2023-10-15T18:29:26.379087Z",
     "shell.execute_reply": "2023-10-15T18:29:26.377720Z"
    },
    "papermill": {
     "duration": 0.056404,
     "end_time": "2023-10-15T18:29:26.381580",
     "exception": false,
     "start_time": "2023-10-15T18:29:26.325176",
     "status": "completed"
    },
    "tags": []
   },
   "outputs": [],
   "source": [
    "rfm['segment'] = rfm['RFM_SCORE'].replace(seg_map, regex=True)"
   ]
  },
  {
   "cell_type": "code",
   "execution_count": 35,
   "id": "7d8d8d54",
   "metadata": {
    "execution": {
     "iopub.execute_input": "2023-10-15T18:29:26.421824Z",
     "iopub.status.busy": "2023-10-15T18:29:26.421423Z",
     "iopub.status.idle": "2023-10-15T18:29:26.435637Z",
     "shell.execute_reply": "2023-10-15T18:29:26.434889Z"
    },
    "papermill": {
     "duration": 0.036332,
     "end_time": "2023-10-15T18:29:26.437519",
     "exception": false,
     "start_time": "2023-10-15T18:29:26.401187",
     "status": "completed"
    },
    "tags": []
   },
   "outputs": [
    {
     "data": {
      "text/html": [
       "<div>\n",
       "<style scoped>\n",
       "    .dataframe tbody tr th:only-of-type {\n",
       "        vertical-align: middle;\n",
       "    }\n",
       "\n",
       "    .dataframe tbody tr th {\n",
       "        vertical-align: top;\n",
       "    }\n",
       "\n",
       "    .dataframe thead th {\n",
       "        text-align: right;\n",
       "    }\n",
       "</style>\n",
       "<table border=\"1\" class=\"dataframe\">\n",
       "  <thead>\n",
       "    <tr style=\"text-align: right;\">\n",
       "      <th></th>\n",
       "      <th>ID</th>\n",
       "      <th>Recency</th>\n",
       "      <th>frequency</th>\n",
       "      <th>monetary</th>\n",
       "      <th>recency_score</th>\n",
       "      <th>frequency_score</th>\n",
       "      <th>monetary_score</th>\n",
       "      <th>RFM_SCORE</th>\n",
       "      <th>segment</th>\n",
       "    </tr>\n",
       "  </thead>\n",
       "  <tbody>\n",
       "    <tr>\n",
       "      <th>0</th>\n",
       "      <td>5524</td>\n",
       "      <td>58</td>\n",
       "      <td>25</td>\n",
       "      <td>1617</td>\n",
       "      <td>3</td>\n",
       "      <td>5</td>\n",
       "      <td>5</td>\n",
       "      <td>35</td>\n",
       "      <td>loyal_customers</td>\n",
       "    </tr>\n",
       "    <tr>\n",
       "      <th>1</th>\n",
       "      <td>2174</td>\n",
       "      <td>38</td>\n",
       "      <td>6</td>\n",
       "      <td>27</td>\n",
       "      <td>4</td>\n",
       "      <td>1</td>\n",
       "      <td>1</td>\n",
       "      <td>41</td>\n",
       "      <td>promising</td>\n",
       "    </tr>\n",
       "    <tr>\n",
       "      <th>2</th>\n",
       "      <td>4141</td>\n",
       "      <td>26</td>\n",
       "      <td>21</td>\n",
       "      <td>776</td>\n",
       "      <td>4</td>\n",
       "      <td>4</td>\n",
       "      <td>4</td>\n",
       "      <td>44</td>\n",
       "      <td>loyal_customers</td>\n",
       "    </tr>\n",
       "    <tr>\n",
       "      <th>3</th>\n",
       "      <td>6182</td>\n",
       "      <td>26</td>\n",
       "      <td>8</td>\n",
       "      <td>53</td>\n",
       "      <td>4</td>\n",
       "      <td>2</td>\n",
       "      <td>1</td>\n",
       "      <td>42</td>\n",
       "      <td>potential_loyalists</td>\n",
       "    </tr>\n",
       "    <tr>\n",
       "      <th>4</th>\n",
       "      <td>5324</td>\n",
       "      <td>94</td>\n",
       "      <td>19</td>\n",
       "      <td>422</td>\n",
       "      <td>1</td>\n",
       "      <td>4</td>\n",
       "      <td>3</td>\n",
       "      <td>14</td>\n",
       "      <td>at_Risk</td>\n",
       "    </tr>\n",
       "  </tbody>\n",
       "</table>\n",
       "</div>"
      ],
      "text/plain": [
       "     ID  Recency  frequency  monetary recency_score frequency_score  \\\n",
       "0  5524       58         25      1617             3               5   \n",
       "1  2174       38          6        27             4               1   \n",
       "2  4141       26         21       776             4               4   \n",
       "3  6182       26          8        53             4               2   \n",
       "4  5324       94         19       422             1               4   \n",
       "\n",
       "  monetary_score RFM_SCORE              segment  \n",
       "0              5        35      loyal_customers  \n",
       "1              1        41            promising  \n",
       "2              4        44      loyal_customers  \n",
       "3              1        42  potential_loyalists  \n",
       "4              3        14              at_Risk  "
      ]
     },
     "execution_count": 35,
     "metadata": {},
     "output_type": "execute_result"
    }
   ],
   "source": [
    "rfm.head()"
   ]
  },
  {
   "cell_type": "code",
   "execution_count": 36,
   "id": "0e4027fc",
   "metadata": {
    "execution": {
     "iopub.execute_input": "2023-10-15T18:29:26.478769Z",
     "iopub.status.busy": "2023-10-15T18:29:26.478422Z",
     "iopub.status.idle": "2023-10-15T18:29:26.500062Z",
     "shell.execute_reply": "2023-10-15T18:29:26.498819Z"
    },
    "papermill": {
     "duration": 0.045058,
     "end_time": "2023-10-15T18:29:26.502187",
     "exception": false,
     "start_time": "2023-10-15T18:29:26.457129",
     "status": "completed"
    },
    "tags": []
   },
   "outputs": [
    {
     "data": {
      "text/html": [
       "<div>\n",
       "<style scoped>\n",
       "    .dataframe tbody tr th:only-of-type {\n",
       "        vertical-align: middle;\n",
       "    }\n",
       "\n",
       "    .dataframe tbody tr th {\n",
       "        vertical-align: top;\n",
       "    }\n",
       "\n",
       "    .dataframe thead tr th {\n",
       "        text-align: left;\n",
       "    }\n",
       "\n",
       "    .dataframe thead tr:last-of-type th {\n",
       "        text-align: right;\n",
       "    }\n",
       "</style>\n",
       "<table border=\"1\" class=\"dataframe\">\n",
       "  <thead>\n",
       "    <tr>\n",
       "      <th></th>\n",
       "      <th colspan=\"2\" halign=\"left\">Recency</th>\n",
       "      <th colspan=\"2\" halign=\"left\">frequency</th>\n",
       "      <th colspan=\"2\" halign=\"left\">monetary</th>\n",
       "    </tr>\n",
       "    <tr>\n",
       "      <th></th>\n",
       "      <th>mean</th>\n",
       "      <th>count</th>\n",
       "      <th>mean</th>\n",
       "      <th>count</th>\n",
       "      <th>mean</th>\n",
       "      <th>count</th>\n",
       "    </tr>\n",
       "    <tr>\n",
       "      <th>segment</th>\n",
       "      <th></th>\n",
       "      <th></th>\n",
       "      <th></th>\n",
       "      <th></th>\n",
       "      <th></th>\n",
       "      <th></th>\n",
       "    </tr>\n",
       "  </thead>\n",
       "  <tbody>\n",
       "    <tr>\n",
       "      <th>about_to_sleep</th>\n",
       "      <td>50.1190</td>\n",
       "      <td>168</td>\n",
       "      <td>6.9345</td>\n",
       "      <td>168</td>\n",
       "      <td>79.1607</td>\n",
       "      <td>168</td>\n",
       "    </tr>\n",
       "    <tr>\n",
       "      <th>at_Risk</th>\n",
       "      <td>78.6676</td>\n",
       "      <td>373</td>\n",
       "      <td>17.3807</td>\n",
       "      <td>373</td>\n",
       "      <td>868.4236</td>\n",
       "      <td>373</td>\n",
       "    </tr>\n",
       "    <tr>\n",
       "      <th>cant_loose</th>\n",
       "      <td>79.8193</td>\n",
       "      <td>166</td>\n",
       "      <td>25.8133</td>\n",
       "      <td>166</td>\n",
       "      <td>1212.9036</td>\n",
       "      <td>166</td>\n",
       "    </tr>\n",
       "    <tr>\n",
       "      <th>champions</th>\n",
       "      <td>10.0181</td>\n",
       "      <td>166</td>\n",
       "      <td>22.8855</td>\n",
       "      <td>166</td>\n",
       "      <td>1094.1506</td>\n",
       "      <td>166</td>\n",
       "    </tr>\n",
       "    <tr>\n",
       "      <th>hibernating</th>\n",
       "      <td>80.1458</td>\n",
       "      <td>343</td>\n",
       "      <td>7.0729</td>\n",
       "      <td>343</td>\n",
       "      <td>84.3061</td>\n",
       "      <td>343</td>\n",
       "    </tr>\n",
       "    <tr>\n",
       "      <th>loyal_customers</th>\n",
       "      <td>40.2978</td>\n",
       "      <td>356</td>\n",
       "      <td>23.0112</td>\n",
       "      <td>356</td>\n",
       "      <td>1109.4466</td>\n",
       "      <td>356</td>\n",
       "    </tr>\n",
       "    <tr>\n",
       "      <th>need_attention</th>\n",
       "      <td>50.5526</td>\n",
       "      <td>76</td>\n",
       "      <td>14.7500</td>\n",
       "      <td>76</td>\n",
       "      <td>579.8026</td>\n",
       "      <td>76</td>\n",
       "    </tr>\n",
       "    <tr>\n",
       "      <th>new_customers</th>\n",
       "      <td>10.3626</td>\n",
       "      <td>91</td>\n",
       "      <td>4.9451</td>\n",
       "      <td>91</td>\n",
       "      <td>42.0549</td>\n",
       "      <td>91</td>\n",
       "    </tr>\n",
       "    <tr>\n",
       "      <th>potential_loyalists</th>\n",
       "      <td>20.1147</td>\n",
       "      <td>375</td>\n",
       "      <td>11.9307</td>\n",
       "      <td>375</td>\n",
       "      <td>397.5200</td>\n",
       "      <td>375</td>\n",
       "    </tr>\n",
       "    <tr>\n",
       "      <th>promising</th>\n",
       "      <td>31.0957</td>\n",
       "      <td>94</td>\n",
       "      <td>5.0426</td>\n",
       "      <td>94</td>\n",
       "      <td>35.4043</td>\n",
       "      <td>94</td>\n",
       "    </tr>\n",
       "  </tbody>\n",
       "</table>\n",
       "</div>"
      ],
      "text/plain": [
       "                    Recency       frequency        monetary      \n",
       "                       mean count      mean count      mean count\n",
       "segment                                                          \n",
       "about_to_sleep      50.1190   168    6.9345   168   79.1607   168\n",
       "at_Risk             78.6676   373   17.3807   373  868.4236   373\n",
       "cant_loose          79.8193   166   25.8133   166 1212.9036   166\n",
       "champions           10.0181   166   22.8855   166 1094.1506   166\n",
       "hibernating         80.1458   343    7.0729   343   84.3061   343\n",
       "loyal_customers     40.2978   356   23.0112   356 1109.4466   356\n",
       "need_attention      50.5526    76   14.7500    76  579.8026    76\n",
       "new_customers       10.3626    91    4.9451    91   42.0549    91\n",
       "potential_loyalists 20.1147   375   11.9307   375  397.5200   375\n",
       "promising           31.0957    94    5.0426    94   35.4043    94"
      ]
     },
     "execution_count": 36,
     "metadata": {},
     "output_type": "execute_result"
    }
   ],
   "source": [
    "rfm[[\"segment\", \"Recency\", \"frequency\", \"monetary\"]].groupby(\"segment\").agg([\"mean\", \"count\"])"
   ]
  },
  {
   "cell_type": "markdown",
   "id": "a0d83dfe",
   "metadata": {
    "papermill": {
     "duration": 0.019328,
     "end_time": "2023-10-15T18:29:26.541418",
     "exception": false,
     "start_time": "2023-10-15T18:29:26.522090",
     "status": "completed"
    },
    "tags": []
   },
   "source": [
    "<div style=\"border-radius:10px; border:#DEB887 solid; padding: 15px; background-color: #FFFAF0; font-size:100%; text-align:left\">\n",
    "\n",
    "<h3 align=\"left\"><font color='#DEB887'>💡 Inferences: </font></h3>\n",
    "    \n",
    "* **Let's examine some segments;**\n",
    "    \n",
    "    1. When we examine the 'Champions' segment, we can clearly see why it holds the highest value for us. This group exhibits the lowest 'Recency' value, signifying that they are our most recent and highly active shoppers. Furthermore, their high 'frequency' values further underline their significance as our most valuable customers.\n",
    "    1. Let's now take a closer look at the 'can't lose' segment as another group. On average, their 'Recency' values are relatively low. However, what sets this segment apart is its remarkable revenue generation, driven by exceptionally high 'frequency' values."
   ]
  },
  {
   "cell_type": "markdown",
   "id": "52077f8f",
   "metadata": {
    "papermill": {
     "duration": 0.019423,
     "end_time": "2023-10-15T18:29:26.580518",
     "exception": false,
     "start_time": "2023-10-15T18:29:26.561095",
     "status": "completed"
    },
    "tags": []
   },
   "source": [
    "<div style=\"border-radius:10px; border:#DEB887 solid; padding: 15px; background-color: #FFFAF0; font-size:100%; text-align:left\">\n",
    "\n",
    "<h3 align=\"left\"><font color='#DEB887'>💡 Why is this segmentation important?: </font></h3>\n",
    "    \n",
    "1. **Customer Understanding:** RFM segmentation helps companies gain a deeper understanding of their customer base. It allows businesses to categorize customers into different segments based on their recent purchase history, purchase frequency, and monetary value. This segmentation provides insights into customer behavior and preferences.\n",
    "2. **Targeted Marketing:** RFM segments enable companies to create targeted marketing campaigns. By identifying high-value customers, at-risk customers, or loyal customers, companies can tailor their marketing efforts to specific customer groups. This leads to more effective and efficient marketing campaigns.\n",
    "3. **Customer Retention:** RFM analysis helps in customer retention. By identifying and focusing on at-risk or lapsed customers (low recency and frequency), companies can implement strategies to re-engage these customers and prevent them from churning.\n",
    "4. **Cross-Selling and Up-Selling:** Companies can use RFM segments to identify cross-selling and up-selling opportunities. For example, they can recommend complementary products to high-value customers to increase their monetary value."
   ]
  },
  {
   "cell_type": "markdown",
   "id": "b859252b",
   "metadata": {
    "papermill": {
     "duration": 0.019424,
     "end_time": "2023-10-15T18:29:26.619835",
     "exception": false,
     "start_time": "2023-10-15T18:29:26.600411",
     "status": "completed"
    },
    "tags": []
   },
   "source": [
    "# **<center><span style=\"color:#f6a6b2;font-family:cursive;font-size:125%;border-bottom: 3px solid\">Customer Life Time Value Prediction (CLTV)</span></center>**\n",
    "----"
   ]
  },
  {
   "cell_type": "code",
   "execution_count": 37,
   "id": "8d2edee0",
   "metadata": {
    "execution": {
     "iopub.execute_input": "2023-10-15T18:29:26.660680Z",
     "iopub.status.busy": "2023-10-15T18:29:26.660298Z",
     "iopub.status.idle": "2023-10-15T18:29:38.821903Z",
     "shell.execute_reply": "2023-10-15T18:29:38.820470Z"
    },
    "papermill": {
     "duration": 12.184927,
     "end_time": "2023-10-15T18:29:38.824549",
     "exception": false,
     "start_time": "2023-10-15T18:29:26.639622",
     "status": "completed"
    },
    "tags": []
   },
   "outputs": [
    {
     "name": "stdout",
     "output_type": "stream",
     "text": [
      "Collecting lifetimes\r\n",
      "  Downloading Lifetimes-0.11.3-py3-none-any.whl (584 kB)\r\n",
      "\u001b[2K     \u001b[90m━━━━━━━━━━━━━━━━━━━━━━━━━━━━━━━━━━━━━━━\u001b[0m \u001b[32m584.2/584.2 kB\u001b[0m \u001b[31m8.8 MB/s\u001b[0m eta \u001b[36m0:00:00\u001b[0m\r\n",
      "\u001b[?25hRequirement already satisfied: numpy>=1.10.0 in /opt/conda/lib/python3.10/site-packages (from lifetimes) (1.23.5)\r\n",
      "Requirement already satisfied: scipy>=1.0.0 in /opt/conda/lib/python3.10/site-packages (from lifetimes) (1.11.2)\r\n",
      "Requirement already satisfied: pandas>=0.24.0 in /opt/conda/lib/python3.10/site-packages (from lifetimes) (2.0.3)\r\n",
      "Collecting autograd>=1.2.0 (from lifetimes)\r\n",
      "  Downloading autograd-1.6.2-py3-none-any.whl (49 kB)\r\n",
      "\u001b[2K     \u001b[90m━━━━━━━━━━━━━━━━━━━━━━━━━━━━━━━━━━━━━━━━\u001b[0m \u001b[32m49.3/49.3 kB\u001b[0m \u001b[31m4.0 MB/s\u001b[0m eta \u001b[36m0:00:00\u001b[0m\r\n",
      "\u001b[?25hRequirement already satisfied: dill>=0.2.6 in /opt/conda/lib/python3.10/site-packages (from lifetimes) (0.3.7)\r\n",
      "Requirement already satisfied: future>=0.15.2 in /opt/conda/lib/python3.10/site-packages (from autograd>=1.2.0->lifetimes) (0.18.3)\r\n",
      "Requirement already satisfied: python-dateutil>=2.8.2 in /opt/conda/lib/python3.10/site-packages (from pandas>=0.24.0->lifetimes) (2.8.2)\r\n",
      "Requirement already satisfied: pytz>=2020.1 in /opt/conda/lib/python3.10/site-packages (from pandas>=0.24.0->lifetimes) (2023.3)\r\n",
      "Requirement already satisfied: tzdata>=2022.1 in /opt/conda/lib/python3.10/site-packages (from pandas>=0.24.0->lifetimes) (2023.3)\r\n",
      "Requirement already satisfied: six>=1.5 in /opt/conda/lib/python3.10/site-packages (from python-dateutil>=2.8.2->pandas>=0.24.0->lifetimes) (1.16.0)\r\n",
      "Installing collected packages: autograd, lifetimes\r\n",
      "Successfully installed autograd-1.6.2 lifetimes-0.11.3\r\n"
     ]
    }
   ],
   "source": [
    "!pip install lifetimes"
   ]
  },
  {
   "cell_type": "code",
   "execution_count": 38,
   "id": "c9d053e2",
   "metadata": {
    "execution": {
     "iopub.execute_input": "2023-10-15T18:29:38.870050Z",
     "iopub.status.busy": "2023-10-15T18:29:38.869620Z",
     "iopub.status.idle": "2023-10-15T18:29:38.990614Z",
     "shell.execute_reply": "2023-10-15T18:29:38.989600Z"
    },
    "papermill": {
     "duration": 0.147344,
     "end_time": "2023-10-15T18:29:38.992984",
     "exception": false,
     "start_time": "2023-10-15T18:29:38.845640",
     "status": "completed"
    },
    "tags": []
   },
   "outputs": [],
   "source": [
    "from lifetimes import BetaGeoFitter\n",
    "from lifetimes import GammaGammaFitter\n",
    "from lifetimes.plotting import plot_period_transactions\n",
    "from sklearn.preprocessing import MinMaxScaler"
   ]
  },
  {
   "cell_type": "markdown",
   "id": "a4326090",
   "metadata": {
    "papermill": {
     "duration": 0.020315,
     "end_time": "2023-10-15T18:29:39.034296",
     "exception": false,
     "start_time": "2023-10-15T18:29:39.013981",
     "status": "completed"
    },
    "tags": []
   },
   "source": [
    "**Data Preparing**"
   ]
  },
  {
   "cell_type": "code",
   "execution_count": 39,
   "id": "6073e403",
   "metadata": {
    "execution": {
     "iopub.execute_input": "2023-10-15T18:29:39.077786Z",
     "iopub.status.busy": "2023-10-15T18:29:39.076901Z",
     "iopub.status.idle": "2023-10-15T18:29:39.083284Z",
     "shell.execute_reply": "2023-10-15T18:29:39.082067Z"
    },
    "papermill": {
     "duration": 0.03087,
     "end_time": "2023-10-15T18:29:39.085712",
     "exception": false,
     "start_time": "2023-10-15T18:29:39.054842",
     "status": "completed"
    },
    "tags": []
   },
   "outputs": [],
   "source": [
    "df = data.copy()"
   ]
  },
  {
   "cell_type": "code",
   "execution_count": 40,
   "id": "98a63771",
   "metadata": {
    "execution": {
     "iopub.execute_input": "2023-10-15T18:29:39.131245Z",
     "iopub.status.busy": "2023-10-15T18:29:39.130818Z",
     "iopub.status.idle": "2023-10-15T18:29:39.138405Z",
     "shell.execute_reply": "2023-10-15T18:29:39.137250Z"
    },
    "papermill": {
     "duration": 0.031955,
     "end_time": "2023-10-15T18:29:39.140655",
     "exception": false,
     "start_time": "2023-10-15T18:29:39.108700",
     "status": "completed"
    },
    "tags": []
   },
   "outputs": [],
   "source": [
    "df['Income'] = df['Income'].fillna(df['Income'].median())"
   ]
  },
  {
   "cell_type": "code",
   "execution_count": 41,
   "id": "ce10adbd",
   "metadata": {
    "execution": {
     "iopub.execute_input": "2023-10-15T18:29:39.186016Z",
     "iopub.status.busy": "2023-10-15T18:29:39.185571Z",
     "iopub.status.idle": "2023-10-15T18:29:39.199657Z",
     "shell.execute_reply": "2023-10-15T18:29:39.198207Z"
    },
    "papermill": {
     "duration": 0.038732,
     "end_time": "2023-10-15T18:29:39.202181",
     "exception": false,
     "start_time": "2023-10-15T18:29:39.163449",
     "status": "completed"
    },
    "tags": []
   },
   "outputs": [],
   "source": [
    "df['Dt_Customer'] = pd.to_datetime(df['Dt_Customer'], format=\"%d-%m-%Y\")"
   ]
  },
  {
   "cell_type": "code",
   "execution_count": 42,
   "id": "1d7f4e4b",
   "metadata": {
    "execution": {
     "iopub.execute_input": "2023-10-15T18:29:39.247151Z",
     "iopub.status.busy": "2023-10-15T18:29:39.246782Z",
     "iopub.status.idle": "2023-10-15T18:29:39.255035Z",
     "shell.execute_reply": "2023-10-15T18:29:39.254193Z"
    },
    "papermill": {
     "duration": 0.033368,
     "end_time": "2023-10-15T18:29:39.257041",
     "exception": false,
     "start_time": "2023-10-15T18:29:39.223673",
     "status": "completed"
    },
    "tags": []
   },
   "outputs": [],
   "source": [
    "df[\"last_order_date\"] = dt.datetime(2014, 10, 4) - pd.to_timedelta(df[\"Recency\"], unit='D')"
   ]
  },
  {
   "cell_type": "code",
   "execution_count": 43,
   "id": "41383b32",
   "metadata": {
    "execution": {
     "iopub.execute_input": "2023-10-15T18:29:39.300991Z",
     "iopub.status.busy": "2023-10-15T18:29:39.300097Z",
     "iopub.status.idle": "2023-10-15T18:29:39.309025Z",
     "shell.execute_reply": "2023-10-15T18:29:39.307781Z"
    },
    "papermill": {
     "duration": 0.03366,
     "end_time": "2023-10-15T18:29:39.311456",
     "exception": false,
     "start_time": "2023-10-15T18:29:39.277796",
     "status": "completed"
    },
    "tags": []
   },
   "outputs": [],
   "source": [
    "df[\"monetary\"] = df.loc[:,df.columns.str.contains(\"Mnt\")].sum(axis=1)"
   ]
  },
  {
   "cell_type": "code",
   "execution_count": 44,
   "id": "4f7a39d0",
   "metadata": {
    "execution": {
     "iopub.execute_input": "2023-10-15T18:29:39.356185Z",
     "iopub.status.busy": "2023-10-15T18:29:39.355711Z",
     "iopub.status.idle": "2023-10-15T18:29:39.365630Z",
     "shell.execute_reply": "2023-10-15T18:29:39.364192Z"
    },
    "papermill": {
     "duration": 0.03524,
     "end_time": "2023-10-15T18:29:39.368079",
     "exception": false,
     "start_time": "2023-10-15T18:29:39.332839",
     "status": "completed"
    },
    "tags": []
   },
   "outputs": [],
   "source": [
    "df[\"frequency\"] = df.loc[:,df.columns.str.contains(\"Purchases\")].sum(axis=1)"
   ]
  },
  {
   "cell_type": "code",
   "execution_count": 45,
   "id": "946a3d83",
   "metadata": {
    "execution": {
     "iopub.execute_input": "2023-10-15T18:29:39.414224Z",
     "iopub.status.busy": "2023-10-15T18:29:39.413083Z",
     "iopub.status.idle": "2023-10-15T18:29:39.427475Z",
     "shell.execute_reply": "2023-10-15T18:29:39.426073Z"
    },
    "papermill": {
     "duration": 0.040146,
     "end_time": "2023-10-15T18:29:39.430051",
     "exception": false,
     "start_time": "2023-10-15T18:29:39.389905",
     "status": "completed"
    },
    "tags": []
   },
   "outputs": [],
   "source": [
    "cltv = pd.DataFrame()\n",
    "cltv[\"Recency_weekly\"] = (df[\"last_order_date\"] - df[\"Dt_Customer\"]).dt.days // 7\n",
    "cltv[\"T_weekly\"] = (dt.datetime(2014,10, 4) - df[\"Dt_Customer\"]).dt.days // 7\n",
    "cltv[\"frequency\"] = df[\"frequency\"]\n",
    "cltv[\"monetary\"] = df[\"monetary\"]\n",
    "cltv[\"monetary\"] = round(cltv[\"monetary\"] / cltv[\"frequency\"])\n",
    "cltv.index = df[\"ID\"]"
   ]
  },
  {
   "cell_type": "code",
   "execution_count": 46,
   "id": "07451f86",
   "metadata": {
    "execution": {
     "iopub.execute_input": "2023-10-15T18:29:39.474221Z",
     "iopub.status.busy": "2023-10-15T18:29:39.473715Z",
     "iopub.status.idle": "2023-10-15T18:29:39.497723Z",
     "shell.execute_reply": "2023-10-15T18:29:39.496950Z"
    },
    "papermill": {
     "duration": 0.049476,
     "end_time": "2023-10-15T18:29:39.500148",
     "exception": false,
     "start_time": "2023-10-15T18:29:39.450672",
     "status": "completed"
    },
    "tags": []
   },
   "outputs": [
    {
     "data": {
      "text/html": [
       "<div>\n",
       "<style scoped>\n",
       "    .dataframe tbody tr th:only-of-type {\n",
       "        vertical-align: middle;\n",
       "    }\n",
       "\n",
       "    .dataframe tbody tr th {\n",
       "        vertical-align: top;\n",
       "    }\n",
       "\n",
       "    .dataframe thead th {\n",
       "        text-align: right;\n",
       "    }\n",
       "</style>\n",
       "<table border=\"1\" class=\"dataframe\">\n",
       "  <thead>\n",
       "    <tr style=\"text-align: right;\">\n",
       "      <th></th>\n",
       "      <th>count</th>\n",
       "      <th>mean</th>\n",
       "      <th>std</th>\n",
       "      <th>min</th>\n",
       "      <th>25%</th>\n",
       "      <th>50%</th>\n",
       "      <th>75%</th>\n",
       "      <th>max</th>\n",
       "    </tr>\n",
       "  </thead>\n",
       "  <tbody>\n",
       "    <tr>\n",
       "      <th>Recency_weekly</th>\n",
       "      <td>2240.0000</td>\n",
       "      <td>56.9371</td>\n",
       "      <td>29.0635</td>\n",
       "      <td>0.0000</td>\n",
       "      <td>32.0000</td>\n",
       "      <td>57.0000</td>\n",
       "      <td>82.0000</td>\n",
       "      <td>113.0000</td>\n",
       "    </tr>\n",
       "    <tr>\n",
       "      <th>T_weekly</th>\n",
       "      <td>2240.0000</td>\n",
       "      <td>63.9442</td>\n",
       "      <td>28.8969</td>\n",
       "      <td>13.0000</td>\n",
       "      <td>39.0000</td>\n",
       "      <td>64.0000</td>\n",
       "      <td>89.0000</td>\n",
       "      <td>113.0000</td>\n",
       "    </tr>\n",
       "    <tr>\n",
       "      <th>frequency</th>\n",
       "      <td>2240.0000</td>\n",
       "      <td>14.8621</td>\n",
       "      <td>7.6772</td>\n",
       "      <td>0.0000</td>\n",
       "      <td>8.0000</td>\n",
       "      <td>15.0000</td>\n",
       "      <td>21.0000</td>\n",
       "      <td>44.0000</td>\n",
       "    </tr>\n",
       "    <tr>\n",
       "      <th>monetary</th>\n",
       "      <td>2240.0000</td>\n",
       "      <td>inf</td>\n",
       "      <td>NaN</td>\n",
       "      <td>1.0000</td>\n",
       "      <td>10.0000</td>\n",
       "      <td>23.0000</td>\n",
       "      <td>46.0000</td>\n",
       "      <td>inf</td>\n",
       "    </tr>\n",
       "  </tbody>\n",
       "</table>\n",
       "</div>"
      ],
      "text/plain": [
       "                   count    mean     std     min     25%     50%     75%  \\\n",
       "Recency_weekly 2240.0000 56.9371 29.0635  0.0000 32.0000 57.0000 82.0000   \n",
       "T_weekly       2240.0000 63.9442 28.8969 13.0000 39.0000 64.0000 89.0000   \n",
       "frequency      2240.0000 14.8621  7.6772  0.0000  8.0000 15.0000 21.0000   \n",
       "monetary       2240.0000     inf     NaN  1.0000 10.0000 23.0000 46.0000   \n",
       "\n",
       "                    max  \n",
       "Recency_weekly 113.0000  \n",
       "T_weekly       113.0000  \n",
       "frequency       44.0000  \n",
       "monetary            inf  "
      ]
     },
     "execution_count": 46,
     "metadata": {},
     "output_type": "execute_result"
    }
   ],
   "source": [
    "cltv.describe().T"
   ]
  },
  {
   "cell_type": "markdown",
   "id": "8597d1dd",
   "metadata": {
    "papermill": {
     "duration": 0.021973,
     "end_time": "2023-10-15T18:29:39.543255",
     "exception": false,
     "start_time": "2023-10-15T18:29:39.521282",
     "status": "completed"
    },
    "tags": []
   },
   "source": [
    "**Outlier Detection & Cleaning**"
   ]
  },
  {
   "cell_type": "code",
   "execution_count": 47,
   "id": "4612da2f",
   "metadata": {
    "execution": {
     "iopub.execute_input": "2023-10-15T18:29:39.586754Z",
     "iopub.status.busy": "2023-10-15T18:29:39.586381Z",
     "iopub.status.idle": "2023-10-15T18:29:39.591909Z",
     "shell.execute_reply": "2023-10-15T18:29:39.590915Z"
    },
    "papermill": {
     "duration": 0.02962,
     "end_time": "2023-10-15T18:29:39.593898",
     "exception": false,
     "start_time": "2023-10-15T18:29:39.564278",
     "status": "completed"
    },
    "tags": []
   },
   "outputs": [],
   "source": [
    "def outlier_thresholds(dataframe, variable):\n",
    "    \n",
    "    quartile1 = dataframe[variable].quantile(0.25)\n",
    "    quartile3 = dataframe[variable].quantile(0.75)\n",
    "    interquantile_range = quartile3 - quartile1\n",
    "    up_limit = quartile3 + 1.5 * interquantile_range\n",
    "    low_limit = quartile1 - 1.5 * interquantile_range\n",
    "    \n",
    "    return low_limit, up_limit"
   ]
  },
  {
   "cell_type": "code",
   "execution_count": 48,
   "id": "2f226a11",
   "metadata": {
    "execution": {
     "iopub.execute_input": "2023-10-15T18:29:39.637638Z",
     "iopub.status.busy": "2023-10-15T18:29:39.637278Z",
     "iopub.status.idle": "2023-10-15T18:29:39.642525Z",
     "shell.execute_reply": "2023-10-15T18:29:39.641612Z"
    },
    "papermill": {
     "duration": 0.029858,
     "end_time": "2023-10-15T18:29:39.644494",
     "exception": false,
     "start_time": "2023-10-15T18:29:39.614636",
     "status": "completed"
    },
    "tags": []
   },
   "outputs": [],
   "source": [
    "def replace_with_thresholds(dataframe, variable):\n",
    "    low_limit, up_limit = outlier_thresholds(dataframe, variable)\n",
    "    dataframe.loc[(dataframe[variable] < low_limit), variable] = low_limit \n",
    "    dataframe.loc[(dataframe[variable] > up_limit), variable] = up_limit"
   ]
  },
  {
   "cell_type": "code",
   "execution_count": 49,
   "id": "63153385",
   "metadata": {
    "execution": {
     "iopub.execute_input": "2023-10-15T18:29:39.690100Z",
     "iopub.status.busy": "2023-10-15T18:29:39.688881Z",
     "iopub.status.idle": "2023-10-15T18:29:39.705167Z",
     "shell.execute_reply": "2023-10-15T18:29:39.703764Z"
    },
    "papermill": {
     "duration": 0.041589,
     "end_time": "2023-10-15T18:29:39.707509",
     "exception": false,
     "start_time": "2023-10-15T18:29:39.665920",
     "status": "completed"
    },
    "tags": []
   },
   "outputs": [],
   "source": [
    "replace_with_thresholds(cltv,\"Recency_weekly\")\n",
    "replace_with_thresholds(cltv,\"T_weekly\")\n",
    "replace_with_thresholds(cltv,\"frequency\")\n",
    "replace_with_thresholds(cltv,\"monetary\")"
   ]
  },
  {
   "cell_type": "markdown",
   "id": "d80a3614",
   "metadata": {
    "papermill": {
     "duration": 0.020372,
     "end_time": "2023-10-15T18:29:39.748818",
     "exception": false,
     "start_time": "2023-10-15T18:29:39.728446",
     "status": "completed"
    },
    "tags": []
   },
   "source": [
    "---"
   ]
  },
  {
   "cell_type": "code",
   "execution_count": 50,
   "id": "8404a381",
   "metadata": {
    "execution": {
     "iopub.execute_input": "2023-10-15T18:29:39.792632Z",
     "iopub.status.busy": "2023-10-15T18:29:39.792293Z",
     "iopub.status.idle": "2023-10-15T18:29:39.814899Z",
     "shell.execute_reply": "2023-10-15T18:29:39.813619Z"
    },
    "papermill": {
     "duration": 0.047612,
     "end_time": "2023-10-15T18:29:39.817193",
     "exception": false,
     "start_time": "2023-10-15T18:29:39.769581",
     "status": "completed"
    },
    "tags": []
   },
   "outputs": [
    {
     "data": {
      "text/html": [
       "<div>\n",
       "<style scoped>\n",
       "    .dataframe tbody tr th:only-of-type {\n",
       "        vertical-align: middle;\n",
       "    }\n",
       "\n",
       "    .dataframe tbody tr th {\n",
       "        vertical-align: top;\n",
       "    }\n",
       "\n",
       "    .dataframe thead th {\n",
       "        text-align: right;\n",
       "    }\n",
       "</style>\n",
       "<table border=\"1\" class=\"dataframe\">\n",
       "  <thead>\n",
       "    <tr style=\"text-align: right;\">\n",
       "      <th></th>\n",
       "      <th>count</th>\n",
       "      <th>mean</th>\n",
       "      <th>std</th>\n",
       "      <th>min</th>\n",
       "      <th>25%</th>\n",
       "      <th>50%</th>\n",
       "      <th>75%</th>\n",
       "      <th>max</th>\n",
       "    </tr>\n",
       "  </thead>\n",
       "  <tbody>\n",
       "    <tr>\n",
       "      <th>Recency_weekly</th>\n",
       "      <td>2240.0000</td>\n",
       "      <td>56.9371</td>\n",
       "      <td>29.0635</td>\n",
       "      <td>0.0000</td>\n",
       "      <td>32.0000</td>\n",
       "      <td>57.0000</td>\n",
       "      <td>82.0000</td>\n",
       "      <td>113.0000</td>\n",
       "    </tr>\n",
       "    <tr>\n",
       "      <th>T_weekly</th>\n",
       "      <td>2240.0000</td>\n",
       "      <td>63.9442</td>\n",
       "      <td>28.8969</td>\n",
       "      <td>13.0000</td>\n",
       "      <td>39.0000</td>\n",
       "      <td>64.0000</td>\n",
       "      <td>89.0000</td>\n",
       "      <td>113.0000</td>\n",
       "    </tr>\n",
       "    <tr>\n",
       "      <th>frequency</th>\n",
       "      <td>2240.0000</td>\n",
       "      <td>14.8594</td>\n",
       "      <td>7.6677</td>\n",
       "      <td>0.0000</td>\n",
       "      <td>8.0000</td>\n",
       "      <td>15.0000</td>\n",
       "      <td>21.0000</td>\n",
       "      <td>40.5000</td>\n",
       "    </tr>\n",
       "    <tr>\n",
       "      <th>monetary</th>\n",
       "      <td>2240.0000</td>\n",
       "      <td>32.2112</td>\n",
       "      <td>27.1221</td>\n",
       "      <td>1.0000</td>\n",
       "      <td>10.0000</td>\n",
       "      <td>23.0000</td>\n",
       "      <td>46.0000</td>\n",
       "      <td>100.0000</td>\n",
       "    </tr>\n",
       "  </tbody>\n",
       "</table>\n",
       "</div>"
      ],
      "text/plain": [
       "                   count    mean     std     min     25%     50%     75%  \\\n",
       "Recency_weekly 2240.0000 56.9371 29.0635  0.0000 32.0000 57.0000 82.0000   \n",
       "T_weekly       2240.0000 63.9442 28.8969 13.0000 39.0000 64.0000 89.0000   \n",
       "frequency      2240.0000 14.8594  7.6677  0.0000  8.0000 15.0000 21.0000   \n",
       "monetary       2240.0000 32.2112 27.1221  1.0000 10.0000 23.0000 46.0000   \n",
       "\n",
       "                    max  \n",
       "Recency_weekly 113.0000  \n",
       "T_weekly       113.0000  \n",
       "frequency       40.5000  \n",
       "monetary       100.0000  "
      ]
     },
     "execution_count": 50,
     "metadata": {},
     "output_type": "execute_result"
    }
   ],
   "source": [
    "cltv.describe().T"
   ]
  },
  {
   "cell_type": "code",
   "execution_count": 51,
   "id": "806ac9a7",
   "metadata": {
    "execution": {
     "iopub.execute_input": "2023-10-15T18:29:39.863609Z",
     "iopub.status.busy": "2023-10-15T18:29:39.863246Z",
     "iopub.status.idle": "2023-10-15T18:29:39.869880Z",
     "shell.execute_reply": "2023-10-15T18:29:39.868956Z"
    },
    "papermill": {
     "duration": 0.032862,
     "end_time": "2023-10-15T18:29:39.872166",
     "exception": false,
     "start_time": "2023-10-15T18:29:39.839304",
     "status": "completed"
    },
    "tags": []
   },
   "outputs": [],
   "source": [
    "cltv = cltv[cltv[\"frequency\"] > 1]"
   ]
  },
  {
   "cell_type": "code",
   "execution_count": 52,
   "id": "4f6f8a68",
   "metadata": {
    "execution": {
     "iopub.execute_input": "2023-10-15T18:29:39.916049Z",
     "iopub.status.busy": "2023-10-15T18:29:39.915682Z",
     "iopub.status.idle": "2023-10-15T18:29:39.921042Z",
     "shell.execute_reply": "2023-10-15T18:29:39.919829Z"
    },
    "papermill": {
     "duration": 0.030076,
     "end_time": "2023-10-15T18:29:39.923368",
     "exception": false,
     "start_time": "2023-10-15T18:29:39.893292",
     "status": "completed"
    },
    "tags": []
   },
   "outputs": [],
   "source": [
    "cltv[\"frequency\"] = round(cltv[\"frequency\"])"
   ]
  },
  {
   "cell_type": "code",
   "execution_count": 53,
   "id": "ca2172de",
   "metadata": {
    "execution": {
     "iopub.execute_input": "2023-10-15T18:29:39.968824Z",
     "iopub.status.busy": "2023-10-15T18:29:39.968481Z",
     "iopub.status.idle": "2023-10-15T18:29:39.989735Z",
     "shell.execute_reply": "2023-10-15T18:29:39.988542Z"
    },
    "papermill": {
     "duration": 0.046386,
     "end_time": "2023-10-15T18:29:39.992068",
     "exception": false,
     "start_time": "2023-10-15T18:29:39.945682",
     "status": "completed"
    },
    "tags": []
   },
   "outputs": [
    {
     "data": {
      "text/html": [
       "<div>\n",
       "<style scoped>\n",
       "    .dataframe tbody tr th:only-of-type {\n",
       "        vertical-align: middle;\n",
       "    }\n",
       "\n",
       "    .dataframe tbody tr th {\n",
       "        vertical-align: top;\n",
       "    }\n",
       "\n",
       "    .dataframe thead th {\n",
       "        text-align: right;\n",
       "    }\n",
       "</style>\n",
       "<table border=\"1\" class=\"dataframe\">\n",
       "  <thead>\n",
       "    <tr style=\"text-align: right;\">\n",
       "      <th></th>\n",
       "      <th>count</th>\n",
       "      <th>mean</th>\n",
       "      <th>std</th>\n",
       "      <th>min</th>\n",
       "      <th>25%</th>\n",
       "      <th>50%</th>\n",
       "      <th>75%</th>\n",
       "      <th>max</th>\n",
       "    </tr>\n",
       "  </thead>\n",
       "  <tbody>\n",
       "    <tr>\n",
       "      <th>Recency_weekly</th>\n",
       "      <td>2232.0000</td>\n",
       "      <td>56.9350</td>\n",
       "      <td>29.0651</td>\n",
       "      <td>0.0000</td>\n",
       "      <td>32.0000</td>\n",
       "      <td>57.0000</td>\n",
       "      <td>82.0000</td>\n",
       "      <td>113.0000</td>\n",
       "    </tr>\n",
       "    <tr>\n",
       "      <th>T_weekly</th>\n",
       "      <td>2232.0000</td>\n",
       "      <td>63.9413</td>\n",
       "      <td>28.8958</td>\n",
       "      <td>13.0000</td>\n",
       "      <td>39.0000</td>\n",
       "      <td>64.0000</td>\n",
       "      <td>89.0000</td>\n",
       "      <td>113.0000</td>\n",
       "    </tr>\n",
       "    <tr>\n",
       "      <th>frequency</th>\n",
       "      <td>2232.0000</td>\n",
       "      <td>14.9104</td>\n",
       "      <td>7.6314</td>\n",
       "      <td>2.0000</td>\n",
       "      <td>8.0000</td>\n",
       "      <td>15.0000</td>\n",
       "      <td>21.0000</td>\n",
       "      <td>40.0000</td>\n",
       "    </tr>\n",
       "    <tr>\n",
       "      <th>monetary</th>\n",
       "      <td>2232.0000</td>\n",
       "      <td>31.9987</td>\n",
       "      <td>26.9032</td>\n",
       "      <td>1.0000</td>\n",
       "      <td>10.0000</td>\n",
       "      <td>23.0000</td>\n",
       "      <td>45.0000</td>\n",
       "      <td>100.0000</td>\n",
       "    </tr>\n",
       "  </tbody>\n",
       "</table>\n",
       "</div>"
      ],
      "text/plain": [
       "                   count    mean     std     min     25%     50%     75%  \\\n",
       "Recency_weekly 2232.0000 56.9350 29.0651  0.0000 32.0000 57.0000 82.0000   \n",
       "T_weekly       2232.0000 63.9413 28.8958 13.0000 39.0000 64.0000 89.0000   \n",
       "frequency      2232.0000 14.9104  7.6314  2.0000  8.0000 15.0000 21.0000   \n",
       "monetary       2232.0000 31.9987 26.9032  1.0000 10.0000 23.0000 45.0000   \n",
       "\n",
       "                    max  \n",
       "Recency_weekly 113.0000  \n",
       "T_weekly       113.0000  \n",
       "frequency       40.0000  \n",
       "monetary       100.0000  "
      ]
     },
     "execution_count": 53,
     "metadata": {},
     "output_type": "execute_result"
    }
   ],
   "source": [
    "cltv.describe().T"
   ]
  },
  {
   "cell_type": "markdown",
   "id": "f3be5755",
   "metadata": {
    "papermill": {
     "duration": 0.020854,
     "end_time": "2023-10-15T18:29:40.033918",
     "exception": false,
     "start_time": "2023-10-15T18:29:40.013064",
     "status": "completed"
    },
    "tags": []
   },
   "source": [
    "**Visualization**"
   ]
  },
  {
   "cell_type": "code",
   "execution_count": 54,
   "id": "f79769c3",
   "metadata": {
    "execution": {
     "iopub.execute_input": "2023-10-15T18:29:40.076878Z",
     "iopub.status.busy": "2023-10-15T18:29:40.076491Z",
     "iopub.status.idle": "2023-10-15T18:29:40.437690Z",
     "shell.execute_reply": "2023-10-15T18:29:40.436386Z"
    },
    "papermill": {
     "duration": 0.385511,
     "end_time": "2023-10-15T18:29:40.440254",
     "exception": false,
     "start_time": "2023-10-15T18:29:40.054743",
     "status": "completed"
    },
    "tags": []
   },
   "outputs": [
    {
     "data": {
      "image/png": "[encoded data removed]",
      "text/plain": [
       "<Figure size 1000x1000 with 2 Axes>"
      ]
     },
     "metadata": {},
     "output_type": "display_data"
    }
   ],
   "source": [
    "plt.figure(figsize=(10,10))\n",
    "plt.subplot(2,2,1)\n",
    "sns.boxplot(y=\"monetary\", data=cltv,palette=\"pastel\");\n",
    "plt.subplot(2,2,2)\n",
    "sns.boxplot(y=\"frequency\", data=cltv,palette=\"pastel\");"
   ]
  },
  {
   "cell_type": "markdown",
   "id": "93cc0602",
   "metadata": {
    "papermill": {
     "duration": 0.022222,
     "end_time": "2023-10-15T18:29:40.483965",
     "exception": false,
     "start_time": "2023-10-15T18:29:40.461743",
     "status": "completed"
    },
    "tags": []
   },
   "source": [
    "**BG-NBD Modelling**"
   ]
  },
  {
   "cell_type": "code",
   "execution_count": 55,
   "id": "36e04940",
   "metadata": {
    "execution": {
     "iopub.execute_input": "2023-10-15T18:29:40.528975Z",
     "iopub.status.busy": "2023-10-15T18:29:40.528586Z",
     "iopub.status.idle": "2023-10-15T18:29:40.533711Z",
     "shell.execute_reply": "2023-10-15T18:29:40.532330Z"
    },
    "papermill": {
     "duration": 0.030208,
     "end_time": "2023-10-15T18:29:40.535793",
     "exception": false,
     "start_time": "2023-10-15T18:29:40.505585",
     "status": "completed"
    },
    "tags": []
   },
   "outputs": [],
   "source": [
    "bgf = BetaGeoFitter(penalizer_coef=0.001)"
   ]
  },
  {
   "cell_type": "code",
   "execution_count": 56,
   "id": "72216e86",
   "metadata": {
    "execution": {
     "iopub.execute_input": "2023-10-15T18:29:40.580137Z",
     "iopub.status.busy": "2023-10-15T18:29:40.579682Z",
     "iopub.status.idle": "2023-10-15T18:29:40.714943Z",
     "shell.execute_reply": "2023-10-15T18:29:40.713081Z"
    },
    "papermill": {
     "duration": 0.162018,
     "end_time": "2023-10-15T18:29:40.719307",
     "exception": false,
     "start_time": "2023-10-15T18:29:40.557289",
     "status": "completed"
    },
    "tags": []
   },
   "outputs": [
    {
     "data": {
      "text/plain": [
       "<lifetimes.BetaGeoFitter: fitted with 2232 subjects, a: 0.08, alpha: 5.07, b: 4.38, r: 1.67>"
      ]
     },
     "execution_count": 56,
     "metadata": {},
     "output_type": "execute_result"
    }
   ],
   "source": [
    "bgf.fit(cltv['frequency'],\n",
    "        cltv['Recency_weekly'],\n",
    "        cltv['T_weekly'])"
   ]
  },
  {
   "cell_type": "markdown",
   "id": "f9ad7b5c",
   "metadata": {
    "papermill": {
     "duration": 0.049196,
     "end_time": "2023-10-15T18:29:40.832697",
     "exception": false,
     "start_time": "2023-10-15T18:29:40.783501",
     "status": "completed"
    },
    "tags": []
   },
   "source": [
    "**BG-NBD Prediction**"
   ]
  },
  {
   "cell_type": "code",
   "execution_count": 57,
   "id": "f3ae462c",
   "metadata": {
    "execution": {
     "iopub.execute_input": "2023-10-15T18:29:40.880437Z",
     "iopub.status.busy": "2023-10-15T18:29:40.879201Z",
     "iopub.status.idle": "2023-10-15T18:29:40.893158Z",
     "shell.execute_reply": "2023-10-15T18:29:40.892284Z"
    },
    "papermill": {
     "duration": 0.040124,
     "end_time": "2023-10-15T18:29:40.895327",
     "exception": false,
     "start_time": "2023-10-15T18:29:40.855203",
     "status": "completed"
    },
    "tags": []
   },
   "outputs": [],
   "source": [
    "cltv[\"expected_purc_3_month\"] = bgf.predict(4 * 3,cltv['frequency'],\n",
    "                                            cltv['Recency_weekly'],\n",
    "                                            cltv['T_weekly']).sum()"
   ]
  },
  {
   "cell_type": "code",
   "execution_count": 58,
   "id": "4fba99e1",
   "metadata": {
    "execution": {
     "iopub.execute_input": "2023-10-15T18:29:40.940809Z",
     "iopub.status.busy": "2023-10-15T18:29:40.940245Z",
     "iopub.status.idle": "2023-10-15T18:29:41.952326Z",
     "shell.execute_reply": "2023-10-15T18:29:41.951310Z"
    },
    "papermill": {
     "duration": 1.037409,
     "end_time": "2023-10-15T18:29:41.954574",
     "exception": false,
     "start_time": "2023-10-15T18:29:40.917165",
     "status": "completed"
    },
    "tags": []
   },
   "outputs": [
    {
     "data": {
      "image/png": "[encoded data removed]",
      "text/plain": [
       "<Figure size 640x480 with 1 Axes>"
      ]
     },
     "metadata": {},
     "output_type": "display_data"
    }
   ],
   "source": [
    "plot_period_transactions(bgf)\n",
    "plt.show()"
   ]
  },
  {
   "cell_type": "markdown",
   "id": "5aa922cb",
   "metadata": {
    "papermill": {
     "duration": 0.021195,
     "end_time": "2023-10-15T18:29:41.998139",
     "exception": false,
     "start_time": "2023-10-15T18:29:41.976944",
     "status": "completed"
    },
    "tags": []
   },
   "source": [
    "**GAMMA-GAMMA Modelling**"
   ]
  },
  {
   "cell_type": "code",
   "execution_count": 59,
   "id": "f348e064",
   "metadata": {
    "execution": {
     "iopub.execute_input": "2023-10-15T18:29:42.042590Z",
     "iopub.status.busy": "2023-10-15T18:29:42.042234Z",
     "iopub.status.idle": "2023-10-15T18:29:42.046600Z",
     "shell.execute_reply": "2023-10-15T18:29:42.045770Z"
    },
    "papermill": {
     "duration": 0.029109,
     "end_time": "2023-10-15T18:29:42.048635",
     "exception": false,
     "start_time": "2023-10-15T18:29:42.019526",
     "status": "completed"
    },
    "tags": []
   },
   "outputs": [],
   "source": [
    "ggf = GammaGammaFitter(penalizer_coef=0.01)"
   ]
  },
  {
   "cell_type": "code",
   "execution_count": 60,
   "id": "526afaf1",
   "metadata": {
    "execution": {
     "iopub.execute_input": "2023-10-15T18:29:42.095052Z",
     "iopub.status.busy": "2023-10-15T18:29:42.094685Z",
     "iopub.status.idle": "2023-10-15T18:29:42.150646Z",
     "shell.execute_reply": "2023-10-15T18:29:42.149217Z"
    },
    "papermill": {
     "duration": 0.083966,
     "end_time": "2023-10-15T18:29:42.154764",
     "exception": false,
     "start_time": "2023-10-15T18:29:42.070798",
     "status": "completed"
    },
    "tags": []
   },
   "outputs": [
    {
     "data": {
      "text/plain": [
       "<lifetimes.GammaGammaFitter: fitted with 2232 subjects, p: 3.09, q: 0.85, v: 3.06>"
      ]
     },
     "execution_count": 60,
     "metadata": {},
     "output_type": "execute_result"
    }
   ],
   "source": [
    "ggf.fit(cltv['frequency'], cltv['monetary'])"
   ]
  },
  {
   "cell_type": "code",
   "execution_count": 61,
   "id": "ac23ba12",
   "metadata": {
    "execution": {
     "iopub.execute_input": "2023-10-15T18:29:42.273691Z",
     "iopub.status.busy": "2023-10-15T18:29:42.273031Z",
     "iopub.status.idle": "2023-10-15T18:29:42.278683Z",
     "shell.execute_reply": "2023-10-15T18:29:42.278014Z"
    },
    "papermill": {
     "duration": 0.060693,
     "end_time": "2023-10-15T18:29:42.280521",
     "exception": false,
     "start_time": "2023-10-15T18:29:42.219828",
     "status": "completed"
    },
    "tags": []
   },
   "outputs": [],
   "source": [
    "cltv[\"expected_average_profit\"] = ggf.conditional_expected_average_profit(cltv['frequency'],\n",
    "                                                                          cltv['monetary'])"
   ]
  },
  {
   "cell_type": "code",
   "execution_count": 62,
   "id": "f2091d81",
   "metadata": {
    "execution": {
     "iopub.execute_input": "2023-10-15T18:29:42.325086Z",
     "iopub.status.busy": "2023-10-15T18:29:42.324477Z",
     "iopub.status.idle": "2023-10-15T18:29:42.334850Z",
     "shell.execute_reply": "2023-10-15T18:29:42.334178Z"
    },
    "papermill": {
     "duration": 0.034584,
     "end_time": "2023-10-15T18:29:42.336577",
     "exception": false,
     "start_time": "2023-10-15T18:29:42.301993",
     "status": "completed"
    },
    "tags": []
   },
   "outputs": [
    {
     "data": {
      "text/html": [
       "<div>\n",
       "<style scoped>\n",
       "    .dataframe tbody tr th:only-of-type {\n",
       "        vertical-align: middle;\n",
       "    }\n",
       "\n",
       "    .dataframe tbody tr th {\n",
       "        vertical-align: top;\n",
       "    }\n",
       "\n",
       "    .dataframe thead th {\n",
       "        text-align: right;\n",
       "    }\n",
       "</style>\n",
       "<table border=\"1\" class=\"dataframe\">\n",
       "  <thead>\n",
       "    <tr style=\"text-align: right;\">\n",
       "      <th></th>\n",
       "      <th>Recency_weekly</th>\n",
       "      <th>T_weekly</th>\n",
       "      <th>frequency</th>\n",
       "      <th>monetary</th>\n",
       "      <th>expected_purc_3_month</th>\n",
       "      <th>expected_average_profit</th>\n",
       "    </tr>\n",
       "    <tr>\n",
       "      <th>ID</th>\n",
       "      <th></th>\n",
       "      <th></th>\n",
       "      <th></th>\n",
       "      <th></th>\n",
       "      <th></th>\n",
       "      <th></th>\n",
       "    </tr>\n",
       "  </thead>\n",
       "  <tbody>\n",
       "    <tr>\n",
       "      <th>4246</th>\n",
       "      <td>42</td>\n",
       "      <td>42</td>\n",
       "      <td>2.0000</td>\n",
       "      <td>100.0000</td>\n",
       "      <td>5997.9226</td>\n",
       "      <td>104.1117</td>\n",
       "    </tr>\n",
       "    <tr>\n",
       "      <th>3422</th>\n",
       "      <td>86</td>\n",
       "      <td>96</td>\n",
       "      <td>10.0000</td>\n",
       "      <td>100.0000</td>\n",
       "      <td>5997.9226</td>\n",
       "      <td>100.8059</td>\n",
       "    </tr>\n",
       "    <tr>\n",
       "      <th>10479</th>\n",
       "      <td>86</td>\n",
       "      <td>95</td>\n",
       "      <td>11.0000</td>\n",
       "      <td>100.0000</td>\n",
       "      <td>5997.9226</td>\n",
       "      <td>100.7323</td>\n",
       "    </tr>\n",
       "    <tr>\n",
       "      <th>7959</th>\n",
       "      <td>15</td>\n",
       "      <td>18</td>\n",
       "      <td>11.0000</td>\n",
       "      <td>100.0000</td>\n",
       "      <td>5997.9226</td>\n",
       "      <td>100.7323</td>\n",
       "    </tr>\n",
       "    <tr>\n",
       "      <th>10513</th>\n",
       "      <td>79</td>\n",
       "      <td>88</td>\n",
       "      <td>12.0000</td>\n",
       "      <td>100.0000</td>\n",
       "      <td>5997.9226</td>\n",
       "      <td>100.6710</td>\n",
       "    </tr>\n",
       "    <tr>\n",
       "      <th>7962</th>\n",
       "      <td>51</td>\n",
       "      <td>51</td>\n",
       "      <td>12.0000</td>\n",
       "      <td>100.0000</td>\n",
       "      <td>5997.9226</td>\n",
       "      <td>100.6710</td>\n",
       "    </tr>\n",
       "    <tr>\n",
       "      <th>9606</th>\n",
       "      <td>48</td>\n",
       "      <td>57</td>\n",
       "      <td>13.0000</td>\n",
       "      <td>100.0000</td>\n",
       "      <td>5997.9226</td>\n",
       "      <td>100.6192</td>\n",
       "    </tr>\n",
       "    <tr>\n",
       "      <th>2532</th>\n",
       "      <td>17</td>\n",
       "      <td>31</td>\n",
       "      <td>13.0000</td>\n",
       "      <td>100.0000</td>\n",
       "      <td>5997.9226</td>\n",
       "      <td>100.6192</td>\n",
       "    </tr>\n",
       "    <tr>\n",
       "      <th>1173</th>\n",
       "      <td>71</td>\n",
       "      <td>81</td>\n",
       "      <td>13.0000</td>\n",
       "      <td>100.0000</td>\n",
       "      <td>5997.9226</td>\n",
       "      <td>100.6192</td>\n",
       "    </tr>\n",
       "    <tr>\n",
       "      <th>9595</th>\n",
       "      <td>90</td>\n",
       "      <td>90</td>\n",
       "      <td>14.0000</td>\n",
       "      <td>100.0000</td>\n",
       "      <td>5997.9226</td>\n",
       "      <td>100.5748</td>\n",
       "    </tr>\n",
       "  </tbody>\n",
       "</table>\n",
       "</div>"
      ],
      "text/plain": [
       "       Recency_weekly  T_weekly  frequency  monetary  expected_purc_3_month  \\\n",
       "ID                                                                            \n",
       "4246               42        42     2.0000  100.0000              5997.9226   \n",
       "3422               86        96    10.0000  100.0000              5997.9226   \n",
       "10479              86        95    11.0000  100.0000              5997.9226   \n",
       "7959               15        18    11.0000  100.0000              5997.9226   \n",
       "10513              79        88    12.0000  100.0000              5997.9226   \n",
       "7962               51        51    12.0000  100.0000              5997.9226   \n",
       "9606               48        57    13.0000  100.0000              5997.9226   \n",
       "2532               17        31    13.0000  100.0000              5997.9226   \n",
       "1173               71        81    13.0000  100.0000              5997.9226   \n",
       "9595               90        90    14.0000  100.0000              5997.9226   \n",
       "\n",
       "       expected_average_profit  \n",
       "ID                              \n",
       "4246                  104.1117  \n",
       "3422                  100.8059  \n",
       "10479                 100.7323  \n",
       "7959                  100.7323  \n",
       "10513                 100.6710  \n",
       "7962                  100.6710  \n",
       "9606                  100.6192  \n",
       "2532                  100.6192  \n",
       "1173                  100.6192  \n",
       "9595                  100.5748  "
      ]
     },
     "execution_count": 62,
     "metadata": {},
     "output_type": "execute_result"
    }
   ],
   "source": [
    "cltv.sort_values(\"expected_average_profit\", ascending=False).head(10)"
   ]
  },
  {
   "cell_type": "markdown",
   "id": "afd708a1",
   "metadata": {
    "papermill": {
     "duration": 0.021496,
     "end_time": "2023-10-15T18:29:42.379983",
     "exception": false,
     "start_time": "2023-10-15T18:29:42.358487",
     "status": "completed"
    },
    "tags": []
   },
   "source": [
    "**BG/NBD & GG Modeling**"
   ]
  },
  {
   "cell_type": "code",
   "execution_count": 63,
   "id": "21fae308",
   "metadata": {
    "execution": {
     "iopub.execute_input": "2023-10-15T18:29:42.425550Z",
     "iopub.status.busy": "2023-10-15T18:29:42.425215Z",
     "iopub.status.idle": "2023-10-15T18:29:42.472641Z",
     "shell.execute_reply": "2023-10-15T18:29:42.471519Z"
    },
    "papermill": {
     "duration": 0.073172,
     "end_time": "2023-10-15T18:29:42.475107",
     "exception": false,
     "start_time": "2023-10-15T18:29:42.401935",
     "status": "completed"
    },
    "tags": []
   },
   "outputs": [],
   "source": [
    "cltv = ggf.customer_lifetime_value(bgf,\n",
    "                                   cltv['frequency'],\n",
    "                                   cltv['Recency_weekly'],\n",
    "                                   cltv['T_weekly'],\n",
    "                                   cltv['monetary'],\n",
    "                                   time=3,  # 3 aylık\n",
    "                                   freq=\"W\",  # T'nin frekans bilgisi.\n",
    "                                   discount_rate=0.01)"
   ]
  },
  {
   "cell_type": "code",
   "execution_count": 64,
   "id": "14cd6175",
   "metadata": {
    "execution": {
     "iopub.execute_input": "2023-10-15T18:29:42.522564Z",
     "iopub.status.busy": "2023-10-15T18:29:42.522221Z",
     "iopub.status.idle": "2023-10-15T18:29:42.529768Z",
     "shell.execute_reply": "2023-10-15T18:29:42.528643Z"
    },
    "papermill": {
     "duration": 0.033203,
     "end_time": "2023-10-15T18:29:42.531657",
     "exception": false,
     "start_time": "2023-10-15T18:29:42.498454",
     "status": "completed"
    },
    "tags": []
   },
   "outputs": [
    {
     "data": {
      "text/plain": [
       "ID\n",
       "5524   191.9449\n",
       "2174    12.1225\n",
       "4141   167.3083\n",
       "6182    23.4833\n",
       "5324    13.3999\n",
       "Name: clv, dtype: float64"
      ]
     },
     "execution_count": 64,
     "metadata": {},
     "output_type": "execute_result"
    }
   ],
   "source": [
    "cltv.head()"
   ]
  },
  {
   "cell_type": "code",
   "execution_count": 65,
   "id": "1416d8a3",
   "metadata": {
    "execution": {
     "iopub.execute_input": "2023-10-15T18:29:42.578025Z",
     "iopub.status.busy": "2023-10-15T18:29:42.577681Z",
     "iopub.status.idle": "2023-10-15T18:29:42.583095Z",
     "shell.execute_reply": "2023-10-15T18:29:42.582080Z"
    },
    "papermill": {
     "duration": 0.03162,
     "end_time": "2023-10-15T18:29:42.585409",
     "exception": false,
     "start_time": "2023-10-15T18:29:42.553789",
     "status": "completed"
    },
    "tags": []
   },
   "outputs": [],
   "source": [
    "cltv = cltv.reset_index()"
   ]
  },
  {
   "cell_type": "code",
   "execution_count": 66,
   "id": "fc720748",
   "metadata": {
    "execution": {
     "iopub.execute_input": "2023-10-15T18:29:42.632693Z",
     "iopub.status.busy": "2023-10-15T18:29:42.632004Z",
     "iopub.status.idle": "2023-10-15T18:29:42.640669Z",
     "shell.execute_reply": "2023-10-15T18:29:42.639827Z"
    },
    "papermill": {
     "duration": 0.034382,
     "end_time": "2023-10-15T18:29:42.642745",
     "exception": false,
     "start_time": "2023-10-15T18:29:42.608363",
     "status": "completed"
    },
    "tags": []
   },
   "outputs": [
    {
     "data": {
      "text/html": [
       "<div>\n",
       "<style scoped>\n",
       "    .dataframe tbody tr th:only-of-type {\n",
       "        vertical-align: middle;\n",
       "    }\n",
       "\n",
       "    .dataframe tbody tr th {\n",
       "        vertical-align: top;\n",
       "    }\n",
       "\n",
       "    .dataframe thead th {\n",
       "        text-align: right;\n",
       "    }\n",
       "</style>\n",
       "<table border=\"1\" class=\"dataframe\">\n",
       "  <thead>\n",
       "    <tr style=\"text-align: right;\">\n",
       "      <th></th>\n",
       "      <th>ID</th>\n",
       "      <th>clv</th>\n",
       "    </tr>\n",
       "  </thead>\n",
       "  <tbody>\n",
       "    <tr>\n",
       "      <th>0</th>\n",
       "      <td>5524</td>\n",
       "      <td>191.9449</td>\n",
       "    </tr>\n",
       "    <tr>\n",
       "      <th>1</th>\n",
       "      <td>2174</td>\n",
       "      <td>12.1225</td>\n",
       "    </tr>\n",
       "    <tr>\n",
       "      <th>2</th>\n",
       "      <td>4141</td>\n",
       "      <td>167.3083</td>\n",
       "    </tr>\n",
       "    <tr>\n",
       "      <th>3</th>\n",
       "      <td>6182</td>\n",
       "      <td>23.4833</td>\n",
       "    </tr>\n",
       "    <tr>\n",
       "      <th>4</th>\n",
       "      <td>5324</td>\n",
       "      <td>13.3999</td>\n",
       "    </tr>\n",
       "  </tbody>\n",
       "</table>\n",
       "</div>"
      ],
      "text/plain": [
       "     ID      clv\n",
       "0  5524 191.9449\n",
       "1  2174  12.1225\n",
       "2  4141 167.3083\n",
       "3  6182  23.4833\n",
       "4  5324  13.3999"
      ]
     },
     "execution_count": 66,
     "metadata": {},
     "output_type": "execute_result"
    }
   ],
   "source": [
    "cltv.head()"
   ]
  },
  {
   "cell_type": "markdown",
   "id": "96768af5",
   "metadata": {
    "papermill": {
     "duration": 0.02813,
     "end_time": "2023-10-15T18:29:42.693948",
     "exception": false,
     "start_time": "2023-10-15T18:29:42.665818",
     "status": "completed"
    },
    "tags": []
   },
   "source": [
    "**Segmentation**"
   ]
  },
  {
   "cell_type": "code",
   "execution_count": 67,
   "id": "17f9ce5d",
   "metadata": {
    "execution": {
     "iopub.execute_input": "2023-10-15T18:29:42.740108Z",
     "iopub.status.busy": "2023-10-15T18:29:42.739349Z",
     "iopub.status.idle": "2023-10-15T18:29:42.746809Z",
     "shell.execute_reply": "2023-10-15T18:29:42.745638Z"
    },
    "papermill": {
     "duration": 0.033023,
     "end_time": "2023-10-15T18:29:42.749034",
     "exception": false,
     "start_time": "2023-10-15T18:29:42.716011",
     "status": "completed"
    },
    "tags": []
   },
   "outputs": [],
   "source": [
    "cltv[\"segment\"] = pd.qcut(cltv[\"clv\"], 4, labels=[\"D\", \"C\", \"B\", \"A\"])"
   ]
  },
  {
   "cell_type": "code",
   "execution_count": 68,
   "id": "535aeb45",
   "metadata": {
    "execution": {
     "iopub.execute_input": "2023-10-15T18:29:42.797434Z",
     "iopub.status.busy": "2023-10-15T18:29:42.797000Z",
     "iopub.status.idle": "2023-10-15T18:29:42.810332Z",
     "shell.execute_reply": "2023-10-15T18:29:42.808947Z"
    },
    "papermill": {
     "duration": 0.039656,
     "end_time": "2023-10-15T18:29:42.812428",
     "exception": false,
     "start_time": "2023-10-15T18:29:42.772772",
     "status": "completed"
    },
    "tags": []
   },
   "outputs": [
    {
     "data": {
      "text/html": [
       "<div>\n",
       "<style scoped>\n",
       "    .dataframe tbody tr th:only-of-type {\n",
       "        vertical-align: middle;\n",
       "    }\n",
       "\n",
       "    .dataframe tbody tr th {\n",
       "        vertical-align: top;\n",
       "    }\n",
       "\n",
       "    .dataframe thead tr th {\n",
       "        text-align: left;\n",
       "    }\n",
       "\n",
       "    .dataframe thead tr:last-of-type th {\n",
       "        text-align: right;\n",
       "    }\n",
       "</style>\n",
       "<table border=\"1\" class=\"dataframe\">\n",
       "  <thead>\n",
       "    <tr>\n",
       "      <th></th>\n",
       "      <th colspan=\"3\" halign=\"left\">clv</th>\n",
       "    </tr>\n",
       "    <tr>\n",
       "      <th></th>\n",
       "      <th>count</th>\n",
       "      <th>mean</th>\n",
       "      <th>sum</th>\n",
       "    </tr>\n",
       "    <tr>\n",
       "      <th>segment</th>\n",
       "      <th></th>\n",
       "      <th></th>\n",
       "      <th></th>\n",
       "    </tr>\n",
       "  </thead>\n",
       "  <tbody>\n",
       "    <tr>\n",
       "      <th>D</th>\n",
       "      <td>558</td>\n",
       "      <td>9.1101</td>\n",
       "      <td>5083.4541</td>\n",
       "    </tr>\n",
       "    <tr>\n",
       "      <th>C</th>\n",
       "      <td>558</td>\n",
       "      <td>32.4291</td>\n",
       "      <td>18095.4428</td>\n",
       "    </tr>\n",
       "    <tr>\n",
       "      <th>B</th>\n",
       "      <td>558</td>\n",
       "      <td>104.2772</td>\n",
       "      <td>58186.6778</td>\n",
       "    </tr>\n",
       "    <tr>\n",
       "      <th>A</th>\n",
       "      <td>558</td>\n",
       "      <td>279.5215</td>\n",
       "      <td>155973.0238</td>\n",
       "    </tr>\n",
       "  </tbody>\n",
       "</table>\n",
       "</div>"
      ],
      "text/plain": [
       "          clv                     \n",
       "        count     mean         sum\n",
       "segment                           \n",
       "D         558   9.1101   5083.4541\n",
       "C         558  32.4291  18095.4428\n",
       "B         558 104.2772  58186.6778\n",
       "A         558 279.5215 155973.0238"
      ]
     },
     "execution_count": 68,
     "metadata": {},
     "output_type": "execute_result"
    }
   ],
   "source": [
    "cltv.groupby(\"segment\").agg({\"clv\": [\"count\", \"mean\", \"sum\"]})"
   ]
  },
  {
   "cell_type": "markdown",
   "id": "3922dc08",
   "metadata": {
    "papermill": {
     "duration": 0.022526,
     "end_time": "2023-10-15T18:29:42.857351",
     "exception": false,
     "start_time": "2023-10-15T18:29:42.834825",
     "status": "completed"
    },
    "tags": []
   },
   "source": [
    "<div style=\"border-radius:10px; border:#D0C2F0 solid; padding: 15px; background-color: #FFF0F4; font-size:100%; text-align:left\">\n",
    "\n",
    "<h3 align=\"left\"><font color='#5E5273'>📄 Report</font></h3>\n",
    "    \n",
    "* The results clearly show that customers in segments A and B generate significantly higher revenue. Therefore, allocating a substantial portion of the company's advertising and marketing budget to these groups is likely to lead to the most substantial increase in the company's medium to long-term revenues."
   ]
  }
 ],
 "metadata": {
  "kernelspec": {
   "display_name": "Python 3",
   "language": "python",
   "name": "python3"
  },
  "language_info": {
   "codemirror_mode": {
    "name": "ipython",
    "version": 3
   },
   "file_extension": ".py",
   "mimetype": "text/x-python",
   "name": "python",
   "nbconvert_exporter": "python",
   "pygments_lexer": "ipython3",
   "version": "3.10.12"
  },
  "papermill": {
   "default_parameters": {},
   "duration": 24.985129,
   "end_time": "2023-10-15T18:29:43.501660",
   "environment_variables": {},
   "exception": null,
   "input_path": "__notebook__.ipynb",
   "output_path": "__notebook__.ipynb",
   "parameters": {},
   "start_time": "2023-10-15T18:29:18.516531",
   "version": "2.4.0"
  }
 },
 "nbformat": 4,
 "nbformat_minor": 5
}
